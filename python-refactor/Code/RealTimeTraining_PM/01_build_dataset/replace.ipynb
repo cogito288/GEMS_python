{
 "cells": [
  {
   "cell_type": "code",
   "execution_count": 1,
   "metadata": {},
   "outputs": [],
   "source": [
    "#-*- coding:utf-8 -*-"
   ]
  },
  {
   "cell_type": "code",
   "execution_count": 2,
   "metadata": {},
   "outputs": [],
   "source": [
    "import os\n",
    "import re\n",
    "import copy\n",
    "import glob"
   ]
  },
  {
   "cell_type": "code",
   "execution_count": 3,
   "metadata": {},
   "outputs": [
    {
     "name": "stdout",
     "output_type": "stream",
     "text": [
      "3 ['data_02_RTT_dataset_PM25_Korea.m', 'data_02_RTT_dataset_PM25_time_conc_weighting_KCJ.m', 'data_03_LOO_dataset_KCJ.m']\n"
     ]
    }
   ],
   "source": [
    "flist = glob.glob('*.m')\n",
    "flist.sort()\n",
    "print (len(flist), flist)"
   ]
  },
  {
   "cell_type": "code",
   "execution_count": 4,
   "metadata": {},
   "outputs": [],
   "source": [
    "patterns = [\n",
    "    ### opeartor\n",
    "    ('\\%', '#'),\n",
    "    ('\\~\\=', '!='),\n",
    "    ('\\.\\.\\.', ''),\n",
    "    (';(?=\\n)', ''),\n",
    "    ('mod\\(yr,4\\)', 'yr%4'),\n",
    "    ('clc', ''),\n",
    "    ('close all\\;', ''),\n",
    "    ('clear all\\;', ''),\n",
    "    ('tic', 'time.time()'),\n",
    "    \n",
    "    ### numpy\n",
    "    # nan\n",
    "    ('\\(:\\)', '.flatten()'),\n",
    "    ('isnan\\(', 'np.isnan('),\n",
    "    ('unique\\(', 'np.unique('),\n",
    "    ('isempty\\(', 'np.all('),\n",
    "    ('sqrt', 'np.sqrt'),\n",
    "    ('sum', 'np.sum'),\n",
    "    ('min', 'np.min'),\n",
    "    ('max', 'np.max'),\n",
    "    ('hist', 'np.histogram'),\n",
    "    ('nansum', 'np.nansum'),\n",
    "    ('nanmean', 'np.nanmean'),\n",
    "    ('floor', 'np.floor'),\n",
    "    ('str2double', 'np.float64'),\n",
    "    ('zeros', 'np.zeros'),\n",
    "    \n",
    "    ('NaN\\(', 'np.full('),\n",
    "    ('nan\\(', 'np.full('),\n",
    "    \n",
    "    ('\\=NaN', 'np.nan'),\n",
    "    ('\\= NaN', 'np.nan'),\n",
    "    ('find', 'np.where'),\n",
    "    #('nan', 'np.nan'),\n",
    "    \n",
    "    ### python native function\n",
    "    ('elseif', 'elif'),\n",
    "    ('fprintf', 'print ('),\n",
    "    ('disp\\(', 'print ('),\n",
    "    ('num2str', 'str'),\n",
    "    ('end', '-1'),\n",
    "    ('\\:end', ':'),\n",
    "    (\"num2str\\(yr\\)\\,\\'\\_\\'\\,num2str\\(doy\\,\\'\\%03i\\'\\)\\,\\'\\_\\'\\,num2str\\(utc\\,\\'\\%02i\\'\\)\", '{yr}_{doy:03d}_{utc:02d}'),\n",
    "    ('\\[header\\,\\{', 'header+['),\n",
    "    \n",
    "    ### matlab.py \n",
    "    ('load\\(\\[', 'matlab.loadmat(os.path.join('),\n",
    "    ('save\\(\\[', 'matlab.savemat(os.path.join('),\n",
    "    ('importdata', 'matlab.loadmat'),\n",
    "    ('datenum', 'matlab.datenum'),\n",
    "    ('datestr', 'matlab.datestr'),\n",
    "    ('sortrows', 'matlab.sortrows'),\n",
    "    ('ismember', 'matlab.ismember'),\n",
    "    \n",
    "    ### pandas\n",
    "    ('readtable\\(', 'pd.read_csv('),\n",
    "    ('csvread\\(\\[', 'pd.read_csv(os.path.join('),\n",
    "    ('xlsread\\(\\[', 'pd.read_excel(os.path.join('),\n",
    "    \n",
    "    (';', ''),\n",
    "]"
   ]
  },
  {
   "cell_type": "code",
   "execution_count": 5,
   "metadata": {},
   "outputs": [
    {
     "name": "stdout",
     "output_type": "stream",
     "text": [
      "Reading data_02_RTT_dataset_PM25_Korea.m\n",
      "Created data_02_RTT_dataset_PM25_Korea.py\n",
      "Remove data_02_RTT_dataset_PM25_Korea.m\n",
      "======================================\n",
      "Reading data_02_RTT_dataset_PM25_time_conc_weighting_KCJ.m\n",
      "Created data_02_RTT_dataset_PM25_time_conc_weighting_KCJ.py\n",
      "Remove data_02_RTT_dataset_PM25_time_conc_weighting_KCJ.m\n",
      "======================================\n",
      "Reading data_03_LOO_dataset_KCJ.m\n",
      "Created data_03_LOO_dataset_KCJ.py\n",
      "Remove data_03_LOO_dataset_KCJ.m\n",
      "======================================\n"
     ]
    }
   ],
   "source": [
    "for fname in flist:\n",
    "    print (f'Reading {fname}')\n",
    "    \n",
    "    sourceEncoding = \"cp949\"\n",
    "    targetEncoding = \"utf-8\"\n",
    "    with open(fname, 'r', encoding=sourceEncoding) as f:\n",
    "        text = f.read()\n",
    "        contents = copy.deepcopy(text)\n",
    "        \n",
    "    for old, new in patterns:\n",
    "        contents = re.sub(old, new, contents)\n",
    "        #contents = contents.encode('utf8').decode('utf8')\n",
    "    \n",
    "    fname_py = fname[:-1]+'py'\n",
    "    with open(fname_py, 'wb') as f:\n",
    "        f.write(contents.encode(targetEncoding))\n",
    "    print (f'Created {fname_py}')\n",
    "    \n",
    "    os.remove(fname)\n",
    "    print (f'Remove {fname}')\n",
    "    print ('======================================')"
   ]
  },
  {
   "cell_type": "code",
   "execution_count": 80,
   "metadata": {},
   "outputs": [],
   "source": [
    "contents = copy.deepcopy(text)"
   ]
  },
  {
   "cell_type": "code",
   "execution_count": 81,
   "metadata": {},
   "outputs": [],
   "source": [
    "for old, new in patterns:\n",
    "            contents = re.sub(old, new, contents)"
   ]
  },
  {
   "cell_type": "code",
   "execution_count": 86,
   "metadata": {},
   "outputs": [],
   "source": [
    "\n",
    "#source = open(\"source\")\n",
    "#target = open(\"target\", \"w\")\n",
    "\n",
    "#target.write(unicode(source.read(), sourceEncoding).encode(targetEncoding))"
   ]
  },
  {
   "cell_type": "code",
   "execution_count": null,
   "metadata": {},
   "outputs": [],
   "source": []
  }
 ],
 "metadata": {
  "kernelspec": {
   "display_name": "Python 3",
   "language": "python",
   "name": "python3"
  },
  "language_info": {
   "codemirror_mode": {
    "name": "ipython",
    "version": 3
   },
   "file_extension": ".py",
   "mimetype": "text/x-python",
   "name": "python",
   "nbconvert_exporter": "python",
   "pygments_lexer": "ipython3",
   "version": "3.6.8"
  }
 },
 "nbformat": 4,
 "nbformat_minor": 2
}
