{
 "cells": [
  {
   "cell_type": "code",
   "execution_count": 3,
   "metadata": {},
   "outputs": [],
   "source": [
    "### Package Import\n",
    "import sys\n",
    "import os\n",
    "base_dir = os.environ['GEMS_HOME']\n",
    "project_path = os.path.join(base_dir, 'python-refactor')\n",
    "sys.path.insert(0, project_path)\n",
    "\n",
    "from Code.utils import matlab\n",
    "#from Code.utils import helpers\n",
    "\n",
    "import scipy.io as sio\n",
    "import numpy as np\n",
    "import glob\n",
    "import time\n",
    "import h5py\n",
    "\n",
    "### Setting path\n",
    "omi_path = os.path.join(project_path, 'Data', 'Raw', 'OMI')\n",
    "data_path = os.path.join(project_path, 'Data')\n",
    "# addpath(genpath([path_data,'/matlab_func/']))                     % Add the path of external function (matlab_func) folder with subfolders\n",
    "\n",
    "### Setting period\n",
    "YEARS = [2016] # YEARS = range(2015, 2017+1)"
   ]
  },
  {
   "cell_type": "code",
   "execution_count": null,
   "metadata": {},
   "outputs": [],
   "source": [
    "### OMNO2d\n",
    "for yr in YEARS:\n",
    "    curr_path = os.path.join(omi_path, 'L3', 'OMNO2d', str(yr))\n",
    "    list_char = glob.glob(os.path.join(curr_path, '*.he5'))\n",
    "    list_char = [os.path.basename(f) for f in list_char]\n",
    "    \n",
    "    doy_000 = matlab.datenum(f'{yr}0000')\n",
    "    list_doy = [int(x[19:23])+int(x[24:28])-doy_000 for x in list_char]\n",
    "    list_doy = [1,2]\n",
    "    if yr%4==0:\n",
    "        days = 366\n",
    "    else:\n",
    "        days = 365\n",
    "    \n",
    "    # Size is too big to create. data_yr = np.full((1036800, days), np.nan)\n",
    "    # np.memmap create zeros array.\n",
    "    ccc\n",
    "    for i in range(len(list_char)):\n",
    "        # data = matlab.h5read(list_char[i], '/HDFEOS/GRIDS/ColumnAmountNO2/Data Fields/ColumnAmountNO2CloudScreened')\n",
    "        data = matlab.h5read(os.path.join(curr_path, list_char[i]), '/HDFEOS/GRIDS/ColumnAmountNO2/Data Fields/ColumnAmountNO2TropCloudScreened')\n",
    "        data = data.astype(np.float64)\n",
    "        data[data<=-1.2676506e+30] = np.nan # Assign NaN value to pixel that is out of valid range\n",
    "        data = data * 3.7216e-17                                 # molec/cm2 to DU\n",
    "        data_yr[:, list_doy[i]] = data.flatten() # Put daily data as column vector\n",
    "        print (f'OMNO2d_{yr}_{list_doy[i]:03d}')\n",
    "        data_yr[:, list_doy[i]][data_yr[:, list_doy[i]]==np.nan] = -9999\n",
    "    hdf5_store.close()\n",
    "    break\n",
    "    #data_yr[np.isnan(data_yr)]=-9999\n",
    "    prefix = np.tile('d', [days, 1]) # prefix for header\n",
    "    header = map(lambda x: f'{x:03d}', prefix) # header = cellstr([prefix,num2str([1:days]','%03i')]);\n",
    "    sio.savemat(os.path.join(data_path, 'pre', 'OMI_tempConv', f'OMNO2d_{yr}_DU.mat'), mdict={'data_yr':data_yr})"
   ]
  },
  {
   "cell_type": "code",
   "execution_count": null,
   "metadata": {},
   "outputs": [],
   "source": [
    "np.where(data_yr[:, list_doy[i]]==np.nan, )"
   ]
  },
  {
   "cell_type": "code",
   "execution_count": 1,
   "metadata": {},
   "outputs": [
    {
     "ename": "NameError",
     "evalue": "name 'data_yr' is not defined",
     "output_type": "error",
     "traceback": [
      "\u001b[0;31m---------------------------------------------------------------------------\u001b[0m",
      "\u001b[0;31mNameError\u001b[0m                                 Traceback (most recent call last)",
      "\u001b[0;32m<ipython-input-1-331111f3fe3f>\u001b[0m in \u001b[0;36m<module>\u001b[0;34m\u001b[0m\n\u001b[0;32m----> 1\u001b[0;31m \u001b[0mtmp_arr\u001b[0m \u001b[0;34m=\u001b[0m \u001b[0mdata_yr\u001b[0m\u001b[0;34m[\u001b[0m\u001b[0;34m:\u001b[0m\u001b[0;34m,\u001b[0m \u001b[0mlist_doy\u001b[0m\u001b[0;34m[\u001b[0m\u001b[0mi\u001b[0m\u001b[0;34m]\u001b[0m\u001b[0;34m]\u001b[0m\u001b[0;34m\u001b[0m\u001b[0;34m\u001b[0m\u001b[0m\n\u001b[0m\u001b[1;32m      2\u001b[0m \u001b[0mdata_yr\u001b[0m\u001b[0;34m[\u001b[0m\u001b[0;34m:\u001b[0m\u001b[0;34m,\u001b[0m \u001b[0mlist_doy\u001b[0m\u001b[0;34m[\u001b[0m\u001b[0mi\u001b[0m\u001b[0;34m]\u001b[0m\u001b[0;34m]\u001b[0m \u001b[0;34m=\u001b[0m \u001b[0mnp\u001b[0m\u001b[0;34m.\u001b[0m\u001b[0mwhere\u001b[0m\u001b[0;34m(\u001b[0m\u001b[0mtmp_arr\u001b[0m\u001b[0;34m==\u001b[0m\u001b[0mnp\u001b[0m\u001b[0;34m.\u001b[0m\u001b[0mnan\u001b[0m\u001b[0;34m,\u001b[0m \u001b[0mnp\u001b[0m\u001b[0;34m.\u001b[0m\u001b[0mnan\u001b[0m\u001b[0;34m,\u001b[0m \u001b[0mtmp_arr\u001b[0m\u001b[0;34m)\u001b[0m\u001b[0;34m\u001b[0m\u001b[0;34m\u001b[0m\u001b[0m\n",
      "\u001b[0;31mNameError\u001b[0m: name 'data_yr' is not defined"
     ]
    }
   ],
   "source": [
    "tmp_arr = data_yr[:, list_doy[i]]\n",
    "data_yr[:, list_doy[i]] = np.where(tmp_arr==np.nan, np.nan, tmp_arr)"
   ]
  },
  {
   "cell_type": "code",
   "execution_count": 47,
   "metadata": {},
   "outputs": [],
   "source": [
    "days = 5\n",
    "nrows, ncols = 10, days\n",
    "hdf5_store = h5py.File(\"./cache.hdf5\", \"w\")\n",
    "data_yr = hdf5_store.create_dataset(\"results\", (nrows, ncols), fillvalue=np.nan, dtype='float64')"
   ]
  },
  {
   "cell_type": "code",
   "execution_count": 48,
   "metadata": {},
   "outputs": [],
   "source": [
    "import copy"
   ]
  },
  {
   "cell_type": "code",
   "execution_count": 49,
   "metadata": {},
   "outputs": [],
   "source": [
    "x = data_yr[:, 0]\n",
    "x = np.isnan(x)\n",
    "data_yr[:, 0][x] = -9999"
   ]
  },
  {
   "cell_type": "code",
   "execution_count": 50,
   "metadata": {},
   "outputs": [
    {
     "data": {
      "text/plain": [
       "array([nan, nan, nan, nan, nan, nan, nan, nan, nan, nan])"
      ]
     },
     "execution_count": 50,
     "metadata": {},
     "output_type": "execute_result"
    }
   ],
   "source": [
    "data_yr[:, 0]"
   ]
  },
  {
   "cell_type": "code",
   "execution_count": 45,
   "metadata": {},
   "outputs": [
    {
     "data": {
      "text/plain": [
       "nan"
      ]
     },
     "execution_count": 45,
     "metadata": {},
     "output_type": "execute_result"
    }
   ],
   "source": [
    "data_yr[:, 0][True, True, R]"
   ]
  },
  {
   "cell_type": "code",
   "execution_count": 34,
   "metadata": {},
   "outputs": [
    {
     "data": {
      "text/plain": [
       "numpy.float64"
      ]
     },
     "execution_count": 34,
     "metadata": {},
     "output_type": "execute_result"
    }
   ],
   "source": [
    "type(data_yr[0][0])"
   ]
  },
  {
   "cell_type": "code",
   "execution_count": 37,
   "metadata": {},
   "outputs": [
    {
     "data": {
      "text/plain": [
       "True"
      ]
     },
     "execution_count": 37,
     "metadata": {},
     "output_type": "execute_result"
    }
   ],
   "source": [
    "np.isnan(data_yr[0][0])"
   ]
  },
  {
   "cell_type": "code",
   "execution_count": null,
   "metadata": {},
   "outputs": [],
   "source": []
  },
  {
   "cell_type": "code",
   "execution_count": 21,
   "metadata": {},
   "outputs": [
    {
     "data": {
      "text/plain": [
       "array([nan, nan, nan, nan, nan, nan, nan, nan, nan, nan])"
      ]
     },
     "execution_count": 21,
     "metadata": {},
     "output_type": "execute_result"
    }
   ],
   "source": [
    "data_yr[:, 0]"
   ]
  },
  {
   "cell_type": "code",
   "execution_count": 17,
   "metadata": {},
   "outputs": [
    {
     "data": {
      "text/plain": [
       "array([1., 1., 1., 1., 1., 1., 1., 1., 1., 1., 1., 1., 1., 1., 1., 1., 1.,\n",
       "       1., 1., 1.])"
      ]
     },
     "execution_count": 17,
     "metadata": {},
     "output_type": "execute_result"
    }
   ],
   "source": [
    "x"
   ]
  },
  {
   "cell_type": "code",
   "execution_count": null,
   "metadata": {},
   "outputs": [],
   "source": []
  },
  {
   "cell_type": "code",
   "execution_count": 19,
   "metadata": {},
   "outputs": [],
   "source": [
    "    \n",
    "    list_doy = [1,2]"
   ]
  },
  {
   "cell_type": "code",
   "execution_count": 22,
   "metadata": {},
   "outputs": [],
   "source": [
    "data_yr[:, list_doy[i]][data_yr[:, list_doy[i]]==np.nan] = -9999"
   ]
  },
  {
   "cell_type": "code",
   "execution_count": 16,
   "metadata": {},
   "outputs": [],
   "source": [
    "days = 366\n",
    "nrows, ncols = 1036800, days\n",
    "tStart = time.time()\n",
    "data_yr = np.memmap('memmapped.dat', dtype=np.float64, \n",
    "                    mode='w+', shape=(nrows, ncols))"
   ]
  },
  {
   "cell_type": "code",
   "execution_count": 58,
   "metadata": {},
   "outputs": [],
   "source": [
    "import h5py\n",
    "\n",
    "days = 366\n",
    "nrows, ncols = 1036800, days\n",
    "hdf5_store = h5py.File(\"./cache.hdf5\", \"w\")\n",
    "data_yr = hdf5_store.create_dataset(\"results\", (nrows, ncols), fillvalue=np.nan, dtype='float64')"
   ]
  },
  {
   "cell_type": "code",
   "execution_count": 61,
   "metadata": {},
   "outputs": [],
   "source": [
    "data_yr[data_yr==np.nan] = -9999"
   ]
  },
  {
   "cell_type": "code",
   "execution_count": 46,
   "metadata": {},
   "outputs": [],
   "source": [
    "hdf5_store.close()"
   ]
  },
  {
   "cell_type": "code",
   "execution_count": 11,
   "metadata": {},
   "outputs": [
    {
     "ename": "MemoryError",
     "evalue": "Unable to allocate array with shape (1036800, 366) and data type float64",
     "output_type": "error",
     "traceback": [
      "\u001b[0;31m---------------------------------------------------------------------------\u001b[0m",
      "\u001b[0;31mMemoryError\u001b[0m                               Traceback (most recent call last)",
      "\u001b[0;32m<ipython-input-11-bec482af2463>\u001b[0m in \u001b[0;36m<module>\u001b[0;34m\u001b[0m\n\u001b[0;32m----> 1\u001b[0;31m \u001b[0mnp\u001b[0m\u001b[0;34m.\u001b[0m\u001b[0mnan_to_num\u001b[0m\u001b[0;34m(\u001b[0m\u001b[0mdata_yr\u001b[0m\u001b[0;34m,\u001b[0m \u001b[0mnan\u001b[0m\u001b[0;34m=\u001b[0m\u001b[0;34m-\u001b[0m\u001b[0;36m9999\u001b[0m\u001b[0;34m)\u001b[0m\u001b[0;34m\u001b[0m\u001b[0;34m\u001b[0m\u001b[0m\n\u001b[0m",
      "\u001b[0;32m<__array_function__ internals>\u001b[0m in \u001b[0;36mnan_to_num\u001b[0;34m(*args, **kwargs)\u001b[0m\n",
      "\u001b[0;32m~/GEMS_python/venv/lib/python3.6/site-packages/numpy/lib/type_check.py\u001b[0m in \u001b[0;36mnan_to_num\u001b[0;34m(x, copy, nan, posinf, neginf)\u001b[0m\n\u001b[1;32m    454\u001b[0m     \u001b[0marray\u001b[0m\u001b[0;34m(\u001b[0m\u001b[0;34m[\u001b[0m\u001b[0;36m222222.\u001b[0m\u001b[0;34m+\u001b[0m\u001b[0;36m111111.j\u001b[0m\u001b[0;34m,\u001b[0m \u001b[0;36m111111.\u001b[0m     \u001b[0;34m+\u001b[0m\u001b[0;36m0.j\u001b[0m\u001b[0;34m,\u001b[0m \u001b[0;36m111111.\u001b[0m\u001b[0;34m+\u001b[0m\u001b[0;36m222222.j\u001b[0m\u001b[0;34m]\u001b[0m\u001b[0;34m)\u001b[0m\u001b[0;34m\u001b[0m\u001b[0;34m\u001b[0m\u001b[0m\n\u001b[1;32m    455\u001b[0m     \"\"\"\n\u001b[0;32m--> 456\u001b[0;31m     \u001b[0mx\u001b[0m \u001b[0;34m=\u001b[0m \u001b[0m_nx\u001b[0m\u001b[0;34m.\u001b[0m\u001b[0marray\u001b[0m\u001b[0;34m(\u001b[0m\u001b[0mx\u001b[0m\u001b[0;34m,\u001b[0m \u001b[0msubok\u001b[0m\u001b[0;34m=\u001b[0m\u001b[0;32mTrue\u001b[0m\u001b[0;34m,\u001b[0m \u001b[0mcopy\u001b[0m\u001b[0;34m=\u001b[0m\u001b[0mcopy\u001b[0m\u001b[0;34m)\u001b[0m\u001b[0;34m\u001b[0m\u001b[0;34m\u001b[0m\u001b[0m\n\u001b[0m\u001b[1;32m    457\u001b[0m     \u001b[0mxtype\u001b[0m \u001b[0;34m=\u001b[0m \u001b[0mx\u001b[0m\u001b[0;34m.\u001b[0m\u001b[0mdtype\u001b[0m\u001b[0;34m.\u001b[0m\u001b[0mtype\u001b[0m\u001b[0;34m\u001b[0m\u001b[0;34m\u001b[0m\u001b[0m\n\u001b[1;32m    458\u001b[0m \u001b[0;34m\u001b[0m\u001b[0m\n",
      "\u001b[0;31mMemoryError\u001b[0m: Unable to allocate array with shape (1036800, 366) and data type float64"
     ]
    }
   ],
   "source": [
    "\n",
    "# do something...\n",
    "results[100, 25, 1, 4] = 42\n",
    "\n",
    "This creates a file cache.hdf5 which will contain the data. create_dataset gets us an object that we can treat just like a numpy array (at least most of the time). Additionally we get a file that contains this array and that we can access from other scripts:\n",
    "\n",
    "hdf5_store = h5py.File(\"./cache.hdf5\", \"r\")\n",
    "\n",
    "print hdf5_store[\"results\"][100, 25, 1, 4] # 42.0"
   ]
  },
  {
   "cell_type": "code",
   "execution_count": null,
   "metadata": {},
   "outputs": [],
   "source": []
  },
  {
   "cell_type": "code",
   "execution_count": 60,
   "metadata": {},
   "outputs": [
    {
     "data": {
      "text/plain": [
       "(1036800,)"
      ]
     },
     "execution_count": 60,
     "metadata": {},
     "output_type": "execute_result"
    }
   ],
   "source": [
    "data_yr[:,0].shape"
   ]
  },
  {
   "cell_type": "code",
   "execution_count": 59,
   "metadata": {},
   "outputs": [
    {
     "data": {
      "text/plain": [
       "(1036800, 366)"
      ]
     },
     "execution_count": 59,
     "metadata": {},
     "output_type": "execute_result"
    }
   ],
   "source": [
    "data_yr.shape"
   ]
  },
  {
   "cell_type": "code",
   "execution_count": 54,
   "metadata": {},
   "outputs": [
    {
     "data": {
      "text/plain": [
       "0"
      ]
     },
     "execution_count": 54,
     "metadata": {},
     "output_type": "execute_result"
    }
   ],
   "source": [
    "sum(sum(data==0))"
   ]
  },
  {
   "cell_type": "code",
   "execution_count": 47,
   "metadata": {},
   "outputs": [],
   "source": [
    "data = data.astype(np.float64)"
   ]
  },
  {
   "cell_type": "code",
   "execution_count": 48,
   "metadata": {},
   "outputs": [
    {
     "data": {
      "text/plain": [
       "array([-4.71768855e+13, -4.71768855e+13, -4.71768855e+13, ...,\n",
       "       -4.71768855e+13, -4.71768855e+13, -4.71768855e+13])"
      ]
     },
     "execution_count": 48,
     "metadata": {},
     "output_type": "execute_result"
    }
   ],
   "source": [
    "data.T.flatten()"
   ]
  },
  {
   "cell_type": "code",
   "execution_count": 49,
   "metadata": {},
   "outputs": [],
   "source": [
    "data_yr[:, 1] = data.T.flatten()"
   ]
  },
  {
   "cell_type": "code",
   "execution_count": null,
   "metadata": {},
   "outputs": [],
   "source": []
  },
  {
   "cell_type": "code",
   "execution_count": 4,
   "metadata": {},
   "outputs": [],
   "source": [
    "yr = 2016\n",
    "curr_path = os.path.join(omi_path, 'L3', 'OMNO2d', str(yr))\n",
    "list_char = glob.glob(os.path.join(curr_path, '*.he5'))\n",
    "list_char = [os.path.basename(f) for f in list_char]\n",
    "    \n",
    "i=0\n",
    "data = matlab.h5read(os.path.join(curr_path, list_char[i]), '/HDFEOS/GRIDS/ColumnAmountNO2/Data Fields/ColumnAmountNO2TropCloudScreened')"
   ]
  },
  {
   "cell_type": "code",
   "execution_count": 6,
   "metadata": {},
   "outputs": [
    {
     "data": {
      "text/plain": [
       "-1.2676506e+30"
      ]
     },
     "execution_count": 6,
     "metadata": {},
     "output_type": "execute_result"
    }
   ],
   "source": [
    "data.min()"
   ]
  },
  {
   "cell_type": "code",
   "execution_count": 7,
   "metadata": {},
   "outputs": [
    {
     "data": {
      "text/plain": [
       "5.688038e+16"
      ]
     },
     "execution_count": 7,
     "metadata": {},
     "output_type": "execute_result"
    }
   ],
   "source": [
    "data.max()"
   ]
  },
  {
   "cell_type": "code",
   "execution_count": 8,
   "metadata": {},
   "outputs": [],
   "source": [
    "data2 = data[:] * 3.7216e-17"
   ]
  },
  {
   "cell_type": "code",
   "execution_count": 10,
   "metadata": {},
   "outputs": [
    {
     "data": {
      "text/plain": [
       "-47176885000000.0"
      ]
     },
     "execution_count": 10,
     "metadata": {},
     "output_type": "execute_result"
    }
   ],
   "source": [
    "data2.min()"
   ]
  },
  {
   "cell_type": "code",
   "execution_count": 11,
   "metadata": {},
   "outputs": [
    {
     "data": {
      "text/plain": [
       "2.1168602"
      ]
     },
     "execution_count": 11,
     "metadata": {},
     "output_type": "execute_result"
    }
   ],
   "source": [
    "data2.max()"
   ]
  },
  {
   "cell_type": "code",
   "execution_count": 12,
   "metadata": {},
   "outputs": [],
   "source": [
    "data[data<=-1.2676506e+30] = -9999"
   ]
  },
  {
   "cell_type": "code",
   "execution_count": 13,
   "metadata": {},
   "outputs": [],
   "source": [
    "data = data * 3.7216e-17;  "
   ]
  },
  {
   "cell_type": "code",
   "execution_count": null,
   "metadata": {},
   "outputs": [],
   "source": []
  },
  {
   "cell_type": "code",
   "execution_count": null,
   "metadata": {},
   "outputs": [],
   "source": []
  },
  {
   "cell_type": "code",
   "execution_count": 38,
   "metadata": {},
   "outputs": [],
   "source": [
    "list_doy[i] = 1"
   ]
  },
  {
   "cell_type": "code",
   "execution_count": null,
   "metadata": {},
   "outputs": [],
   "source": []
  },
  {
   "cell_type": "code",
   "execution_count": 44,
   "metadata": {},
   "outputs": [
    {
     "data": {
      "text/plain": [
       "array([[1, 1, 1, ..., 1, 1, 1],\n",
       "       [1, 1, 1, ..., 1, 1, 1],\n",
       "       [1, 1, 1, ..., 1, 1, 1],\n",
       "       ...,\n",
       "       [1, 1, 1, ..., 1, 1, 1],\n",
       "       [1, 1, 1, ..., 1, 1, 1],\n",
       "       [1, 1, 1, ..., 1, 1, 1]], dtype=uint8)"
      ]
     },
     "execution_count": 44,
     "metadata": {},
     "output_type": "execute_result"
    }
   ],
   "source": [
    "np.ones((1036800, days), dtype='uint8')"
   ]
  },
  {
   "cell_type": "code",
   "execution_count": 43,
   "metadata": {},
   "outputs": [
    {
     "data": {
      "text/plain": [
       "array([[0, 0, 0, ..., 0, 0, 0],\n",
       "       [0, 0, 0, ..., 0, 0, 0],\n",
       "       [0, 0, 0, ..., 0, 0, 0],\n",
       "       ...,\n",
       "       [0, 0, 0, ..., 0, 0, 0],\n",
       "       [0, 0, 0, ..., 0, 0, 0],\n",
       "       [0, 0, 0, ..., 0, 0, 0]], dtype=uint8)"
      ]
     },
     "execution_count": 43,
     "metadata": {},
     "output_type": "execute_result"
    }
   ],
   "source": [
    "np.full((1036800, days), np.nan, dtype='uint8')"
   ]
  },
  {
   "cell_type": "code",
   "execution_count": 11,
   "metadata": {},
   "outputs": [
    {
     "ename": "SyntaxError",
     "evalue": "can't assign to function call (<ipython-input-11-1f2a8d6f6173>, line 23)",
     "output_type": "error",
     "traceback": [
      "\u001b[0;36m  File \u001b[0;32m\"<ipython-input-11-1f2a8d6f6173>\"\u001b[0;36m, line \u001b[0;32m23\u001b[0m\n\u001b[0;31m    data_yr(isnan(data_yr))=-9999\u001b[0m\n\u001b[0m    ^\u001b[0m\n\u001b[0;31mSyntaxError\u001b[0m\u001b[0;31m:\u001b[0m can't assign to function call\n"
     ]
    }
   ],
   "source": [
    "\n",
    "### OMSO2e\n",
    "for yr in YEARS:\n",
    "    os.chdir(os.path.join(omi_path, 'L3_grid', 'OMSO2e', str(yr)))\n",
    "    list_char = matlab.dir('.', '.he5')\n",
    "    doy_000 = datenum(f'{yr}0000')\n",
    "    list_doy = map(lambda x: x[19:23]+x[23:28]-doy_000, list_char)\n",
    "    if yr%4==0:\n",
    "        days = 366\n",
    "    else:\n",
    "        days = 365\n",
    "    \n",
    "    data_yr = np.full(1036800, np.nan)\n",
    "    for i in range(len(list_char)):\n",
    "        data = mathlab.h5read(list_char[i],'/HDFEOS/GRIDS/OMI Total Column Amount SO2/Data Fields/ColumnAmountSO2_PBL')\n",
    "        rcf = mathlab.h5read(list_char[i],'/HDFEOS/GRIDS/OMI Total Column Amount SO2/Data Fields/RadiativeCloudFraction')\n",
    "        sza = mathlab.h5read(list_char[i],'/HDFEOS/GRIDS/OMI Total Column Amount SO2/Data Fields/SolarZenithAngle')\n",
    "    \n",
    "        # Assign NaN value to pixel that is out of valid range\n",
    "        data = np.float64(data) # data[data<=-1.2676506e+30]=np.nan;\n",
    "        rcf = np.float64(rcf) # rcf[rcf<=-1.2676506e+30]=np.nan;\n",
    "        sza = np.float64[sza] # sza[sza<=-1.2676506e+30]=np.nan;\n",
    "        \n",
    "        # Filtering SO2_VCD with the condition of radiative cloud fraction and\n",
    "        # solar zenith angle\n",
    "        data2 = data;\n",
    "        data2[rcf>=0.3]=np.nan;\n",
    "        data2[sza>=78]=np.nan;\n",
    "        \n",
    "        data_yr[:, list_doy(i)] = data2.flatten() # Put daily data as column vector\n",
    "        print (f'OMSO2e_m_{yr}_{list_doy[i]:03d}')\n",
    "    data_yr[np.isnan(data_yr)]=-9999;\n",
    "    prefix = np.tile('d', [days, 1]) # prefix for header\n",
    "    header = map(lambda x: f'{x:03d}', prefix) # header = cellstr([prefix,num2str([1:days]','%03i')]);\n",
    "    sio.savemat(os.path.join(data_path, 'OMI_L3_tempConv', f'OMSO2d_{yr}_DU.mat'), mdict={'data_yr':data_yr})\n",
    "\n",
    "### OMDOAO3e\n",
    "for yr in YEARS:\n",
    "    tStart = time.time()\n",
    "    os.chdir(os.path.join(omi_path, 'L3_grid', 'OMDOAO3e', str(yr)))\n",
    "    list_char = matlab.dir('.', '.he5')\n",
    "    doy_000 = datenum(f'{yr}0000')\n",
    "    list_doy = map(lambda x: x[19:23]+x[23:28]-doy_000, list_char)\n",
    "    if yr%4==0:\n",
    "        days = 366\n",
    "    else:\n",
    "        days = 365\n",
    "    \n",
    "    data_yr = np.full(1036800, np.nan)\n",
    "    for i in range(len(list_char)):\n",
    "        data = mathlab.h5read(list_char[i],'/HDFEOS/GRIDS/ColumnAmountO3/Data Fields/ColumnAmountO3')\n",
    "        cf = mathlab.h5read(list_char[i],'/HDFEOS/GRIDS/ColumnAmountO3/Data Fields/CloudFraction')\n",
    "        sza = mathlab.h5read(list_char[i],'/HDFEOS/GRIDS/ColumnAmountO3/Data Fields/SolarZenithAngle')\n",
    "    \n",
    "        # Assign NaN value to pixel that is out of valid range\n",
    "        data = np.float64(data) # data[data<=-1.2676506e+30]=np.nan;\n",
    "        cf = np.float64(cf) # rcf[rcf<=-1.2676506e+30]=np.nan;\n",
    "        sza = np.float64[sza] # sza[sza<=-1.2676506e+30]=np.nan;\n",
    "        \n",
    "        # Filtering SO2_VCD with the condition of radiative cloud fraction and\n",
    "        # solar zenith angle\n",
    "        data2 = data;\n",
    "        data2[cf>=0.3]=np.nan;\n",
    "        data2[sza>=78]=np.nan;\n",
    "        \n",
    "        data_yr[:, list_doy(i)] = data2.flatten() # Put daily data as column vector\n",
    "        print (f'OMDOAO3e_m_{yr}_{list_doy[i]:03d}')\n",
    "    data_yr(isnan(data_yr))=-9999;\n",
    "    prefix = np.tile('d', [days, 1]) # prefix for header\n",
    "    header = map(lambda x: f'{x:03d}', prefix) # header = cellstr([prefix,num2str([1:days]','%03i')]);\n",
    "    sio.savemat(os.path.join(data_path, 'OMI_L3_tempConv', f'OMSO2d_{yr}_DU.mat'), mdict={'data_yr':data_yr})\n",
    "    tElapsed = time.time() - tStart\n",
    "    print (f'{tElapsed} second')\n",
    "\n",
    "### OMHCHOG\n",
    "for yr in YEARS:\n",
    "    os.chdir(os.path.join(omi_path, 'L2_grid', 'OMHCHOG', str(yr)))\n",
    "    list_char = matlab.dir('.', '.he5')\n",
    "    doy_000 = datenum(f'{yr}0000')\n",
    "    list_doy = map(lambda x: x[19:23]+x[23:28]-doy_000, list_char)\n",
    "    if yr%4==0:\n",
    "        days = 366\n",
    "    else:\n",
    "        days = 365\n",
    "    \n",
    "    data_yr = np.full(1036800, np.nan)\n",
    "    for i in range(len(list_char)):\n",
    "        data = mathlab.h5read(list_char[i],'/HDFEOS/GRIDS/OMI Total Column Amount HCHO/Data Fields/ColumnAmountDestriped')\n",
    "        # Assign NaN value to pixel that is out of valid range\n",
    "        data = np.float64(matlab.permute(data,[2,1,3]))\n",
    "        data[data<=-1.0e+30] = np.nan\n",
    "        VCD = data * 3.7216e-17                                  # molec/cm2 to DU\n",
    "        \n",
    "        QA = matlab.h5read(list_char[i],'/HDFEOS/GRIDS/OMI Total Column Amount HCHO/Data Fields/MainDataQualityFlag')\n",
    "        QA = np.float64(permute(QA, [2,1,3]))\n",
    "        QA[QA<=-30000] = np.nan\n",
    "        \n",
    "        sza = matlab.h5read(list_char[i],'/HDFEOS/GRIDS/OMI Total Column Amount HCHO/Data Fields/SolarZenithAngle')\n",
    "        sza = np.float64(matlab.permute(sza,[2,1,3]))\n",
    "        sza[sza<=-1.0e+30] = np.nan\n",
    "        \n",
    "        VCD_filtered = np.zeros(VCD.shape)\n",
    "        for k in range(15):\n",
    "            VCD_temp = VCD[:,:,k]\n",
    "            QA_temp = QA[:,:,k]\n",
    "            sza_temp = sza[:,:,k]\n",
    "            \n",
    "            VCD_temp[QA_temp!=0] = np.nan #  Good columns (0) / Suspect columns (1) / Bad columns (2) / missing (<0)\n",
    "            VCD_temp[sza_temp>88] = np.nan\n",
    "            VCD_filtered[:,:,k] = VCD_temp\n",
    "        VCD_avg = np.nanmean(VCD_filtered, axis=2)\n",
    "        data_yr[:, list_doy(i)] = VCD_avg.flatten() # Put daily data as column vector\n",
    "        print (f'OMHCHOG_{yr}_{list_doy[i]:03d}')\n",
    "        \n",
    "        if list_doy[i]%50==0:\n",
    "            data_sub = data_yr[:, list_doy[i]-48:list_doy[i]]\n",
    "            sio.savemat(os.path.join(data_path, 'pre', 'OMI_L3_tempConv', f'OMHCHOG_{yr}_{list_doy[i]:03d}.mat'), mdict={'data_sub':data_sub})\n",
    "    # Gathering part files\n",
    "    data_yr = []\n",
    "    for m in range(50, 350+1, 50):\n",
    "        data_sub = sio.loadmat(os.path.join(data_path, 'pre', 'OMI_L3_tempConv', f'OMHCHOG_{yr}_{list_doy[i]:03d}.mat'))\n",
    "        data_yr = np.concatenate((data_yr, data_sub), axis=1) # data_yr=[data_yr,data_sub];\n",
    "    data_sub = sio.loadmat(os.path.join(data_path, 'pre', 'OMI_L3_tempConv', f'OMHCHOG_{yr}_end.mat'))\n",
    "    data_yr = np.concatenate((data_yr, data_sub), axis=1)\n",
    "        \n",
    "    data_yr(isnan(data_yr))=-9999;\n",
    "    prefix = np.tile('d', [days, 1]) # prefix for header\n",
    "    header = map(lambda x: f'{x:03d}', prefix) # header = cellstr([prefix,num2str([1:days]','%03i')]);\n",
    "    sio.savemat(os.path.join(data_path, 'OMI_L3_tempConv', f'OMHCHOG_{yr}_DU.mat'), mdict={'data_yr':data_yr})"
   ]
  },
  {
   "cell_type": "code",
   "execution_count": null,
   "metadata": {},
   "outputs": [],
   "source": []
  }
 ],
 "metadata": {
  "kernelspec": {
   "display_name": "venv",
   "language": "python",
   "name": "venv"
  },
  "language_info": {
   "codemirror_mode": {
    "name": "ipython",
    "version": 3
   },
   "file_extension": ".py",
   "mimetype": "text/x-python",
   "name": "python",
   "nbconvert_exporter": "python",
   "pygments_lexer": "ipython3",
   "version": "3.6.8"
  }
 },
 "nbformat": 4,
 "nbformat_minor": 2
}
