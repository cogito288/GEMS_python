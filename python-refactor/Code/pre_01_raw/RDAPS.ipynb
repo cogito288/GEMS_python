{
 "cells": [
  {
   "cell_type": "markdown",
   "metadata": {},
   "source": [
    "# RDAPS_01_exract_var18"
   ]
  },
  {
   "cell_type": "code",
   "execution_count": 1,
   "metadata": {},
   "outputs": [],
   "source": [
    "### Package import\n",
    "import os\n",
    "import h5py\n",
    "import time\n",
    "import numpy as np\n",
    "import scipy.io as sio\n",
    "\n",
    "### Common\n",
    "import sys\n",
    "project_path = 'C:\\\\Users\\\\user\\\\Downloads\\\\matlab2python\\\\matlab2python\\\\python-refactor'\n",
    "#project_path = '/home/cogito/Uncertainty/matlab2python/python-refactor'\n",
    "sys.path.insert(0, project_path)\n",
    "from Code.utils import matlab\n",
    "from Code.utils import helpers\n",
    "\n",
    "path = os.path.join(project_data, 'Data', 'Aerosol', 'RDAPS')\n",
    "data_path = os.path.join(project_data, 'Data', 'Aerosol', '00_raw_data', 'RDAPS')\n",
    "# run('/share/irisnas3/Data/drought/GLDAS/nctoolbox-1.1.3/nctoolbox-1.1.3/setup_nctoolbox.m');\n",
    "\n",
    "YEARS = range(2015, 2017+1)\n",
    "for yr in YEARS:\n",
    "    os.chdir(os.path.join(data_path, str(yr)))\n",
    "    file_list = matlab.dir('.', '*000.*.gb2')\n",
    "    list_date = map(lambda x: x[21:29], file_list)\n",
    "    list_dnum = map(lambda x: mathlab.datenum(x), list_date)\n",
    "    doy_000 = mathlab.datenum(f'{yr}0101')\n",
    "    rdaps = np.full((419, 491, 18), np.nan)\n",
    "    \n",
    "    for i in range(len(file_list)):\n",
    "        rdaps_data = ncdataset[file_list[i, :]"
   ]
  },
  {
   "cell_type": "code",
   "execution_count": null,
   "metadata": {},
   "outputs": [],
   "source": []
  },
  {
   "cell_type": "code",
   "execution_count": 1,
   "metadata": {},
   "outputs": [],
   "source": [
    "import gdal"
   ]
  },
  {
   "cell_type": "code",
   "execution_count": 2,
   "metadata": {},
   "outputs": [],
   "source": [
    "from osgeo import gdal"
   ]
  },
  {
   "cell_type": "code",
   "execution_count": 3,
   "metadata": {},
   "outputs": [],
   "source": [
    "rdaps_data = gdal.Open('r120v070ereaunish000.2016080300.gb2')"
   ]
  },
  {
   "cell_type": "code",
   "execution_count": 6,
   "metadata": {},
   "outputs": [
    {
     "data": {
      "text/plain": [
       "['DERIVED_SUBDATASETS']"
      ]
     },
     "execution_count": 6,
     "metadata": {},
     "output_type": "execute_result"
    }
   ],
   "source": [
    "rdaps_data.GetMetadataDomainList()"
   ]
  },
  {
   "cell_type": "code",
   "execution_count": 2,
   "metadata": {},
   "outputs": [
    {
     "name": "stdout",
     "output_type": "stream",
     "text": [
      "PROJCS[\"unnamed\",GEOGCS[\"Coordinate System imported from GRIB file\",DATUM[\"unknown\",SPHEROID[\"Sphere\",6371229,0]],PRIMEM[\"Greenwich\",0],UNIT[\"degree\",0.0174532925199433]],PROJECTION[\"Lambert_Conformal_Conic_2SP\"],PARAMETER[\"standard_parallel_1\",30],PARAMETER[\"standard_parallel_2\",60],PARAMETER[\"latitude_of_origin\",38],PARAMETER[\"central_meridian\",126],PARAMETER[\"false_easting\",0],PARAMETER[\"false_northing\",0],UNIT[\"Metre\",1]]\n",
      "(-2947735.60935278, 12000.0, 0.0, 2512519.3933857256, 0.0, -12000.0)\n"
     ]
    }
   ],
   "source": [
    "from osgeo import gdal\n",
    "dat = gdal.Open('r120v070ereaunish000.2016080300.gb2')\n",
    "print (dat.GetProjectionRef())\n",
    "print (dat.GetGeoTransform())"
   ]
  },
  {
   "cell_type": "code",
   "execution_count": 9,
   "metadata": {},
   "outputs": [
    {
     "ename": "OSError",
     "evalue": "[Errno -51] NetCDF: Unknown file format: b'r120v070ereaunish000.2016080300.gb2'",
     "output_type": "error",
     "traceback": [
      "\u001b[1;31m---------------------------------------------------------------------------\u001b[0m",
      "\u001b[1;31mOSError\u001b[0m                                   Traceback (most recent call last)",
      "\u001b[1;32m<ipython-input-9-7dc8173b304d>\u001b[0m in \u001b[0;36m<module>\u001b[1;34m\u001b[0m\n\u001b[0;32m      1\u001b[0m \u001b[1;32mimport\u001b[0m \u001b[0mnetCDF4\u001b[0m\u001b[1;33m\u001b[0m\u001b[1;33m\u001b[0m\u001b[0m\n\u001b[0;32m      2\u001b[0m \u001b[1;32mimport\u001b[0m \u001b[0mnumpy\u001b[0m \u001b[1;32mas\u001b[0m \u001b[0mnp\u001b[0m\u001b[1;33m\u001b[0m\u001b[1;33m\u001b[0m\u001b[0m\n\u001b[1;32m----> 3\u001b[1;33m \u001b[0mf\u001b[0m \u001b[1;33m=\u001b[0m \u001b[0mnetCDF4\u001b[0m\u001b[1;33m.\u001b[0m\u001b[0mDataset\u001b[0m\u001b[1;33m(\u001b[0m\u001b[1;34m'r120v070ereaunish000.2016080300.gb2'\u001b[0m\u001b[1;33m)\u001b[0m\u001b[1;33m\u001b[0m\u001b[1;33m\u001b[0m\u001b[0m\n\u001b[0m",
      "\u001b[1;32mnetCDF4\\_netCDF4.pyx\u001b[0m in \u001b[0;36mnetCDF4._netCDF4.Dataset.__init__\u001b[1;34m()\u001b[0m\n",
      "\u001b[1;32mnetCDF4\\_netCDF4.pyx\u001b[0m in \u001b[0;36mnetCDF4._netCDF4._ensure_nc_success\u001b[1;34m()\u001b[0m\n",
      "\u001b[1;31mOSError\u001b[0m: [Errno -51] NetCDF: Unknown file format: b'r120v070ereaunish000.2016080300.gb2'"
     ]
    }
   ],
   "source": [
    "import netCDF4\n",
    "import numpy as np\n",
    "f = netCDF4.Dataset('r120v070ereaunish000.2016080300.gb2')"
   ]
  },
  {
   "cell_type": "code",
   "execution_count": 4,
   "metadata": {},
   "outputs": [
    {
     "ename": "TypeError",
     "evalue": "Error: r120v070ereaunish000.2016080300.gb2 is not a valid NetCDF 3 file",
     "output_type": "error",
     "traceback": [
      "\u001b[1;31m---------------------------------------------------------------------------\u001b[0m",
      "\u001b[1;31mTypeError\u001b[0m                                 Traceback (most recent call last)",
      "\u001b[1;32m<ipython-input-4-eed58051ec53>\u001b[0m in \u001b[0;36m<module>\u001b[1;34m\u001b[0m\n\u001b[0;32m      4\u001b[0m \u001b[1;32mimport\u001b[0m \u001b[0mmatplotlib\u001b[0m\u001b[1;33m.\u001b[0m\u001b[0mpyplot\u001b[0m \u001b[1;32mas\u001b[0m \u001b[0mplt\u001b[0m\u001b[1;33m\u001b[0m\u001b[1;33m\u001b[0m\u001b[0m\n\u001b[0;32m      5\u001b[0m \u001b[1;33m\u001b[0m\u001b[0m\n\u001b[1;32m----> 6\u001b[1;33m \u001b[0mfile2read\u001b[0m \u001b[1;33m=\u001b[0m \u001b[0mnetcdf\u001b[0m\u001b[1;33m.\u001b[0m\u001b[0mNetCDFFile\u001b[0m\u001b[1;33m(\u001b[0m\u001b[1;34m'r120v070ereaunish000.2016080300.gb2'\u001b[0m\u001b[1;33m)\u001b[0m\u001b[1;33m\u001b[0m\u001b[1;33m\u001b[0m\u001b[0m\n\u001b[0m\u001b[0;32m      7\u001b[0m \u001b[0mtemp\u001b[0m \u001b[1;33m=\u001b[0m \u001b[0mfile2read\u001b[0m\u001b[1;33m.\u001b[0m\u001b[0mvariables\u001b[0m\u001b[1;33m[\u001b[0m\u001b[0mvar\u001b[0m\u001b[1;33m]\u001b[0m \u001b[1;31m# var can be 'Theta', 'S', 'V', 'U' etc..\u001b[0m\u001b[1;33m\u001b[0m\u001b[1;33m\u001b[0m\u001b[0m\n\u001b[0;32m      8\u001b[0m \u001b[0mdata\u001b[0m \u001b[1;33m=\u001b[0m \u001b[0mtemp\u001b[0m\u001b[1;33m[\u001b[0m\u001b[1;33m:\u001b[0m\u001b[1;33m]\u001b[0m\u001b[1;33m*\u001b[0m\u001b[1;36m1\u001b[0m\u001b[1;33m\u001b[0m\u001b[1;33m\u001b[0m\u001b[0m\n",
      "\u001b[1;32m~\\Anaconda3\\lib\\site-packages\\scipy\\io\\netcdf.py\u001b[0m in \u001b[0;36m__init__\u001b[1;34m(self, filename, mode, mmap, version, maskandscale)\u001b[0m\n\u001b[0;32m    282\u001b[0m \u001b[1;33m\u001b[0m\u001b[0m\n\u001b[0;32m    283\u001b[0m         \u001b[1;32mif\u001b[0m \u001b[0mmode\u001b[0m \u001b[1;32min\u001b[0m \u001b[1;34m'ra'\u001b[0m\u001b[1;33m:\u001b[0m\u001b[1;33m\u001b[0m\u001b[1;33m\u001b[0m\u001b[0m\n\u001b[1;32m--> 284\u001b[1;33m             \u001b[0mself\u001b[0m\u001b[1;33m.\u001b[0m\u001b[0m_read\u001b[0m\u001b[1;33m(\u001b[0m\u001b[1;33m)\u001b[0m\u001b[1;33m\u001b[0m\u001b[1;33m\u001b[0m\u001b[0m\n\u001b[0m\u001b[0;32m    285\u001b[0m \u001b[1;33m\u001b[0m\u001b[0m\n\u001b[0;32m    286\u001b[0m     \u001b[1;32mdef\u001b[0m \u001b[0m__setattr__\u001b[0m\u001b[1;33m(\u001b[0m\u001b[0mself\u001b[0m\u001b[1;33m,\u001b[0m \u001b[0mattr\u001b[0m\u001b[1;33m,\u001b[0m \u001b[0mvalue\u001b[0m\u001b[1;33m)\u001b[0m\u001b[1;33m:\u001b[0m\u001b[1;33m\u001b[0m\u001b[1;33m\u001b[0m\u001b[0m\n",
      "\u001b[1;32m~\\Anaconda3\\lib\\site-packages\\scipy\\io\\netcdf.py\u001b[0m in \u001b[0;36m_read\u001b[1;34m(self)\u001b[0m\n\u001b[0;32m    607\u001b[0m         \u001b[1;32mif\u001b[0m \u001b[1;32mnot\u001b[0m \u001b[0mmagic\u001b[0m \u001b[1;33m==\u001b[0m \u001b[1;34mb'CDF'\u001b[0m\u001b[1;33m:\u001b[0m\u001b[1;33m\u001b[0m\u001b[1;33m\u001b[0m\u001b[0m\n\u001b[0;32m    608\u001b[0m             raise TypeError(\"Error: %s is not a valid NetCDF 3 file\" %\n\u001b[1;32m--> 609\u001b[1;33m                             self.filename)\n\u001b[0m\u001b[0;32m    610\u001b[0m         \u001b[0mself\u001b[0m\u001b[1;33m.\u001b[0m\u001b[0m__dict__\u001b[0m\u001b[1;33m[\u001b[0m\u001b[1;34m'version_byte'\u001b[0m\u001b[1;33m]\u001b[0m \u001b[1;33m=\u001b[0m \u001b[0mfrombuffer\u001b[0m\u001b[1;33m(\u001b[0m\u001b[0mself\u001b[0m\u001b[1;33m.\u001b[0m\u001b[0mfp\u001b[0m\u001b[1;33m.\u001b[0m\u001b[0mread\u001b[0m\u001b[1;33m(\u001b[0m\u001b[1;36m1\u001b[0m\u001b[1;33m)\u001b[0m\u001b[1;33m,\u001b[0m \u001b[1;34m'>b'\u001b[0m\u001b[1;33m)\u001b[0m\u001b[1;33m[\u001b[0m\u001b[1;36m0\u001b[0m\u001b[1;33m]\u001b[0m\u001b[1;33m\u001b[0m\u001b[1;33m\u001b[0m\u001b[0m\n\u001b[0;32m    611\u001b[0m \u001b[1;33m\u001b[0m\u001b[0m\n",
      "\u001b[1;31mTypeError\u001b[0m: Error: r120v070ereaunish000.2016080300.gb2 is not a valid NetCDF 3 file"
     ]
    }
   ],
   "source": [
    "from scipy.io import netcdf\n",
    "import numpy as np\n",
    "import matplotlib\n",
    "import matplotlib.pyplot as plt\n",
    "\n",
    "file2read = netcdf.NetCDFFile('r120v070ereaunish000.2016080300.gb2')\n",
    "temp = file2read.variables[var] # var can be 'Theta', 'S', 'V', 'U' etc..\n",
    "data = temp[:]*1\n",
    "file2read.close()"
   ]
  },
  {
   "cell_type": "code",
   "execution_count": null,
   "metadata": {},
   "outputs": [],
   "source": []
  },
  {
   "cell_type": "code",
   "execution_count": 116,
   "metadata": {},
   "outputs": [
    {
     "name": "stdout",
     "output_type": "stream",
     "text": [
      "['(prodType 0, cat 0, subcat 192) [-]'\n",
      " '(prodType 0, cat 0, subcat 193) [-]'\n",
      " '(prodType 0, cat 0, subcat 194) [-]'\n",
      " '(prodType 0, cat 0, subcat 195) [-]'\n",
      " '(prodType 0, cat 0, subcat 197) [-]'\n",
      " '(prodType 0, cat 0, subcat 198) [-]'\n",
      " '(prodType 0, cat 0, subcat 199) [-]'\n",
      " '(prodType 0, cat 1, subcat 192) [-]'\n",
      " '(prodType 0, cat 1, subcat 193) [-]'\n",
      " '(prodType 0, cat 1, subcat 196) [-]'\n",
      " '(prodType 0, cat 1, subcat 197) [-]'\n",
      " '(prodType 0, cat 19, subcat 193) [-]'\n",
      " '(prodType 0, cat 19, subcat 194) [-]'\n",
      " '(prodType 0, cat 2, subcat 192) [-]'\n",
      " '(prodType 0, cat 2, subcat 193) [-]'\n",
      " '(prodType 0, cat 2, subcat 194) [-]'\n",
      " '(prodType 0, cat 2, subcat 195) [-]'\n",
      " '(prodType 0, cat 2, subcat 196) [-]'\n",
      " '(prodType 0, cat 2, subcat 197) [-]'\n",
      " '(prodType 0, cat 2, subcat 198) [-]'\n",
      " '(prodType 0, cat 4, subcat 192) [-]'\n",
      " '(prodType 0, cat 4, subcat 193) [-]'\n",
      " '(prodType 0, cat 4, subcat 194) [-]'\n",
      " '(prodType 0, cat 4, subcat 195) [-]'\n",
      " '(prodType 0, cat 4, subcat 196) [-]'\n",
      " '(prodType 0, cat 4, subcat 197) [-]'\n",
      " '(prodType 0, cat 4, subcat 198) [-]'\n",
      " '(prodType 0, cat 4, subcat 199) [-]'\n",
      " '(prodType 0, cat 4, subcat 200) [-]'\n",
      " '(prodType 0, cat 5, subcat 192) [-]'\n",
      " '(prodType 0, cat 5, subcat 193) [-]'\n",
      " '(prodType 0, cat 5, subcat 194) [-]'\n",
      " '(prodType 0, cat 5, subcat 195) [-]'\n",
      " '(prodType 0, cat 5, subcat 196) [-]'\n",
      " '(prodType 0, cat 5, subcat 197) [-]'\n",
      " '(prodType 0, cat 6, subcat 200) [-]'\n",
      " '(prodType 0, cat 6, subcat 201) [-]'\n",
      " '(prodType 0, cat 6, subcat 202) [-]'\n",
      " '(prodType 0, cat 6, subcat 203) [-]'\n",
      " '(prodType 0, cat 6, subcat 204) [-]'\n",
      " '(prodType 0, cat 6, subcat 205) [-]'\n",
      " '(prodType 0, cat 6, subcat 206) [-]'\n",
      " '(prodType 0, cat 6, subcat 207) [-]'\n",
      " '(prodType 0, cat 6, subcat 208) [-]'\n",
      " '(prodType 0, cat 6, subcat 210) [-]'\n",
      " '(prodType 0, cat 6, subcat 211) [-]'\n",
      " '(prodType 0, cat 6, subcat 212) [-]'\n",
      " '(prodType 0, cat 6, subcat 213) [-]'\n",
      " '(prodType 0, cat 6, subcat 216) [-]'\n",
      " '(prodType 0, cat 6, subcat 217) [-]'\n",
      " '(prodType 1, cat 0, subcat 192) [-]'\n",
      " '(prodType 2, cat 0, subcat 192) [-]'\n",
      " '(prodType 2, cat 0, subcat 193) [-]'\n",
      " '(prodType 2, cat 0, subcat 194) [-]'\n",
      " '(prodType 2, cat 0, subcat 200) [-]'\n",
      " '(prodType 2, cat 0, subcat 201) [-]'\n",
      " '(prodType 2, cat 0, subcat 202) [-]'\n",
      " '(prodType 2, cat 0, subcat 203) [-]'\n",
      " '03 hr Total precipitation [kg/(m^2)]' 'Best (4 layer) Lifted Index [C]'\n",
      " 'Convective Weather Detection Index [-]'\n",
      " 'Convective available potential energy [J/kg]'\n",
      " 'Convective cloud cover [%]' 'Convective precipitation [kg/(m^2)]'\n",
      " 'Convective precipitation rate [kg/(m^2*s)]' 'Convective snow [kg/(m^2)]'\n",
      " 'Convective snowfall rate [m/s]' 'Dew point temperature [C]'\n",
      " 'Frictional velocity [m/s]' 'Geometric height [m]' 'High cloud cover [%]'\n",
      " 'Land cover (1=land; 2=sea) [Proportion]'\n",
      " 'Large scale precipitation [kg/(m^2)]'\n",
      " 'Large scale precipitation rate [kg/(m^2*s)]'\n",
      " 'Large scale snow [kg/(m^2)]' 'Large scale snowfall rate [m/s]'\n",
      " 'Latent heat net flux [W/(m^2)]' 'Low cloud cover [%]'\n",
      " 'Maximum temperature [C]' 'Maximum wind speed [m/s]'\n",
      " 'Medium cloud cover [%]' 'Minimum temperature [C]'\n",
      " 'Planetary boundary layer height [m]' 'Pressure reduced to MSL [Pa]'\n",
      " 'Relative humidity [%]' 'Richardson Number [Numeric]'\n",
      " 'Snow melt [kg/(m^2)]' 'Soil moisture content [kg/(m^2)]'\n",
      " 'Soil temperature [C]' 'Specific humidity [kg/kg]'\n",
      " 'Standard deviation of height [m]' 'Surface Lifted Index [C]'\n",
      " 'Surface roughness [m]' 'Temperature [C]'\n",
      " 'Total precipitation rate [kg/(m^2*s)]' 'Ultra Violet Index [W/m^2]'\n",
      " 'Visibility [m]' 'u-component of wind [m/s]' 'v-component of wind [m/s]']\n"
     ]
    }
   ],
   "source": [
    "var_names_long = np.array([])\n",
    "\n",
    "for layer in range(1, rdaps_data.RasterCount):\n",
    "\n",
    "    meta = rdaps_data.GetRasterBand(layer).GetMetadata()\n",
    "\n",
    "    var_names_long = np.append(var_names_long, meta['GRIB_COMMENT'])\n",
    "    \n",
    "print(np.unique(var_names_long))"
   ]
  },
  {
   "cell_type": "code",
   "execution_count": 106,
   "metadata": {},
   "outputs": [
    {
     "data": {
      "text/plain": [
       "{'GRIB_COMMENT': 'Geometric height [m]',\n",
       " 'GRIB_DISCIPLINE': '0(Meteorological)',\n",
       " 'GRIB_ELEMENT': 'DIST',\n",
       " 'GRIB_FORECAST_SECONDS': '0 sec',\n",
       " 'GRIB_IDS': 'CENTER=40(Seoul) SUBCENTER=11 MASTER_TABLE=4 LOCAL_TABLE=0 SIGNF_REF_TIME=1(Start_of_Forecast) REF_TIME=2016-08-03T00:00:00Z PROD_STATUS=0(Operational) TYPE=2(Analysis_and_forecast)',\n",
       " 'GRIB_PDS_PDTN': '0',\n",
       " 'GRIB_PDS_TEMPLATE_ASSEMBLED_VALUES': '3 6 0 255 255 0 0 1 0 1 -127 -2147483647 255 -127 -2147483647',\n",
       " 'GRIB_PDS_TEMPLATE_NUMBERS': '3 6 0 255 255 0 0 0 1 0 0 0 0 1 255 255 255 255 255 255 255 255 255 255 255',\n",
       " 'GRIB_REF_TIME': '  1470182400 sec UTC',\n",
       " 'GRIB_SHORT_NAME': '0-SFC',\n",
       " 'GRIB_UNIT': '[m]',\n",
       " 'GRIB_VALID_TIME': '  1470182400 sec UTC'}"
      ]
     },
     "execution_count": 106,
     "metadata": {},
     "output_type": "execute_result"
    }
   ],
   "source": [
    "meta"
   ]
  },
  {
   "cell_type": "code",
   "execution_count": 100,
   "metadata": {},
   "outputs": [],
   "source": [
    "message = rdaps_data.GetRasterBand(1)\n",
    "data_array = message.ReadAsArray()"
   ]
  },
  {
   "cell_type": "code",
   "execution_count": 102,
   "metadata": {},
   "outputs": [
    {
     "ename": "OSError",
     "evalue": "[Errno -51] NetCDF: Unknown file format: b'r120v070ereaunish000.2016080300.gb2'",
     "output_type": "error",
     "traceback": [
      "\u001b[1;31m---------------------------------------------------------------------------\u001b[0m",
      "\u001b[1;31mOSError\u001b[0m                                   Traceback (most recent call last)",
      "\u001b[1;32m<ipython-input-102-f80d6274ee46>\u001b[0m in \u001b[0;36m<module>\u001b[1;34m\u001b[0m\n\u001b[0;32m      1\u001b[0m \u001b[1;32mimport\u001b[0m \u001b[0mnetCDF4\u001b[0m\u001b[1;33m\u001b[0m\u001b[1;33m\u001b[0m\u001b[0m\n\u001b[1;32m----> 2\u001b[1;33m \u001b[0mdset\u001b[0m \u001b[1;33m=\u001b[0m \u001b[0mnetCDF4\u001b[0m\u001b[1;33m.\u001b[0m\u001b[0mDataset\u001b[0m\u001b[1;33m(\u001b[0m\u001b[1;34m'r120v070ereaunish000.2016080300.gb2'\u001b[0m\u001b[1;33m)\u001b[0m\u001b[1;33m\u001b[0m\u001b[1;33m\u001b[0m\u001b[0m\n\u001b[0m\u001b[0;32m      3\u001b[0m \u001b[0mdset\u001b[0m\u001b[1;33m.\u001b[0m\u001b[0mvariables\u001b[0m\u001b[1;33m\u001b[0m\u001b[1;33m\u001b[0m\u001b[0m\n",
      "\u001b[1;32mnetCDF4\\_netCDF4.pyx\u001b[0m in \u001b[0;36mnetCDF4._netCDF4.Dataset.__init__\u001b[1;34m()\u001b[0m\n",
      "\u001b[1;32mnetCDF4\\_netCDF4.pyx\u001b[0m in \u001b[0;36mnetCDF4._netCDF4._ensure_nc_success\u001b[1;34m()\u001b[0m\n",
      "\u001b[1;31mOSError\u001b[0m: [Errno -51] NetCDF: Unknown file format: b'r120v070ereaunish000.2016080300.gb2'"
     ]
    }
   ],
   "source": [
    "import netCDF4\n",
    "dset = netCDF4.Dataset('r120v070ereaunish000.2016080300.gb2')\n",
    "dset.variables"
   ]
  },
  {
   "cell_type": "code",
   "execution_count": 1,
   "metadata": {},
   "outputs": [
    {
     "name": "stderr",
     "output_type": "stream",
     "text": [
      "C:\\Users\\user\\Anaconda3\\lib\\site-packages\\dask\\config.py:168: YAMLLoadWarning: calling yaml.load() without Loader=... is deprecated, as the default Loader is unsafe. Please read https://msg.pyyaml.org/load for full details.\n",
      "  data = yaml.load(f.read()) or {}\n",
      "C:\\Users\\user\\Anaconda3\\lib\\site-packages\\distributed\\config.py:20: YAMLLoadWarning: calling yaml.load() without Loader=... is deprecated, as the default Loader is unsafe. Please read https://msg.pyyaml.org/load for full details.\n",
      "  defaults = yaml.load(f)\n"
     ]
    }
   ],
   "source": [
    "import xarray as xr"
   ]
  },
  {
   "cell_type": "code",
   "execution_count": null,
   "metadata": {},
   "outputs": [],
   "source": [
    "\n",
    "ds = xr.open_dataset('r120v070ereaunish000.2016080300.gb2', engine='cfgrib')"
   ]
  },
  {
   "cell_type": "code",
   "execution_count": null,
   "metadata": {},
   "outputs": [],
   "source": [
    "ds = xr.open_dataset('r120v070ereaunish000.2016080300.gb2', engine='cfgrib', backend_kwargs={'read_keys': ['Temperature_height_above_ground']})"
   ]
  },
  {
   "cell_type": "code",
   "execution_count": null,
   "metadata": {},
   "outputs": [],
   "source": [
    "ds   "
   ]
  },
  {
   "cell_type": "code",
   "execution_count": null,
   "metadata": {},
   "outputs": [],
   "source": [
    "# Read full data from netcdf\n",
    "data = ds.ReadAsArray(0, 0, ds.RasterXSize, ds.RasterYSize)\n",
    "data[data < 0] = 0"
   ]
  },
  {
   "cell_type": "code",
   "execution_count": 1,
   "metadata": {},
   "outputs": [],
   "source": [
    "from osgeo import gdal"
   ]
  },
  {
   "cell_type": "code",
   "execution_count": 3,
   "metadata": {},
   "outputs": [
    {
     "data": {
      "text/plain": [
       "'PROJCS[\"unnamed\",GEOGCS[\"Coordinate System imported from GRIB file\",DATUM[\"unknown\",SPHEROID[\"Sphere\",6371229,0]],PRIMEM[\"Greenwich\",0],UNIT[\"degree\",0.0174532925199433]],PROJECTION[\"Lambert_Conformal_Conic_2SP\"],PARAMETER[\"standard_parallel_1\",30],PARAMETER[\"standard_parallel_2\",60],PARAMETER[\"latitude_of_origin\",38],PARAMETER[\"central_meridian\",126],PARAMETER[\"false_easting\",0],PARAMETER[\"false_northing\",0],UNIT[\"Metre\",1]]'"
      ]
     },
     "execution_count": 3,
     "metadata": {},
     "output_type": "execute_result"
    }
   ],
   "source": [
    "from osgeo import gdal\n",
    "dat = gdal.Open('r120v070ereaunish000.2016080300.gb2')\n",
    "dat.GetProjectionRef()"
   ]
  },
  {
   "cell_type": "code",
   "execution_count": 4,
   "metadata": {},
   "outputs": [
    {
     "data": {
      "text/plain": [
       "(-2947735.60935278, 12000.0, 0.0, 2512519.3933857256, 0.0, -12000.0)"
      ]
     },
     "execution_count": 4,
     "metadata": {},
     "output_type": "execute_result"
    }
   ],
   "source": [
    "dat.GetGeoTransform()"
   ]
  },
  {
   "cell_type": "code",
   "execution_count": null,
   "metadata": {},
   "outputs": [],
   "source": []
  },
  {
   "cell_type": "code",
   "execution_count": null,
   "metadata": {},
   "outputs": [],
   "source": [
    "    for i = 1:size(list,1)\n",
    "        rdaps_data = ncdataset(list(i,:));\n",
    "        % var = rdaps_data.variables;\n",
    "        rdaps(:,:,1) = squeeze(rdaps_data.netcdf.findVariable('Temperature_height_above_ground').read().copyToNDJavaArray());\n",
    "        rdaps(:,:,2) = squeeze(rdaps_data.netcdf.findVariable('Dew-point_temperature_height_above_ground').read().copyToNDJavaArray());\n",
    "        rdaps(:,:,3) = squeeze(rdaps_data.netcdf.findVariable('Relative_humidity_height_above_ground').read().copyToNDJavaArray());\n",
    "        rdaps(:,:,4) = squeeze(rdaps_data.netcdf.findVariable('u-component_of_wind_height_above_ground').read().copyToNDJavaArray());\n",
    "        rdaps(:,:,5) = squeeze(rdaps_data.netcdf.findVariable('v-component_of_wind_height_above_ground').read().copyToNDJavaArray());\n",
    "        rdaps(:,:,6) = squeeze(rdaps_data.netcdf.findVariable('Maximum_wind_speed_height_above_ground_3_Hour_Maximum').read().copyToNDJavaArray());\n",
    "        rdaps(:,:,7) = squeeze(rdaps_data.netcdf.findVariable('Pressure_surface').read().copyToNDJavaArray());\n",
    "        rdaps(:,:,8) = squeeze(rdaps_data.netcdf.findVariable('Planetary_boundary_layer_height_UnknownLevelType-220').read().copyToNDJavaArray());\n",
    "        rdaps(:,:,9) = squeeze(rdaps_data.netcdf.findVariable('Visibility_height_above_ground').read().copyToNDJavaArray());\n",
    "        rdaps(:,:,10) = squeeze(rdaps_data.netcdf.findVariable('Temperature_surface').read().copyToNDJavaArray());\n",
    "        rdaps(:,:,11) = squeeze(rdaps_data.netcdf.findVariable('Maximum_temperature_height_above_ground_3_Hour_Maximum').read().copyToNDJavaArray());\n",
    "        rdaps(:,:,12) = squeeze(rdaps_data.netcdf.findVariable('Minimum_temperature_height_above_ground_3_Hour_Minimum').read().copyToNDJavaArray());\n",
    "        rdaps(:,:,13) = squeeze(rdaps_data.netcdf.findVariable('Total_precipitation_surface_3_Hour_Accumulation').read().copyToNDJavaArray());\n",
    "        rdaps(:,:,14) = squeeze(rdaps_data.netcdf.findVariable('Frictional_velocity_height_above_ground').read().copyToNDJavaArray());\n",
    "        rdaps(:,:,15) = squeeze(rdaps_data.netcdf.findVariable('Convective_available_potential_energy_surface_layer_3_Hour_Maximum').read().copyToNDJavaArray());\n",
    "        rdaps(:,:,16) = squeeze(rdaps_data.netcdf.findVariable('Surface_roughness_surface').read().copyToNDJavaArray());\n",
    "        rdaps(:,:,17) = squeeze(rdaps_data.netcdf.findVariable('Latent_heat_net_flux_surface_3_Hour_Average').read().copyToNDJavaArray());\n",
    "        rdaps(:,:,18) = squeeze(rdaps_data.netcdf.findVariable('Specific_humidity_height_above_ground').read().copyToNDJavaArray());\n",
    "        \n",
    "        doy = list_dnum(i)-doy_000;\n",
    "%         fname = ['RDAPS_',num2str(yr),'_',num2str(doy,'%03i'),'_',list(i,30:31),'.mat'];\n",
    "        fname = ['RDAPS_',num2str(yr),'_',num2str(doy,'%03i'),'_',list(i,30:31),'_006.mat'];\n",
    "        save([path,num2str(yr),'/',fname], 'rdaps');\n",
    "        disp(fname)\n",
    "    end\n",
    "end\n"
   ]
  },
  {
   "cell_type": "markdown",
   "metadata": {},
   "source": [
    "# RDAPS_02_exract_var_interpolation"
   ]
  },
  {
   "cell_type": "code",
   "execution_count": 10,
   "metadata": {},
   "outputs": [
    {
     "ename": "SyntaxError",
     "evalue": "invalid syntax (<ipython-input-10-ba6317000ee6>, line 1)",
     "output_type": "error",
     "traceback": [
      "\u001b[1;36m  File \u001b[1;32m\"<ipython-input-10-ba6317000ee6>\"\u001b[1;36m, line \u001b[1;32m1\u001b[0m\n\u001b[1;33m    clear all; clc;\u001b[0m\n\u001b[1;37m            ^\u001b[0m\n\u001b[1;31mSyntaxError\u001b[0m\u001b[1;31m:\u001b[0m invalid syntax\n"
     ]
    }
   ],
   "source": [
    "### Package import\n",
    "import os\n",
    "import h5py\n",
    "import time\n",
    "import numpy as np\n",
    "import scipy.io as sio\n",
    "\n",
    "### Common\n",
    "import sys\n",
    "project_path = 'C:\\\\Users\\\\user\\\\Downloads\\\\matlab2python\\\\matlab2python\\\\python-refactor'\n",
    "#project_path = '/home/cogito/Uncertainty/matlab2python/python-refactor'\n",
    "sys.path.insert(0, project_path)\n",
    "from Code.utils import matlab\n",
    "from Code.utils import helpers\n",
    "\n",
    "path = os.path.join(project_data, 'Data', 'Aerosol', 'Aerosol_Work', 'Korea')\n",
    "data_path = os.path.join(project_data, 'Data', 'Aerosol')\n",
    "\n",
    "\n",
    "YEARS = [2017]\n",
    "for yr in YEARS:\n",
    "    os.chdir(os.path.join(data_path, 'RDAPS', str(yr)))\n",
    "    if yr%4==0:\n",
    "        days = 366\n",
    "    else:\n",
    "        days = 365\n",
    "    for i in range(1, days+1):\n",
    "        data00 = sio.loadmat(os.path.join(f'RDAPS_{yr}_{i:03d}_00.mat')) # rdaps\n",
    "        # data00 = data00.rdaps\n",
    "        try:\n",
    "            data06 = sio.loadmat(os.path.join(f'RDAPS_{yr}_{i:03d}_06.mat')) % rdaps\n",
    "            # data06 = data06.rdaps\n",
    "        except:\n",
    "            # 분석장06시 자료가 없을 때, 예측장00-006시 자료 가져오기\n",
    "            # (2015 232 (Aug20))\n",
    "            data00_006 = sio.loadmat(os.path.join(f'RDAPS_{yr}_{i:03d}_06_frcst.mat')) # rdaps forecast 06\n",
    "            # data00_006 = data00_006.rdaps\n",
    "        data12 = sio.loadmat(f'RDAPS_{yr}_{i:03d}_12.mat') # rdaps\n",
    "        # data12 = data12.rdaps\n",
    "        \n",
    "        try:\n",
    "            data18 = sio.loamat(f'RDAPS_{yr}_{i:03d}_18.mat') # rdaps\n",
    "            # data18 = data18.rdaps\n",
    "        except:\n",
    "            # 분석장18시 자료가 없을 때, 12-006시 자료 가져오기\n",
    "            # From 2016 028 to 045 (Jan28 to Feb14) 18 UTC analysis data missing\n",
    "            data12_006 = sio.loadmat(f'RDAPS_{yr}_{i:03d}_18_frcst.mat') #rdaps forecast 06\n",
    "            data12_006 = data12_006.rdaps\n",
    "        \n",
    "        if i == days:\n",
    "            data24 = sio.loadmat(os.path.join(data_path, 'RDAPS', str(yr+1), f'RDAPS_{yr+1}_001_00.mat')) #rdaps\n",
    "        else:\n",
    "            data24 = sio.loadmat(os.path.join(f'RDAPS_{yr}_{i+1:03d}_00.mat') # rdaps\n",
    "        # data24 = data24.rdaps\n",
    "        \n",
    "        if exist('data06','var') && exist('data18','var')\n",
    "            for j=1:5\n",
    "                rdaps = (data06 - data00).*(j/6) + data00; % 01 to 05 UTC\n",
    "                save(['RDAPS_',num2str(yr),'_',num2str(i,'%03i'),'_',num2str(j,'%02i')],'rdaps');\n",
    "                rdaps = (data12 - data06).*(j/6) + data06; % 07 to 11 UTC\n",
    "                save(['RDAPS_',num2str(yr),'_',num2str(i,'%03i'),'_',num2str(j+6,'%02i')],'rdaps');\n",
    "                rdaps = (data18 - data12).*(j/6) + data12; % 13 to 17 UTC\n",
    "                save(['RDAPS_',num2str(yr),'_',num2str(i,'%03i'),'_',num2str(j+12,'%02i')],'rdaps');\n",
    "                rdaps = (data24 - data18).*(j/6) + data18; % 19 to 23 UTC\n",
    "                save(['RDAPS_',num2str(yr),'_',num2str(i,'%03i'),'_',num2str(j+18,'%02i')],'rdaps');\n",
    "            end\n",
    "            \n",
    "        elseif exist('data06','var')==0 && exist('data18','var')\n",
    "            for j=1:5\n",
    "                rdaps = (data00_006 - data00).*(j/6) + data00; % 01 to 05 UTC\n",
    "                save(['RDAPS_',num2str(yr),'_',num2str(i,'%03i'),'_',num2str(j,'%02i'),'_frcst'],'rdaps');\n",
    "                rdaps = (data12 - data00_006).*(j/6) + data00_006; % 07 to 11 UTC\n",
    "                save(['RDAPS_',num2str(yr),'_',num2str(i,'%03i'),'_',num2str(j+6,'%02i'),'_frcst'],'rdaps');\n",
    "                rdaps = (data18 - data12).*(j/6) + data12; % 13 to 17 UTC\n",
    "                save(['RDAPS_',num2str(yr),'_',num2str(i,'%03i'),'_',num2str(j+12,'%02i')],'rdaps');\n",
    "                rdaps = (data24 - data18).*(j/6) + data18; % 19 to 23 UTC\n",
    "                save(['RDAPS_',num2str(yr),'_',num2str(i,'%03i'),'_',num2str(j+18,'%02i')],'rdaps');\n",
    "            end\n",
    "            \n",
    "        elseif exist('data06','var') && exist('data18','var')==0\n",
    "            for j=1:5\n",
    "                rdaps = (data06 - data00).*(j/6) + data00; % 01 to 05 UTC\n",
    "                save(['RDAPS_',num2str(yr),'_',num2str(i,'%03i'),'_',num2str(j,'%02i')],'rdaps');\n",
    "                rdaps = (data12 - data06).*(j/6) + data06; % 07 to 11 UTC\n",
    "                save(['RDAPS_',num2str(yr),'_',num2str(i,'%03i'),'_',num2str(j+6,'%02i')],'rdaps');\n",
    "                rdaps = (data12_006 - data12).*(j/6) + data12; % 13 to 17 UTC\n",
    "                save(['RDAPS_',num2str(yr),'_',num2str(i,'%03i'),'_',num2str(j+12,'%02i'),'_frcst'],'rdaps');\n",
    "                rdaps = (data24 - data12_006).*(j/6) + data12_006; % 19 to 23 UTC\n",
    "                save(['RDAPS_',num2str(yr),'_',num2str(i,'%03i'),'_',num2str(j+18,'%02i'),'_frcst'],'rdaps');\n",
    "            end\n",
    "        end\n",
    "        \n",
    "        disp(i)\n",
    "    end\n",
    "end\n",
    "\n",
    "toc"
   ]
  },
  {
   "cell_type": "markdown",
   "metadata": {},
   "source": [
    "# RDAPS_03_update_for_missing_data"
   ]
  },
  {
   "cell_type": "code",
   "execution_count": null,
   "metadata": {},
   "outputs": [],
   "source": [
    "### Package import\n",
    "import os\n",
    "import h5py\n",
    "import time\n",
    "import numpy as np\n",
    "import scipy.io as sio\n",
    "\n",
    "### Common\n",
    "import sys\n",
    "project_path = 'C:\\\\Users\\\\user\\\\Downloads\\\\matlab2python\\\\matlab2python\\\\python-refactor'\n",
    "#project_path = '/home/cogito/Uncertainty/matlab2python/python-refactor'\n",
    "sys.path.insert(0, project_path)\n",
    "from Code.utils import matlab\n",
    "from Code.utils import helpers\n",
    "\n",
    "path = os.path.join(project_data, 'Data', 'Aerosol', 'Aerosol_Work', 'Korea')\n",
    "data_path = os.path.join(project_data, 'Data', 'Aerosol')\n",
    "\n",
    "\n",
    "## 2015082006\n",
    "for j in range(1, 5+1):\n",
    "    rdaps = np.multiply((data06 - data00), j/6) + data00 # 01 to 05 UTC\n",
    "    sio.savemat(f'RDAPS_2015_232_{j:02d}', mdict={'rdaps':rdaps}) \n",
    "    \n",
    "     \n",
    "for j=1:5\n",
    "    rdaps = (data06 - data00).*(j/6) + data00; % 01 to 05 UTC\n",
    "    save(['RDAPS_2015_232_',num2str(j,'%02i')],'rdaps');\n",
    "    rdaps = (data12 - data06).*(j/6) + data06; % 07 to 11 UTC\n",
    "    save(['RDAPS_2015_232_',num2str(j+6,'%02i')],'rdaps');\n",
    "end\n",
    "\n",
    "path_kor='/share/irisnas5/Data/Korea/';\n",
    "path_EA='/share/irisnas5/Data/EA_GOCI6km/';\n",
    "\n",
    "for utc=1:11\n",
    "    yr_doy_utc = ['2015_232_',num2str(utc,'%02i')];\n",
    "    load(['RDAPS_2015_232_',num2str(utc,'%02i')])\n",
    "    T_org = rdaps(:,:,1); % 'Temperature_height_above_ground'\n",
    "    D_org = rdaps(:,:,2); % 'Dew-point_temperature_height_above_ground'\n",
    "    RH_org = rdaps(:,:,3); % 'Relative_humidity_height_above_ground'\n",
    "    U_org = rdaps(:,:,4); % 'u-component_of_wind_height_above_ground'\n",
    "    V_org = rdaps(:,:,5); % 'v-component_of_wind_height_above_ground'\n",
    "    maxWS_org = rdaps(:,:,6); % 'Maximum_wind_speed_height_above_ground_3_Hour_Maximum'\n",
    "    P_srf_org = rdaps(:,:,7); % 'Pressure_surface'\n",
    "    PBLH_org = rdaps(:,:,8); % 'Planetary_boundary_layer_height_UnknownLevelType-220'\n",
    "    Visibility_org = rdaps(:,:,9); % 'Visibility_height_above_ground'\n",
    "    Tsrf_org = rdaps(:,:,10); % 'Temperature_surface'\n",
    "    Tmax_org = rdaps(:,:,11); % 'Maximum_temperature_height_above_ground_3_Hour_Maximum'\n",
    "    Tmin_org = rdaps(:,:,12); % 'Minimum_temperature_height_above_ground_3_Hour_Minimum'\n",
    "    AP3h_org = rdaps(:,:,13); % 'Total_precipitation_surface_3_Hour_Accumulation'\n",
    "    FrictionalVelocity_org = rdaps(:,:,14); % 'Frictional_velocity_height_above_ground'\n",
    "    PotentialEnergy_org = rdaps(:,:,15); % 'Convective_available_potential_energy_surface_layer_3_Hour_Maximum')\n",
    "    SurfaceRoughness_org = rdaps(:,:,16); % 'Surface_roughness_surface'\n",
    "    LatentHeatFlux_org = rdaps(:,:,17); % 'Latent_heat_net_flux_surface_3_Hour_Average'\n",
    "    SpecificHumidity_org = rdaps(:,:,18); % 'Specific_humidity_height_above_ground'\n",
    "    \n",
    "    T = griddata(lon_rdaps,lat_rdaps,T_org,lon_goci,lat_goci,'linear') -273.15;\n",
    "    D = griddata(lon_rdaps,lat_rdaps,D_org,lon_goci,lat_goci,'linear') -273.15;\n",
    "    RH = griddata(lon_rdaps,lat_rdaps,RH_org,lon_goci,lat_goci,'linear');\n",
    "    U = griddata(lon_rdaps,lat_rdaps,U_org,lon_goci,lat_goci,'linear');\n",
    "    V = griddata(lon_rdaps,lat_rdaps,V_org,lon_goci,lat_goci,'linear');\n",
    "    maxWS = griddata(lon_rdaps,lat_rdaps,maxWS_org,lon_goci,lat_goci,'linear');\n",
    "    P_srf = griddata(lon_rdaps,lat_rdaps,P_srf_org,lon_goci,lat_goci,'linear');\n",
    "    PBLH = griddata(lon_rdaps,lat_rdaps,PBLH_org,lon_goci,lat_goci,'linear');\n",
    "    Visibility = griddata(lon_rdaps,lat_rdaps,Visibility_org,lon_goci,lat_goci,'linear');\n",
    "    Tsrf = griddata(lon_rdaps,lat_rdaps,Tsrf_org,lon_goci,lat_goci,'linear') - 273.15;\n",
    "    Tmax = griddata(lon_rdaps,lat_rdaps,Tmax_org,lon_goci,lat_goci,'linear') - 273.15;\n",
    "    Tmin = griddata(lon_rdaps,lat_rdaps,Tmin_org,lon_goci,lat_goci,'linear') - 273.15;\n",
    "    AP3h = griddata(lon_rdaps,lat_rdaps,AP3h_org,lon_goci,lat_goci,'linear');\n",
    "    FrictionalVelocity = griddata(lon_rdaps,lat_rdaps,FrictionalVelocity_org,lon_goci,lat_goci,'linear');\n",
    "    PotentialEnergy = griddata(lon_rdaps,lat_rdaps,PotentialEnergy_org,lon_goci,lat_goci,'linear');\n",
    "    SurfaceRoughness = griddata(lon_rdaps,lat_rdaps,SurfaceRoughness_org,lon_goci,lat_goci,'linear');\n",
    "    LatentHeatFlux = griddata(lon_rdaps,lat_rdaps,LatentHeatFlux_org,lon_goci,lat_goci,'linear');\n",
    "    SpecificHumidity = griddata(lon_rdaps,lat_rdaps,SpecificHumidity_org,lon_goci,lat_goci,'linear');\n",
    "    \n",
    "    save([path_EA,'RDAPS/Temp/',num2str(yr),'/EA6km_T_',yr_doy_utc],'T')\n",
    "    save([path_EA,'RDAPS/Dew/',num2str(yr),'/EA6km_D_',yr_doy_utc],'D')\n",
    "    save([path_EA,'RDAPS/RH/',num2str(yr),'/EA6km_RH_',yr_doy_utc],'RH')\n",
    "    save([path_EA,'RDAPS/Uwind/',num2str(yr),'/EA6km_U_',yr_doy_utc],'U')\n",
    "    save([path_EA,'RDAPS/Vwind/',num2str(yr),'/EA6km_V_',yr_doy_utc],'V')\n",
    "    save([path_EA,'RDAPS/MaxWS/',num2str(yr),'/EA6km_maxWS_',yr_doy_utc],'maxWS')\n",
    "    save([path_EA,'RDAPS/Pressure/',num2str(yr),'/EA6km_Pressure_srf_',yr_doy_utc],'P_srf')\n",
    "    save([path_EA,'RDAPS/PBLH/',num2str(yr),'/EA6km_PBLH_',yr_doy_utc],'PBLH')\n",
    "    save([path_EA,'RDAPS/Visibility/',num2str(yr),'/EA6km_Visibility_',yr_doy_utc],'Visibility')\n",
    "    save([path_EA,'RDAPS/Temp_surface/',num2str(yr),'/EA6km_Tsrf_',yr_doy_utc],'Tsrf')\n",
    "    save([path_EA,'RDAPS/Temp_max/',num2str(yr),'/EA6km_Tmax_',yr_doy_utc],'Tmax')\n",
    "    save([path_EA,'RDAPS/Temp_min/',num2str(yr),'/EA6km_Tmin_',yr_doy_utc],'Tmin')\n",
    "    save([path_EA,'RDAPS/AP3h/',num2str(yr),'/EA6km_AP3h_',yr_doy_utc],'AP3h')\n",
    "    save([path_EA,'RDAPS/FrictionalVelocity/',num2str(yr),'/EA6km_FrictionalVelocity_',yr_doy_utc],'FrictionalVelocity')\n",
    "    save([path_EA,'RDAPS/PotentialEnergy/',num2str(yr),'/EA6km_PotentialEnergy_',yr_doy_utc],'PotentialEnergy')\n",
    "    save([path_EA,'RDAPS/SurfaceRoughness/',num2str(yr),'/EA6km_SurfaceRoughness_',yr_doy_utc],'SurfaceRoughness')\n",
    "    save([path_EA,'RDAPS/LatentHeatFlux/',num2str(yr),'/EA6km_LatentHeatFlux_',yr_doy_utc],'LatentHeatFlux')\n",
    "    save([path_EA,'RDAPS/SpecificHumidity/',num2str(yr),'/EA6km_SpecificHumidity_',yr_doy_utc],'SpecificHumidity')\n",
    "    \n",
    "    T = griddata(lon_rdaps,lat_rdaps,T_org,lon_kor,lat_kor,'linear') -273.15;\n",
    "    D = griddata(lon_rdaps,lat_rdaps,D_org,lon_kor,lat_kor,'linear') -273.15;\n",
    "    RH = griddata(lon_rdaps,lat_rdaps,RH_org,lon_kor,lat_kor,'linear');\n",
    "    U = griddata(lon_rdaps,lat_rdaps,U_org,lon_kor,lat_kor,'linear');\n",
    "    V = griddata(lon_rdaps,lat_rdaps,V_org,lon_kor,lat_kor,'linear');\n",
    "    maxWS = griddata(lon_rdaps,lat_rdaps,maxWS_org,lon_kor,lat_kor,'linear');\n",
    "    P_srf = griddata(lon_rdaps,lat_rdaps,P_srf_org,lon_kor,lat_kor,'linear');\n",
    "    PBLH = griddata(lon_rdaps,lat_rdaps,PBLH_org,lon_kor,lat_kor,'linear');\n",
    "    Visibility = griddata(lon_rdaps,lat_rdaps,Visibility_org,lon_kor,lat_kor,'linear');\n",
    "    Tsrf = griddata(lon_rdaps,lat_rdaps,Tsrf_org,lon_kor,lat_kor,'linear') - 273.15;\n",
    "    Tmax = griddata(lon_rdaps,lat_rdaps,Tmax_org,lon_kor,lat_kor,'linear') - 273.15;\n",
    "    Tmin = griddata(lon_rdaps,lat_rdaps,Tmin_org,lon_kor,lat_kor,'linear') - 273.15;\n",
    "    FrictionalVelocity = griddata(lon_rdaps,lat_rdaps,FrictionalVelocity_org,lon_kor,lat_kor,'linear');\n",
    "    PotentialEnergy = griddata(lon_rdaps,lat_rdaps,PotentialEnergy_org,lon_kor,lat_kor,'linear');\n",
    "    SurfaceRoughness = griddata(lon_rdaps,lat_rdaps,SurfaceRoughness_org,lon_kor,lat_kor,'linear');\n",
    "    LatentHeatFlux = griddata(lon_rdaps,lat_rdaps,LatentHeatFlux_org,lon_kor,lat_kor,'linear');\n",
    "    SpecificHumidity = griddata(lon_rdaps,lat_rdaps,SpecificHumidity_org,lon_kor,lat_kor,'linear');\n",
    "    \n",
    "    save([path_kor,'RDAPS/Temp/',num2str(yr),'/kor_T_',yr_doy_utc],'T')\n",
    "    save([path_kor,'RDAPS/Dew/',num2str(yr),'/kor_D_',yr_doy_utc],'D')\n",
    "    save([path_kor,'RDAPS/RH/',num2str(yr),'/kor_RH_',yr_doy_utc],'RH')\n",
    "    save([path_kor,'RDAPS/Uwind/',num2str(yr),'/kor_U_',yr_doy_utc],'U')\n",
    "    save([path_kor,'RDAPS/Vwind/',num2str(yr),'/kor_V_',yr_doy_utc],'V')\n",
    "    save([path_kor,'RDAPS/MaxWS/',num2str(yr),'/kor_maxWS_',yr_doy_utc],'maxWS')\n",
    "    save([path_kor,'RDAPS/Pressure/',num2str(yr),'/kor_Pressure_srf_',yr_doy_utc],'P_srf')\n",
    "    save([path_kor,'RDAPS/PBLH/',num2str(yr),'/kor_PBLH_',yr_doy_utc],'PBLH')\n",
    "    save([path_kor,'RDAPS/Visibility/',num2str(yr),'/kor_Visibility_',yr_doy_utc],'Visibility')\n",
    "    save([path_kor,'RDAPS/Temp_surface/',num2str(yr),'/kor_Tsrf_',yr_doy_utc],'Tsrf')\n",
    "    save([path_kor,'RDAPS/Temp_max/',num2str(yr),'/kor_Tmax_',yr_doy_utc],'Tmax')\n",
    "    save([path_kor,'RDAPS/Temp_min/',num2str(yr),'/kor_Tmin_',yr_doy_utc],'Tmin')\n",
    "    save([path_kor,'RDAPS/FrictionalVelocity/',num2str(yr),'/kor_FrictionalVelocity_',yr_doy_utc],'FrictionalVelocity')\n",
    "    save([path_kor,'RDAPS/PotentialEnergy/',num2str(yr),'/kor_PotentialEnergy_',yr_doy_utc],'PotentialEnergy')\n",
    "    save([path_kor,'RDAPS/SurfaceRoughness/',num2str(yr),'/kor_SurfaceRoughness_',yr_doy_utc],'SurfaceRoughness')\n",
    "    save([path_kor,'RDAPS/LatentHeatFlux/',num2str(yr),'/kor_LatentHeatFlux_',yr_doy_utc],'LatentHeatFlux')\n",
    "    save([path_kor,'RDAPS/SpecificHumidity/',num2str(yr),'/kor_SpecificHumidity_',yr_doy_utc],'SpecificHumidity')\n",
    "    \n",
    "end\n",
    "\n",
    "%% 2016 0128-0214 18시 자료\n",
    "path_data = '/share/irisnas5/Data/';\n",
    "path_rdaps = '/share/irisnas7/RAW_DATA/UM/RDAPS/analysis/';\n",
    "path = '/share/irisnas5/Data/pre/RDAPS/';\n",
    "% addpath(genpath('/share/irisnas5/Data/matlab_func/'))\n",
    "% setup_nctoolbox\n",
    "\n",
    "yr=2016;\n",
    "\n",
    "% 변수 뽑기\n",
    "fname_list = {'r120v070ereaunish000.2016012818.gb2','r120v070ereaunish000.2016012918.gb2',...\n",
    "    'r120v070ereaunish000.2016013018.gb2','r120v070ereaunish000.2016013118.gb2',...\n",
    "    'r120v070ereaunish000.2016020118.gb2','r120v070ereaunish000.2016020218.gb2',...\n",
    "    'r120v070ereaunish000.2016020318.gb2','r120v070ereaunish000.2016020418.gb2',...\n",
    "    'r120v070ereaunish000.2016020518.gb2','r120v070ereaunish000.2016020618.gb2',...\n",
    "    'r120v070ereaunish000.2016020718.gb2','r120v070ereaunish000.2016020818.gb2',...\n",
    "    'r120v070ereaunish000.2016020918.gb2','r120v070ereaunish000.2016021018.gb2',...\n",
    "    'r120v070ereaunish000.2016021118.gb2','r120v070ereaunish000.2016021218.gb2',...\n",
    "    'r120v070ereaunish000.2016021318.gb2','r120v070ereaunish000.2016021418.gb2'};\n",
    "\n",
    "for k=1:18\n",
    "    rdaps = NaN(419,491,18);\n",
    "    rdaps_data = ncdataset([path_rdaps,'2016/',fname_list{k}]);\n",
    "    rdaps(:,:,1) = squeeze(rdaps_data.netcdf.findVariable('Temperature_height_above_ground').read().copyToNDJavaArray());\n",
    "    rdaps(:,:,2) = squeeze(rdaps_data.netcdf.findVariable('Dew-point_temperature_height_above_ground').read().copyToNDJavaArray());\n",
    "    rdaps(:,:,3) = squeeze(rdaps_data.netcdf.findVariable('Relative_humidity_height_above_ground').read().copyToNDJavaArray());\n",
    "    rdaps(:,:,4) = squeeze(rdaps_data.netcdf.findVariable('u-component_of_wind_height_above_ground').read().copyToNDJavaArray());\n",
    "    rdaps(:,:,5) = squeeze(rdaps_data.netcdf.findVariable('v-component_of_wind_height_above_ground').read().copyToNDJavaArray());\n",
    "    rdaps(:,:,6) = squeeze(rdaps_data.netcdf.findVariable('Maximum_wind_speed_height_above_ground_3_Hour_Maximum').read().copyToNDJavaArray());\n",
    "    rdaps(:,:,7) = squeeze(rdaps_data.netcdf.findVariable('Pressure_surface').read().copyToNDJavaArray());\n",
    "    rdaps(:,:,8) = squeeze(rdaps_data.netcdf.findVariable('Planetary_boundary_layer_height_UnknownLevelType-220').read().copyToNDJavaArray());\n",
    "    rdaps(:,:,9) = squeeze(rdaps_data.netcdf.findVariable('Visibility_height_above_ground').read().copyToNDJavaArray());\n",
    "    rdaps(:,:,10) = squeeze(rdaps_data.netcdf.findVariable('Temperature_surface').read().copyToNDJavaArray());\n",
    "    rdaps(:,:,11) = squeeze(rdaps_data.netcdf.findVariable('Maximum_temperature_height_above_ground_3_Hour_Maximum').read().copyToNDJavaArray());\n",
    "    rdaps(:,:,12) = squeeze(rdaps_data.netcdf.findVariable('Minimum_temperature_height_above_ground_3_Hour_Minimum').read().copyToNDJavaArray());\n",
    "    rdaps(:,:,13) = squeeze(rdaps_data.netcdf.findVariable('Total_precipitation_surface_3_Hour_Accumulation').read().copyToNDJavaArray());\n",
    "    rdaps(:,:,14) = squeeze(rdaps_data.netcdf.findVariable('Frictional_velocity_height_above_ground').read().copyToNDJavaArray());\n",
    "    rdaps(:,:,15) = squeeze(rdaps_data.netcdf.findVariable('Convective_available_potential_energy_surface_layer_3_Hour_Maximum').read().copyToNDJavaArray());\n",
    "    rdaps(:,:,16) = squeeze(rdaps_data.netcdf.findVariable('Surface_roughness_surface').read().copyToNDJavaArray());\n",
    "    rdaps(:,:,17) = squeeze(rdaps_data.netcdf.findVariable('Latent_heat_net_flux_surface_3_Hour_Average').read().copyToNDJavaArray());\n",
    "    rdaps(:,:,18) = squeeze(rdaps_data.netcdf.findVariable('Specific_humidity_height_above_ground').read().copyToNDJavaArray());\n",
    "    \n",
    "    fname_save = ['RDAPS_2016_',num2str(k+27,'%03i'),'_18.mat'];\n",
    "    save([path,'2016/',fname_save],'rdaps')\n",
    "end\n",
    "\n",
    "\n",
    "%% linear interpolation\n",
    "cd([path, '2016'])\n",
    "\n",
    "for doy=28:45\n",
    "    data12=importdata([path,'2016/RDAPS_2016_',num2str(doy,'%03i'),'_12.mat']);\n",
    "    data18=importdata([path,'2016/RDAPS_2016_',num2str(doy,'%03i'),'_18.mat']);\n",
    "    data24=importdata([path,'2016/RDAPS_2016_',num2str(doy+1,'%03i'),'_00.mat']);\n",
    "    \n",
    "    for j=1:5\n",
    "        rdaps = (data18 - data12).*(j/6) + data12; % 13 to 17 UTC\n",
    "        save(['RDAPS_2016_',num2str(doy,'%03i'),'_',num2str(j+12,'%02i')],'rdaps');\n",
    "        rdaps = (data24 - data18).*(j/6) + data18; % 19 to 23 UTC\n",
    "        save(['RDAPS_2016_',num2str(doy,'%03i'),'_',num2str(j+18,'%02i')],'rdaps');\n",
    "    end\n",
    "    disp(doy)\n",
    "end\n",
    "\n",
    "%%\n",
    "\n",
    "path_kor='/share/irisnas5/Data/Korea/';\n",
    "path_EA='/share/irisnas5/Data/EA_GOCI6km/';\n",
    "\n",
    "for doy=28:45\n",
    "    for utc=13:23\n",
    "        yr_doy_utc = ['2016_',num2str(doy,'%03i'),'_',num2str(utc,'%02i')];\n",
    "        load(['RDAPS_',yr_doy_utc])\n",
    "        T_org = rdaps(:,:,1); % 'Temperature_height_above_ground'\n",
    "        D_org = rdaps(:,:,2); % 'Dew-point_temperature_height_above_ground'\n",
    "        RH_org = rdaps(:,:,3); % 'Relative_humidity_height_above_ground'\n",
    "        U_org = rdaps(:,:,4); % 'u-component_of_wind_height_above_ground'\n",
    "        V_org = rdaps(:,:,5); % 'v-component_of_wind_height_above_ground'\n",
    "        maxWS_org = rdaps(:,:,6); % 'Maximum_wind_speed_height_above_ground_3_Hour_Maximum'\n",
    "        P_srf_org = rdaps(:,:,7); % 'Pressure_surface'\n",
    "        PBLH_org = rdaps(:,:,8); % 'Planetary_boundary_layer_height_UnknownLevelType-220'\n",
    "        Visibility_org = rdaps(:,:,9); % 'Visibility_height_above_ground'\n",
    "        Tsrf_org = rdaps(:,:,10); % 'Temperature_surface'\n",
    "        Tmax_org = rdaps(:,:,11); % 'Maximum_temperature_height_above_ground_3_Hour_Maximum'\n",
    "        Tmin_org = rdaps(:,:,12); % 'Minimum_temperature_height_above_ground_3_Hour_Minimum'\n",
    "        AP3h_org = rdaps(:,:,13); % 'Total_precipitation_surface_3_Hour_Accumulation'\n",
    "        FrictionalVelocity_org = rdaps(:,:,14); % 'Frictional_velocity_height_above_ground'\n",
    "        PotentialEnergy_org = rdaps(:,:,15); % 'Convective_available_potential_energy_surface_layer_3_Hour_Maximum')\n",
    "        SurfaceRoughness_org = rdaps(:,:,16); % 'Surface_roughness_surface'\n",
    "        LatentHeatFlux_org = rdaps(:,:,17); % 'Latent_heat_net_flux_surface_3_Hour_Average'\n",
    "        SpecificHumidity_org = rdaps(:,:,18); % 'Specific_humidity_height_above_ground'\n",
    "        \n",
    "        T = griddata(lon_rdaps,lat_rdaps,T_org,lon_goci,lat_goci,'linear') -273.15;\n",
    "        D = griddata(lon_rdaps,lat_rdaps,D_org,lon_goci,lat_goci,'linear') -273.15;\n",
    "        RH = griddata(lon_rdaps,lat_rdaps,RH_org,lon_goci,lat_goci,'linear');\n",
    "        U = griddata(lon_rdaps,lat_rdaps,U_org,lon_goci,lat_goci,'linear');\n",
    "        V = griddata(lon_rdaps,lat_rdaps,V_org,lon_goci,lat_goci,'linear');\n",
    "        maxWS = griddata(lon_rdaps,lat_rdaps,maxWS_org,lon_goci,lat_goci,'linear');\n",
    "        P_srf = griddata(lon_rdaps,lat_rdaps,P_srf_org,lon_goci,lat_goci,'linear');\n",
    "        PBLH = griddata(lon_rdaps,lat_rdaps,PBLH_org,lon_goci,lat_goci,'linear');\n",
    "        Visibility = griddata(lon_rdaps,lat_rdaps,Visibility_org,lon_goci,lat_goci,'linear');\n",
    "        Tsrf = griddata(lon_rdaps,lat_rdaps,Tsrf_org,lon_goci,lat_goci,'linear') - 273.15;\n",
    "        Tmax = griddata(lon_rdaps,lat_rdaps,Tmax_org,lon_goci,lat_goci,'linear') - 273.15;\n",
    "        Tmin = griddata(lon_rdaps,lat_rdaps,Tmin_org,lon_goci,lat_goci,'linear') - 273.15;\n",
    "        AP3h = griddata(lon_rdaps,lat_rdaps,AP3h_org,lon_goci,lat_goci,'linear');\n",
    "        FrictionalVelocity = griddata(lon_rdaps,lat_rdaps,FrictionalVelocity_org,lon_goci,lat_goci,'linear');\n",
    "        PotentialEnergy = griddata(lon_rdaps,lat_rdaps,PotentialEnergy_org,lon_goci,lat_goci,'linear');\n",
    "        SurfaceRoughness = griddata(lon_rdaps,lat_rdaps,SurfaceRoughness_org,lon_goci,lat_goci,'linear');\n",
    "        LatentHeatFlux = griddata(lon_rdaps,lat_rdaps,LatentHeatFlux_org,lon_goci,lat_goci,'linear');\n",
    "        SpecificHumidity = griddata(lon_rdaps,lat_rdaps,SpecificHumidity_org,lon_goci,lat_goci,'linear');\n",
    "        \n",
    "        save([path_EA,'RDAPS/Temp/',num2str(yr),'/EA6km_T_',yr_doy_utc],'T')\n",
    "        save([path_EA,'RDAPS/Dew/',num2str(yr),'/EA6km_D_',yr_doy_utc],'D')\n",
    "        save([path_EA,'RDAPS/RH/',num2str(yr),'/EA6km_RH_',yr_doy_utc],'RH')\n",
    "        save([path_EA,'RDAPS/Uwind/',num2str(yr),'/EA6km_U_',yr_doy_utc],'U')\n",
    "        save([path_EA,'RDAPS/Vwind/',num2str(yr),'/EA6km_V_',yr_doy_utc],'V')\n",
    "        save([path_EA,'RDAPS/MaxWS/',num2str(yr),'/EA6km_maxWS_',yr_doy_utc],'maxWS')\n",
    "        save([path_EA,'RDAPS/Pressure/',num2str(yr),'/EA6km_Pressure_srf_',yr_doy_utc],'P_srf')\n",
    "        save([path_EA,'RDAPS/PBLH/',num2str(yr),'/EA6km_PBLH_',yr_doy_utc],'PBLH')\n",
    "        save([path_EA,'RDAPS/Visibility/',num2str(yr),'/EA6km_Visibility_',yr_doy_utc],'Visibility')\n",
    "        save([path_EA,'RDAPS/Temp_surface/',num2str(yr),'/EA6km_Tsrf_',yr_doy_utc],'Tsrf')\n",
    "        save([path_EA,'RDAPS/Temp_max/',num2str(yr),'/EA6km_Tmax_',yr_doy_utc],'Tmax')\n",
    "        save([path_EA,'RDAPS/Temp_min/',num2str(yr),'/EA6km_Tmin_',yr_doy_utc],'Tmin')\n",
    "        save([path_EA,'RDAPS/AP3h/',num2str(yr),'/EA6km_AP3h_',yr_doy_utc],'AP3h')\n",
    "        save([path_EA,'RDAPS/FrictionalVelocity/',num2str(yr),'/EA6km_FrictionalVelocity_',yr_doy_utc],'FrictionalVelocity')\n",
    "        save([path_EA,'RDAPS/PotentialEnergy/',num2str(yr),'/EA6km_PotentialEnergy_',yr_doy_utc],'PotentialEnergy')\n",
    "        save([path_EA,'RDAPS/SurfaceRoughness/',num2str(yr),'/EA6km_SurfaceRoughness_',yr_doy_utc],'SurfaceRoughness')\n",
    "        save([path_EA,'RDAPS/LatentHeatFlux/',num2str(yr),'/EA6km_LatentHeatFlux_',yr_doy_utc],'LatentHeatFlux')\n",
    "        save([path_EA,'RDAPS/SpecificHumidity/',num2str(yr),'/EA6km_SpecificHumidity_',yr_doy_utc],'SpecificHumidity')\n",
    "        \n",
    "        T = griddata(lon_rdaps,lat_rdaps,T_org,lon_kor,lat_kor,'linear') -273.15;\n",
    "        D = griddata(lon_rdaps,lat_rdaps,D_org,lon_kor,lat_kor,'linear') -273.15;\n",
    "        RH = griddata(lon_rdaps,lat_rdaps,RH_org,lon_kor,lat_kor,'linear');\n",
    "        U = griddata(lon_rdaps,lat_rdaps,U_org,lon_kor,lat_kor,'linear');\n",
    "        V = griddata(lon_rdaps,lat_rdaps,V_org,lon_kor,lat_kor,'linear');\n",
    "        maxWS = griddata(lon_rdaps,lat_rdaps,maxWS_org,lon_kor,lat_kor,'linear');\n",
    "        P_srf = griddata(lon_rdaps,lat_rdaps,P_srf_org,lon_kor,lat_kor,'linear');\n",
    "        PBLH = griddata(lon_rdaps,lat_rdaps,PBLH_org,lon_kor,lat_kor,'linear');\n",
    "        Visibility = griddata(lon_rdaps,lat_rdaps,Visibility_org,lon_kor,lat_kor,'linear');\n",
    "        Tsrf = griddata(lon_rdaps,lat_rdaps,Tsrf_org,lon_kor,lat_kor,'linear') - 273.15;\n",
    "        Tmax = griddata(lon_rdaps,lat_rdaps,Tmax_org,lon_kor,lat_kor,'linear') - 273.15;\n",
    "        Tmin = griddata(lon_rdaps,lat_rdaps,Tmin_org,lon_kor,lat_kor,'linear') - 273.15;\n",
    "        FrictionalVelocity = griddata(lon_rdaps,lat_rdaps,FrictionalVelocity_org,lon_kor,lat_kor,'linear');\n",
    "        PotentialEnergy = griddata(lon_rdaps,lat_rdaps,PotentialEnergy_org,lon_kor,lat_kor,'linear');\n",
    "        SurfaceRoughness = griddata(lon_rdaps,lat_rdaps,SurfaceRoughness_org,lon_kor,lat_kor,'linear');\n",
    "        LatentHeatFlux = griddata(lon_rdaps,lat_rdaps,LatentHeatFlux_org,lon_kor,lat_kor,'linear');\n",
    "        SpecificHumidity = griddata(lon_rdaps,lat_rdaps,SpecificHumidity_org,lon_kor,lat_kor,'linear');\n",
    "        \n",
    "        save([path_kor,'RDAPS/Temp/',num2str(yr),'/kor_T_',yr_doy_utc],'T')\n",
    "        save([path_kor,'RDAPS/Dew/',num2str(yr),'/kor_D_',yr_doy_utc],'D')\n",
    "        save([path_kor,'RDAPS/RH/',num2str(yr),'/kor_RH_',yr_doy_utc],'RH')\n",
    "        save([path_kor,'RDAPS/Uwind/',num2str(yr),'/kor_U_',yr_doy_utc],'U')\n",
    "        save([path_kor,'RDAPS/Vwind/',num2str(yr),'/kor_V_',yr_doy_utc],'V')\n",
    "        save([path_kor,'RDAPS/MaxWS/',num2str(yr),'/kor_maxWS_',yr_doy_utc],'maxWS')\n",
    "        save([path_kor,'RDAPS/Pressure/',num2str(yr),'/kor_Pressure_srf_',yr_doy_utc],'P_srf')\n",
    "        save([path_kor,'RDAPS/PBLH/',num2str(yr),'/kor_PBLH_',yr_doy_utc],'PBLH')\n",
    "        save([path_kor,'RDAPS/Visibility/',num2str(yr),'/kor_Visibility_',yr_doy_utc],'Visibility')\n",
    "        save([path_kor,'RDAPS/Temp_surface/',num2str(yr),'/kor_Tsrf_',yr_doy_utc],'Tsrf')\n",
    "        save([path_kor,'RDAPS/Temp_max/',num2str(yr),'/kor_Tmax_',yr_doy_utc],'Tmax')\n",
    "        save([path_kor,'RDAPS/Temp_min/',num2str(yr),'/kor_Tmin_',yr_doy_utc],'Tmin')\n",
    "        save([path_kor,'RDAPS/FrictionalVelocity/',num2str(yr),'/kor_FrictionalVelocity_',yr_doy_utc],'FrictionalVelocity')\n",
    "        save([path_kor,'RDAPS/PotentialEnergy/',num2str(yr),'/kor_PotentialEnergy_',yr_doy_utc],'PotentialEnergy')\n",
    "        save([path_kor,'RDAPS/SurfaceRoughness/',num2str(yr),'/kor_SurfaceRoughness_',yr_doy_utc],'SurfaceRoughness')\n",
    "        save([path_kor,'RDAPS/LatentHeatFlux/',num2str(yr),'/kor_LatentHeatFlux_',yr_doy_utc],'LatentHeatFlux')\n",
    "        save([path_kor,'RDAPS/SpecificHumidity/',num2str(yr),'/kor_SpecificHumidity_',yr_doy_utc],'SpecificHumidity')\n",
    "        disp(yr_doy_utc)\n",
    "    end\n",
    "    disp(doy)\n",
    "end\n"
   ]
  },
  {
   "cell_type": "code",
   "execution_count": null,
   "metadata": {},
   "outputs": [],
   "source": []
  },
  {
   "cell_type": "code",
   "execution_count": null,
   "metadata": {},
   "outputs": [],
   "source": []
  },
  {
   "cell_type": "code",
   "execution_count": null,
   "metadata": {},
   "outputs": [],
   "source": []
  },
  {
   "cell_type": "code",
   "execution_count": null,
   "metadata": {},
   "outputs": [],
   "source": []
  }
 ],
 "metadata": {
  "kernelspec": {
   "display_name": "Python 3",
   "language": "python",
   "name": "python3"
  },
  "language_info": {
   "codemirror_mode": {
    "name": "ipython",
    "version": 3
   },
   "file_extension": ".py",
   "mimetype": "text/x-python",
   "name": "python",
   "nbconvert_exporter": "python",
   "pygments_lexer": "ipython3",
   "version": "3.7.3"
  }
 },
 "nbformat": 4,
 "nbformat_minor": 2
}
