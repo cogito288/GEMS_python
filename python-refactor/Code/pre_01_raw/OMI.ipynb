{
 "cells": [
  {
   "cell_type": "markdown",
   "metadata": {},
   "source": [
    "# OMI_01_timeseries_mat.m"
   ]
  },
  {
   "cell_type": "code",
   "execution_count": 1,
   "metadata": {},
   "outputs": [],
   "source": [
    "import numpy as np"
   ]
  },
  {
   "cell_type": "code",
   "execution_count": 2,
   "metadata": {},
   "outputs": [],
   "source": [
    "import h5py"
   ]
  },
  {
   "cell_type": "code",
   "execution_count": 2,
   "metadata": {},
   "outputs": [],
   "source": [
    "### Package Import\n",
    "import sys\n",
    "import os\n",
    "base_dir = os.environ['GEMS_HOME']\n",
    "project_path = os.path.join(base_dir, 'python-refactor')\n",
    "sys.path.insert(0, project_path)\n",
    "\n",
    "from Code.utils import matlab\n",
    "#from Code.utils import helpers\n",
    "\n",
    "import scipy.io as sio\n",
    "import numpy as np\n",
    "import glob\n",
    "import time\n",
    "from scipy.spatial import Delaunay"
   ]
  },
  {
   "cell_type": "code",
   "execution_count": null,
   "metadata": {},
   "outputs": [],
   "source": []
  },
  {
   "cell_type": "code",
   "execution_count": 72,
   "metadata": {},
   "outputs": [
    {
     "ename": "ValueError",
     "evalue": "Index (366) out of range (0-365)",
     "output_type": "error",
     "traceback": [
      "\u001b[0;31m---------------------------------------------------------------------------\u001b[0m",
      "\u001b[0;31mValueError\u001b[0m                                Traceback (most recent call last)",
      "\u001b[0;32m<ipython-input-72-6ebcbedf7d13>\u001b[0m in \u001b[0;36m<module>\u001b[0;34m\u001b[0m\n\u001b[1;32m     53\u001b[0m             \u001b[0mdata\u001b[0m\u001b[0;34m[\u001b[0m\u001b[0mdata\u001b[0m\u001b[0;34m<=\u001b[0m\u001b[0;34m-\u001b[0m\u001b[0;36m1.2676506e+30\u001b[0m\u001b[0;34m]\u001b[0m \u001b[0;34m=\u001b[0m \u001b[0mnp\u001b[0m\u001b[0;34m.\u001b[0m\u001b[0mnan\u001b[0m \u001b[0;31m# Assign NaN value to pixel that is out of valid range\u001b[0m\u001b[0;34m\u001b[0m\u001b[0;34m\u001b[0m\u001b[0m\n\u001b[1;32m     54\u001b[0m             \u001b[0mdata\u001b[0m \u001b[0;34m=\u001b[0m \u001b[0mdata\u001b[0m \u001b[0;34m*\u001b[0m \u001b[0;36m3.7216e-17\u001b[0m                                   \u001b[0;31m# molec/cm2 to DU\u001b[0m\u001b[0;34m\u001b[0m\u001b[0;34m\u001b[0m\u001b[0m\n\u001b[0;32m---> 55\u001b[0;31m             \u001b[0mdata_yr\u001b[0m\u001b[0;34m[\u001b[0m\u001b[0;34m:\u001b[0m\u001b[0;34m,\u001b[0m \u001b[0mlist_doy\u001b[0m\u001b[0;34m[\u001b[0m\u001b[0mi\u001b[0m\u001b[0;34m]\u001b[0m\u001b[0;34m]\u001b[0m \u001b[0;34m=\u001b[0m \u001b[0mdata\u001b[0m\u001b[0;34m.\u001b[0m\u001b[0mflatten\u001b[0m\u001b[0;34m(\u001b[0m\u001b[0;34m)\u001b[0m \u001b[0;31m# Put daily data as column vector\u001b[0m\u001b[0;34m\u001b[0m\u001b[0;34m\u001b[0m\u001b[0m\n\u001b[0m\u001b[1;32m     56\u001b[0m             \u001b[0mprint\u001b[0m \u001b[0;34m(\u001b[0m\u001b[0;34mf'OMNO2d_{yr}_{list_doy[i]:03d}'\u001b[0m\u001b[0;34m)\u001b[0m\u001b[0;34m\u001b[0m\u001b[0;34m\u001b[0m\u001b[0m\n\u001b[1;32m     57\u001b[0m         \u001b[0mnp\u001b[0m\u001b[0;34m.\u001b[0m\u001b[0mwhere\u001b[0m\u001b[0;34m(\u001b[0m\u001b[0mnp\u001b[0m\u001b[0;34m.\u001b[0m\u001b[0misnan\u001b[0m\u001b[0;34m(\u001b[0m\u001b[0mdata_yr\u001b[0m\u001b[0;34m)\u001b[0m\u001b[0;34m,\u001b[0m \u001b[0;34m-\u001b[0m\u001b[0;36m9999\u001b[0m\u001b[0;34m,\u001b[0m \u001b[0mdata_yr\u001b[0m\u001b[0;34m)\u001b[0m \u001b[0;31m# data_yr(isnan(data_yr))=-9999;\u001b[0m\u001b[0;34m\u001b[0m\u001b[0;34m\u001b[0m\u001b[0m\n",
      "\u001b[0;32mh5py/_objects.pyx\u001b[0m in \u001b[0;36mh5py._objects.with_phil.wrapper\u001b[0;34m()\u001b[0m\n",
      "\u001b[0;32mh5py/_objects.pyx\u001b[0m in \u001b[0;36mh5py._objects.with_phil.wrapper\u001b[0;34m()\u001b[0m\n",
      "\u001b[0;32m~/GEMS_python/venv/lib/python3.6/site-packages/h5py/_hl/dataset.py\u001b[0m in \u001b[0;36m__setitem__\u001b[0;34m(self, args, val)\u001b[0m\n\u001b[1;32m    683\u001b[0m \u001b[0;34m\u001b[0m\u001b[0m\n\u001b[1;32m    684\u001b[0m         \u001b[0;31m# Perform the dataspace selection\u001b[0m\u001b[0;34m\u001b[0m\u001b[0;34m\u001b[0m\u001b[0;34m\u001b[0m\u001b[0m\n\u001b[0;32m--> 685\u001b[0;31m         \u001b[0mselection\u001b[0m \u001b[0;34m=\u001b[0m \u001b[0msel\u001b[0m\u001b[0;34m.\u001b[0m\u001b[0mselect\u001b[0m\u001b[0;34m(\u001b[0m\u001b[0mself\u001b[0m\u001b[0;34m.\u001b[0m\u001b[0mshape\u001b[0m\u001b[0;34m,\u001b[0m \u001b[0margs\u001b[0m\u001b[0;34m,\u001b[0m \u001b[0mdsid\u001b[0m\u001b[0;34m=\u001b[0m\u001b[0mself\u001b[0m\u001b[0;34m.\u001b[0m\u001b[0mid\u001b[0m\u001b[0;34m)\u001b[0m\u001b[0;34m\u001b[0m\u001b[0;34m\u001b[0m\u001b[0m\n\u001b[0m\u001b[1;32m    686\u001b[0m \u001b[0;34m\u001b[0m\u001b[0m\n\u001b[1;32m    687\u001b[0m         \u001b[0;32mif\u001b[0m \u001b[0mselection\u001b[0m\u001b[0;34m.\u001b[0m\u001b[0mnselect\u001b[0m \u001b[0;34m==\u001b[0m \u001b[0;36m0\u001b[0m\u001b[0;34m:\u001b[0m\u001b[0;34m\u001b[0m\u001b[0;34m\u001b[0m\u001b[0m\n",
      "\u001b[0;32m~/GEMS_python/venv/lib/python3.6/site-packages/h5py/_hl/selections.py\u001b[0m in \u001b[0;36mselect\u001b[0;34m(shape, args, dsid)\u001b[0m\n\u001b[1;32m     92\u001b[0m \u001b[0;34m\u001b[0m\u001b[0m\n\u001b[1;32m     93\u001b[0m     \u001b[0msel\u001b[0m \u001b[0;34m=\u001b[0m \u001b[0mSimpleSelection\u001b[0m\u001b[0;34m(\u001b[0m\u001b[0mshape\u001b[0m\u001b[0;34m)\u001b[0m\u001b[0;34m\u001b[0m\u001b[0;34m\u001b[0m\u001b[0m\n\u001b[0;32m---> 94\u001b[0;31m     \u001b[0msel\u001b[0m\u001b[0;34m[\u001b[0m\u001b[0margs\u001b[0m\u001b[0;34m]\u001b[0m\u001b[0;34m\u001b[0m\u001b[0;34m\u001b[0m\u001b[0m\n\u001b[0m\u001b[1;32m     95\u001b[0m     \u001b[0;32mreturn\u001b[0m \u001b[0msel\u001b[0m\u001b[0;34m\u001b[0m\u001b[0;34m\u001b[0m\u001b[0m\n\u001b[1;32m     96\u001b[0m \u001b[0;34m\u001b[0m\u001b[0m\n",
      "\u001b[0;32m~/GEMS_python/venv/lib/python3.6/site-packages/h5py/_hl/selections.py\u001b[0m in \u001b[0;36m__getitem__\u001b[0;34m(self, args)\u001b[0m\n\u001b[1;32m    259\u001b[0m             \u001b[0;32mreturn\u001b[0m \u001b[0mself\u001b[0m\u001b[0;34m\u001b[0m\u001b[0;34m\u001b[0m\u001b[0m\n\u001b[1;32m    260\u001b[0m \u001b[0;34m\u001b[0m\u001b[0m\n\u001b[0;32m--> 261\u001b[0;31m         \u001b[0mstart\u001b[0m\u001b[0;34m,\u001b[0m \u001b[0mcount\u001b[0m\u001b[0;34m,\u001b[0m \u001b[0mstep\u001b[0m\u001b[0;34m,\u001b[0m \u001b[0mscalar\u001b[0m \u001b[0;34m=\u001b[0m \u001b[0m_handle_simple\u001b[0m\u001b[0;34m(\u001b[0m\u001b[0mself\u001b[0m\u001b[0;34m.\u001b[0m\u001b[0mshape\u001b[0m\u001b[0;34m,\u001b[0m\u001b[0margs\u001b[0m\u001b[0;34m)\u001b[0m\u001b[0;34m\u001b[0m\u001b[0;34m\u001b[0m\u001b[0m\n\u001b[0m\u001b[1;32m    262\u001b[0m \u001b[0;34m\u001b[0m\u001b[0m\n\u001b[1;32m    263\u001b[0m         \u001b[0mself\u001b[0m\u001b[0;34m.\u001b[0m\u001b[0m_id\u001b[0m\u001b[0;34m.\u001b[0m\u001b[0mselect_hyperslab\u001b[0m\u001b[0;34m(\u001b[0m\u001b[0mstart\u001b[0m\u001b[0;34m,\u001b[0m \u001b[0mcount\u001b[0m\u001b[0;34m,\u001b[0m \u001b[0mstep\u001b[0m\u001b[0;34m)\u001b[0m\u001b[0;34m\u001b[0m\u001b[0;34m\u001b[0m\u001b[0m\n",
      "\u001b[0;32m~/GEMS_python/venv/lib/python3.6/site-packages/h5py/_hl/selections.py\u001b[0m in \u001b[0;36m_handle_simple\u001b[0;34m(shape, args)\u001b[0m\n\u001b[1;32m    464\u001b[0m         \u001b[0;32melse\u001b[0m\u001b[0;34m:\u001b[0m\u001b[0;34m\u001b[0m\u001b[0;34m\u001b[0m\u001b[0m\n\u001b[1;32m    465\u001b[0m             \u001b[0;32mtry\u001b[0m\u001b[0;34m:\u001b[0m\u001b[0;34m\u001b[0m\u001b[0;34m\u001b[0m\u001b[0m\n\u001b[0;32m--> 466\u001b[0;31m                 \u001b[0mx\u001b[0m\u001b[0;34m,\u001b[0m\u001b[0my\u001b[0m\u001b[0;34m,\u001b[0m\u001b[0mz\u001b[0m \u001b[0;34m=\u001b[0m \u001b[0m_translate_int\u001b[0m\u001b[0;34m(\u001b[0m\u001b[0mint\u001b[0m\u001b[0;34m(\u001b[0m\u001b[0marg\u001b[0m\u001b[0;34m)\u001b[0m\u001b[0;34m,\u001b[0m \u001b[0mlength\u001b[0m\u001b[0;34m)\u001b[0m\u001b[0;34m\u001b[0m\u001b[0;34m\u001b[0m\u001b[0m\n\u001b[0m\u001b[1;32m    467\u001b[0m                 \u001b[0ms\u001b[0m \u001b[0;34m=\u001b[0m \u001b[0;32mTrue\u001b[0m\u001b[0;34m\u001b[0m\u001b[0;34m\u001b[0m\u001b[0m\n\u001b[1;32m    468\u001b[0m             \u001b[0;32mexcept\u001b[0m \u001b[0mTypeError\u001b[0m\u001b[0;34m:\u001b[0m\u001b[0;34m\u001b[0m\u001b[0;34m\u001b[0m\u001b[0m\n",
      "\u001b[0;32m~/GEMS_python/venv/lib/python3.6/site-packages/h5py/_hl/selections.py\u001b[0m in \u001b[0;36m_translate_int\u001b[0;34m(exp, length)\u001b[0m\n\u001b[1;32m    484\u001b[0m \u001b[0;34m\u001b[0m\u001b[0m\n\u001b[1;32m    485\u001b[0m     \u001b[0;32mif\u001b[0m \u001b[0;32mnot\u001b[0m \u001b[0;36m0\u001b[0m\u001b[0;34m<=\u001b[0m\u001b[0mexp\u001b[0m\u001b[0;34m<\u001b[0m\u001b[0mlength\u001b[0m\u001b[0;34m:\u001b[0m\u001b[0;34m\u001b[0m\u001b[0;34m\u001b[0m\u001b[0m\n\u001b[0;32m--> 486\u001b[0;31m         \u001b[0;32mraise\u001b[0m \u001b[0mValueError\u001b[0m\u001b[0;34m(\u001b[0m\u001b[0;34m\"Index (%s) out of range (0-%s)\"\u001b[0m \u001b[0;34m%\u001b[0m \u001b[0;34m(\u001b[0m\u001b[0mexp\u001b[0m\u001b[0;34m,\u001b[0m \u001b[0mlength\u001b[0m\u001b[0;34m-\u001b[0m\u001b[0;36m1\u001b[0m\u001b[0;34m)\u001b[0m\u001b[0;34m)\u001b[0m\u001b[0;34m\u001b[0m\u001b[0;34m\u001b[0m\u001b[0m\n\u001b[0m\u001b[1;32m    487\u001b[0m \u001b[0;34m\u001b[0m\u001b[0m\n\u001b[1;32m    488\u001b[0m     \u001b[0;32mreturn\u001b[0m \u001b[0mexp\u001b[0m\u001b[0;34m,\u001b[0m \u001b[0;36m1\u001b[0m\u001b[0;34m,\u001b[0m \u001b[0;36m1\u001b[0m\u001b[0;34m\u001b[0m\u001b[0;34m\u001b[0m\u001b[0m\n",
      "\u001b[0;31mValueError\u001b[0m: Index (366) out of range (0-365)"
     ]
    }
   ],
   "source": [
    "### Package Import\n",
    "import sys\n",
    "import os\n",
    "base_dir = os.environ['GEMS_HOME']\n",
    "project_path = os.path.join(base_dir, 'python-refactor')\n",
    "sys.path.insert(0, project_path)\n",
    "\n",
    "from Code.utils import matlab\n",
    "#from Code.utils import helpers\n",
    "\n",
    "import scipy.io as sio\n",
    "import numpy as np\n",
    "import glob\n",
    "import time\n",
    "from scipy.spatial import Delaunay\n",
    "import h5py \n",
    "\n",
    "### Setting path\n",
    "omi_path = os.path.join(project_path, 'Data', 'Raw', 'OMI')\n",
    "data_path = os.path.join(project_path, 'Data',)\n",
    "# addpath(genpath([path_data,'/matlab_func/']))                     % Add the path of external function (matlab_func) folder with subfolders\n",
    "\n",
    "### Setting period\n",
    "YEARS = [2016] #, 2018, 2019\n",
    "\n",
    "def create_large_array(filename, size, isFillNan=True):\n",
    "    data = np.memmap(write_path, dtype='float64', mode='w+', shape=(1036800,days))\n",
    "    if isFillNan:\n",
    "        data[:] = np.nan\n",
    "    return data\n",
    "\n",
    "### OMNO2d\n",
    "for yr in YEARS:\n",
    "    curr_path = os.path.join(omi_path, 'L3', 'OMNO2d', str(yr))\n",
    "    list_char = glob.glob(os.path.join(curr_path, '*.he5'))\n",
    "    list_char = [os.path.basename(f) for f in list_char]\n",
    "    doy_000 = matlab.datenum(f'{yr}0000')\n",
    "    list_doy = [matlab.datenum(f'{x[19:23]}{x[24:28]}')-doy_000 for x in list_char]\n",
    "    if yr%4==0:\n",
    "        days = 366\n",
    "    else:\n",
    "        days = 365\n",
    "        \n",
    "    write_path = os.path.join(data_path, 'Preprocessed_raw', 'OMI_tempConv', f'OMNO2d_{yr}_DU.mat')\n",
    "    matlab.check_make_dir(os.path.join(data_path, 'Preprocessed_raw', 'OMI_tempConv')) # For debugging\n",
    "    size = (1036800, days)\n",
    "    with h5py.File(write_path, 'w') as f:\n",
    "        data_yr = f.create_dataset('data_yr', shape=size, fillvalue=np.nan)\n",
    "        for i in range(len(list_char)):\n",
    "            data = matlab.h5read(os.path.join(curr_path, list_char[i]), \n",
    "                                 '/HDFEOS/GRIDS/ColumnAmountNO2/Data Fields/ColumnAmountNO2TropCloudScreened')\n",
    "            data = np.float64(data); \n",
    "            data[data<=-1.2676506e+30] = np.nan # Assign NaN value to pixel that is out of valid range\n",
    "            data = data * 3.7216e-17                                   # molec/cm2 to DU\n",
    "            data_yr[:, list_doy[i]] = data.flatten() # Put daily data as column vector\n",
    "            print (f'OMNO2d_{yr}_{list_doy[i]:03d}')\n",
    "        np.where(np.isnan(data_yr), -9999, data_yr) # data_yr(isnan(data_yr))=-9999;\n",
    "        # header = [f'd{x:03d}' for x in range(1, days+1)] # Not used after\n",
    "    break"
   ]
  },
  {
   "cell_type": "code",
   "execution_count": 64,
   "metadata": {},
   "outputs": [],
   "source": [
    "def create_large_array(path, dataset, size, isFillNan=True):\n",
    "    with h5py.File(path, 'w') as f:\n",
    "        if isFillNan:\n",
    "            dst = f.create_dataset(dataset, shape=size, fillvalue=np.nan)\n",
    "        else:\n",
    "            dst = f.create_dataset(dataset, shape=size, dtype=np.float64)\n",
    "    return dst"
   ]
  },
  {
   "cell_type": "code",
   "execution_count": 23,
   "metadata": {},
   "outputs": [],
   "source": [
    "import h5py\n",
    "h5file = h5py.File(fname, 'w')"
   ]
  },
  {
   "cell_type": "code",
   "execution_count": 24,
   "metadata": {},
   "outputs": [
    {
     "data": {
      "text/plain": [
       "<HDF5 dataset \"data_yr\": shape (1036800, 366), type \"<f8\">"
      ]
     },
     "execution_count": 24,
     "metadata": {},
     "output_type": "execute_result"
    }
   ],
   "source": [
    "h5file.create_dataset('data_yr', shape=(1036800, days), dtype=np.float64)"
   ]
  },
  {
   "cell_type": "code",
   "execution_count": 59,
   "metadata": {},
   "outputs": [],
   "source": [
    "!rm test.mat"
   ]
  },
  {
   "cell_type": "code",
   "execution_count": 60,
   "metadata": {},
   "outputs": [],
   "source": [
    "h5file = h5py.File(fname, 'w')"
   ]
  },
  {
   "cell_type": "code",
   "execution_count": 61,
   "metadata": {},
   "outputs": [],
   "source": [
    "dst = h5file.create_dataset(\"myvideo\", shape=(1036800, days),\n",
    "                           fillvalue=np.nan)"
   ]
  },
  {
   "cell_type": "code",
   "execution_count": 63,
   "metadata": {},
   "outputs": [
    {
     "data": {
      "text/plain": [
       "array([nan, nan, nan, nan, nan, nan, nan, nan, nan, nan, nan, nan, nan,\n",
       "       nan, nan, nan, nan, nan, nan, nan, nan, nan, nan, nan, nan, nan,\n",
       "       nan, nan, nan, nan, nan, nan, nan, nan, nan, nan, nan, nan, nan,\n",
       "       nan, nan, nan, nan, nan, nan, nan, nan, nan, nan, nan, nan, nan,\n",
       "       nan, nan, nan, nan, nan, nan, nan, nan, nan, nan, nan, nan, nan,\n",
       "       nan, nan, nan, nan, nan, nan, nan, nan, nan, nan, nan, nan, nan,\n",
       "       nan, nan, nan, nan, nan, nan, nan, nan, nan, nan, nan, nan, nan,\n",
       "       nan, nan, nan, nan, nan, nan, nan, nan, nan, nan, nan, nan, nan,\n",
       "       nan, nan, nan, nan, nan, nan, nan, nan, nan, nan, nan, nan, nan,\n",
       "       nan, nan, nan, nan, nan, nan, nan, nan, nan, nan, nan, nan, nan,\n",
       "       nan, nan, nan, nan, nan, nan, nan, nan, nan, nan, nan, nan, nan,\n",
       "       nan, nan, nan, nan, nan, nan, nan, nan, nan, nan, nan, nan, nan,\n",
       "       nan, nan, nan, nan, nan, nan, nan, nan, nan, nan, nan, nan, nan,\n",
       "       nan, nan, nan, nan, nan, nan, nan, nan, nan, nan, nan, nan, nan,\n",
       "       nan, nan, nan, nan, nan, nan, nan, nan, nan, nan, nan, nan, nan,\n",
       "       nan, nan, nan, nan, nan, nan, nan, nan, nan, nan, nan, nan, nan,\n",
       "       nan, nan, nan, nan, nan, nan, nan, nan, nan, nan, nan, nan, nan,\n",
       "       nan, nan, nan, nan, nan, nan, nan, nan, nan, nan, nan, nan, nan,\n",
       "       nan, nan, nan, nan, nan, nan, nan, nan, nan, nan, nan, nan, nan,\n",
       "       nan, nan, nan, nan, nan, nan, nan, nan, nan, nan, nan, nan, nan,\n",
       "       nan, nan, nan, nan, nan, nan, nan, nan, nan, nan, nan, nan, nan,\n",
       "       nan, nan, nan, nan, nan, nan, nan, nan, nan, nan, nan, nan, nan,\n",
       "       nan, nan, nan, nan, nan, nan, nan, nan, nan, nan, nan, nan, nan,\n",
       "       nan, nan, nan, nan, nan, nan, nan, nan, nan, nan, nan, nan, nan,\n",
       "       nan, nan, nan, nan, nan, nan, nan, nan, nan, nan, nan, nan, nan,\n",
       "       nan, nan, nan, nan, nan, nan, nan, nan, nan, nan, nan, nan, nan,\n",
       "       nan, nan, nan, nan, nan, nan, nan, nan, nan, nan, nan, nan, nan,\n",
       "       nan, nan, nan, nan, nan, nan, nan, nan, nan, nan, nan, nan, nan,\n",
       "       nan, nan], dtype=float32)"
      ]
     },
     "execution_count": 63,
     "metadata": {},
     "output_type": "execute_result"
    }
   ],
   "source": [
    "dst[0]"
   ]
  },
  {
   "cell_type": "code",
   "execution_count": null,
   "metadata": {},
   "outputs": [],
   "source": []
  },
  {
   "cell_type": "code",
   "execution_count": 78,
   "metadata": {},
   "outputs": [
    {
     "data": {
      "text/plain": [
       "6"
      ]
     },
     "execution_count": 78,
     "metadata": {},
     "output_type": "execute_result"
    }
   ],
   "source": [
    "np.random.randint(10)"
   ]
  },
  {
   "cell_type": "code",
   "execution_count": 68,
   "metadata": {},
   "outputs": [],
   "source": [
    "!rm test.mat"
   ]
  },
  {
   "cell_type": "code",
   "execution_count": 69,
   "metadata": {},
   "outputs": [
    {
     "name": "stderr",
     "output_type": "stream",
     "text": [
      "/home/sehyun/GEMS_python/venv/lib/python3.6/site-packages/ipykernel_launcher.py:5: H5pyDeprecationWarning: The default file mode will change to 'r' (read-only) in h5py 3.0. To suppress this warning, pass the mode you need to h5py.File(), or set the global default h5.get_config().default_file_mode, or set the environment variable H5PY_DEFAULT_READONLY=1. Available modes are: 'r', 'r+', 'w', 'w-'/'x', 'a'. See the docs for details.\n",
      "  \"\"\"\n"
     ]
    }
   ],
   "source": [
    "import h5py\n",
    "import numpy as np\n",
    "\n",
    "# create an hdf5 file\n",
    "with h5py.File(\"test.mat\") as f:\n",
    "    # create a dataset for your movie\n",
    "    dst = f.create_dataset(\"myvideo\", shape=(10, 200, 200, 3),\n",
    "                           dtype=np.uint8)\n",
    "    # fill the 10 frames with a random image\n",
    "    for frame in range(10):\n",
    "        dst[frame] = np.random.randint(255, size=(200, 200, 3))"
   ]
  },
  {
   "cell_type": "code",
   "execution_count": null,
   "metadata": {},
   "outputs": [],
   "source": []
  },
  {
   "cell_type": "code",
   "execution_count": null,
   "metadata": {},
   "outputs": [],
   "source": []
  },
  {
   "cell_type": "code",
   "execution_count": 66,
   "metadata": {},
   "outputs": [],
   "source": [
    "h5file.close()"
   ]
  },
  {
   "cell_type": "code",
   "execution_count": 61,
   "metadata": {},
   "outputs": [
    {
     "data": {
      "text/plain": [
       "'test.mat'"
      ]
     },
     "execution_count": 61,
     "metadata": {},
     "output_type": "execute_result"
    }
   ],
   "source": [
    "fname"
   ]
  },
  {
   "cell_type": "code",
   "execution_count": 75,
   "metadata": {},
   "outputs": [
    {
     "name": "stdout",
     "output_type": "stream",
     "text": [
      "1.2M videos.mat\r\n"
     ]
    }
   ],
   "source": [
    "!ls videos.mat -sh"
   ]
  },
  {
   "cell_type": "code",
   "execution_count": null,
   "metadata": {},
   "outputs": [],
   "source": []
  },
  {
   "cell_type": "code",
   "execution_count": null,
   "metadata": {},
   "outputs": [],
   "source": []
  },
  {
   "cell_type": "code",
   "execution_count": null,
   "metadata": {},
   "outputs": [],
   "source": [
    "\n",
    "### OMSO2e\n",
    "for yr in YEARS:\n",
    "    os.chdir(os.path.join(omi_path, 'L3_grid', 'OMSO2e', str(yr)))\n",
    "    list_char = matlab.dir('.', '.he5')\n",
    "    doy_000 = datenum(f'{yr}0000')\n",
    "    list_doy = map(lambda x: x[19:23]+x[23:28]-doy_000, list_char)\n",
    "    if yr%4==0:\n",
    "        days = 366\n",
    "    else:\n",
    "        days = 365\n",
    "    \n",
    "    data_yr = np.full(1036800, np.nan)\n",
    "    for i in range(len(list_char)):\n",
    "        data = mathlab.h5read(list_char[i],'/HDFEOS/GRIDS/OMI Total Column Amount SO2/Data Fields/ColumnAmountSO2_PBL')\n",
    "        rcf = mathlab.h5read(list_char[i],'/HDFEOS/GRIDS/OMI Total Column Amount SO2/Data Fields/RadiativeCloudFraction')\n",
    "        sza = mathlab.h5read(list_char[i],'/HDFEOS/GRIDS/OMI Total Column Amount SO2/Data Fields/SolarZenithAngle')\n",
    "    \n",
    "        # Assign NaN value to pixel that is out of valid range\n",
    "        data = np.float64(data) # data[data<=-1.2676506e+30]=np.nan;\n",
    "        rcf = np.float64(rcf) # rcf[rcf<=-1.2676506e+30]=np.nan;\n",
    "        sza = np.float64[sza] # sza[sza<=-1.2676506e+30]=np.nan;\n",
    "        \n",
    "        # Filtering SO2_VCD with the condition of radiative cloud fraction and\n",
    "        # solar zenith angle\n",
    "        data2 = data;\n",
    "        data2[rcf>=0.3]=np.nan;\n",
    "        data2[sza>=78]=np.nan;\n",
    "        \n",
    "        data_yr[, list_doy(i)] = data2.flatten() # Put daily data as column vector\n",
    "        print (f'OMSO2e_m_{yr}_{list_doy[i]:03d}')\n",
    "    data_yr(isnan(data_yr))=-9999;\n",
    "    prefix = np.tile('d', [days, 1]) % prefix for header\n",
    "    header = map(lambda x: f'{x:03d}', prefix) # header = cellstr([prefix,num2str([1:days]','%03i')]);\n",
    "    sio.savemat(os.path.join(data_path, 'OMI_L3_tempConv', f'OMSO2d_{yr}_DU.mat'), mdict={'data_yr':data_yr})\n",
    "\n",
    "### OMDOAO3e\n",
    "for yr in YEARS:\n",
    "    tStart = time.time()\n",
    "    os.chdir(os.path.join(omi_path, 'L3_grid', 'OMDOAO3e', str(yr)))\n",
    "    list_char = matlab.dir('.', '.he5')\n",
    "    doy_000 = datenum(f'{yr}0000')\n",
    "    list_doy = map(lambda x: x[19:23]+x[23:28]-doy_000, list_char)\n",
    "    if yr%4==0:\n",
    "        days = 366\n",
    "    else:\n",
    "        days = 365\n",
    "    \n",
    "    data_yr = np.full(1036800, np.nan)\n",
    "    for i in range(len(list_char)):\n",
    "        data = mathlab.h5read(list_char[i],'/HDFEOS/GRIDS/ColumnAmountO3/Data Fields/ColumnAmountO3')\n",
    "        cf = mathlab.h5read(list_char[i],'/HDFEOS/GRIDS/ColumnAmountO3/Data Fields/CloudFraction')\n",
    "        sza = mathlab.h5read(list_char[i],'/HDFEOS/GRIDS/ColumnAmountO3/Data Fields/SolarZenithAngle')\n",
    "    \n",
    "        # Assign NaN value to pixel that is out of valid range\n",
    "        data = np.float64(data) # data[data<=-1.2676506e+30]=np.nan;\n",
    "        cf = np.float64(cf) # rcf[rcf<=-1.2676506e+30]=np.nan;\n",
    "        sza = np.float64[sza] # sza[sza<=-1.2676506e+30]=np.nan;\n",
    "        \n",
    "        # Filtering SO2_VCD with the condition of radiative cloud fraction and\n",
    "        # solar zenith angle\n",
    "        data2 = data;\n",
    "        data2[cf>=0.3]=np.nan;\n",
    "        data2[sza>=78]=np.nan;\n",
    "        \n",
    "        data_yr[, list_doy(i)] = data2.flatten() # Put daily data as column vector\n",
    "        print (f'OMDOAO3e_m_{yr}_{list_doy[i]:03d}')\n",
    "    data_yr(isnan(data_yr))=-9999;\n",
    "    prefix = np.tile('d', [days, 1]) % prefix for header\n",
    "    header = map(lambda x: f'{x:03d}', prefix) # header = cellstr([prefix,num2str([1:days]','%03i')]);\n",
    "    sio.savemat(os.path.join(data_path, 'OMI_L3_tempConv', f'OMSO2d_{yr}_DU.mat'), mdict={'data_yr':data_yr})\n",
    "    tElapsed = time.time() - tStart\n",
    "    print (f'{tElapsed} second')\n",
    "\n",
    "### OMHCHOG\n",
    "for yr in YEARS:\n",
    "    os.chdir(os.path.join(omi_path, 'L2_grid', 'OMHCHOG', str(yr)))\n",
    "    list_char = matlab.dir('.', '.he5')\n",
    "    doy_000 = datenum(f'{yr}0000')\n",
    "    list_doy = map(lambda x: x[19:23]+x[23:28]-doy_000, list_char)\n",
    "    if yr%4==0:\n",
    "        days = 366\n",
    "    else:\n",
    "        days = 365\n",
    "    \n",
    "    data_yr = np.full(1036800, np.nan)\n",
    "    for i in range(len(list_char)):\n",
    "        data = mathlab.h5read(list_char[i],'/HDFEOS/GRIDS/OMI Total Column Amount HCHO/Data Fields/ColumnAmountDestriped')\n",
    "        # Assign NaN value to pixel that is out of valid range\n",
    "        data = np.float64(matlab.permute(data,[2,1,3]))\n",
    "        data[data<=-1.0e+30] = np.nan\n",
    "        VCD = data * 3.7216e-17                                  # molec/cm2 to DU\n",
    "        \n",
    "        QA = matlab.h5read(list_char[i],'/HDFEOS/GRIDS/OMI Total Column Amount HCHO/Data Fields/MainDataQualityFlag')\n",
    "        QA = np.float64(permute(QA, [2,1,3]))\n",
    "        QA[QA<=-30000] = np.nan\n",
    "        \n",
    "        sza = matlab.h5read(list_char[i],'/HDFEOS/GRIDS/OMI Total Column Amount HCHO/Data Fields/SolarZenithAngle')\n",
    "        sza = np.float64(matlab.permute(sza,[2,1,3]))\n",
    "        sza[sza<=-1.0e+30] = np.nan\n",
    "        \n",
    "        VCD_filtered = np.zeros(VCD.shape)\n",
    "        for k in range(15):\n",
    "            VCD_temp = VCD[:,:,k]\n",
    "            QA_temp = QA[:,:,k]\n",
    "            sza_temp = sza[:,:,k]\n",
    "            \n",
    "            VCD_temp[QA_temp!=0] = np.nan #  Good columns (0) / Suspect columns (1) / Bad columns (2) / missing (<0)\n",
    "            VCD_temp[sza_temp>88] = np.nan\n",
    "            VCD_filtered[:,:,k] = VCD_temp\n",
    "        VCD_avg = np.nanmean(VCD_filtered, axis=2)\n",
    "        data_yr[, list_doy(i)] = VCD_avg.flatten() # Put daily data as column vector\n",
    "        print (f'OMHCHOG_{yr}_{list_doy[i]:03d}')\n",
    "        \n",
    "        if list_doy[i]%50==0:\n",
    "            data_sub = data_yr[:, list_doy[i]-48:list_doy[i]]\n",
    "            sio.savemat(os.path.join(data_path, 'pre', 'OMI_L3_tempConv', f'OMHCHOG_{yr}_{list_doy[i]:03d}.mat'), mdict={'data_sub':data_sub})\n",
    "    # Gathering part files\n",
    "    data_yr = []\n",
    "    for m in range(50, 350+1, 50):\n",
    "        data_sub = sio.loadmat(os.path.join(data_path, 'pre', 'OMI_L3_tempConv', f'OMHCHOG_{yr}_{list_doy[i]:03d}.mat'))\n",
    "        data_yr = np.concatenate((data_yr, data_sub), axis=1) # data_yr=[data_yr,data_sub];\n",
    "    data_sub = sio.loadmat(os.path.join(data_path, 'pre', 'OMI_L3_tempConv', f'OMHCHOG_{yr}_end.mat'))\n",
    "    data_yr = np.concatenate((data_yr, data_sub), axis=1)\n",
    "        \n",
    "    data_yr(isnan(data_yr))=-9999;\n",
    "    prefix = np.tile('d', [days, 1]) % prefix for header\n",
    "    header = map(lambda x: f'{x:03d}', prefix) # header = cellstr([prefix,num2str([1:days]','%03i')]);\n",
    "    sio.savemat(os.path.join(data_path, 'OMI_L3_tempConv', f'OMHCHOG_{yr}_DU.mat'), mdict={'data_yr':data_yr})"
   ]
  },
  {
   "cell_type": "markdown",
   "metadata": {},
   "source": [
    "# OMI_02_temporal_convolution_with_gaussian"
   ]
  },
  {
   "cell_type": "code",
   "execution_count": null,
   "metadata": {},
   "outputs": [],
   "source": [
    "### Package import\n",
    "import os\n",
    "import h5py\n",
    "import time\n",
    "import numpy as np\n",
    "\n",
    "### Common\n",
    "import sys\n",
    "project_path = 'C:\\\\Users\\\\user\\\\Downloads\\\\matlab2python\\\\matlab2python\\\\python-refactor'\n",
    "#project_path = '/home/cogito/Uncertainty/matlab2python/python-refactor'\n",
    "sys.path.insert(0, project_path)\n",
    "from Code.utils import matlab\n",
    "from Code.utils import helpers\n",
    "\n",
    "### Setting path\n",
    "data_path = os.path.join(project_path, 'Data')\n",
    "work_path = os.path.join(data_path, 'pre', 'OMI_L3_tempConv')\n",
    "# addpath(genpath([path_data,'/matlab_func/']))  % Add the path of external function (matlab_func) folder with subfolders\n",
    "\n",
    "pname_list = ['OMNO2d','OMSO2e_m','OMDOAO3e_m','OMHCHOG']\n",
    "\n",
    "mask = np.zeros((720, 1440))\n",
    "mask[340:552, 1020:1308] = 1\n",
    "mask = mask.flatten()\n",
    "\n",
    "\n",
    "### Temporal convolution with gaussian\n",
    "# for i in range(4):\n",
    "i = 3\n",
    "pname = pname_list[i]\n",
    "\n",
    "### Load data\n",
    "YEARS = range(2005, 2019+1)\n",
    "for yr in YEARS:\n",
    "    # data_yr = sio.loadmat(os.path.join(work_path, f'{pname}_{yr}.mat'))\n",
    "    data_yr = sio.loadmat(os.path.join(work_path, f'{pname}_trop_CS_{yr}_DU.mat'))\n",
    "    data_subset = data_yr[mask==1, :]\n",
    "    data = np.concatenate((data, data_subset), axis=1)\n",
    "data_org = data\n",
    "data[data==-9999] = np.nan\n",
    "sigma = 1\n",
    "data_conv = np.full(data.shape, np.nan)\n",
    "\n",
    "for k in range(data.shape[0]):\n",
    "    for t in range(5478): # for 15 years\n",
    "        w_sum = 0; x_sum = 0;\n",
    "        for n in range(5478): # for 15 years\n",
    "            if np.isnan(data[k,n])==0:\n",
    "                w = np.exp((-(k-n)**2)/(2*sigma**2)) #  calcuate weights using t,n(days) with sigma # (k+1)-(n-1)=k-n\n",
    "                x = data[k, n]*w\n",
    "                w_sum = w_sum+w\n",
    "                x_sum = x_sum+x\n",
    "        data_conv[k,t] = x_sum/w_sum\n",
    "    print (k)\n",
    "# sio.savemat(os.path.join(work_path, f'tempConv_{pname}_sigma_{sigma}_2005_2019.mat'), mdict={'data_conv':data_conv, 'data':data})\n",
    "sio.savemat(os.path.join(work_path, f'tempConv_{pname}_trop_CS_sigma{sigma}_2005_2019.mat'), mdict={'data_conv':data_conv, 'data':data})"
   ]
  }
 ],
 "metadata": {
  "kernelspec": {
   "display_name": "venv",
   "language": "python",
   "name": "venv"
  },
  "language_info": {
   "codemirror_mode": {
    "name": "ipython",
    "version": 3
   },
   "file_extension": ".py",
   "mimetype": "text/x-python",
   "name": "python",
   "nbconvert_exporter": "python",
   "pygments_lexer": "ipython3",
   "version": "3.6.8"
  }
 },
 "nbformat": 4,
 "nbformat_minor": 2
}
