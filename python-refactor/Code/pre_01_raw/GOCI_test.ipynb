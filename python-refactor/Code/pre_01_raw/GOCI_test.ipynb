{
 "cells": [
  {
   "cell_type": "markdown",
   "metadata": {},
   "source": [
    "# GOCI _ 01"
   ]
  },
  {
   "cell_type": "code",
   "execution_count": 1,
   "metadata": {},
   "outputs": [],
   "source": [
    "### Package Import\n",
    "import sys\n",
    "import os\n",
    "base_dir = os.environ['GEMS_HOME']\n",
    "project_path = os.path.join(base_dir, 'python-refactor')\n",
    "sys.path.insert(0, project_path)\n",
    "from Code.utils import matlab\n",
    "\n",
    "import scipy.io as sio\n",
    "import numpy as np\n",
    "import glob\n",
    "\n",
    "### Setting path\n",
    "data_base_dir = os.path.join('/', 'media', 'sf_GEMS', 'Data')\n",
    "raw_data_path = os.path.join(data_base_dir, 'Raw', 'GOCI_AOD') \n",
    "write_path = os.path.join(data_base_dir, 'Preprocessed_raw', 'GOCI_AOD')\n",
    "\n",
    "### Setting period\n",
    "YEARS = [2016] #, 2018, 2019]\n",
    "MONTHS = range(1, 12+1)"
   ]
  },
  {
   "cell_type": "code",
   "execution_count": 14,
   "metadata": {},
   "outputs": [
    {
     "name": "stderr",
     "output_type": "stream",
     "text": [
      "/home/sehyun/GEMS_python/venv/lib/python3.6/site-packages/ipykernel_launcher.py:33: RuntimeWarning: invalid value encountered in less\n",
      "/home/sehyun/GEMS_python/venv/lib/python3.6/site-packages/ipykernel_launcher.py:33: RuntimeWarning: invalid value encountered in greater\n",
      "/home/sehyun/GEMS_python/venv/lib/python3.6/site-packages/ipykernel_launcher.py:34: RuntimeWarning: invalid value encountered in less\n",
      "/home/sehyun/GEMS_python/venv/lib/python3.6/site-packages/ipykernel_launcher.py:34: RuntimeWarning: invalid value encountered in greater\n",
      "/home/sehyun/GEMS_python/venv/lib/python3.6/site-packages/ipykernel_launcher.py:35: RuntimeWarning: invalid value encountered in less\n",
      "/home/sehyun/GEMS_python/venv/lib/python3.6/site-packages/ipykernel_launcher.py:35: RuntimeWarning: invalid value encountered in greater\n",
      "/home/sehyun/GEMS_python/venv/lib/python3.6/site-packages/ipykernel_launcher.py:36: RuntimeWarning: invalid value encountered in less\n",
      "/home/sehyun/GEMS_python/venv/lib/python3.6/site-packages/ipykernel_launcher.py:36: RuntimeWarning: invalid value encountered in greater\n",
      "/home/sehyun/GEMS_python/venv/lib/python3.6/site-packages/ipykernel_launcher.py:37: RuntimeWarning: invalid value encountered in less\n",
      "/home/sehyun/GEMS_python/venv/lib/python3.6/site-packages/ipykernel_launcher.py:37: RuntimeWarning: invalid value encountered in greater\n",
      "/home/sehyun/GEMS_python/venv/lib/python3.6/site-packages/ipykernel_launcher.py:38: RuntimeWarning: invalid value encountered in less\n",
      "/home/sehyun/GEMS_python/venv/lib/python3.6/site-packages/ipykernel_launcher.py:38: RuntimeWarning: invalid value encountered in greater\n"
     ]
    },
    {
     "name": "stdout",
     "output_type": "stream",
     "text": [
      "2016_001_00.mat\n",
      "2016_001_01.mat\n",
      "2016_001_02.mat\n",
      "2016_001_03.mat\n",
      "2016_001_04.mat\n",
      "2016_001_05.mat\n",
      "2016_001_06.mat\n",
      "2016_001_07.mat\n",
      "2016_002_00.mat\n",
      "2016_002_01.mat\n",
      "2016_002_02.mat\n",
      "2016_002_03.mat\n",
      "2016_002_04.mat\n",
      "2016_002_05.mat\n",
      "2016_002_06.mat\n",
      "2016_003_00.mat\n",
      "2016_003_01.mat\n",
      "2016_003_02.mat\n",
      "2016_003_03.mat\n",
      "2016_003_04.mat\n",
      "2016_003_05.mat\n",
      "2016_003_06.mat\n",
      "2016_004_00.mat\n",
      "2016_004_01.mat\n",
      "2016_004_02.mat\n",
      "2016_004_03.mat\n",
      "2016_004_04.mat\n",
      "2016_004_05.mat\n",
      "2016_004_06.mat\n",
      "2016_004_07.mat\n",
      "2016_005_00.mat\n",
      "2016_005_01.mat\n",
      "2016_005_02.mat\n",
      "2016_005_03.mat\n",
      "2016_005_04.mat\n",
      "2016_005_05.mat\n",
      "2016_005_06.mat\n",
      "2016_006_00.mat\n",
      "2016_006_01.mat\n",
      "2016_006_02.mat\n",
      "2016_006_03.mat\n",
      "2016_006_04.mat\n",
      "2016_006_05.mat\n",
      "2016_006_06.mat\n",
      "2016_006_07.mat\n",
      "2016_007_00.mat\n",
      "2016_007_01.mat\n",
      "2016_007_02.mat\n",
      "2016_007_03.mat\n",
      "2016_007_04.mat\n",
      "1\n",
      "2016\n"
     ]
    }
   ],
   "source": [
    "for yr in YEARS:\n",
    "    doy_000 = matlab.datenum(f'{yr}0000')\n",
    "\n",
    "    for mm in MONTHS:\n",
    "        curr_path = os.path.join(raw_data_path, str(yr), f'{mm:02d}')\n",
    "        #os.chdir(curr_path)\n",
    "        \n",
    "        list_mm = glob.glob(os.path.join(curr_path, '*.hdf'))\n",
    "        list_mm = [os.path.basename(f) for f in list_mm]\n",
    "        doy = [matlab.datenum(x[23:31]) for x in list_mm]\n",
    "        list_doy = [d-doy_000 for d in doy]\n",
    "        list_utc = [int(x[31:33]) for x in list_mm]\n",
    "        \n",
    "        cnt = 0\n",
    "        for k, fname in enumerate(list_mm):\n",
    "            GOCI_aod = np.float64(matlab.hdfread(os.path.join(curr_path, fname),\\\n",
    "                                       'Aerosol_Optical_Depth_550nm'))\n",
    "            GOCI_fmf = np.float64(matlab.hdfread(os.path.join(curr_path, fname),\\\n",
    "                                      'Fine_Mode_Fraction_550nm'))\n",
    "            GOCI_ssa = np.float64(matlab.hdfread(os.path.join(curr_path, fname),\\\n",
    "                                      'Single_Scattering_Albedo_440nm'))\n",
    "            GOCI_ae = np.float64(matlab.hdfread(os.path.join(curr_path, fname),\\\n",
    "                                     'Angstrom_Exponent_440_870nm'))\n",
    "            GOCI_type = np.float64(matlab.hdfread(os.path.join(curr_path, fname),\\\n",
    "                                       'Aerosol_Type'))\n",
    "            GOCI_num_used_pixels = np.float64(matlab.hdfread(os.path.join(curr_path, fname),\\\n",
    "                                       'No_of_Used_500m_Pixels_for_One_6km_Product_Pixel'))\n",
    "            GOCI_ndvi = np.float64(matlab.hdfread(os.path.join(curr_path, fname),\\\n",
    "                                       'NDVI_from_TOA_Reflectance_660_865nm'))\n",
    "            GOCI_dai = np.float64(matlab.hdfread(os.path.join(curr_path, fname),\\\n",
    "                                      'Dust_Aerosol_Index_from_412_443nm'))\n",
    "            \n",
    "            GOCI_aod[(GOCI_aod<-0.05) | (GOCI_aod>3.6)] = np.nan\n",
    "            GOCI_fmf[(GOCI_fmf<0) | (GOCI_fmf>1)] = np.nan\n",
    "            GOCI_ssa[(GOCI_ssa<0) | (GOCI_ssa>1)] = np.nan\n",
    "            GOCI_ae[(GOCI_ae<0) | (GOCI_ae>3)] = np.nan\n",
    "            GOCI_type[(GOCI_type<0) | (GOCI_type>6)] = np.nan\n",
    "            GOCI_ndvi[(GOCI_ndvi<-1) | (GOCI_ndvi>1)] = np.nan\n",
    "            \n",
    "            fname_temp = f'{yr}_{list_doy[k]:03d}_{list_utc[k]:02d}.mat'\n",
    "            matlab.savemat(dirname=os.path.join(write_path, 'AOD', str(yr)),\n",
    "                       fname=f'GOCI_AOD_{fname_temp}',\n",
    "                       data={'GOCI_aod':GOCI_aod})\n",
    "            matlab.savemat(dirname=os.path.join(write_path, 'FMF', str(yr)),\n",
    "                       fname=f'GOCI_FMF_{fname_temp}',\n",
    "                       data={'GOCI_fmf':GOCI_fmf})\n",
    "            matlab.savemat(dirname=os.path.join(write_path, 'SSA', str(yr)),\n",
    "                       fname=f'GOCI_SSA_{fname_temp}',\n",
    "                       data={'GOCI_ssa':GOCI_ssa})\n",
    "            matlab.savemat(dirname=os.path.join(write_path, 'AE', str(yr)),\n",
    "                       fname=f'GOCI_AE_{fname_temp}',\n",
    "                       data={'GOCI_ae':GOCI_ae})\n",
    "            matlab.savemat(dirname=os.path.join(write_path, 'Type', str(yr)),\n",
    "                       fname=f'GOCI_Type_{fname_temp}',\n",
    "                       data={'GOCI_type':GOCI_type})\n",
    "            matlab.savemat(dirname=os.path.join(write_path, 'No_of_Used_500m_Pixels_for_One_6km_Product_Pixel', str(yr)),\n",
    "                       fname=f'GOCI_num_used_pixels_{fname_temp}',\n",
    "                       data={'GOCI_num_used_pixels':GOCI_num_used_pixels})\n",
    "            matlab.savemat(dirname=os.path.join(write_path, 'NDVI', str(yr)),\n",
    "                       fname=f'GOCI_NDVI_{fname_temp}',\n",
    "                       data={'GOCI_ndvi':GOCI_ndvi})\n",
    "            matlab.savemat(dirname=os.path.join(write_path, 'DAI', str(yr)),\n",
    "                       fname=f'GOCI_DAI_{fname_temp}',\n",
    "                       data={'GOCI_dai':GOCI_dai})\n",
    "            print (fname_temp)\n",
    "            cnt += 1\n",
    "            if cnt==50:\n",
    "                break\n",
    "        print (mm)\n",
    "        break\n",
    "    print (yr)\n",
    "    break"
   ]
  },
  {
   "cell_type": "markdown",
   "metadata": {},
   "source": [
    "# GOCI _ 02"
   ]
  },
  {
   "cell_type": "code",
   "execution_count": 15,
   "metadata": {},
   "outputs": [],
   "source": [
    "GOCI_aod = np.full([473, 463], np.nan)\n",
    "GOCI_fmf = np.full([473, 463], np.nan)\n",
    "GOCI_ssa = np.full([473, 463], np.nan)\n",
    "GOCI_ae = np.full([473, 463], np.nan)\n",
    "GOCI_type = np.full([473, 463], np.nan)\n",
    "GOCI_num_used_pixels = np.full([473, 463], np.nan)\n",
    "GOCI_ndvi = np.full([473, 463], np.nan)\n",
    "GOCI_dai = np.full([473, 463], np.nan)"
   ]
  },
  {
   "cell_type": "code",
   "execution_count": 17,
   "metadata": {},
   "outputs": [],
   "source": [
    "yr = 2016\n",
    "if yr%4==0: days = 366\n",
    "else: days = 365"
   ]
  },
  {
   "cell_type": "code",
   "execution_count": 167,
   "metadata": {},
   "outputs": [],
   "source": [
    "list_aod = glob.glob(os.path.join(write_path, 'AOD', str(yr), '*.mat'))\n",
    "list_aod = [os.path.basename(x) for x in list_aod]\n",
    "list_aod2 = [(int(x[14:17]), int(x[18:20])) for x in list_aod] # doy, utc \n",
    "num_utc = 8\n",
    "#list_doy = list(range(1, days+1))*num_utc #list_doy = np.tile(range(1,days+1),(num_utc,1))\n",
    "#list_utc = list(range(num_utc))*days # np.tile(range(num_utc),(1,days))\n",
    "#list_all = np.vstack((list_doy.T.flatten(), list_utc.flatten())).T\n",
    "\n",
    "list_doy = range(1, days+1)\n",
    "list_utc = range(num_utc)\n",
    "list_all = []\n",
    "for doy in list_doy:\n",
    "    for utc in list_utc:\n",
    "        list_all.append((doy, utc))\n",
    "list_all = np.asarray(list_all)\n",
    "\n",
    "list_aod2_to_index = [(doy-1)*num_utc+utc for doy, utc in list_aod2]\n",
    "all_index = set(list(range(len(list_all))))\n",
    "miss_index = list(all_index.difference(list_aod2_to_index))\n",
    "miss_list = list_all[miss_index]"
   ]
  },
  {
   "cell_type": "code",
   "execution_count": 170,
   "metadata": {
    "collapsed": true
   },
   "outputs": [
    {
     "name": "stderr",
     "output_type": "stream",
     "text": [
      "/home/sehyun/GEMS_python/venv/lib/python3.6/site-packages/hdf5storage/__init__.py:1306: H5pyDeprecationWarning: The default file mode will change to 'r' (read-only) in h5py 3.0. To suppress this warning, pass the mode you need to h5py.File(), or set the global default h5.get_config().default_file_mode, or set the environment variable H5PY_DEFAULT_READONLY=1. Available modes are: 'r', 'r+', 'w', 'w-'/'x', 'a'. See the docs for details.\n",
      "  f = h5py.File(filename)\n"
     ]
    },
    {
     "name": "stdout",
     "output_type": "stream",
     "text": [
      "2016_002_07.mat\n",
      "2016_003_07.mat\n",
      "2016_005_07.mat\n",
      "2016_007_05.mat\n",
      "2016_007_06.mat\n",
      "2016_007_07.mat\n",
      "2016_008_00.mat\n",
      "2016_008_01.mat\n",
      "2016_008_02.mat\n",
      "2016_008_03.mat\n",
      "2016_008_04.mat\n",
      "2016_008_05.mat\n",
      "2016_008_06.mat\n",
      "2016_008_07.mat\n",
      "2016_009_00.mat\n",
      "2016_009_01.mat\n",
      "2016_009_02.mat\n",
      "2016_009_03.mat\n",
      "2016_009_04.mat\n",
      "2016_009_05.mat\n",
      "2016_009_06.mat\n",
      "2016_009_07.mat\n",
      "2016_010_00.mat\n",
      "2016_010_01.mat\n",
      "2016_010_02.mat\n",
      "2016_010_03.mat\n",
      "2016_010_04.mat\n",
      "2016_010_05.mat\n",
      "2016_010_06.mat\n",
      "2016_010_07.mat\n",
      "2016_011_00.mat\n",
      "2016_011_01.mat\n",
      "2016_011_02.mat\n",
      "2016_011_03.mat\n",
      "2016_011_04.mat\n",
      "2016_011_05.mat\n",
      "2016_011_06.mat\n",
      "2016_011_07.mat\n",
      "2016_012_00.mat\n",
      "2016_012_01.mat\n",
      "2016_012_02.mat\n",
      "2016_012_03.mat\n",
      "2016_012_04.mat\n",
      "2016_012_05.mat\n",
      "2016_012_06.mat\n",
      "2016_012_07.mat\n",
      "2016_013_00.mat\n",
      "2016_013_01.mat\n",
      "2016_013_02.mat\n",
      "2016_013_03.mat\n",
      "2016\n"
     ]
    }
   ],
   "source": [
    "debugging_cnt = 0\n",
    "for doy, utc in miss_list:\n",
    "    fname_temp = f'{yr}_{doy:03d}_{utc:02d}.mat'\n",
    "    matlab.savemat(dirname=os.path.join(write_path, 'AOD', str(yr)),\n",
    "               fname=f'GOCI_AOD_{fname_temp}',\n",
    "               data={'GOCI_aod':GOCI_aod})\n",
    "    matlab.savemat(dirname=os.path.join(write_path, 'FMF', str(yr)),\n",
    "               fname=f'GOCI_FMF_{fname_temp}',\n",
    "               data={'GOCI_fmf':GOCI_fmf})\n",
    "    matlab.savemat(dirname=os.path.join(write_path, 'SSA', str(yr)),\n",
    "               fname=f'GOCI_SSA_{fname_temp}',\n",
    "               data={'GOCI_ssa':GOCI_ssa})\n",
    "    matlab.savemat(dirname=os.path.join(write_path, 'AE', str(yr)),\n",
    "               fname=f'GOCI_AE_{fname_temp}',\n",
    "               data={'GOCI_ae':GOCI_ae})\n",
    "    matlab.savemat(dirname=os.path.join(write_path, 'Type', str(yr)),\n",
    "               fname=f'GOCI_Type_{fname_temp}',\n",
    "               data={'GOCI_type':GOCI_type})\n",
    "    matlab.savemat(dirname=os.path.join(write_path, 'No_of_Used_500m_Pixels_for_One_6km_Product_Pixel', str(yr)),\n",
    "               fname=f'GOCI_num_used_pixels_{fname_temp}',\n",
    "               data={'GOCI_num_used_pixels':GOCI_num_used_pixels})\n",
    "    matlab.savemat(dirname=os.path.join(write_path, 'NDVI', str(yr)),\n",
    "               fname=f'GOCI_NDVI_{fname_temp}',\n",
    "               data={'GOCI_ndvi':GOCI_ndvi})\n",
    "    matlab.savemat(dirname=os.path.join(write_path, 'DAI', str(yr)),\n",
    "               fname=f'GOCI_DAI_{fname_temp}',\n",
    "               data={'GOCI_dai':GOCI_dai})\n",
    "    print (fname_temp)\n",
    "    debugging_cnt += 1\n",
    "    if debugging_cnt==50:\n",
    "        break\n",
    "print (yr)"
   ]
  },
  {
   "cell_type": "markdown",
   "metadata": {},
   "source": [
    "# GOCI_03"
   ]
  },
  {
   "cell_type": "code",
   "execution_count": 6,
   "metadata": {},
   "outputs": [],
   "source": [
    "import imp"
   ]
  },
  {
   "cell_type": "code",
   "execution_count": 7,
   "metadata": {},
   "outputs": [
    {
     "data": {
      "text/plain": [
       "<module 'Code.utils.matlab' from '/home/sehyun/GEMS_python/python-refactor/Code/utils/matlab.py'>"
      ]
     },
     "execution_count": 7,
     "metadata": {},
     "output_type": "execute_result"
    }
   ],
   "source": [
    "imp.reload(matlab)"
   ]
  },
  {
   "cell_type": "code",
   "execution_count": 2,
   "metadata": {},
   "outputs": [],
   "source": [
    "data_base_dir = os.path.join('/', 'media', 'sf_GEMS', 'Data')\n",
    "data_path = os.path.join(data_base_dir, 'Preprocessed_raw', 'GOCI_AOD') \n",
    "write_path = os.path.join(data_base_dir, 'Preprocessed_raw', 'GOCI_filtered')"
   ]
  },
  {
   "cell_type": "code",
   "execution_count": 3,
   "metadata": {},
   "outputs": [],
   "source": [
    "yr = 2016\n",
    "if yr%4==0: days = 366\n",
    "else: days = 365"
   ]
  },
  {
   "cell_type": "code",
   "execution_count": 4,
   "metadata": {},
   "outputs": [],
   "source": [
    "list_aod = glob.glob(os.path.join(data_path, 'AOD', str(yr), '*.mat'))\n",
    "list_aod = [os.path.basename(f) for f in list_aod]\n",
    "list_date = [x[9:20] for x in list_aod]"
   ]
  },
  {
   "cell_type": "code",
   "execution_count": 41,
   "metadata": {},
   "outputs": [],
   "source": [
    "import time"
   ]
  },
  {
   "cell_type": "code",
   "execution_count": 43,
   "metadata": {},
   "outputs": [
    {
     "name": "stderr",
     "output_type": "stream",
     "text": [
      "/home/sehyun/GEMS_python/venv/lib/python3.6/site-packages/ipykernel_launcher.py:30: RuntimeWarning: Degrees of freedom <= 0 for slice.\n",
      "/home/sehyun/GEMS_python/venv/lib/python3.6/site-packages/ipykernel_launcher.py:36: RuntimeWarning: invalid value encountered in greater\n"
     ]
    },
    {
     "name": "stdout",
     "output_type": "stream",
     "text": [
      "time taken: 44.23812913894653\n",
      "time taken: 44.24273896217346\n",
      "time taken: 44.74438524246216\n",
      "time taken: 45.73281717300415\n",
      "time taken: 44.89677715301514\n",
      "time taken: 41.88914680480957\n",
      "time taken: 43.806506395339966\n",
      "time taken: 43.7080557346344\n"
     ]
    },
    {
     "name": "stderr",
     "output_type": "stream",
     "text": [
      "/home/sehyun/GEMS_python/venv/lib/python3.6/site-packages/ipykernel_launcher.py:43: RuntimeWarning: All-NaN slice encountered\n",
      "/home/sehyun/GEMS_python/venv/lib/python3.6/site-packages/ipykernel_launcher.py:44: RuntimeWarning: All-NaN slice encountered\n",
      "/home/sehyun/GEMS_python/venv/lib/python3.6/site-packages/ipykernel_launcher.py:46: RuntimeWarning: invalid value encountered in greater\n"
     ]
    },
    {
     "ename": "NameError",
     "evalue": "name 'k' is not defined",
     "output_type": "error",
     "traceback": [
      "\u001b[0;31m---------------------------------------------------------------------------\u001b[0m",
      "\u001b[0;31mNameError\u001b[0m                                 Traceback (most recent call last)",
      "\u001b[0;32m<ipython-input-43-4b40ff036d61>\u001b[0m in \u001b[0;36m<module>\u001b[0;34m\u001b[0m\n\u001b[1;32m     46\u001b[0m     \u001b[0md_idx\u001b[0m \u001b[0;34m=\u001b[0m \u001b[0mdata_diff\u001b[0m \u001b[0;34m>\u001b[0m \u001b[0;36m0.74\u001b[0m\u001b[0;34m\u001b[0m\u001b[0;34m\u001b[0m\u001b[0m\n\u001b[1;32m     47\u001b[0m     \u001b[0mnan_filter\u001b[0m\u001b[0;34m[\u001b[0m\u001b[0;34m:\u001b[0m\u001b[0;34m,\u001b[0m \u001b[0;34m:\u001b[0m\u001b[0;34m,\u001b[0m \u001b[0;34m:\u001b[0m\u001b[0;34m,\u001b[0m \u001b[0;36m3\u001b[0m\u001b[0;34m]\u001b[0m \u001b[0;34m=\u001b[0m \u001b[0mnp\u001b[0m\u001b[0;34m.\u001b[0m\u001b[0mtile\u001b[0m\u001b[0;34m(\u001b[0m\u001b[0md_idx\u001b[0m\u001b[0;34m.\u001b[0m\u001b[0mT\u001b[0m\u001b[0;34m,\u001b[0m \u001b[0;34m(\u001b[0m\u001b[0;36m8\u001b[0m\u001b[0;34m,\u001b[0m\u001b[0;36m1\u001b[0m\u001b[0;34m,\u001b[0m\u001b[0;36m1\u001b[0m\u001b[0;34m)\u001b[0m\u001b[0;34m)\u001b[0m\u001b[0;34m.\u001b[0m\u001b[0mT\u001b[0m \u001b[0;31m#np.tile(d_idx, (1, 1, 8))\u001b[0m\u001b[0;34m\u001b[0m\u001b[0;34m\u001b[0m\u001b[0m\n\u001b[0;32m---> 48\u001b[0;31m     \u001b[0mfname\u001b[0m \u001b[0;34m=\u001b[0m \u001b[0;34mf'nan_filter_{yr}_{k:03d}.mat'\u001b[0m\u001b[0;34m\u001b[0m\u001b[0;34m\u001b[0m\u001b[0m\n\u001b[0m\u001b[1;32m     49\u001b[0m     \u001b[0mmatlab\u001b[0m\u001b[0;34m.\u001b[0m\u001b[0msavemat\u001b[0m\u001b[0;34m(\u001b[0m\u001b[0mos\u001b[0m\u001b[0;34m.\u001b[0m\u001b[0mpath\u001b[0m\u001b[0;34m.\u001b[0m\u001b[0mjoin\u001b[0m\u001b[0;34m(\u001b[0m\u001b[0mwrite_path\u001b[0m\u001b[0;34m,\u001b[0m \u001b[0;34m'nan_filter'\u001b[0m\u001b[0;34m)\u001b[0m\u001b[0;34m,\u001b[0m \u001b[0mfname\u001b[0m\u001b[0;34m,\u001b[0m \u001b[0;34m{\u001b[0m\u001b[0;34m'nan_filter'\u001b[0m\u001b[0;34m:\u001b[0m\u001b[0mnan_filter\u001b[0m\u001b[0;34m}\u001b[0m\u001b[0;34m)\u001b[0m\u001b[0;34m\u001b[0m\u001b[0;34m\u001b[0m\u001b[0m\n\u001b[1;32m     50\u001b[0m     \u001b[0mprint\u001b[0m \u001b[0;34m(\u001b[0m\u001b[0;34mf'Created {fname}'\u001b[0m\u001b[0;34m)\u001b[0m\u001b[0;34m\u001b[0m\u001b[0;34m\u001b[0m\u001b[0m\n",
      "\u001b[0;31mNameError\u001b[0m: name 'k' is not defined"
     ]
    }
   ],
   "source": [
    "num_utc = 8\n",
    "\n",
    "for doy in range(1, days+1):\n",
    "    nan_filter = np.zeros((473, 463, 8, 4))\n",
    "    data = np.full([473, 463, 8], np.nan)    \n",
    "    for utc in range(num_utc):\n",
    "        fname = os.path.join(data_path, 'AOD', \n",
    "                             str(yr), f'GOCI_AOD_{yr}_{doy:03d}_{utc:02d}.mat')\n",
    "        GOCI_aod = matlab.loadmat(fname)['GOCI_aod']\n",
    "        data[:, :, utc] = GOCI_aod\n",
    "        \n",
    "        fname = os.path.join(data_path, 'No_of_Used_500m_Pixels_for_One_6km_Product_Pixel', \n",
    "                             str(yr), f'GOCI_num_used_pixels_{yr}_{doy:03d}_{utc:02d}.mat')\n",
    "        GOCI_num_used_pixels = matlab.loadmat(fname)['GOCI_num_used_pixels']\n",
    "        \n",
    "        GOCI_aod_bfr = np.full([477, 467], np.nan) # buffer for 5x5 moving windows\n",
    "        GOCI_aod_bfr[2:-2, 2:-2] = GOCI_aod\n",
    "        \n",
    "        tStart = time.time()\n",
    "        for j in range(3, 465+1):\n",
    "            for i in range(3, 475+1):\n",
    "                box = GOCI_aod_bfr[i-3:i+2, j-3:j+2]\n",
    "                # 1. Buddy check: No. of available 5 x 5 pixels < 15\n",
    "                # → masking a center pixel\n",
    "                numnan = np.sum(np.isnan(box))\n",
    "                if numnan > 10:\n",
    "                    nan_filter[i-3, j-3, utc-1, 0] = 1\n",
    "                # 2. Local variance check : AOD variance of  5 x 5 pixels > 0.5\n",
    "                # → masking a center pixel\n",
    "                box_var = np.nanvar(box.flatten(), ddof=1)\n",
    "                if box_var > 0.5:\n",
    "                    nan_filter[i-3, j-3, utc-1, 0] = 1\n",
    "        # 3. Sub-pixel cloud fraction check: Cloud fraction of each 6 km resolution pixel > 0.25\n",
    "        # → masking a pixel\n",
    "        cf = np.divide((58 - GOCI_num_used_pixels), 58)\n",
    "        cf_idx = cf > 0.25\n",
    "        nan_filter[:, :, utc-1, 2] = cf_idx\n",
    "        tElapsed = time.time() - tStart\n",
    "        print (f'time taken: {tElapsed}')\n",
    "        \n",
    "    # 4. Diurnal variation check: (Maximum - Mininum) of AOD > 0.74\n",
    "    # → masking pixels\n",
    "    data_min = np.nanmin(data, axis=2)\n",
    "    data_max = np.nanmax(data, axis=2)\n",
    "    data_diff = data_max - data_min\n",
    "    d_idx = data_diff > 0.74\n",
    "    nan_filter[:, :, :, 3] = np.tile(d_idx.T, (8,1,1)).T #np.tile(d_idx, (1, 1, 8))\n",
    "    fname = f'nan_filter_{yr}_{k:03d}.mat'\n",
    "    matlab.savemat(os.path.join(write_path, 'nan_filter'), fname, {'nan_filter':nan_filter})\n",
    "    print (f'Created {fname}')\n",
    "    \n",
    "    break"
   ]
  },
  {
   "cell_type": "code",
   "execution_count": null,
   "metadata": {},
   "outputs": [],
   "source": [
    "li"
   ]
  }
 ],
 "metadata": {
  "kernelspec": {
   "display_name": "venv",
   "language": "python",
   "name": "venv"
  },
  "language_info": {
   "codemirror_mode": {
    "name": "ipython",
    "version": 3
   },
   "file_extension": ".py",
   "mimetype": "text/x-python",
   "name": "python",
   "nbconvert_exporter": "python",
   "pygments_lexer": "ipython3",
   "version": "3.6.8"
  }
 },
 "nbformat": 4,
 "nbformat_minor": 2
}
