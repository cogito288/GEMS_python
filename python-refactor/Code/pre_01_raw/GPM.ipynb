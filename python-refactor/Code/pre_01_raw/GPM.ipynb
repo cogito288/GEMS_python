{
 "cells": [
  {
   "cell_type": "code",
   "execution_count": 1,
   "metadata": {},
   "outputs": [],
   "source": [
    "import os"
   ]
  },
  {
   "cell_type": "code",
   "execution_count": 2,
   "metadata": {},
   "outputs": [
    {
     "data": {
      "text/plain": [
       "'C:\\\\Users\\\\user\\\\Downloads\\\\matlab2python\\\\matlab2python\\\\python-refactor\\\\Code\\\\pre_01_raw'"
      ]
     },
     "execution_count": 2,
     "metadata": {},
     "output_type": "execute_result"
    }
   ],
   "source": [
    "os.getcwd()"
   ]
  },
  {
   "cell_type": "code",
   "execution_count": 46,
   "metadata": {},
   "outputs": [
    {
     "data": {
      "text/plain": [
       "<module 'Code.utils.matlab' from 'C:\\\\Users\\\\user\\\\Downloads\\\\matlab2python\\\\matlab2python\\\\python-refactor\\\\Code\\\\utils\\\\matlab.py'>"
      ]
     },
     "execution_count": 46,
     "metadata": {},
     "output_type": "execute_result"
    }
   ],
   "source": [
    "import imp\n",
    "imp.reload(matlab)"
   ]
  },
  {
   "cell_type": "code",
   "execution_count": null,
   "metadata": {},
   "outputs": [],
   "source": [
    "### Package import\n",
    "import os\n",
    "import h5py\n",
    "\n",
    "### Common\n",
    "import sys\n",
    "import numpy as np\n",
    "project_path = 'C:\\\\Users\\\\user\\\\Downloads\\\\matlab2python\\\\matlab2python\\\\python-refactor'\n",
    "#project_path = '/home/cogito/Uncertainty/matlab2python/python-refactor'\n",
    "sys.path.insert(0, project_path)\n",
    "from Code.utils import matlab\n",
    "from Code.utils import helpers\n",
    "\n",
    "\n",
    "# Accumulated Precipitation : From the time in the day before To the time in the day\n",
    "\"\"\"\n",
    "% path_data = '//10.72.26.45/irisnas7/RAW_DATA/GPM/00raw/3IMERGHH/';\n",
    "% path = '//10.72.26.45/irisnas7/RAW_DATA/GPM/01mat/AP_24h_hourly/';\n",
    "path_data = '/share/irisnas7/RAW_DATA/GPM/00raw/3IMERGHH/';\n",
    "path = '/share/irisnas7/RAW_DATA/GPM/01mat/AP_24h_hourly/';\n",
    "\"\"\"\n",
    "### Path\n",
    "raw_data_path = os.path.join(project_path, 'Data', 'Raw', 'GPM', '3IMERGHH') \n",
    "write_path = os.path.join(project_path, 'Data', 'Prepreossed_raw', 'GPM', 'AP_24h_hourly')\n",
    "\n",
    "\"\"\"\n",
    "name = '2014/3B-HHR.MS.MRG.3IMERG.20141231-S000000-E002959.0000.V04A.HDF5'\n",
    "lat_gpm = matlab.h5read(os.path.join(raw_data_path, name), '/Grid/lat')\n",
    "lon_gpm = matlab.h5read(os.path.join(raw_data_path, name), '/Grid/lon')\n",
    "lat_gpm = np.float64(lat_gpm); lon_gpm = np.float64(lon_gpm)\n",
    "lat_gpm, lon_gpm = np.meshgrid(lat_gpm, lon_gpm)\n",
    "sio.savemat('grid_gpm.mat', mdict={'lon_gpm':lon_gpm, 'lat_gpm':lat_gpm})\n",
    "\"\"\"\n",
    "\n",
    "YEARS = [2014]\n",
    "for yr in YEARS:\n",
    "    os.chdir(raw_data_path)\n",
    "    list_gpm = matlab.dir(str(yr), '.HDF5')  # list_gpm = dir([num2str(yr),'/*/*.HDF5']);\n",
    "    doy_0 = matlab.datenum(str(yr-1)+'1231')\n",
    "    \n",
    "    # First day UTC 00\n",
    "    list_temp = list_gpm[:48]\n",
    "    doy = matlab.datenum(list_temp[0][21:29])-doy_0+1\n",
    "    gpm = np.zeros([1800, 3600, 48]) # lat 1800, lon 3600\n",
    "    for j in range(48):\n",
    "        gpm_temp = matlab.h5read(list_gpm[j], '/Grid/precipitationCal')\n",
    "        gpm_temp = np.float64(gpm_temp)\n",
    "        gpm_temp[gpm_temp<-9999] = np.nan\n",
    "        gpm[:,:,j] = gpm_temp\n",
    "    precip = np.nansum(gpm, axis=2)\n",
    "    precip = precip*0.5 #### 30분 자료인데, 단위는 hour 단위라서 0.5곱해줌\n",
    "    sio.savemat(os.path.join(write_path, str(yr), f'gpm_AP_{yr}_{doy:3d}_UTC00.mat'), mdict={'precip':precip})\n",
    "    \n",
    "    % For doy 001 UTC01 to doy 365(366) UTC23\n",
    "    % os.chdir(os.path.join(raw_data_path, str(yr)))\n",
    "    for aa in range(3, mathlab.length(list_gpm)-48+1, 2):\n",
    "        gpm = gpm[:,:,2:]\n",
    "        list_temp = list_gpm[aa+45:aa+47]\n",
    "        doy = matlab.datenum(list_gpm[aa][21:29])-doy0+1\n",
    "        UTC = list_gpm[aa][31:33]\n",
    "        for j in range(2):\n",
    "            gpm_temp = matlab.h5read(list_temp[j], '/Grid/precipitationCal')\n",
    "            gpm_temp = np.float64(gpm_temp)\n",
    "            gpm_temp[gpm_temp<-9999] = np.nan\n",
    "            gpm[:,:,j+46] = gpm_temp\n",
    "        precip = np.nansum(gpm, axis=2)\n",
    "        precip = precip*0.5 # 30분 자료인데, 단위는 hour 단위라서 0.5곱해줌\n",
    "        sio.savemat(os.path.join(write_path, str(yr), f'gpm_AP_{yr}_{doy:03d}_UTC{UTC}.mat'), mdict={'precip':precip})\n",
    "    print (year)\n",
    "\"\"\"\n",
    "% %%\n",
    "% for yr = 2018\n",
    "%     cd(path_data)\n",
    "%     list_gpm_a = dir([num2str(yr-1),'/12/*1231-*.HDF5']);\n",
    "%     list_gpm = dir([num2str(yr),'/*/*.HDF5']);\n",
    "%     list_gpm_f = [{list_gpm_a.folder}';{list_gpm.folder}'];\n",
    "%     list_gpm = [{list_gpm_a.name}';{list_gpm.name}'];\n",
    "%     \n",
    "%     doy0 = datenum([num2str(yr-1),'1231'],'yyyymmdd');\n",
    "%     \n",
    "%     % First day UTC 00\n",
    "%     list_temp = list_gpm(1:48);\n",
    "%     doy = datenum(list_temp{1}(22:29),'yyyymmdd')-doy0+1;\n",
    "%     gpm = zeros(1800,3600,48); %lat 1800, lon 3600\n",
    "%     \n",
    "%     for j=1:48\n",
    "%         gpm_temp = h5read([list_gpm_f{j},'/',list_temp{j}], '/Grid/precipitationCal');\n",
    "%         gpm_temp = double(gpm_temp);\n",
    "%         gpm_temp(gpm_temp<-9999)=nan;\n",
    "%         gpm(:,:,j) = gpm_temp;\n",
    "%     end\n",
    "%     \n",
    "%     precip = nansum(gpm,3);\n",
    "%     precip = precip * 0.5;%%%% 30분 자료인데, 단위는 hour 단위라서 0.5곱해줌\n",
    "%     save([path,num2str(yr),'/gpm_AP_',num2str(yr),'_',num2str(doy,'%03i'),...\n",
    "%         '_UTC00.mat'], 'precip');\n",
    "%     \n",
    "%     % For doy 001 UTC01 to doy 365(366) UTC23\n",
    "% %     cd([path_data,num2str(yr)])\n",
    "%     for aa = 3:2:length(list_gpm)-48\n",
    "%         gpm = gpm(:,:,3:end);\n",
    "%         list_temp = list_gpm(aa+46:aa+47);\n",
    "%         list_f_temp = list_gpm_f(aa+46:aa+47);\n",
    "%         doy = datenum(list_gpm{aa}(22:29),'yyyymmdd')-doy0+1;\n",
    "%         UTC = list_gpm{aa}(32:33);\n",
    "%         for j=1:2\n",
    "%             gpm_temp = h5read([list_f_temp{j},'/',list_temp{j}], '/Grid/precipitationCal');\n",
    "%             gpm_temp = double(gpm_temp);\n",
    "%             gpm_temp(gpm_temp<-9999)=nan;\n",
    "%             gpm(:,:,j+46) = gpm_temp;\n",
    "%         end\n",
    "%         \n",
    "%         precip = nansum(gpm,3);\n",
    "%         precip = precip * 0.5;%%%% 30분 자료인데, 단위는 hour 단위라서 0.5곱해줌\n",
    "%         save([path,num2str(yr),'/gpm_AP_',num2str(yr),'_',num2str(doy,'%03i'),...\n",
    "%             '_UTC',UTC,'.mat'], 'precip');\n",
    "%         disp(['gpm_AP_',num2str(yr),'_',num2str(doy,'%03i'),'_UTC',UTC])\n",
    "%     end\n",
    "%     disp(yr)\n",
    "% end\n",
    "\"\"\""
   ]
  }
 ],
 "metadata": {
  "kernelspec": {
   "display_name": "Python 3",
   "language": "python",
   "name": "python3"
  },
  "language_info": {
   "codemirror_mode": {
    "name": "ipython",
    "version": 3
   },
   "file_extension": ".py",
   "mimetype": "text/x-python",
   "name": "python",
   "nbconvert_exporter": "python",
   "pygments_lexer": "ipython3",
   "version": "3.7.3"
  }
 },
 "nbformat": 4,
 "nbformat_minor": 2
}
