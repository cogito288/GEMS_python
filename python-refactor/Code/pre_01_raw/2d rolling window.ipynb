{
 "cells": [
  {
   "cell_type": "code",
   "execution_count": 23,
   "metadata": {},
   "outputs": [],
   "source": [
    "import numpy as np\n",
    "from numba import jit"
   ]
  },
  {
   "cell_type": "code",
   "execution_count": 40,
   "metadata": {},
   "outputs": [],
   "source": [
    "a = np.array([[1,2,3,4], [2,3,4,5], [3,4,5,6], [4,5,6,7]])\n",
    "b = np.random.randint(1,7, size = (100,100))\n",
    "c = np.random.randint(1,7, size = (1000,1000))\n",
    "\n",
    "aout,bout,cout = np.zeros_like(a),np.zeros_like(b),np.zeros_like(c)\n",
    "\n",
    "x_win = 1\n",
    "y_win = 1"
   ]
  },
  {
   "cell_type": "code",
   "execution_count": 41,
   "metadata": {},
   "outputs": [],
   "source": [
    "def mw_mean(in_arr,out_arr,x_win,y_win):\n",
    "    xn,yn = in_arr.shape\n",
    "    for x in range(xn):\n",
    "        xmin = max([0,x - x_win])\n",
    "        xmax = min([xn, x + x_win + 1])\n",
    "        for y in range(yn):\n",
    "            ymin = max([0,y - y_win])\n",
    "            ymax = min([yn, y + y_win + 1])\n",
    "            print (f\"{xmin}:{xmax}, {ymin}:{ymax}\")\n",
    "            out_arr[x,y] = in_arr[xmin:xmax, ymin:ymax].mean()\n",
    "    return out_arr\n",
    "\n",
    "\n",
    "\n",
    "@jit(\"i4[:,:](i4[:,:],i4[:,:],i4,i4)\", nopython = True)\n",
    "def mw_mean_numba(in_arr,out_arr,x_win,y_win):\n",
    "    xn,yn = in_arr.shape\n",
    "    for x in range(xn):\n",
    "        xmin = max(0,x - x_win)\n",
    "        xmax = min(xn, x + x_win + 1)\n",
    "        for y in range(yn):\n",
    "            ymin = max(0,y - y_win)\n",
    "            ymax = min(yn, y + y_win + 1)\n",
    "\n",
    "            out_arr[x,y] = in_arr[xmin:xmax, ymin:ymax].mean()\n",
    "    return out_arr"
   ]
  },
  {
   "cell_type": "code",
   "execution_count": 42,
   "metadata": {},
   "outputs": [
    {
     "data": {
      "text/plain": [
       "array([[1, 2, 3, 4],\n",
       "       [2, 3, 4, 5],\n",
       "       [3, 4, 5, 6],\n",
       "       [4, 5, 6, 7]])"
      ]
     },
     "execution_count": 42,
     "metadata": {},
     "output_type": "execute_result"
    }
   ],
   "source": [
    "a"
   ]
  },
  {
   "cell_type": "code",
   "execution_count": 44,
   "metadata": {},
   "outputs": [
    {
     "name": "stdout",
     "output_type": "stream",
     "text": [
      "0:2, 0:2\n",
      "0:2, 0:3\n",
      "0:2, 1:4\n",
      "0:2, 2:4\n",
      "0:3, 0:2\n",
      "0:3, 0:3\n",
      "0:3, 1:4\n",
      "0:3, 2:4\n",
      "1:4, 0:2\n",
      "1:4, 0:3\n",
      "1:4, 1:4\n",
      "1:4, 2:4\n",
      "2:4, 0:2\n",
      "2:4, 0:3\n",
      "2:4, 1:4\n",
      "2:4, 2:4\n"
     ]
    },
    {
     "data": {
      "text/plain": [
       "array([[2, 2, 3, 4],\n",
       "       [2, 3, 4, 4],\n",
       "       [3, 4, 5, 5],\n",
       "       [4, 4, 5, 6]])"
      ]
     },
     "execution_count": 44,
     "metadata": {},
     "output_type": "execute_result"
    }
   ],
   "source": [
    "mw_mean(a, aout, x_win, y_win)"
   ]
  },
  {
   "cell_type": "code",
   "execution_count": 48,
   "metadata": {},
   "outputs": [
    {
     "data": {
      "text/plain": [
       "array([[1, 2, 3],\n",
       "       [2, 3, 4]])"
      ]
     },
     "execution_count": 48,
     "metadata": {},
     "output_type": "execute_result"
    }
   ],
   "source": [
    "a[0:2, 0:3]"
   ]
  },
  {
   "cell_type": "code",
   "execution_count": 47,
   "metadata": {},
   "outputs": [
    {
     "data": {
      "text/plain": [
       "2.0"
      ]
     },
     "execution_count": 47,
     "metadata": {},
     "output_type": "execute_result"
    }
   ],
   "source": [
    "(1+2+2+3)/4"
   ]
  },
  {
   "cell_type": "code",
   "execution_count": 49,
   "metadata": {},
   "outputs": [
    {
     "data": {
      "text/plain": [
       "array([[1, 2, 3, 4],\n",
       "       [2, 3, 4, 5],\n",
       "       [3, 4, 5, 6],\n",
       "       [4, 5, 6, 7]])"
      ]
     },
     "execution_count": 49,
     "metadata": {},
     "output_type": "execute_result"
    }
   ],
   "source": [
    "a"
   ]
  },
  {
   "cell_type": "code",
   "execution_count": 50,
   "metadata": {},
   "outputs": [],
   "source": [
    "window = np.ones((2,2))/4"
   ]
  },
  {
   "cell_type": "code",
   "execution_count": 55,
   "metadata": {},
   "outputs": [],
   "source": [
    "from scipy.signal import convolve2d"
   ]
  },
  {
   "cell_type": "code",
   "execution_count": 56,
   "metadata": {},
   "outputs": [
    {
     "data": {
      "text/plain": [
       "array([[2., 3., 4.],\n",
       "       [3., 4., 5.],\n",
       "       [4., 5., 6.]])"
      ]
     },
     "execution_count": 56,
     "metadata": {},
     "output_type": "execute_result"
    }
   ],
   "source": [
    "convolve2d(a,window, 'valid')"
   ]
  },
  {
   "cell_type": "code",
   "execution_count": null,
   "metadata": {},
   "outputs": [],
   "source": []
  }
 ],
 "metadata": {
  "kernelspec": {
   "display_name": "venv",
   "language": "python",
   "name": "venv"
  }
 },
 "nbformat": 4,
 "nbformat_minor": 2
}
