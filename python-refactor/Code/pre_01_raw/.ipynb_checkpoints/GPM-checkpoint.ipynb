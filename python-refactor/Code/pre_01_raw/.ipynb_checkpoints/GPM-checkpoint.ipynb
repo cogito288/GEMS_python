{
 "cells": [
  {
   "cell_type": "markdown",
   "metadata": {},
   "source": [
    "# GPM_01"
   ]
  },
  {
   "cell_type": "code",
   "execution_count": 9,
   "metadata": {},
   "outputs": [],
   "source": [
    "### Package Import\n",
    "import sys\n",
    "import os\n",
    "base_dir = os.environ['GEMS_HOME']\n",
    "project_path = os.path.join(base_dir, 'python-refactor')\n",
    "sys.path.insert(0, project_path)\n",
    "from Code.utils import matlab\n",
    "\n",
    "import numpy as np\n",
    "import glob\n",
    "\n",
    "### Setting path\n",
    "data_base_dir = os.path.join('/', 'media', 'sf_GEMS', 'Data')\n",
    "raw_data_path = os.path.join(data_base_dir, 'Raw', 'GPM', '3IMERGHH') \n",
    "write_path = os.path.join(data_base_dir, 'Prepreossed_raw', 'GPM', 'AP_24h_hourly')"
   ]
  },
  {
   "cell_type": "code",
   "execution_count": 14,
   "metadata": {},
   "outputs": [
    {
     "data": {
      "text/plain": [
       "\"\\nname = '2014/3B-HHR.MS.MRG.3IMERG.20141231-S000000-E002959.0000.V04A.HDF5'\\nlat_gpm = matlab.h5read(os.path.join(raw_data_path, name), '/Grid/lat')\\nlon_gpm = matlab.h5read(os.path.join(raw_data_path, name), '/Grid/lon')\\nlat_gpm = np.float64(lat_gpm); lon_gpm = np.float64(lon_gpm)\\nlat_gpm, lon_gpm = np.meshgrid(lat_gpm, lon_gpm)\\nmatlab.savemat('grid_gpm.mat', {'lon_gpm':lon_gpm, 'lat_gpm':lat_gpm})\\n\""
      ]
     },
     "execution_count": 14,
     "metadata": {},
     "output_type": "execute_result"
    }
   ],
   "source": [
    "\"\"\"\n",
    "name = '2014/3B-HHR.MS.MRG.3IMERG.20141231-S000000-E002959.0000.V04A.HDF5'\n",
    "lat_gpm = matlab.h5read(os.path.join(raw_data_path, name), '/Grid/lat')\n",
    "lon_gpm = matlab.h5read(os.path.join(raw_data_path, name), '/Grid/lon')\n",
    "lat_gpm = np.float64(lat_gpm); lon_gpm = np.float64(lon_gpm)\n",
    "lat_gpm, lon_gpm = np.meshgrid(lat_gpm, lon_gpm)\n",
    "matlab.savemat('grid_gpm.mat', {'lon_gpm':lon_gpm, 'lat_gpm':lat_gpm})\n",
    "\"\"\""
   ]
  },
  {
   "cell_type": "code",
   "execution_count": 15,
   "metadata": {},
   "outputs": [],
   "source": [
    "yr = 2016"
   ]
  },
  {
   "cell_type": "code",
   "execution_count": 25,
   "metadata": {},
   "outputs": [
    {
     "data": {
      "text/plain": [
       "'/media/sf_GEMS/Data/Raw/GPM/3IMERGHH/2016/*/*.HDF5'"
      ]
     },
     "execution_count": 25,
     "metadata": {},
     "output_type": "execute_result"
    }
   ],
   "source": [
    "os.path.join(raw_data_path, str(yr), '*/*.HDF5')"
   ]
  },
  {
   "cell_type": "code",
   "execution_count": 26,
   "metadata": {},
   "outputs": [
    {
     "data": {
      "text/plain": [
       "['/media/sf_GEMS/Data/Raw/GPM/3IMERGHH/2016/01/3B-HHR.MS.MRG.3IMERG.20160101-S000000-E002959.0000.V04A.HDF5',\n",
       " '/media/sf_GEMS/Data/Raw/GPM/3IMERGHH/2016/01/3B-HHR.MS.MRG.3IMERG.20160101-S003000-E005959.0030.V04A.HDF5']"
      ]
     },
     "execution_count": 26,
     "metadata": {},
     "output_type": "execute_result"
    }
   ],
   "source": []
  },
  {
   "cell_type": "code",
   "execution_count": null,
   "metadata": {},
   "outputs": [],
   "source": [
    "list_gpm = "
   ]
  },
  {
   "cell_type": "code",
   "execution_count": null,
   "metadata": {},
   "outputs": [],
   "source": [
    "os.chdir(raw_data_path)\n",
    "list_gpm = glob.glob(os.path.join(raw_data_path, str(yr), '*/*.HDF5'))  # list_gpm = dir([num2str(yr),'/*/*.HDF5']);\n",
    "doy_0 = matlab.datenum(str(yr-1)+'1231')"
   ]
  }
 ],
 "metadata": {
  "kernelspec": {
   "display_name": "venv",
   "language": "python",
   "name": "venv"
  }
 },
 "nbformat": 4,
 "nbformat_minor": 2
}
