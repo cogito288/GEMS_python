{
 "cells": [
  {
   "cell_type": "markdown",
   "metadata": {},
   "source": [
    "# GPM_01"
   ]
  },
  {
   "cell_type": "code",
   "execution_count": 2,
   "metadata": {},
   "outputs": [],
   "source": [
    "### Package Import\n",
    "import sys\n",
    "import os\n",
    "base_dir = os.environ['GEMS_HOME']\n",
    "project_path = os.path.join(base_dir, 'python-refactor')\n",
    "sys.path.insert(0, project_path)\n",
    "from Code.utils import matlab\n",
    "\n",
    "import numpy as np\n",
    "import glob\n",
    "\n",
    "### Setting path\n",
    "data_base_dir = os.path.join('/', 'media', 'sf_GEMS', 'Data')\n",
    "raw_data_path = os.path.join(data_base_dir, 'Raw', 'GPM', '3IMERGHH') \n",
    "write_path = os.path.join(data_base_dir, 'Prepreossed_raw', 'GPM', 'AP_24h_hourly')"
   ]
  },
  {
   "cell_type": "code",
   "execution_count": 3,
   "metadata": {},
   "outputs": [
    {
     "data": {
      "text/plain": [
       "\"\\nname = '2014/3B-HHR.MS.MRG.3IMERG.20141231-S000000-E002959.0000.V04A.HDF5'\\nlat_gpm = matlab.h5read(os.path.join(raw_data_path, name), '/Grid/lat')\\nlon_gpm = matlab.h5read(os.path.join(raw_data_path, name), '/Grid/lon')\\nlat_gpm = np.float64(lat_gpm); lon_gpm = np.float64(lon_gpm)\\nlat_gpm, lon_gpm = np.meshgrid(lat_gpm, lon_gpm)\\nmatlab.savemat('grid_gpm.mat', {'lon_gpm':lon_gpm, 'lat_gpm':lat_gpm})\\n\""
      ]
     },
     "execution_count": 3,
     "metadata": {},
     "output_type": "execute_result"
    }
   ],
   "source": [
    "\"\"\"\n",
    "name = '2014/3B-HHR.MS.MRG.3IMERG.20141231-S000000-E002959.0000.V04A.HDF5'\n",
    "lat_gpm = matlab.h5read(os.path.join(raw_data_path, name), '/Grid/lat')\n",
    "lon_gpm = matlab.h5read(os.path.join(raw_data_path, name), '/Grid/lon')\n",
    "lat_gpm = np.float64(lat_gpm); lon_gpm = np.float64(lon_gpm)\n",
    "lat_gpm, lon_gpm = np.meshgrid(lat_gpm, lon_gpm)\n",
    "matlab.savemat('grid_gpm.mat', {'lon_gpm':lon_gpm, 'lat_gpm':lat_gpm})\n",
    "\"\"\""
   ]
  },
  {
   "cell_type": "code",
   "execution_count": 4,
   "metadata": {},
   "outputs": [],
   "source": [
    "yr = 2016"
   ]
  },
  {
   "cell_type": "code",
   "execution_count": 19,
   "metadata": {},
   "outputs": [],
   "source": [
    "list_gpm = glob.glob(os.path.join(raw_data_path, str(yr), '*/*.HDF5'))\n",
    "list_gpm.sort()\n",
    "doy_0 = matlab.datenum(str(yr-1)+'1231')"
   ]
  },
  {
   "cell_type": "code",
   "execution_count": 6,
   "metadata": {},
   "outputs": [],
   "source": [
    "# First day UTC 00\n",
    "list_temp = list_gpm[:48]"
   ]
  },
  {
   "cell_type": "code",
   "execution_count": 6,
   "metadata": {},
   "outputs": [],
   "source": [
    "import imp"
   ]
  },
  {
   "cell_type": "code",
   "execution_count": 7,
   "metadata": {},
   "outputs": [
    {
     "data": {
      "text/plain": [
       "<module 'Code.utils.matlab' from '/home/sehyun/Downloads/GEMS_python/python-refactor/Code/utils/matlab.py'>"
      ]
     },
     "execution_count": 7,
     "metadata": {},
     "output_type": "execute_result"
    }
   ],
   "source": [
    "imp.reload(matlab)"
   ]
  },
  {
   "cell_type": "code",
   "execution_count": 33,
   "metadata": {},
   "outputs": [
    {
     "name": "stderr",
     "output_type": "stream",
     "text": [
      "/home/sehyun/Downloads/GEMS_python/venv/lib/python3.6/site-packages/hdf5storage/__init__.py:1306: H5pyDeprecationWarning: The default file mode will change to 'r' (read-only) in h5py 3.0. To suppress this warning, pass the mode you need to h5py.File(), or set the global default h5.get_config().default_file_mode, or set the environment variable H5PY_DEFAULT_READONLY=1. Available modes are: 'r', 'r+', 'w', 'w-'/'x', 'a'. See the docs for details.\n",
      "  f = h5py.File(filename)\n"
     ]
    }
   ],
   "source": [
    "    tmp_fname = './temp_gpm.mat'\n",
    "    with h5py.File(tmp_fname, 'w') as f:\n",
    "        size = (1800, 3600, 48)\n",
    "        gpm = f.create_dataset('gpm', shape=size, \n",
    "                                       dtype=np.float64, fillvalue=0, chunks=True)\n",
    "        precip = np.zeros((1800, 3600))\n",
    "        doy = matlab.datenum(os.path.basename(list_temp[0])[21:29])-doy_0+1\n",
    "\n",
    "        for j, fname in enumerate(list_temp):\n",
    "            gpm_temp = matlab.h5read(fname, '/Grid/precipitationCal')\n",
    "            gpm_temp = np.float64(gpm_temp)\n",
    "            gpm_temp[gpm_temp<-9999] = np.nan\n",
    "            gpm[:,:,j] = gpm_temp\n",
    "            gpm_temp[np.isnan(gpm_temp)] = 0\n",
    "            precip += gpm_temp\n",
    "        precip = precip*0.5 #### 30분 자료인데, 단위는 hour 단위라서 0.5곱해줌\n",
    "        ap_fname = os.path.join(write_path, str(yr), f'gpm_AP_{yr}_{doy:3d}_UTC00.mat')\n",
    "        matlab.savemat(ap_fname, {'precip':precip})\n",
    "\n",
    "        precip = np.zeros((1800, 3600))\n",
    "        for aa in range(3, len(list_gpm)-48+1, 2):\n",
    "            #gpm = gpm[:,:,2:]\n",
    "            list_temp = list_gpm[aa+45:aa+47]\n",
    "\n",
    "            doy = matlab.datenum(os.path.basename(list_gpm[aa])[21:29])-doy0+1\n",
    "            UTC = os.path.basename(list_gpm[aa])[31:33]\n",
    "            for j in range(2):\n",
    "                gpm_temp = matlab.h5read(list_temp[j], '/Grid/precipitationCal')\n",
    "                gpm_temp = np.float64(gpm_temp)\n",
    "                gpm_temp[gpm_temp<-9999] = np.nan\n",
    "                gpm[:,:,j+46] = gpm_temp\n",
    "\n",
    "                gpm_temp[np.isnan(gpm_temp)] = 0\n",
    "                precip += gpm_temp    \n",
    "            precip = precip*0.5 # 30분 자료인데, 단위는 hour 단위라서 0.5곱해줌\n",
    "            ap_fname = os.path.join(write_path, str(yr), f'gpm_AP_{yr}_{doy:3d}_UTC{UTC}.mat')\n",
    "            matlab.savemat(ap_fname, {'precip':precip})\n",
    "            print (ap_fname)\n",
    "    os.remove(tmp_fname)"
   ]
  }
 ],
 "metadata": {
  "kernelspec": {
   "display_name": "venv",
   "language": "python",
   "name": "venv"
  },
  "language_info": {
   "codemirror_mode": {
    "name": "ipython",
    "version": 3
   },
   "file_extension": ".py",
   "mimetype": "text/x-python",
   "name": "python",
   "nbconvert_exporter": "python",
   "pygments_lexer": "ipython3",
   "version": "3.6.8"
  }
 },
 "nbformat": 4,
 "nbformat_minor": 2
}
