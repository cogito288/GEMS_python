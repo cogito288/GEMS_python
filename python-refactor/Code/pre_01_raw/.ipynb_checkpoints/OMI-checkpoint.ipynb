{
 "cells": [
  {
   "cell_type": "markdown",
   "metadata": {},
   "source": [
    "# OMI_01"
   ]
  },
  {
   "cell_type": "code",
   "execution_count": 1,
   "metadata": {},
   "outputs": [],
   "source": [
    "### Package Import\n",
    "import sys\n",
    "import os\n",
    "base_dir = os.environ['GEMS_HOME']\n",
    "project_path = os.path.join(base_dir, 'python-refactor')\n",
    "sys.path.insert(0, project_path)\n",
    "from Code.utils import matlab\n",
    "\n",
    "import scipy.io as sio\n",
    "import numpy as np\n",
    "import glob\n",
    "import time\n",
    "import h5py "
   ]
  },
  {
   "cell_type": "code",
   "execution_count": 2,
   "metadata": {},
   "outputs": [],
   "source": [
    "### Setting path\n",
    "data_base_dir = os.path.join('/', 'media', 'sf_GEMS', 'Data')\n",
    "omi_path = os.path.join(data_base_dir, 'Raw', 'OMI') \n",
    "\n",
    "### Setting period\n",
    "YEARS = [2016] #, 2018, 2019"
   ]
  },
  {
   "cell_type": "code",
   "execution_count": 3,
   "metadata": {},
   "outputs": [],
   "source": [
    "yr = 2016"
   ]
  },
  {
   "cell_type": "code",
   "execution_count": 4,
   "metadata": {},
   "outputs": [],
   "source": [
    "def create_L3(year, read_path, flist, write_path, fname, data_type):\n",
    "    doy_000 = matlab.datenum(f'{year}0000')\n",
    "    if data_type == 'OMDOAO3e':\n",
    "        list_doy = [matlab.datenum(f'{x[21:25]}{x[26:30]}')-doy_000 for x in flist]\n",
    "    else:\n",
    "        list_doy = [matlab.datenum(f'{x[19:23]}{x[24:28]}')-doy_000 for x in flist]\n",
    "    size = (1036800, days)\n",
    "    \n",
    "    # Create data_yr\n",
    "    with h5py.File(os.path.join(write_path, fname), 'w') as f:\n",
    "        data_yr = f.create_dataset('data_yr', shape=size, compression=\"gzip\",\n",
    "                                   dtype=np.float64, fillvalue=-9999, chunks=True)\n",
    "        for i, read_fname in enumerate(flist[:20]):\n",
    "            print (f'Reading {data_type}_{year}_{list_doy[i]:03d}')\n",
    "            #print (f\"Reading {read_fname}\")\n",
    "            if data_type == 'OMNO2d':\n",
    "                data = matlab.h5read(os.path.join(read_path, read_fname), \n",
    "                                 '/HDFEOS/GRIDS/ColumnAmountNO2/Data Fields/ColumnAmountNO2TropCloudScreened')\n",
    "                data = np.float64(data); \n",
    "                data[data<=-1.2676506e+30] = np.nan # Assign NaN value to pixel that is out of valid range\n",
    "                data = data * 3.7216e-17   \n",
    "            \n",
    "            elif data_type in ['OMSO2e', 'OMDOAO3e']:\n",
    "                if data_type == 'OMSO2e':\n",
    "                    data = matlab.h5read(os.path.join(read_path, read_fname), \n",
    "                                          '/HDFEOS/GRIDS/OMI Total Column Amount SO2/Data Fields/ColumnAmountSO2_PBL')\n",
    "                    rcf = matlab.h5read(os.path.join(read_path, read_fname), \n",
    "                                         '/HDFEOS/GRIDS/OMI Total Column Amount SO2/Data Fields/RadiativeCloudFraction')\n",
    "                    sza = matlab.h5read(os.path.join(read_path, read_fname), \n",
    "                                         '/HDFEOS/GRIDS/OMI Total Column Amount SO2/Data Fields/SolarZenithAngle')\n",
    "                elif data_type == 'OMDOAO3e':\n",
    "                    data = matlab.h5read(os.path.join(read_path, read_fname), \n",
    "                                          '/HDFEOS/GRIDS/ColumnAmountO3/Data Fields/ColumnAmountO3')\n",
    "                    rcf = matlab.h5read(os.path.join(read_path, read_fname), \n",
    "                                        '/HDFEOS/GRIDS/ColumnAmountO3/Data Fields/CloudFraction')\n",
    "                    sza = matlab.h5read(os.path.join(read_path, read_fname), \n",
    "                                         '/HDFEOS/GRIDS/ColumnAmountO3/Data Fields/SolarZenithAngle')\n",
    "                    \n",
    "                data = np.float64(data); data[data<=-1.2676506e+30] = np.nan # Assign NaN value to pixel that is out of valid range\n",
    "                rcf = np.float64(rcf); rcf[rcf<=-1.2676506e+30] = np.nan\n",
    "                sza = np.float64(sza); sza[sza<=-1.2676506e+30] = np.nan\n",
    "\n",
    "                # Filtering SO2_VCD with the condition of radiative cloud fraction and\n",
    "                # solar zenith angle    \n",
    "                data[rcf>=0.3]=np.nan\n",
    "                data[sza>=78]=np.nan\n",
    "            \n",
    "            data[np.isnan(data)] = -9999 # trick. data_yr(isnan(data_yr))=-9999;\n",
    "            data_yr[:, list_doy[i]-1] = data.flatten() # Put daily data as column vector\n",
    "            # header = [f'd{x:03d}' for x in range(1, days+1)] # Not used after\n",
    "    print (f\"Created {fname}\")"
   ]
  },
  {
   "cell_type": "code",
   "execution_count": 7,
   "metadata": {
    "scrolled": true
   },
   "outputs": [
    {
     "name": "stdout",
     "output_type": "stream",
     "text": [
      "OMNO2d\n",
      "Reading OMNO2d_2016_001\n",
      "Reading OMNO2d_2016_002\n",
      "Reading OMNO2d_2016_003\n",
      "Reading OMNO2d_2016_004\n",
      "Reading OMNO2d_2016_005\n",
      "Reading OMNO2d_2016_006\n",
      "Reading OMNO2d_2016_007\n",
      "Reading OMNO2d_2016_008\n",
      "Reading OMNO2d_2016_009\n",
      "Reading OMNO2d_2016_010\n",
      "Reading OMNO2d_2016_011\n",
      "Reading OMNO2d_2016_012\n",
      "Reading OMNO2d_2016_013\n",
      "Reading OMNO2d_2016_014\n",
      "Reading OMNO2d_2016_015\n",
      "Reading OMNO2d_2016_016\n",
      "Reading OMNO2d_2016_017\n",
      "Reading OMNO2d_2016_018\n",
      "Reading OMNO2d_2016_019\n",
      "Reading OMNO2d_2016_020\n",
      "Created OMNO2d_2016_DU.mat\n",
      "2016\n",
      "20.589537143707275 second\n"
     ]
    }
   ],
   "source": [
    "### OMNO2d\n",
    "print ('OMNO2d')\n",
    "\n",
    "tStart = time.time()\n",
    "curr_path = os.path.join(omi_path, 'L3', 'OMNO2d', str(yr))\n",
    "list_char = glob.glob(os.path.join(curr_path, '*.he5'))\n",
    "list_char = [os.path.basename(f) for f in list_char]\n",
    "\n",
    "if yr%4==0: days = 366\n",
    "else: days = 365\n",
    "\n",
    "write_path = os.path.join(data_base_dir, 'Preprocessed_raw', 'OMI_tempConv')\n",
    "fname = f'OMNO2d_{yr}_DU.mat'\n",
    "matlab.check_make_dir(write_path) # For debugging\n",
    "\n",
    "create_L3(year=yr, read_path=curr_path, flist=list_char,\n",
    "                   write_path=write_path, fname=fname, data_type='OMNO2d')\n",
    "print (yr)\n",
    "tElapsed = time.time() - tStart\n",
    "print (f'{tElapsed} second')"
   ]
  },
  {
   "cell_type": "code",
   "execution_count": 4,
   "metadata": {},
   "outputs": [
    {
     "name": "stdout",
     "output_type": "stream",
     "text": [
      "OMHCHOG\n"
     ]
    }
   ],
   "source": [
    "    ### OMHCHOG\n",
    "    print ('OMHCHOG')\n",
    "    yr = 2016\n",
    "    tStart = time.time()\n",
    "    curr_path = os.path.join(omi_path, 'L2', 'OMHCHOG', str(yr))\n",
    "    list_char = glob.glob(os.path.join(curr_path, '*.he5'))\n",
    "    list_char = [os.path.basename(f) for f in list_char]\n",
    "\n",
    "    if yr%4==0: days = 366\n",
    "    else: days = 365"
   ]
  },
  {
   "cell_type": "code",
   "execution_count": 8,
   "metadata": {},
   "outputs": [],
   "source": [
    "    write_path = os.path.join(data_base_dir, 'Preprocessed_raw', 'OMI_L3_tempConv')\n",
    "    fname = f'OMHCHOG_{yr}.mat'\n",
    "    matlab.check_make_dir(write_path) # For debugging\n",
    "    \n",
    "    doy_000 = matlab.datenum(f'{yr}0000')\n",
    "    list_doy = [matlab.datenum(f'{x[21:25]}{x[26:30]}')-doy_000 for x in list_char]"
   ]
  },
  {
   "cell_type": "code",
   "execution_count": null,
   "metadata": {
    "scrolled": true
   },
   "outputs": [
    {
     "name": "stdout",
     "output_type": "stream",
     "text": [
      "Reading OMHCHOG_2016_001\n"
     ]
    },
    {
     "name": "stderr",
     "output_type": "stream",
     "text": [
      "/home/sehyun/GEMS_python/venv/lib/python3.6/site-packages/ipykernel_launcher.py:32: RuntimeWarning: invalid value encountered in greater\n",
      "/home/sehyun/GEMS_python/venv/lib/python3.6/site-packages/ipykernel_launcher.py:34: RuntimeWarning: Mean of empty slice\n"
     ]
    },
    {
     "name": "stdout",
     "output_type": "stream",
     "text": [
      "Reading OMHCHOG_2016_002\n",
      "Reading OMHCHOG_2016_003\n",
      "Reading OMHCHOG_2016_004\n",
      "Reading OMHCHOG_2016_005\n",
      "Reading OMHCHOG_2016_006\n",
      "Reading OMHCHOG_2016_007\n",
      "Reading OMHCHOG_2016_008\n",
      "Reading OMHCHOG_2016_009\n",
      "Reading OMHCHOG_2016_010\n",
      "Reading OMHCHOG_2016_011\n",
      "Reading OMHCHOG_2016_012\n",
      "Reading OMHCHOG_2016_013\n",
      "Reading OMHCHOG_2016_014\n",
      "Reading OMHCHOG_2016_015\n",
      "Reading OMHCHOG_2016_016\n",
      "Reading OMHCHOG_2016_017\n",
      "Reading OMHCHOG_2016_018\n",
      "Reading OMHCHOG_2016_019\n",
      "Reading OMHCHOG_2016_020\n",
      "Reading OMHCHOG_2016_021\n",
      "Reading OMHCHOG_2016_022\n",
      "Reading OMHCHOG_2016_023\n",
      "Reading OMHCHOG_2016_024\n",
      "Reading OMHCHOG_2016_025\n",
      "Reading OMHCHOG_2016_026\n",
      "Reading OMHCHOG_2016_027\n",
      "Reading OMHCHOG_2016_028\n",
      "Reading OMHCHOG_2016_029\n",
      "Reading OMHCHOG_2016_030\n",
      "Reading OMHCHOG_2016_031\n",
      "Reading OMHCHOG_2016_032\n",
      "Reading OMHCHOG_2016_033\n",
      "Reading OMHCHOG_2016_034\n",
      "Reading OMHCHOG_2016_035\n",
      "Reading OMHCHOG_2016_036\n",
      "Reading OMHCHOG_2016_037\n",
      "Reading OMHCHOG_2016_038\n",
      "Reading OMHCHOG_2016_039\n",
      "Reading OMHCHOG_2016_040\n",
      "Reading OMHCHOG_2016_041\n",
      "Reading OMHCHOG_2016_042\n",
      "Reading OMHCHOG_2016_043\n",
      "Reading OMHCHOG_2016_044\n",
      "Reading OMHCHOG_2016_045\n",
      "Reading OMHCHOG_2016_046\n",
      "Reading OMHCHOG_2016_047\n",
      "Reading OMHCHOG_2016_048\n",
      "Reading OMHCHOG_2016_049\n",
      "Reading OMHCHOG_2016_050\n"
     ]
    }
   ],
   "source": [
    "    size = (1036800, days)\n",
    "    with h5py.File(os.path.join(write_path, fname), 'w') as f:\n",
    "        data_yr = f.create_dataset('data_yr', shape=size, \n",
    "                                   dtype=np.float64, fillvalue=np.nan, chunks=True)\n",
    "        \n",
    "        for doy, read_fname in sorted(zip(list_doy, list_char), key = lambda x: x[0]):\n",
    "            print (f\"Reading OMHCHOG_{yr}_{doy:03d}\")\n",
    "            data = matlab.h5read(os.path.join(curr_path, read_fname),\n",
    "                                  '/HDFEOS/GRIDS/OMI Total Column Amount HCHO/Data Fields/ColumnAmountDestriped')\n",
    "            # Assign NaN value to pixel that is out of valid range\n",
    "            data = np.float64(matlab.permute(data,(1,0,2)))\n",
    "            data[data<=-1.0e+30] = np.nan\n",
    "            VCD = data * 3.7216e-17\n",
    "            \n",
    "            QA = matlab.h5read(os.path.join(curr_path, read_fname),\n",
    "                               '/HDFEOS/GRIDS/OMI Total Column Amount HCHO/Data Fields/MainDataQualityFlag')\n",
    "            QA = np.float64(matlab.permute(QA, (1,0,2)))\n",
    "            QA[QA<=-30000] = np.nan\n",
    "            \n",
    "            sza = matlab.h5read(os.path.join(curr_path, read_fname),\n",
    "                                '/HDFEOS/GRIDS/OMI Total Column Amount HCHO/Data Fields/SolarZenithAngle')\n",
    "            sza = np.float64(matlab.permute(sza,(1,0,2)))\n",
    "            sza[sza<=-1.0e+30] = np.nan\n",
    "            \n",
    "            VCD_filtered = np.zeros(VCD.shape)\n",
    "            for k in range(15):\n",
    "                VCD_temp = VCD[:,:,k]\n",
    "                QA_temp = QA[:,:,k]\n",
    "                sza_temp = sza[:,:,k]\n",
    "\n",
    "                VCD_temp[QA_temp!=0] = np.nan #  Good columns (0) / Suspect columns (1) / Bad columns (2) / missing (<0)\n",
    "                VCD_temp[sza_temp>88] = np.nan\n",
    "                VCD_filtered[:,:,k] = VCD_temp\n",
    "            VCD_avg = np.nanmean(VCD_filtered, axis=2)\n",
    "            data_yr[:, doy-1] = VCD_avg.flatten() # Put daily data as column vector\n",
    "            \n",
    "            # header = [f'd{x:03d}' for x in range(1, days+1)] # Not used after\n",
    "            \n",
    "            if doy%50==0:\n",
    "                tmp_fname = os.path.join(write_path, f'OMHCHOG_{yr}_{doy:03d}.mat')\n",
    "                data_sub = data_yr[:, doy_index-49:doy]\n",
    "                matlab.savemat(tmp_fname, {'data_sub':data_sub})\n",
    "                print (f\"Created {tmp_fname}\")\n",
    "                break\n",
    "            elif doy==len(list_char):\n",
    "                tmp_fname = os.path.join(write_path, f'OMHCHOG_{yr}_end.mat')\n",
    "                data_sub = data_yr[:, 350:]\n",
    "                matlab.savemat(tmp_fname, {'data_sub':data_sub})\n",
    "    print (f\"Created {fname}\")"
   ]
  },
  {
   "cell_type": "code",
   "execution_count": 18,
   "metadata": {},
   "outputs": [
    {
     "ename": "FileNotFoundError",
     "evalue": "[Errno 2] No such file or directory: '/media/sf_GEMS/Data/Preprocessed_raw/OMI_L3_tempConv/OMHCHOG_2016_051.mat'",
     "output_type": "error",
     "traceback": [
      "\u001b[0;31m---------------------------------------------------------------------------\u001b[0m",
      "\u001b[0;31mOSError\u001b[0m                                   Traceback (most recent call last)",
      "\u001b[0;32m~/GEMS_python/python-refactor/Code/utils/matlab.py\u001b[0m in \u001b[0;36mloadmat\u001b[0;34m(path)\u001b[0m\n\u001b[1;32m    155\u001b[0m     \u001b[0;32mtry\u001b[0m\u001b[0;34m:\u001b[0m\u001b[0;34m\u001b[0m\u001b[0;34m\u001b[0m\u001b[0m\n\u001b[0;32m--> 156\u001b[0;31m         \u001b[0;32mwith\u001b[0m \u001b[0mh5py\u001b[0m\u001b[0;34m.\u001b[0m\u001b[0mFile\u001b[0m\u001b[0;34m(\u001b[0m\u001b[0mpath\u001b[0m\u001b[0;34m,\u001b[0m \u001b[0;34m'r'\u001b[0m\u001b[0;34m)\u001b[0m \u001b[0;32mas\u001b[0m \u001b[0mf\u001b[0m\u001b[0;34m:\u001b[0m\u001b[0;34m\u001b[0m\u001b[0;34m\u001b[0m\u001b[0m\n\u001b[0m\u001b[1;32m    157\u001b[0m             \u001b[0;32mif\u001b[0m \u001b[0mf\u001b[0m\u001b[0;34m.\u001b[0m\u001b[0mkeys\u001b[0m\u001b[0;34m(\u001b[0m\u001b[0;34m)\u001b[0m\u001b[0;34m:\u001b[0m \u001b[0;31m# if key not empty\u001b[0m\u001b[0;34m\u001b[0m\u001b[0;34m\u001b[0m\u001b[0m\n",
      "\u001b[0;32m~/GEMS_python/venv/lib/python3.6/site-packages/h5py/_hl/files.py\u001b[0m in \u001b[0;36m__init__\u001b[0;34m(self, name, mode, driver, libver, userblock_size, swmr, rdcc_nslots, rdcc_nbytes, rdcc_w0, track_order, **kwds)\u001b[0m\n\u001b[1;32m    407\u001b[0m                                \u001b[0mfapl\u001b[0m\u001b[0;34m,\u001b[0m \u001b[0mfcpl\u001b[0m\u001b[0;34m=\u001b[0m\u001b[0mmake_fcpl\u001b[0m\u001b[0;34m(\u001b[0m\u001b[0mtrack_order\u001b[0m\u001b[0;34m=\u001b[0m\u001b[0mtrack_order\u001b[0m\u001b[0;34m)\u001b[0m\u001b[0;34m,\u001b[0m\u001b[0;34m\u001b[0m\u001b[0;34m\u001b[0m\u001b[0m\n\u001b[0;32m--> 408\u001b[0;31m                                swmr=swmr)\n\u001b[0m\u001b[1;32m    409\u001b[0m \u001b[0;34m\u001b[0m\u001b[0m\n",
      "\u001b[0;32m~/GEMS_python/venv/lib/python3.6/site-packages/h5py/_hl/files.py\u001b[0m in \u001b[0;36mmake_fid\u001b[0;34m(name, mode, userblock_size, fapl, fcpl, swmr)\u001b[0m\n\u001b[1;32m    172\u001b[0m             \u001b[0mflags\u001b[0m \u001b[0;34m|=\u001b[0m \u001b[0mh5f\u001b[0m\u001b[0;34m.\u001b[0m\u001b[0mACC_SWMR_READ\u001b[0m\u001b[0;34m\u001b[0m\u001b[0;34m\u001b[0m\u001b[0m\n\u001b[0;32m--> 173\u001b[0;31m         \u001b[0mfid\u001b[0m \u001b[0;34m=\u001b[0m \u001b[0mh5f\u001b[0m\u001b[0;34m.\u001b[0m\u001b[0mopen\u001b[0m\u001b[0;34m(\u001b[0m\u001b[0mname\u001b[0m\u001b[0;34m,\u001b[0m \u001b[0mflags\u001b[0m\u001b[0;34m,\u001b[0m \u001b[0mfapl\u001b[0m\u001b[0;34m=\u001b[0m\u001b[0mfapl\u001b[0m\u001b[0;34m)\u001b[0m\u001b[0;34m\u001b[0m\u001b[0;34m\u001b[0m\u001b[0m\n\u001b[0m\u001b[1;32m    174\u001b[0m     \u001b[0;32melif\u001b[0m \u001b[0mmode\u001b[0m \u001b[0;34m==\u001b[0m \u001b[0;34m'r+'\u001b[0m\u001b[0;34m:\u001b[0m\u001b[0;34m\u001b[0m\u001b[0;34m\u001b[0m\u001b[0m\n",
      "\u001b[0;32mh5py/_objects.pyx\u001b[0m in \u001b[0;36mh5py._objects.with_phil.wrapper\u001b[0;34m()\u001b[0m\n",
      "\u001b[0;32mh5py/_objects.pyx\u001b[0m in \u001b[0;36mh5py._objects.with_phil.wrapper\u001b[0;34m()\u001b[0m\n",
      "\u001b[0;32mh5py/h5f.pyx\u001b[0m in \u001b[0;36mh5py.h5f.open\u001b[0;34m()\u001b[0m\n",
      "\u001b[0;31mOSError\u001b[0m: Unable to open file (unable to open file: name = '/media/sf_GEMS/Data/Preprocessed_raw/OMI_L3_tempConv/OMHCHOG_2016_051.mat', errno = 2, error message = 'No such file or directory', flags = 0, o_flags = 0)",
      "\nDuring handling of the above exception, another exception occurred:\n",
      "\u001b[0;31mFileNotFoundError\u001b[0m                         Traceback (most recent call last)",
      "\u001b[0;32m~/GEMS_python/venv/lib/python3.6/site-packages/scipy/io/matlab/mio.py\u001b[0m in \u001b[0;36m_open_file\u001b[0;34m(file_like, appendmat, mode)\u001b[0m\n\u001b[1;32m     38\u001b[0m     \u001b[0;32mtry\u001b[0m\u001b[0;34m:\u001b[0m\u001b[0;34m\u001b[0m\u001b[0;34m\u001b[0m\u001b[0m\n\u001b[0;32m---> 39\u001b[0;31m         \u001b[0;32mreturn\u001b[0m \u001b[0mopen\u001b[0m\u001b[0;34m(\u001b[0m\u001b[0mfile_like\u001b[0m\u001b[0;34m,\u001b[0m \u001b[0mmode\u001b[0m\u001b[0;34m)\u001b[0m\u001b[0;34m,\u001b[0m \u001b[0;32mTrue\u001b[0m\u001b[0;34m\u001b[0m\u001b[0;34m\u001b[0m\u001b[0m\n\u001b[0m\u001b[1;32m     40\u001b[0m     \u001b[0;32mexcept\u001b[0m \u001b[0mIOError\u001b[0m\u001b[0;34m:\u001b[0m\u001b[0;34m\u001b[0m\u001b[0;34m\u001b[0m\u001b[0m\n",
      "\u001b[0;31mFileNotFoundError\u001b[0m: [Errno 2] No such file or directory: '/media/sf_GEMS/Data/Preprocessed_raw/OMI_L3_tempConv/OMHCHOG_2016_051.mat'",
      "\nDuring handling of the above exception, another exception occurred:\n",
      "\u001b[0;31mFileNotFoundError\u001b[0m                         Traceback (most recent call last)",
      "\u001b[0;32m<ipython-input-18-b0e3f6c3d4b4>\u001b[0m in \u001b[0;36m<module>\u001b[0;34m\u001b[0m\n\u001b[1;32m      4\u001b[0m \u001b[0;32mfor\u001b[0m \u001b[0mm\u001b[0m \u001b[0;32min\u001b[0m \u001b[0mrange\u001b[0m\u001b[0;34m(\u001b[0m\u001b[0;36m50\u001b[0m\u001b[0;34m,\u001b[0m \u001b[0;36m350\u001b[0m\u001b[0;34m+\u001b[0m\u001b[0;36m1\u001b[0m\u001b[0;34m,\u001b[0m \u001b[0;36m50\u001b[0m\u001b[0;34m)\u001b[0m\u001b[0;34m:\u001b[0m\u001b[0;34m\u001b[0m\u001b[0;34m\u001b[0m\u001b[0m\n\u001b[1;32m      5\u001b[0m     \u001b[0mtmp_fname\u001b[0m \u001b[0;34m=\u001b[0m \u001b[0;34mf'OMHCHOG_{yr}_{list_doy[m]:03d}.mat'\u001b[0m\u001b[0;34m\u001b[0m\u001b[0;34m\u001b[0m\u001b[0m\n\u001b[0;32m----> 6\u001b[0;31m     \u001b[0mmat\u001b[0m \u001b[0;34m=\u001b[0m \u001b[0mmatlab\u001b[0m\u001b[0;34m.\u001b[0m\u001b[0mloadmat\u001b[0m\u001b[0;34m(\u001b[0m\u001b[0mos\u001b[0m\u001b[0;34m.\u001b[0m\u001b[0mpath\u001b[0m\u001b[0;34m.\u001b[0m\u001b[0mjoin\u001b[0m\u001b[0;34m(\u001b[0m\u001b[0mwrite_path\u001b[0m\u001b[0;34m,\u001b[0m \u001b[0mtmp_fname\u001b[0m\u001b[0;34m)\u001b[0m\u001b[0;34m)\u001b[0m\u001b[0;34m\u001b[0m\u001b[0;34m\u001b[0m\u001b[0m\n\u001b[0m\u001b[1;32m      7\u001b[0m     \u001b[0mdata_sub\u001b[0m \u001b[0;34m=\u001b[0m \u001b[0mmat\u001b[0m\u001b[0;34m[\u001b[0m\u001b[0;34m'data_sub'\u001b[0m\u001b[0;34m]\u001b[0m\u001b[0;34m\u001b[0m\u001b[0;34m\u001b[0m\u001b[0m\n\u001b[1;32m      8\u001b[0m     \u001b[0mdata_yr\u001b[0m \u001b[0;34m=\u001b[0m \u001b[0mnp\u001b[0m\u001b[0;34m.\u001b[0m\u001b[0mconcatenate\u001b[0m\u001b[0;34m(\u001b[0m\u001b[0;34m(\u001b[0m\u001b[0mdata_yr\u001b[0m\u001b[0;34m,\u001b[0m \u001b[0mdata_sub\u001b[0m\u001b[0;34m)\u001b[0m\u001b[0;34m,\u001b[0m \u001b[0maxis\u001b[0m\u001b[0;34m=\u001b[0m\u001b[0;36m1\u001b[0m\u001b[0;34m)\u001b[0m \u001b[0;31m# data_yr=[data_yr,data_sub];\u001b[0m\u001b[0;34m\u001b[0m\u001b[0;34m\u001b[0m\u001b[0m\n",
      "\u001b[0;32m~/GEMS_python/python-refactor/Code/utils/matlab.py\u001b[0m in \u001b[0;36mloadmat\u001b[0;34m(path)\u001b[0m\n\u001b[1;32m    163\u001b[0m                         \u001b[0mresult\u001b[0m\u001b[0;34m[\u001b[0m\u001b[0mkey\u001b[0m\u001b[0;34m]\u001b[0m \u001b[0;34m=\u001b[0m \u001b[0mresult\u001b[0m\u001b[0;34m[\u001b[0m\u001b[0mkey\u001b[0m\u001b[0;34m]\u001b[0m\u001b[0;34m.\u001b[0m\u001b[0mT\u001b[0m\u001b[0;34m\u001b[0m\u001b[0;34m\u001b[0m\u001b[0m\n\u001b[1;32m    164\u001b[0m     \u001b[0;32mexcept\u001b[0m \u001b[0mOSError\u001b[0m\u001b[0;34m:\u001b[0m\u001b[0;34m\u001b[0m\u001b[0;34m\u001b[0m\u001b[0m\n\u001b[0;32m--> 165\u001b[0;31m         \u001b[0mresult\u001b[0m \u001b[0;34m=\u001b[0m \u001b[0msio\u001b[0m\u001b[0;34m.\u001b[0m\u001b[0mloadmat\u001b[0m\u001b[0;34m(\u001b[0m\u001b[0mpath\u001b[0m\u001b[0;34m)\u001b[0m\u001b[0;34m\u001b[0m\u001b[0;34m\u001b[0m\u001b[0m\n\u001b[0m\u001b[1;32m    166\u001b[0m     \u001b[0;32mreturn\u001b[0m \u001b[0mresult\u001b[0m\u001b[0;34m\u001b[0m\u001b[0;34m\u001b[0m\u001b[0m\n\u001b[1;32m    167\u001b[0m \u001b[0;34m\u001b[0m\u001b[0m\n",
      "\u001b[0;32m~/GEMS_python/venv/lib/python3.6/site-packages/scipy/io/matlab/mio.py\u001b[0m in \u001b[0;36mloadmat\u001b[0;34m(file_name, mdict, appendmat, **kwargs)\u001b[0m\n\u001b[1;32m    214\u001b[0m     \"\"\"\n\u001b[1;32m    215\u001b[0m     \u001b[0mvariable_names\u001b[0m \u001b[0;34m=\u001b[0m \u001b[0mkwargs\u001b[0m\u001b[0;34m.\u001b[0m\u001b[0mpop\u001b[0m\u001b[0;34m(\u001b[0m\u001b[0;34m'variable_names'\u001b[0m\u001b[0;34m,\u001b[0m \u001b[0;32mNone\u001b[0m\u001b[0;34m)\u001b[0m\u001b[0;34m\u001b[0m\u001b[0;34m\u001b[0m\u001b[0m\n\u001b[0;32m--> 216\u001b[0;31m     \u001b[0;32mwith\u001b[0m \u001b[0m_open_file_context\u001b[0m\u001b[0;34m(\u001b[0m\u001b[0mfile_name\u001b[0m\u001b[0;34m,\u001b[0m \u001b[0mappendmat\u001b[0m\u001b[0;34m)\u001b[0m \u001b[0;32mas\u001b[0m \u001b[0mf\u001b[0m\u001b[0;34m:\u001b[0m\u001b[0;34m\u001b[0m\u001b[0;34m\u001b[0m\u001b[0m\n\u001b[0m\u001b[1;32m    217\u001b[0m         \u001b[0mMR\u001b[0m\u001b[0;34m,\u001b[0m \u001b[0m_\u001b[0m \u001b[0;34m=\u001b[0m \u001b[0mmat_reader_factory\u001b[0m\u001b[0;34m(\u001b[0m\u001b[0mf\u001b[0m\u001b[0;34m,\u001b[0m \u001b[0;34m**\u001b[0m\u001b[0mkwargs\u001b[0m\u001b[0;34m)\u001b[0m\u001b[0;34m\u001b[0m\u001b[0;34m\u001b[0m\u001b[0m\n\u001b[1;32m    218\u001b[0m         \u001b[0mmatfile_dict\u001b[0m \u001b[0;34m=\u001b[0m \u001b[0mMR\u001b[0m\u001b[0;34m.\u001b[0m\u001b[0mget_variables\u001b[0m\u001b[0;34m(\u001b[0m\u001b[0mvariable_names\u001b[0m\u001b[0;34m)\u001b[0m\u001b[0;34m\u001b[0m\u001b[0;34m\u001b[0m\u001b[0m\n",
      "\u001b[0;32m/usr/lib/python3.6/contextlib.py\u001b[0m in \u001b[0;36m__enter__\u001b[0;34m(self)\u001b[0m\n\u001b[1;32m     79\u001b[0m     \u001b[0;32mdef\u001b[0m \u001b[0m__enter__\u001b[0m\u001b[0;34m(\u001b[0m\u001b[0mself\u001b[0m\u001b[0;34m)\u001b[0m\u001b[0;34m:\u001b[0m\u001b[0;34m\u001b[0m\u001b[0;34m\u001b[0m\u001b[0m\n\u001b[1;32m     80\u001b[0m         \u001b[0;32mtry\u001b[0m\u001b[0;34m:\u001b[0m\u001b[0;34m\u001b[0m\u001b[0;34m\u001b[0m\u001b[0m\n\u001b[0;32m---> 81\u001b[0;31m             \u001b[0;32mreturn\u001b[0m \u001b[0mnext\u001b[0m\u001b[0;34m(\u001b[0m\u001b[0mself\u001b[0m\u001b[0;34m.\u001b[0m\u001b[0mgen\u001b[0m\u001b[0;34m)\u001b[0m\u001b[0;34m\u001b[0m\u001b[0;34m\u001b[0m\u001b[0m\n\u001b[0m\u001b[1;32m     82\u001b[0m         \u001b[0;32mexcept\u001b[0m \u001b[0mStopIteration\u001b[0m\u001b[0;34m:\u001b[0m\u001b[0;34m\u001b[0m\u001b[0;34m\u001b[0m\u001b[0m\n\u001b[1;32m     83\u001b[0m             \u001b[0;32mraise\u001b[0m \u001b[0mRuntimeError\u001b[0m\u001b[0;34m(\u001b[0m\u001b[0;34m\"generator didn't yield\"\u001b[0m\u001b[0;34m)\u001b[0m \u001b[0;32mfrom\u001b[0m \u001b[0;32mNone\u001b[0m\u001b[0;34m\u001b[0m\u001b[0;34m\u001b[0m\u001b[0m\n",
      "\u001b[0;32m~/GEMS_python/venv/lib/python3.6/site-packages/scipy/io/matlab/mio.py\u001b[0m in \u001b[0;36m_open_file_context\u001b[0;34m(file_like, appendmat, mode)\u001b[0m\n\u001b[1;32m     17\u001b[0m \u001b[0;34m@\u001b[0m\u001b[0mcontextmanager\u001b[0m\u001b[0;34m\u001b[0m\u001b[0;34m\u001b[0m\u001b[0m\n\u001b[1;32m     18\u001b[0m \u001b[0;32mdef\u001b[0m \u001b[0m_open_file_context\u001b[0m\u001b[0;34m(\u001b[0m\u001b[0mfile_like\u001b[0m\u001b[0;34m,\u001b[0m \u001b[0mappendmat\u001b[0m\u001b[0;34m,\u001b[0m \u001b[0mmode\u001b[0m\u001b[0;34m=\u001b[0m\u001b[0;34m'rb'\u001b[0m\u001b[0;34m)\u001b[0m\u001b[0;34m:\u001b[0m\u001b[0;34m\u001b[0m\u001b[0;34m\u001b[0m\u001b[0m\n\u001b[0;32m---> 19\u001b[0;31m     \u001b[0mf\u001b[0m\u001b[0;34m,\u001b[0m \u001b[0mopened\u001b[0m \u001b[0;34m=\u001b[0m \u001b[0m_open_file\u001b[0m\u001b[0;34m(\u001b[0m\u001b[0mfile_like\u001b[0m\u001b[0;34m,\u001b[0m \u001b[0mappendmat\u001b[0m\u001b[0;34m,\u001b[0m \u001b[0mmode\u001b[0m\u001b[0;34m)\u001b[0m\u001b[0;34m\u001b[0m\u001b[0;34m\u001b[0m\u001b[0m\n\u001b[0m\u001b[1;32m     20\u001b[0m     \u001b[0;32myield\u001b[0m \u001b[0mf\u001b[0m\u001b[0;34m\u001b[0m\u001b[0;34m\u001b[0m\u001b[0m\n\u001b[1;32m     21\u001b[0m     \u001b[0;32mif\u001b[0m \u001b[0mopened\u001b[0m\u001b[0;34m:\u001b[0m\u001b[0;34m\u001b[0m\u001b[0;34m\u001b[0m\u001b[0m\n",
      "\u001b[0;32m~/GEMS_python/venv/lib/python3.6/site-packages/scipy/io/matlab/mio.py\u001b[0m in \u001b[0;36m_open_file\u001b[0;34m(file_like, appendmat, mode)\u001b[0m\n\u001b[1;32m     43\u001b[0m             \u001b[0;32mif\u001b[0m \u001b[0mappendmat\u001b[0m \u001b[0;32mand\u001b[0m \u001b[0;32mnot\u001b[0m \u001b[0mfile_like\u001b[0m\u001b[0;34m.\u001b[0m\u001b[0mendswith\u001b[0m\u001b[0;34m(\u001b[0m\u001b[0;34m'.mat'\u001b[0m\u001b[0;34m)\u001b[0m\u001b[0;34m:\u001b[0m\u001b[0;34m\u001b[0m\u001b[0;34m\u001b[0m\u001b[0m\n\u001b[1;32m     44\u001b[0m                 \u001b[0mfile_like\u001b[0m \u001b[0;34m+=\u001b[0m \u001b[0;34m'.mat'\u001b[0m\u001b[0;34m\u001b[0m\u001b[0;34m\u001b[0m\u001b[0m\n\u001b[0;32m---> 45\u001b[0;31m             \u001b[0;32mreturn\u001b[0m \u001b[0mopen\u001b[0m\u001b[0;34m(\u001b[0m\u001b[0mfile_like\u001b[0m\u001b[0;34m,\u001b[0m \u001b[0mmode\u001b[0m\u001b[0;34m)\u001b[0m\u001b[0;34m,\u001b[0m \u001b[0;32mTrue\u001b[0m\u001b[0;34m\u001b[0m\u001b[0;34m\u001b[0m\u001b[0m\n\u001b[0m\u001b[1;32m     46\u001b[0m         \u001b[0;32melse\u001b[0m\u001b[0;34m:\u001b[0m\u001b[0;34m\u001b[0m\u001b[0;34m\u001b[0m\u001b[0m\n\u001b[1;32m     47\u001b[0m             \u001b[0;32mraise\u001b[0m \u001b[0mIOError\u001b[0m\u001b[0;34m(\u001b[0m\u001b[0;34m'Reader needs file name or open file-like object'\u001b[0m\u001b[0;34m)\u001b[0m\u001b[0;34m\u001b[0m\u001b[0;34m\u001b[0m\u001b[0m\n",
      "\u001b[0;31mFileNotFoundError\u001b[0m: [Errno 2] No such file or directory: '/media/sf_GEMS/Data/Preprocessed_raw/OMI_L3_tempConv/OMHCHOG_2016_051.mat'"
     ]
    }
   ],
   "source": [
    "    # Gathering part files\n",
    "    data_yr = []\n",
    "    for m in range(50, 350+1, 50):\n",
    "        tmp_fname = f'OMHCHOG_{yr}_{list_doy[m]:03d}.mat'\n",
    "        mat = matlab.loadmat(os.path.join(write_path, tmp_fname))\n",
    "        data_sub = mat['data_sub']\n",
    "        data_yr = np.concatenate((data_yr, data_sub), axis=1) # data_yr=[data_yr,data_sub];"
   ]
  },
  {
   "cell_type": "code",
   "execution_count": null,
   "metadata": {},
   "outputs": [],
   "source": [
    "\n",
    "    tmp_fname = f'OMHCHOG_{yr}_end.mat'\n",
    "    mat = matlab.loadmat(os.path.join(write_path, tmp_fname))\n",
    "    data_sub = mat['data_sub']\n",
    "    data_yr = np.concatenate((data_yr, data_sub), axis=1)\n",
    "    np.where(np.isnan(data_yr), -9999, data_yr) # data_yr(isnan(data_yr))=-9999;\n",
    "    # header = [f'd{x:03d}' for x in range(1, days+1)] # Not used after   \n",
    "    \n",
    "    tmp_fname = f'OMHCHOG_{yr}_DU.mat'\n",
    "    matlab.savemat(write_path, tmp_fname, {'data_yr':data_yr})\n",
    "    \n",
    "    print (yr)\n",
    "    tElapsed = time.time() - tStart\n",
    "    print (f'{tElapsed} second')"
   ]
  }
 ],
 "metadata": {
  "kernelspec": {
   "display_name": "venv",
   "language": "python",
   "name": "venv"
  },
  "language_info": {
   "codemirror_mode": {
    "name": "ipython",
    "version": 3
   },
   "file_extension": ".py",
   "mimetype": "text/x-python",
   "name": "python",
   "nbconvert_exporter": "python",
   "pygments_lexer": "ipython3",
   "version": "3.6.8"
  }
 },
 "nbformat": 4,
 "nbformat_minor": 2
}
