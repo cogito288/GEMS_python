{
 "cells": [
  {
   "cell_type": "markdown",
   "metadata": {},
   "source": [
    "# OMI_01_timeseries_mat.m"
   ]
  },
  {
   "cell_type": "code",
   "execution_count": 25,
   "metadata": {
    "collapsed": true
   },
   "outputs": [
    {
     "name": "stdout",
     "output_type": "stream",
     "text": [
      "OMNO2d\n",
      "Creating OMNO2d_2016_DU.mat\n",
      "Reading OMI-Aura_L3-OMNO2d_2016m0101_v003-2016m0825t051021.he5\n",
      "Reading OMI-Aura_L3-OMNO2d_2016m0102_v003-2016m0825t051135.he5\n",
      "Created OMNO2d_2016_DU.mat\n",
      "2016\n",
      "1.2447798252105713 second\n",
      "OMSO2e\n",
      "Creating OMSO2d_2016_DU.mat\n",
      "Reading OMI-Aura_L3-OMSO2e_2016m0101_v003-2016m0108t112606.he5\n"
     ]
    },
    {
     "name": "stderr",
     "output_type": "stream",
     "text": [
      "/home/sehyun/GEMS_python/venv/lib/python3.6/site-packages/ipykernel_launcher.py:68: RuntimeWarning: invalid value encountered in greater_equal\n",
      "/home/sehyun/GEMS_python/venv/lib/python3.6/site-packages/ipykernel_launcher.py:69: RuntimeWarning: invalid value encountered in greater_equal\n"
     ]
    },
    {
     "name": "stdout",
     "output_type": "stream",
     "text": [
      "Reading OMI-Aura_L3-OMSO2e_2016m0102_v003-2016m0108t112612.he5\n",
      "Created OMSO2d_2016_DU.mat\n",
      "2016\n",
      "1.281423807144165 second\n",
      "OMDOAO3e\n",
      "Creating OMDOAO3e_m_2016.mat\n",
      "Reading OMI-Aura_L3-OMDOAO3e_2016m0101_v003-2016m0103t015211.he5\n",
      "Reading OMI-Aura_L3-OMDOAO3e_2016m0102_v003-2016m0104t020153.he5\n",
      "Created OMDOAO3e_m_2016.mat\n",
      "2016\n",
      "1.3668417930603027 second\n",
      "OMHCHOG\n",
      "Creating OMHCHOG_2016.mat\n",
      "Reading OMHCHOG_2016.mat\n"
     ]
    },
    {
     "ename": "TypeError",
     "evalue": "Can't broadcast (10800,) -> (1036800,)",
     "output_type": "error",
     "traceback": [
      "\u001b[0;31m---------------------------------------------------------------------------\u001b[0m",
      "\u001b[0;31mTypeError\u001b[0m                                 Traceback (most recent call last)",
      "\u001b[0;32m<ipython-input-25-db25ed9709e0>\u001b[0m in \u001b[0;36m<module>\u001b[0;34m\u001b[0m\n\u001b[1;32m    192\u001b[0m             \u001b[0mVCD_avg\u001b[0m \u001b[0;34m=\u001b[0m \u001b[0mnp\u001b[0m\u001b[0;34m.\u001b[0m\u001b[0mnanmean\u001b[0m\u001b[0;34m(\u001b[0m\u001b[0mVCD_filtered\u001b[0m\u001b[0;34m,\u001b[0m \u001b[0maxis\u001b[0m\u001b[0;34m=\u001b[0m\u001b[0;36m2\u001b[0m\u001b[0;34m)\u001b[0m\u001b[0;34m\u001b[0m\u001b[0;34m\u001b[0m\u001b[0m\n\u001b[1;32m    193\u001b[0m             \u001b[0mVCD_avg\u001b[0m\u001b[0;34m[\u001b[0m\u001b[0mnp\u001b[0m\u001b[0;34m.\u001b[0m\u001b[0misnan\u001b[0m\u001b[0;34m(\u001b[0m\u001b[0mVCD_avg\u001b[0m\u001b[0;34m)\u001b[0m\u001b[0;34m]\u001b[0m \u001b[0;34m=\u001b[0m \u001b[0;34m-\u001b[0m\u001b[0;36m9999\u001b[0m \u001b[0;31m# data_yr(isnan(data_yr))=-9999;\u001b[0m\u001b[0;34m\u001b[0m\u001b[0;34m\u001b[0m\u001b[0m\n\u001b[0;32m--> 194\u001b[0;31m             \u001b[0mdata_yr\u001b[0m\u001b[0;34m[\u001b[0m\u001b[0;34m:\u001b[0m\u001b[0;34m,\u001b[0m \u001b[0mlist_doy\u001b[0m\u001b[0;34m[\u001b[0m\u001b[0mi\u001b[0m\u001b[0;34m]\u001b[0m\u001b[0;34m]\u001b[0m \u001b[0;34m=\u001b[0m \u001b[0mVCD_avg\u001b[0m\u001b[0;34m.\u001b[0m\u001b[0mflatten\u001b[0m\u001b[0;34m(\u001b[0m\u001b[0;34m)\u001b[0m \u001b[0;31m# Put daily data as column vector\u001b[0m\u001b[0;34m\u001b[0m\u001b[0;34m\u001b[0m\u001b[0m\n\u001b[0m\u001b[1;32m    195\u001b[0m \u001b[0;34m\u001b[0m\u001b[0m\n\u001b[1;32m    196\u001b[0m             \u001b[0;31m# header = [f'd{x:03d}' for x in range(1, days+1)] # Not used after\u001b[0m\u001b[0;34m\u001b[0m\u001b[0;34m\u001b[0m\u001b[0;34m\u001b[0m\u001b[0m\n",
      "\u001b[0;32mh5py/_objects.pyx\u001b[0m in \u001b[0;36mh5py._objects.with_phil.wrapper\u001b[0;34m()\u001b[0m\n",
      "\u001b[0;32mh5py/_objects.pyx\u001b[0m in \u001b[0;36mh5py._objects.with_phil.wrapper\u001b[0;34m()\u001b[0m\n",
      "\u001b[0;32m~/GEMS_python/venv/lib/python3.6/site-packages/h5py/_hl/dataset.py\u001b[0m in \u001b[0;36m__setitem__\u001b[0;34m(self, args, val)\u001b[0m\n\u001b[1;32m    705\u001b[0m             \u001b[0mmshape_pad\u001b[0m \u001b[0;34m=\u001b[0m \u001b[0mmshape\u001b[0m\u001b[0;34m\u001b[0m\u001b[0;34m\u001b[0m\u001b[0m\n\u001b[1;32m    706\u001b[0m         \u001b[0mmspace\u001b[0m \u001b[0;34m=\u001b[0m \u001b[0mh5s\u001b[0m\u001b[0;34m.\u001b[0m\u001b[0mcreate_simple\u001b[0m\u001b[0;34m(\u001b[0m\u001b[0mmshape_pad\u001b[0m\u001b[0;34m,\u001b[0m \u001b[0;34m(\u001b[0m\u001b[0mh5s\u001b[0m\u001b[0;34m.\u001b[0m\u001b[0mUNLIMITED\u001b[0m\u001b[0;34m,\u001b[0m\u001b[0;34m)\u001b[0m\u001b[0;34m*\u001b[0m\u001b[0mlen\u001b[0m\u001b[0;34m(\u001b[0m\u001b[0mmshape_pad\u001b[0m\u001b[0;34m)\u001b[0m\u001b[0;34m)\u001b[0m\u001b[0;34m\u001b[0m\u001b[0;34m\u001b[0m\u001b[0m\n\u001b[0;32m--> 707\u001b[0;31m         \u001b[0;32mfor\u001b[0m \u001b[0mfspace\u001b[0m \u001b[0;32min\u001b[0m \u001b[0mselection\u001b[0m\u001b[0;34m.\u001b[0m\u001b[0mbroadcast\u001b[0m\u001b[0;34m(\u001b[0m\u001b[0mmshape\u001b[0m\u001b[0;34m)\u001b[0m\u001b[0;34m:\u001b[0m\u001b[0;34m\u001b[0m\u001b[0;34m\u001b[0m\u001b[0m\n\u001b[0m\u001b[1;32m    708\u001b[0m             \u001b[0mself\u001b[0m\u001b[0;34m.\u001b[0m\u001b[0mid\u001b[0m\u001b[0;34m.\u001b[0m\u001b[0mwrite\u001b[0m\u001b[0;34m(\u001b[0m\u001b[0mmspace\u001b[0m\u001b[0;34m,\u001b[0m \u001b[0mfspace\u001b[0m\u001b[0;34m,\u001b[0m \u001b[0mval\u001b[0m\u001b[0;34m,\u001b[0m \u001b[0mmtype\u001b[0m\u001b[0;34m,\u001b[0m \u001b[0mdxpl\u001b[0m\u001b[0;34m=\u001b[0m\u001b[0mself\u001b[0m\u001b[0;34m.\u001b[0m\u001b[0m_dxpl\u001b[0m\u001b[0;34m)\u001b[0m\u001b[0;34m\u001b[0m\u001b[0;34m\u001b[0m\u001b[0m\n\u001b[1;32m    709\u001b[0m \u001b[0;34m\u001b[0m\u001b[0m\n",
      "\u001b[0;32m~/GEMS_python/venv/lib/python3.6/site-packages/h5py/_hl/selections.py\u001b[0m in \u001b[0;36mbroadcast\u001b[0;34m(self, target_shape)\u001b[0m\n\u001b[1;32m    297\u001b[0m                     \u001b[0mtshape\u001b[0m\u001b[0;34m.\u001b[0m\u001b[0mappend\u001b[0m\u001b[0;34m(\u001b[0m\u001b[0mt\u001b[0m\u001b[0;34m)\u001b[0m\u001b[0;34m\u001b[0m\u001b[0;34m\u001b[0m\u001b[0m\n\u001b[1;32m    298\u001b[0m                 \u001b[0;32melse\u001b[0m\u001b[0;34m:\u001b[0m\u001b[0;34m\u001b[0m\u001b[0;34m\u001b[0m\u001b[0m\n\u001b[0;32m--> 299\u001b[0;31m                     \u001b[0;32mraise\u001b[0m \u001b[0mTypeError\u001b[0m\u001b[0;34m(\u001b[0m\u001b[0;34m\"Can't broadcast %s -> %s\"\u001b[0m \u001b[0;34m%\u001b[0m \u001b[0;34m(\u001b[0m\u001b[0mtarget_shape\u001b[0m\u001b[0;34m,\u001b[0m \u001b[0mself\u001b[0m\u001b[0;34m.\u001b[0m\u001b[0mmshape\u001b[0m\u001b[0;34m)\u001b[0m\u001b[0;34m)\u001b[0m\u001b[0;34m\u001b[0m\u001b[0;34m\u001b[0m\u001b[0m\n\u001b[0m\u001b[1;32m    300\u001b[0m \u001b[0;34m\u001b[0m\u001b[0m\n\u001b[1;32m    301\u001b[0m         \u001b[0;32mif\u001b[0m \u001b[0many\u001b[0m\u001b[0;34m(\u001b[0m\u001b[0;34m[\u001b[0m\u001b[0mn\u001b[0m \u001b[0;34m>\u001b[0m \u001b[0;36m1\u001b[0m \u001b[0;32mfor\u001b[0m \u001b[0mn\u001b[0m \u001b[0;32min\u001b[0m \u001b[0mtarget\u001b[0m\u001b[0;34m]\u001b[0m\u001b[0;34m)\u001b[0m\u001b[0;34m:\u001b[0m\u001b[0;34m\u001b[0m\u001b[0;34m\u001b[0m\u001b[0m\n",
      "\u001b[0;31mTypeError\u001b[0m: Can't broadcast (10800,) -> (1036800,)"
     ]
    }
   ],
   "source": [
    "### Package Import\n",
    "import sys\n",
    "import os\n",
    "base_dir = os.environ['GEMS_HOME']\n",
    "project_path = os.path.join(base_dir, 'python-refactor')\n",
    "sys.path.insert(0, project_path)\n",
    "from Code.utils import matlab\n",
    "\n",
    "import scipy.io as sio\n",
    "import numpy as np\n",
    "import glob\n",
    "import time\n",
    "import h5py \n",
    "\n",
    "### Setting path\n",
    "data_base_dir = os.path.join('/', 'media', 'sf_GEMS', 'Data')\n",
    "omi_path = os.path.join(data_base_dir, 'Raw', 'OMI') \n",
    "\n",
    "### Setting period\n",
    "YEARS = [2016] #, 2018, 2019\n",
    "\n",
    "\n",
    "\n",
    "def create_L3(year, read_path, flist, write_path, fname, data_type):\n",
    "    print (f\"Creating {fname}\")\n",
    "    doy_000 = matlab.datenum(f'{year}0000')\n",
    "    if data_type == 'OMDOAO3e':\n",
    "        list_doy = [matlab.datenum(f'{x[21:25]}{x[26:30]}')-doy_000 for x in flist]\n",
    "    else:\n",
    "        list_doy = [matlab.datenum(f'{x[19:23]}{x[24:28]}')-doy_000 for x in flist]\n",
    "    size = (1036800, days)\n",
    "    \n",
    "    # Create data_yr\n",
    "    with h5py.File(os.path.join(write_path, fname), 'w') as f:\n",
    "        data_yr = f.create_dataset('data_yr', shape=size, \n",
    "                                   dtype=np.float64, fillvalue=-9999, chunks=True)\n",
    "        for i, read_fname in enumerate(flist[:2]):\n",
    "            print (f\"Reading {read_fname}\")\n",
    "            if data_type == 'OMNO2d':\n",
    "                data = matlab.h5read(os.path.join(read_path, read_fname), \n",
    "                                 '/HDFEOS/GRIDS/ColumnAmountNO2/Data Fields/ColumnAmountNO2TropCloudScreened')\n",
    "                data = np.float64(data); \n",
    "                data[data<=-1.2676506e+30] = np.nan # Assign NaN value to pixel that is out of valid range\n",
    "                data = data * 3.7216e-17   \n",
    "            \n",
    "            elif data_type in ['OMSO2e', 'OMDOAO3e']:\n",
    "                if data_type == 'OMSO2e':\n",
    "                    data = matlab.h5read(os.path.join(read_path, read_fname), \n",
    "                                          '/HDFEOS/GRIDS/OMI Total Column Amount SO2/Data Fields/ColumnAmountSO2_PBL')\n",
    "                    rcf = matlab.h5read(os.path.join(read_path, read_fname), \n",
    "                                         '/HDFEOS/GRIDS/OMI Total Column Amount SO2/Data Fields/RadiativeCloudFraction')\n",
    "                    sza = matlab.h5read(os.path.join(read_path, read_fname), \n",
    "                                         '/HDFEOS/GRIDS/OMI Total Column Amount SO2/Data Fields/SolarZenithAngle')\n",
    "                elif data_type == 'OMDOAO3e':\n",
    "                    data = matlab.h5read(os.path.join(read_path, read_fname), \n",
    "                                          '/HDFEOS/GRIDS/ColumnAmountO3/Data Fields/ColumnAmountO3')\n",
    "                    rcf = matlab.h5read(os.path.join(read_path, read_fname), \n",
    "                                        '/HDFEOS/GRIDS/ColumnAmountO3/Data Fields/CloudFraction')\n",
    "                    sza = matlab.h5read(os.path.join(read_path, read_fname), \n",
    "                                         '/HDFEOS/GRIDS/ColumnAmountO3/Data Fields/SolarZenithAngle')\n",
    "                    \n",
    "                data = np.float64(data); data[data<=-1.2676506e+30] = np.nan # Assign NaN value to pixel that is out of valid range\n",
    "                rcf = np.float64(rcf); rcf[rcf<=-1.2676506e+30] = np.nan\n",
    "                sza = np.float64(sza); sza[sza<=-1.2676506e+30] = np.nan\n",
    "\n",
    "                # Filtering SO2_VCD with the condition of radiative cloud fraction and\n",
    "                # solar zenith angle    \n",
    "                data[rcf>=0.3]=np.nan\n",
    "                data[sza>=78]=np.nan\n",
    "            \n",
    "            data[np.isnan(data)] = -9999 # trick. data_yr(isnan(data_yr))=-9999;\n",
    "            data_yr[:, list_doy[i]] = data.flatten() # Put daily data as column vector\n",
    "            # header = [f'd{x:03d}' for x in range(1, days+1)] # Not used after\n",
    "    print (f\"Created {fname}\")\n",
    "\n",
    "### OMNO2d\n",
    "print ('OMNO2d')\n",
    "for yr in YEARS:\n",
    "    tStart = time.time()\n",
    "    curr_path = os.path.join(omi_path, 'L3', 'OMNO2d', str(yr))\n",
    "    list_char = glob.glob(os.path.join(curr_path, '*.he5'))\n",
    "    list_char = [os.path.basename(f) for f in list_char]\n",
    "    \n",
    "    if yr%4==0: days = 366\n",
    "    else: days = 365\n",
    "        \n",
    "    write_path = os.path.join(data_base_dir, 'Preprocessed_raw', 'OMI_tempConv')\n",
    "    fname = f'OMNO2d_{yr}_DU.mat'\n",
    "    matlab.check_make_dir(write_path) # For debugging\n",
    "    \n",
    "    create_L3(year=yr, read_path=curr_path, flist=list_char,\n",
    "                       write_path=write_path, fname=fname, data_type='OMNO2d')\n",
    "    print (yr)\n",
    "    tElapsed = time.time() - tStart\n",
    "    print (f'{tElapsed} second')\n",
    "    \n",
    "### OMSO2e\n",
    "print ('OMSO2e')\n",
    "for yr in YEARS:\n",
    "    tStart = time.time()\n",
    "    curr_path = os.path.join(omi_path, 'L3', 'OMSO2e', str(yr))\n",
    "    list_char = glob.glob(os.path.join(curr_path, '*.he5'))\n",
    "    list_char = [os.path.basename(f) for f in list_char]\n",
    "    \n",
    "    if yr%4==0: days = 366\n",
    "    else: days = 365\n",
    "        \n",
    "    write_path = os.path.join(data_base_dir, 'Preprocessed_raw', 'OMI_L3_tempConv')\n",
    "    fname = f'OMSO2d_{yr}_DU.mat'\n",
    "    matlab.check_make_dir(write_path) # For debugging\n",
    "    \n",
    "    create_L3(year=yr, read_path=curr_path, flist=list_char,\n",
    "                       write_path=write_path, fname=fname, data_type='OMSO2e')\n",
    "    print (yr)\n",
    "    tElapsed = time.time() - tStart\n",
    "    print (f'{tElapsed} second')\n",
    "    \n",
    "### OMDOAO3e\n",
    "print ('OMDOAO3e')\n",
    "for yr in YEARS:\n",
    "    tStart = time.time()\n",
    "    curr_path = os.path.join(omi_path, 'L3', 'OMDOAO3e', str(yr))\n",
    "    list_char = glob.glob(os.path.join(curr_path, '*.he5'))\n",
    "    list_char = [os.path.basename(f) for f in list_char]\n",
    "\n",
    "    if yr%4==0: days = 366\n",
    "    else: days = 365\n",
    "\n",
    "    write_path = os.path.join(data_base_dir, 'Preprocessed_raw', 'OMI_L3_tempConv')\n",
    "    fname = f'OMDOAO3e_m_{yr}.mat'\n",
    "    matlab.check_make_dir(write_path) # For debugging\n",
    "    \n",
    "    create_L3(year=yr, read_path=curr_path, flist=list_char,\n",
    "                       write_path=write_path, fname=fname, data_type='OMDOAO3e')\n",
    "    print (yr)\n",
    "    tElapsed = time.time() - tStart\n",
    "    print (f'{tElapsed} second')\n",
    "    \n",
    "### OMHCHOG\n",
    "print ('OMHCHOG')\n",
    "for yr in YEARS:\n",
    "    tStart = time.time()\n",
    "    curr_path = os.path.join(omi_path, 'L2', 'OMHCHOG', str(yr))\n",
    "    list_char = glob.glob(os.path.join(curr_path, '*.he5'))\n",
    "    list_char = [os.path.basename(f) for f in list_char]\n",
    "\n",
    "    if yr%4==0: days = 366\n",
    "    else: days = 365\n",
    "\n",
    "    write_path = os.path.join(data_base_dir, 'Preprocessed_raw', 'OMI_L3_tempConv')\n",
    "    fname = f'OMHCHOG_{yr}.mat'\n",
    "    matlab.check_make_dir(write_path) # For debugging\n",
    "    \n",
    "    doy_000 = matlab.datenum(f'{yr}0000')\n",
    "    list_doy = [matlab.datenum(f'{x[21:25]}{x[26:30]}')-doy_000 for x in list_char]\n",
    "    \n",
    "    print (f\"Creating {fname}\")\n",
    "    size = (1036800, days)\n",
    "    with h5py.File(os.path.join(write_path, fname), 'w') as f:\n",
    "        data_yr = f.create_dataset('data_yr', shape=size, \n",
    "                                   dtype=np.float64, fillvalue=-9999, chunks=True)\n",
    "        for i, read_fname in enumerate(list_char[:2]):\n",
    "            print (f\"Reading {fname}\")\n",
    "            data = matlab.h5read(os.path.join(curr_path, read_fname),\n",
    "                                  '/HDFEOS/GRIDS/OMI Total Column Amount HCHO/Data Fields/ColumnAmountDestriped')\n",
    "            QA = matlab.h5read(os.path.join(curr_path, read_fname),\n",
    "                               '/HDFEOS/GRIDS/OMI Total Column Amount HCHO/Data Fields/MainDataQualityFlag')\n",
    "            \n",
    "            sza = matlab.h5read(os.path.join(curr_path, read_fname),\n",
    "                                '/HDFEOS/GRIDS/OMI Total Column Amount HCHO/Data Fields/SolarZenithAngle')\n",
    "            \n",
    "            # Assign NaN value to pixel that is out of valid range\n",
    "            data = np.float64(matlab.permute(data,(1,0,2)))\n",
    "            data[data<=-1.0e+30] = np.nan\n",
    "            VCD = data * 3.7216e-17\n",
    "            \n",
    "            QA = np.float64(matlab.permute(QA, (1,0,2)))\n",
    "            QA[QA<=-30000] = np.nan\n",
    "            \n",
    "            sza = np.float64(matlab.permute(sza,(1,0,2)))\n",
    "            sza[sza<=-1.0e+30] = np.nan\n",
    "            \n",
    "            VCD_filtered = np.zeros(VCD.shape)\n",
    "            for k in range(15):\n",
    "                VCD_temp = VCD[:,:,k]\n",
    "                QA_temp = QA[:,:,k]\n",
    "                sza_temp = sza[:,:,k]\n",
    "\n",
    "                VCD_temp[QA_temp!=0] = np.nan #  Good columns (0) / Suspect columns (1) / Bad columns (2) / missing (<0)\n",
    "                VCD_temp[sza_temp>88] = np.nan\n",
    "                VCD_filtered[:,:,k] = VCD_temp\n",
    "            VCD_avg = np.nanmean(VCD_filtered, axis=2)\n",
    "            VCD_avg[np.isnan(VCD_avg)] = -9999 # data_yr(isnan(data_yr))=-9999;\n",
    "            data_yr[:, list_doy[i]] = VCD_avg.flatten() # Put daily data as column vector\n",
    "            \n",
    "            # header = [f'd{x:03d}' for x in range(1, days+1)] # Not used after\n",
    "            \n",
    "            if list_doy[i]%50==0:\n",
    "                tmp_fname = f'OMHCHOG_{yr}_{list_doy[i]:03d}.mat'\n",
    "                data_sub = data_yr[:, list_doy[i]-48:list_doy[i]]\n",
    "                matlab.savemat(write_path, tmp_fname, {'data_sub':data_sub})\n",
    "                print (f\"Created {tmp_fname}\")\n",
    "            elif i==matlab.length(list_char):\n",
    "                tmp_fname = f'OMHCHOG_{yr}_end.mat'\n",
    "                data_sub = data_yr[:, 350:]\n",
    "                matlab.savemat(write_path, tmp_fname, {'data_sub':data_sub})\n",
    "    print (f\"Created {fname}\")\n",
    "    \n",
    "    i = len(list_char)-1\n",
    "    # Gathering part files\n",
    "    data_yr = []\n",
    "    for m in range(50, 350+1, 50):\n",
    "        tmp_fname = f'OMHCHOG_{yr}_{list_doy[i]:03d}.mat'\n",
    "        mat = matlab.loadmat(os.path.join(write_path, tmp_fname))\n",
    "        data_sub = mat['data_sub']\n",
    "        data_yr = np.concatenate((data_yr, data_sub), axis=1) # data_yr=[data_yr,data_sub];\n",
    "        \n",
    "    tmp_fname = f'OMHCHOG_{yr}_end.mat'\n",
    "    mat = matlab.loadmat(os.path.join(write_path, tmp_fname))\n",
    "    data_sub = mat['data_sub']\n",
    "    data_yr = np.concatenate((data_yr, data_sub), axis=1)\n",
    "    np.where(np.isnan(data_yr), -9999, data_yr) # data_yr(isnan(data_yr))=-9999;\n",
    "    # header = [f'd{x:03d}' for x in range(1, days+1)] # Not used after   \n",
    "    \n",
    "    tmp_fname = f'OMHCHOG_{yr}_DU.mat'\n",
    "    matlab.savemat(write_path, tmp_fname, {'data_yr':data_yr})\n",
    "    \n",
    "    \n",
    "    print (yr)\n",
    "    tElapsed = time.time() - tStart\n",
    "    print (f'{tElapsed} second')"
   ]
  },
  {
   "cell_type": "code",
   "execution_count": 31,
   "metadata": {},
   "outputs": [
    {
     "data": {
      "text/plain": [
       "(720, 15, 1440)"
      ]
     },
     "execution_count": 31,
     "metadata": {},
     "output_type": "execute_result"
    }
   ],
   "source": [
    "VCD_filtered.shape"
   ]
  },
  {
   "cell_type": "code",
   "execution_count": 33,
   "metadata": {},
   "outputs": [
    {
     "data": {
      "text/plain": [
       "(720, 15)"
      ]
     },
     "execution_count": 33,
     "metadata": {},
     "output_type": "execute_result"
    }
   ],
   "source": [
    "np.nanmean(VCD_filtered, axis=2).shape"
   ]
  },
  {
   "cell_type": "code",
   "execution_count": 29,
   "metadata": {},
   "outputs": [
    {
     "data": {
      "text/plain": [
       "(720, 15)"
      ]
     },
     "execution_count": 29,
     "metadata": {},
     "output_type": "execute_result"
    }
   ],
   "source": [
    "VCD_avg.shape"
   ]
  },
  {
   "cell_type": "code",
   "execution_count": null,
   "metadata": {},
   "outputs": [],
   "source": []
  },
  {
   "cell_type": "code",
   "execution_count": null,
   "metadata": {},
   "outputs": [],
   "source": []
  },
  {
   "cell_type": "code",
   "execution_count": 38,
   "metadata": {},
   "outputs": [],
   "source": [
    "data = matlab.h5read(os.path.join(curr_path, read_fname),\n",
    "                                  '/HDFEOS/GRIDS/OMI Total Column Amount HCHO/Data Fields/ColumnAmountDestriped')"
   ]
  },
  {
   "cell_type": "code",
   "execution_count": 40,
   "metadata": {},
   "outputs": [
    {
     "data": {
      "text/plain": [
       "(15, 720, 1440)"
      ]
     },
     "execution_count": 40,
     "metadata": {},
     "output_type": "execute_result"
    }
   ],
   "source": [
    "data.shape"
   ]
  },
  {
   "cell_type": "code",
   "execution_count": 47,
   "metadata": {},
   "outputs": [],
   "source": [
    "# Assign NaN value to pixel that is out of valid range\n",
    "data2 = matlab.permute(data,(1,0,2))"
   ]
  },
  {
   "cell_type": "code",
   "execution_count": 48,
   "metadata": {},
   "outputs": [
    {
     "data": {
      "text/plain": [
       "(720, 15, 1440)"
      ]
     },
     "execution_count": 48,
     "metadata": {},
     "output_type": "execute_result"
    }
   ],
   "source": [
    "data2.shape"
   ]
  },
  {
   "cell_type": "code",
   "execution_count": null,
   "metadata": {},
   "outputs": [],
   "source": []
  },
  {
   "cell_type": "code",
   "execution_count": null,
   "metadata": {},
   "outputs": [],
   "source": []
  },
  {
   "cell_type": "code",
   "execution_count": null,
   "metadata": {},
   "outputs": [],
   "source": []
  },
  {
   "cell_type": "code",
   "execution_count": null,
   "metadata": {},
   "outputs": [],
   "source": []
  },
  {
   "cell_type": "code",
   "execution_count": null,
   "metadata": {},
   "outputs": [],
   "source": []
  },
  {
   "cell_type": "code",
   "execution_count": null,
   "metadata": {},
   "outputs": [],
   "source": []
  },
  {
   "cell_type": "code",
   "execution_count": null,
   "metadata": {},
   "outputs": [],
   "source": []
  },
  {
   "cell_type": "code",
   "execution_count": null,
   "metadata": {},
   "outputs": [],
   "source": []
  },
  {
   "cell_type": "code",
   "execution_count": null,
   "metadata": {},
   "outputs": [],
   "source": []
  },
  {
   "cell_type": "markdown",
   "metadata": {},
   "source": [
    "# OMI_02_temporal_convolution_with_gaussian"
   ]
  },
  {
   "cell_type": "code",
   "execution_count": null,
   "metadata": {},
   "outputs": [],
   "source": [
    "### Package Import\n",
    "import sys\n",
    "import os\n",
    "base_dir = os.environ['GEMS_HOME']\n",
    "project_path = os.path.join(base_dir, 'python-refactor')\n",
    "sys.path.insert(0, project_path)\n",
    "from Code.utils import matlab\n",
    "\n",
    "import scipy.io as sio\n",
    "import numpy as np\n",
    "import glob\n",
    "import time\n",
    "import h5py \n",
    "\n",
    "### Setting path\n",
    "data_base_dir = os.path.join('/', 'media', 'sf_GEMS', 'Data')\n",
    "omi_l3_path = os.path.join(data_base_dir, 'Preprocessed_raw', 'OMI_L3_tempConv') \n",
    "\n",
    "\n",
    "### Setting period\n",
    "YEARS = [2016] #, 2018, 2019\n",
    "\n",
    "\n",
    "\n",
    "### Setting path\n",
    "data_path = os.path.join(project_path, 'Data')\n",
    "work_path = os.path.join(data_path, 'pre', 'OMI_L3_tempConv')\n",
    "# addpath(genpath([path_data,'/matlab_func/']))  % Add the path of external function (matlab_func) folder with subfolders\n",
    "\n",
    "pname_list = ['OMNO2d','OMSO2e_m','OMDOAO3e_m','OMHCHOG']\n",
    "\n",
    "mask = np.zeros((720, 1440))\n",
    "mask[340:552, 1020:1308] = 1\n",
    "mask = mask.flatten()\n",
    "\n",
    "\n",
    "### Temporal convolution with gaussian\n",
    "# for i in range(4):\n",
    "i = 3\n",
    "pname = pname_list[i]\n",
    "\n",
    "### Load data\n",
    "YEARS = range(2005, 2019+1)\n",
    "for yr in YEARS:\n",
    "    # data_yr = sio.loadmat(os.path.join(work_path, f'{pname}_{yr}.mat'))\n",
    "    data_yr = sio.loadmat(os.path.join(work_path, f'{pname}_trop_CS_{yr}_DU.mat'))\n",
    "    data_subset = data_yr[mask==1, :]\n",
    "    data = np.concatenate((data, data_subset), axis=1)\n",
    "data_org = data\n",
    "data[data==-9999] = np.nan\n",
    "sigma = 1\n",
    "data_conv = np.full(data.shape, np.nan)\n",
    "\n",
    "for k in range(data.shape[0]):\n",
    "    for t in range(5478): # for 15 years\n",
    "        w_sum = 0; x_sum = 0;\n",
    "        for n in range(5478): # for 15 years\n",
    "            if np.isnan(data[k,n])==0:\n",
    "                w = np.exp((-(k-n)**2)/(2*sigma**2)) #  calcuate weights using t,n(days) with sigma # (k+1)-(n-1)=k-n\n",
    "                x = data[k, n]*w\n",
    "                w_sum = w_sum+w\n",
    "                x_sum = x_sum+x\n",
    "        data_conv[k,t] = x_sum/w_sum\n",
    "    print (k)\n",
    "# sio.savemat(os.path.join(work_path, f'tempConv_{pname}_sigma_{sigma}_2005_2019.mat'), mdict={'data_conv':data_conv, 'data':data})\n",
    "sio.savemat(os.path.join(work_path, f'tempConv_{pname}_trop_CS_sigma{sigma}_2005_2019.mat'), mdict={'data_conv':data_conv, 'data':data})"
   ]
  }
 ],
 "metadata": {
  "kernelspec": {
   "display_name": "venv",
   "language": "python",
   "name": "venv"
  },
  "language_info": {
   "codemirror_mode": {
    "name": "ipython",
    "version": 3
   },
   "file_extension": ".py",
   "mimetype": "text/x-python",
   "name": "python",
   "nbconvert_exporter": "python",
   "pygments_lexer": "ipython3",
   "version": "3.6.8"
  }
 },
 "nbformat": 4,
 "nbformat_minor": 2
}
