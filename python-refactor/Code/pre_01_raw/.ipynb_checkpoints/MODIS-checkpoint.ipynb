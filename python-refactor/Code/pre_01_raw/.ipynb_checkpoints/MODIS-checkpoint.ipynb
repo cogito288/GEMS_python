{
 "cells": [
  {
   "cell_type": "code",
   "execution_count": 144,
   "metadata": {},
   "outputs": [
    {
     "data": {
      "text/plain": [
       "'/media/sf_GEMS/Data/Raw/MODIS/MCD12Q1/01_mosaic'"
      ]
     },
     "execution_count": 144,
     "metadata": {},
     "output_type": "execute_result"
    }
   ],
   "source": [
    "workspace"
   ]
  },
  {
   "cell_type": "code",
   "execution_count": 224,
   "metadata": {},
   "outputs": [
    {
     "data": {
      "text/plain": [
       "[1, 2, 3, 4]"
      ]
     },
     "execution_count": 224,
     "metadata": {},
     "output_type": "execute_result"
    }
   ],
   "source": [
    "[1,2]+[3,4]"
   ]
  },
  {
   "cell_type": "code",
   "execution_count": 244,
   "metadata": {},
   "outputs": [
    {
     "name": "stdout",
     "output_type": "stream",
     "text": [
      "2016\n"
     ]
    }
   ],
   "source": [
    "### Package Import\n",
    "import sys\n",
    "import os\n",
    "base_dir = os.environ['GEMS_HOME']\n",
    "project_path = os.path.join(base_dir, 'python-refactor')\n",
    "sys.path.insert(0, project_path)\n",
    "from Code.utils import matlab\n",
    "\n",
    "import scipy.io as sio\n",
    "import numpy as np\n",
    "import glob\n",
    "import time\n",
    "import h5py \n",
    "import pygrib\n",
    "import re\n",
    "from osgeo import gdal\n",
    "import tempfile\n",
    "#import arcpy\n",
    "#from arcpy import env\n",
    "\n",
    "\n",
    "### Setting path\n",
    "data_base_dir = os.path.join('/', 'media', 'sf_GEMS', 'Data')\n",
    "raw_modis_path = os.path.join(data_base_dir, 'Raw', 'MODIS', 'MCD12Q1') \n",
    "path_mosaic = os.path.join(data_base_dir, 'Preprocessed_raw', 'MODIS', '01_mosaic') #workspace = os.path.join(work_path, '01_mosaic')\n",
    "tmpdirname = tempfile.TemporaryDirectory(dir=base_dir)  # should call clean up to delete\n",
    "#path_data=\"\\\\\\\\10.72.26.46\\\\irisnas6\\\\Data\\\\MODIS_tile\\\\\"\n",
    "#path_work=path_data+\"02region\\\\EastAsia\\\\MCD12Q1\\\\\"\n",
    "#path_raw = path_data+\"00raw\\\\MCD12Q1\\\\\"\n",
    "\n",
    "flist = glob.glob(os.path.join(raw_modis_path, \"*.hdf\"))\n",
    "flist = [os.path.basename(f) for f in flist]\n",
    "flist.sort()\n",
    "nfile = len(flist)\n",
    "\n",
    "for k in range(0,nfile,14):\n",
    "    flist_temp = flist[k:k+14]\n",
    "    yr = flist_temp[0][9:13]\n",
    "    #print (flist_temp[0])\n",
    "    #print (yr)\n",
    "\n",
    "    for m in range(0,14):\n",
    "        # Extract Subdataset\n",
    "        fname = flist_temp[m]\n",
    "        dst_dataset = os.path.join(tmpdirname.name, f\"LC_{yr}_{m+1}.tif\")\n",
    "        #print (fname, dst_dataset)\n",
    "        \n",
    "        gdal_dataset = gdal.Open(os.path.join(raw_modis_path, fname))\n",
    "        src_dataset = gdal_dataset.GetSubDatasets()[0][0]\n",
    "        subprocess.call([\"gdal_translate\", dset, dst_dataset])\n",
    "        \n",
    "        if m==0:\n",
    "            input_files = [dst_dataset]\n",
    "        else:\n",
    "            input_files.append(dst_dataset)\n",
    "    \n",
    "    # Mosaic\n",
    "    matlab.check_make_dir(path_mosaic) # debugging\n",
    "    fname = f\"EA_MCD12Q1_mosaic_{yr}.tif\"\n",
    "    out_filename = os.path.join(path_mosaic, fname)\n",
    "    pixel_type = 'Int16'\n",
    "    cmd = [\"gdal_merge.py\", \"-init\", \"255\", \"-ot\", pixel_type, \"-o\", out_filename]\n",
    "    cmd = cmd + input_files\n",
    "    subprocess.call(cmd)\n",
    "    \n",
    "    tmpdirname.cleanup()\n",
    "    print(yr)"
   ]
  },
  {
   "cell_type": "code",
   "execution_count": 192,
   "metadata": {},
   "outputs": [
    {
     "name": "stdout",
     "output_type": "stream",
     "text": [
      "b'ERROR 4:  LC_2016_1.tif; LC_2016_2.tif: No such file or directory\\nTraceback (most recent call last):\\n  File \"/usr/bin/gdal_merge.py\", line 611, in <module>\\n    sys.exit(main())\\n  File \"/usr/bin/gdal_merge.py\", line 494, in main\\n    ulx = file_infos[0].ulx\\nIndexError: list index out of range\\n'\n",
      "===========================\n",
      "None\n"
     ]
    }
   ],
   "source": [
    "MyOut = subprocess.Popen([\"gdal_merge.py\", \"-init\", \"255\", \"-ot\", pixel_type, \n",
    "                 \"-o\", out_filename, \" LC_2016_1.tif; LC_2016_2.tif\"],\n",
    "            stdout=subprocess.PIPE, \n",
    "            stderr=subprocess.STDOUT)\n",
    "stdout, stderr = MyOut.communicate()\n",
    "print(stdout)\n",
    "print (\"===========================\")\n",
    "print(stderr)"
   ]
  },
  {
   "cell_type": "code",
   "execution_count": null,
   "metadata": {},
   "outputs": [],
   "source": []
  },
  {
   "cell_type": "code",
   "execution_count": 68,
   "metadata": {},
   "outputs": [],
   "source": [
    "from osgeo import gdal"
   ]
  },
  {
   "cell_type": "code",
   "execution_count": 122,
   "metadata": {},
   "outputs": [],
   "source": [
    "fname = '/media/sf_GEMS/Data/Raw/MODIS/MCD12Q1/MCD12Q1.A2016001.h25v04.006.2018055072827.hdf'\n",
    "gdal_dataset = gdal.Open(fname)"
   ]
  },
  {
   "cell_type": "code",
   "execution_count": 124,
   "metadata": {
    "scrolled": true
   },
   "outputs": [
    {
     "data": {
      "text/plain": [
       "[('HDF4_EOS:EOS_GRID:\"/media/sf_GEMS/Data/Raw/MODIS/MCD12Q1/MCD12Q1.A2016001.h25v04.006.2018055072827.hdf\":MCD12Q1:LC_Type1',\n",
       "  '[2400x2400] LC_Type1 MCD12Q1 (8-bit unsigned integer)'),\n",
       " ('HDF4_EOS:EOS_GRID:\"/media/sf_GEMS/Data/Raw/MODIS/MCD12Q1/MCD12Q1.A2016001.h25v04.006.2018055072827.hdf\":MCD12Q1:LC_Type2',\n",
       "  '[2400x2400] LC_Type2 MCD12Q1 (8-bit unsigned integer)'),\n",
       " ('HDF4_EOS:EOS_GRID:\"/media/sf_GEMS/Data/Raw/MODIS/MCD12Q1/MCD12Q1.A2016001.h25v04.006.2018055072827.hdf\":MCD12Q1:LC_Type3',\n",
       "  '[2400x2400] LC_Type3 MCD12Q1 (8-bit unsigned integer)'),\n",
       " ('HDF4_EOS:EOS_GRID:\"/media/sf_GEMS/Data/Raw/MODIS/MCD12Q1/MCD12Q1.A2016001.h25v04.006.2018055072827.hdf\":MCD12Q1:LC_Type4',\n",
       "  '[2400x2400] LC_Type4 MCD12Q1 (8-bit unsigned integer)'),\n",
       " ('HDF4_EOS:EOS_GRID:\"/media/sf_GEMS/Data/Raw/MODIS/MCD12Q1/MCD12Q1.A2016001.h25v04.006.2018055072827.hdf\":MCD12Q1:LC_Type5',\n",
       "  '[2400x2400] LC_Type5 MCD12Q1 (8-bit unsigned integer)'),\n",
       " ('HDF4_EOS:EOS_GRID:\"/media/sf_GEMS/Data/Raw/MODIS/MCD12Q1/MCD12Q1.A2016001.h25v04.006.2018055072827.hdf\":MCD12Q1:LC_Prop1_Assessment',\n",
       "  '[2400x2400] LC_Prop1_Assessment MCD12Q1 (8-bit unsigned integer)'),\n",
       " ('HDF4_EOS:EOS_GRID:\"/media/sf_GEMS/Data/Raw/MODIS/MCD12Q1/MCD12Q1.A2016001.h25v04.006.2018055072827.hdf\":MCD12Q1:LC_Prop2_Assessment',\n",
       "  '[2400x2400] LC_Prop2_Assessment MCD12Q1 (8-bit unsigned integer)'),\n",
       " ('HDF4_EOS:EOS_GRID:\"/media/sf_GEMS/Data/Raw/MODIS/MCD12Q1/MCD12Q1.A2016001.h25v04.006.2018055072827.hdf\":MCD12Q1:LC_Prop3_Assessment',\n",
       "  '[2400x2400] LC_Prop3_Assessment MCD12Q1 (8-bit unsigned integer)'),\n",
       " ('HDF4_EOS:EOS_GRID:\"/media/sf_GEMS/Data/Raw/MODIS/MCD12Q1/MCD12Q1.A2016001.h25v04.006.2018055072827.hdf\":MCD12Q1:LC_Prop1',\n",
       "  '[2400x2400] LC_Prop1 MCD12Q1 (8-bit unsigned integer)'),\n",
       " ('HDF4_EOS:EOS_GRID:\"/media/sf_GEMS/Data/Raw/MODIS/MCD12Q1/MCD12Q1.A2016001.h25v04.006.2018055072827.hdf\":MCD12Q1:LC_Prop2',\n",
       "  '[2400x2400] LC_Prop2 MCD12Q1 (8-bit unsigned integer)'),\n",
       " ('HDF4_EOS:EOS_GRID:\"/media/sf_GEMS/Data/Raw/MODIS/MCD12Q1/MCD12Q1.A2016001.h25v04.006.2018055072827.hdf\":MCD12Q1:LC_Prop3',\n",
       "  '[2400x2400] LC_Prop3 MCD12Q1 (8-bit unsigned integer)'),\n",
       " ('HDF4_EOS:EOS_GRID:\"/media/sf_GEMS/Data/Raw/MODIS/MCD12Q1/MCD12Q1.A2016001.h25v04.006.2018055072827.hdf\":MCD12Q1:QC',\n",
       "  '[2400x2400] QC MCD12Q1 (8-bit unsigned integer)'),\n",
       " ('HDF4_EOS:EOS_GRID:\"/media/sf_GEMS/Data/Raw/MODIS/MCD12Q1/MCD12Q1.A2016001.h25v04.006.2018055072827.hdf\":MCD12Q1:LW',\n",
       "  '[2400x2400] LW MCD12Q1 (8-bit unsigned integer)')]"
      ]
     },
     "execution_count": 124,
     "metadata": {},
     "output_type": "execute_result"
    }
   ],
   "source": [
    "gdal_dataset.GetSubDatasets()"
   ]
  },
  {
   "cell_type": "code",
   "execution_count": 73,
   "metadata": {},
   "outputs": [],
   "source": [
    "lc_data = gdal.Open(gdal_dataset.GetSubDatasets()[0][0])"
   ]
  },
  {
   "cell_type": "code",
   "execution_count": 95,
   "metadata": {
    "collapsed": true
   },
   "outputs": [
    {
     "data": {
      "text/plain": [
       "array([[ 3,  3,  8, ...,  9, 12, 14],\n",
       "       [ 3,  3,  3, ...,  9, 14, 12],\n",
       "       [ 3,  3,  3, ..., 14,  9,  9],\n",
       "       ...,\n",
       "       [16, 16, 16, ..., 16, 16, 16],\n",
       "       [16, 16, 16, ..., 16, 16, 16],\n",
       "       [16, 16, 16, ..., 16, 16, 16]], dtype=uint8)"
      ]
     },
     "execution_count": 95,
     "metadata": {},
     "output_type": "execute_result"
    }
   ],
   "source": [
    "lc_data.ReadAsArray()"
   ]
  },
  {
   "cell_type": "code",
   "execution_count": null,
   "metadata": {},
   "outputs": [],
   "source": [
    "gdaltranslate  HDF4_EOS:EOS_GRID:\"/path/to/file/MOD11A1.A2012193.h00v08.005.2012196013548.hdf\":MODIS_Grid_Daily_1km_LST:LST_Day_1km out.tiff\n"
   ]
  },
  {
   "cell_type": "code",
   "execution_count": 96,
   "metadata": {},
   "outputs": [],
   "source": [
    "dataset = gdal.Open('LC_2016_01.tif')"
   ]
  },
  {
   "cell_type": "code",
   "execution_count": 97,
   "metadata": {},
   "outputs": [],
   "source": [
    "band = dataset.GetRasterBand(1)"
   ]
  },
  {
   "cell_type": "code",
   "execution_count": 98,
   "metadata": {},
   "outputs": [
    {
     "data": {
      "text/plain": [
       "array([[ 3,  3,  8, ...,  9, 12, 14],\n",
       "       [ 3,  3,  3, ...,  9, 14, 12],\n",
       "       [ 3,  3,  3, ..., 14,  9,  9],\n",
       "       ...,\n",
       "       [16, 16, 16, ..., 16, 16, 16],\n",
       "       [16, 16, 16, ..., 16, 16, 16],\n",
       "       [16, 16, 16, ..., 16, 16, 16]], dtype=uint8)"
      ]
     },
     "execution_count": 98,
     "metadata": {},
     "output_type": "execute_result"
    }
   ],
   "source": [
    "band.ReadAsArray()"
   ]
  },
  {
   "cell_type": "code",
   "execution_count": 106,
   "metadata": {},
   "outputs": [],
   "source": [
    "cmd = 'gdal_translate -sds /media/sf_GEMS/Data/Raw/MODIS/MCD12Q1/MCD12Q1.A2016001.h25v04.006.2018055072827.hdf LC_2016.tif'"
   ]
  },
  {
   "cell_type": "code",
   "execution_count": 108,
   "metadata": {},
   "outputs": [
    {
     "data": {
      "text/plain": [
       "0"
      ]
     },
     "execution_count": 108,
     "metadata": {},
     "output_type": "execute_result"
    }
   ],
   "source": [
    "subprocess.call([\"gdal_translate\", \"-sds\", \"/media/sf_GEMS/Data/Raw/MODIS/MCD12Q1/MCD12Q1.A2016001.h25v04.006.2018055072827.hdf\", \"LC_2016.tif\"])"
   ]
  },
  {
   "cell_type": "code",
   "execution_count": 110,
   "metadata": {},
   "outputs": [
    {
     "data": {
      "text/plain": [
       "0"
      ]
     },
     "execution_count": 110,
     "metadata": {},
     "output_type": "execute_result"
    }
   ],
   "source": [
    "subprocess.call([\"rm\", \"LC_*\", \"-rf\"])"
   ]
  },
  {
   "cell_type": "code",
   "execution_count": 136,
   "metadata": {},
   "outputs": [
    {
     "data": {
      "text/plain": [
       "'HDF4_EOS:EOS_GRID:\"/media/sf_GEMS/Data/Raw/MODIS/MCD12Q1/MCD12Q1.A2016001.h25v04.006.2018055072827.hdf\":MCD12Q1:LC_Type1'"
      ]
     },
     "execution_count": 136,
     "metadata": {},
     "output_type": "execute_result"
    }
   ],
   "source": [
    "dset"
   ]
  },
  {
   "cell_type": "code",
   "execution_count": null,
   "metadata": {},
   "outputs": [],
   "source": []
  },
  {
   "cell_type": "code",
   "execution_count": null,
   "metadata": {},
   "outputs": [],
   "source": []
  },
  {
   "cell_type": "code",
   "execution_count": null,
   "metadata": {},
   "outputs": [],
   "source": []
  },
  {
   "cell_type": "code",
   "execution_count": 103,
   "metadata": {},
   "outputs": [],
   "source": [
    "import shlex"
   ]
  },
  {
   "cell_type": "code",
   "execution_count": 115,
   "metadata": {},
   "outputs": [
    {
     "name": "stdout",
     "output_type": "stream",
     "text": [
      "b'total 26468\\n-rw-r--r-- 1 sehyun sehyun       96 10\\xec\\x9b\\x94 30 04:55 cache.hdf5\\n-rw-r--r-- 1 sehyun sehyun     5390 11\\xec\\x9b\\x94  2 21:14 GOCI_01_02.py\\n-rwxr-xr-x 1 sehyun sehyun     4401 11\\xec\\x9b\\x94  2 21:13 GOCI_01_extract_variables.py\\n-rwxr-xr-x 1 sehyun sehyun     3079 11\\xec\\x9b\\x94  2 21:13 GOCI_02_generate_missing_nan_file.py\\n-rwxr-xr-x 1 sehyun sehyun     3112 11\\xec\\x9b\\x94  2 21:29 GOCI_03_AOD_filter.py\\n-rwxr-xr-x 1 sehyun sehyun     3914 11\\xec\\x9b\\x94  3 14:54 GOCI_04_filtering.py\\n-rwxr-xr-x 1 sehyun sehyun     4758 11\\xec\\x9b\\x94  3 17:02 GOCI_05_BL_1km.py\\n-rw-r--r-- 1 sehyun sehyun  1752184 10\\xec\\x9b\\x94 29 21:48 GOCI_AOD_2016_001_01.mat\\n-rw-r--r-- 1 sehyun sehyun     1312 10\\xec\\x9b\\x94 29 21:50 GOCI_AOD_test\\n-rw-r--r-- 1 sehyun sehyun     1312 10\\xec\\x9b\\x94 29 21:50 GOCI_AOD_test.mat\\n-rw-r--r-- 1 sehyun sehyun    65771 11\\xec\\x9b\\x94  3 15:08 GOCI_recorrect.ipynb\\n-rw-r--r-- 1 sehyun sehyun      399 11\\xec\\x9b\\x94  2 15:08 GOCI_test.py\\n-rwxr-xr-x 1 sehyun sehyun     4895 10\\xec\\x9b\\x94 29 16:09 GPM_01_AP_UTC.py\\n-rwxr-xr-x 1 sehyun sehyun     7594 10\\xec\\x9b\\x94 29 16:09 GPM.ipynb\\n-rwxr-xr-x 1 sehyun sehyun      182 10\\xec\\x9b\\x94 29 16:09 __init__.py\\n-rw-r--r-- 1 sehyun sehyun    30456 11\\xec\\x9b\\x94  4 03:56 MODIS.ipynb\\n-rwxr-xr-x 1 sehyun sehyun     9973 11\\xec\\x9b\\x94  3 19:01 OMI_01_timeseries_mat.py\\n-rwxr-xr-x 1 sehyun sehyun     1652 11\\xec\\x9b\\x94  3 18:56 OMI_02_temporal_convolution_with_gaussian.py\\n-rwxr-xr-x 1 sehyun sehyun    36417 11\\xec\\x9b\\x94  3 18:56 OMI.ipynb\\n-rw-r--r-- 1 sehyun sehyun 24895064 11\\xec\\x9b\\x94  3 17:16 OMNO2d_2016_DU.mat\\n-rwxr-x--- 1 sehyun sehyun     4001 11\\xec\\x9b\\x94  3 23:45 RDAPS_01_exract_var18.py\\n-rwxr-x--- 1 sehyun sehyun     5491 11\\xec\\x9b\\x94  3 23:54 RDAPS_02_exract_var_interpolation.py\\n-rw-r--r-- 1 sehyun sehyun    23978 11\\xec\\x9b\\x94  4 00:59 RDAPS_03_update_for_missing_data.py\\n-rwxr-xr-x 1 sehyun sehyun   104118 11\\xec\\x9b\\x94  4 00:02 RDAPS_pygrib_gdal_test_for_grib2.ipynb\\n-rwxr-x--- 1 sehyun sehyun     6935 11\\xec\\x9b\\x94  4 02:26 SMOKE_01_extract_all_var_gpu.py\\n-rw-r--r-- 1 sehyun sehyun    71981 11\\xec\\x9b\\x94  4 02:26 SMOKE.ipynb\\n'\n"
     ]
    }
   ],
   "source": [
    "MyOut = subprocess.Popen(['gdalinfo', '-l', '.'], \n",
    "            stdout=subprocess.PIPE, \n",
    "            stderr=subprocess.STDOUT)\n",
    "stdout, stderr = MyOut.communicate()\n",
    "print(stdout)"
   ]
  },
  {
   "cell_type": "code",
   "execution_count": 116,
   "metadata": {},
   "outputs": [
    {
     "name": "stdout",
     "output_type": "stream",
     "text": [
      "None\n"
     ]
    }
   ],
   "source": [
    "print(stderr)"
   ]
  },
  {
   "cell_type": "code",
   "execution_count": 40,
   "metadata": {},
   "outputs": [],
   "source": [
    "import subprocess"
   ]
  },
  {
   "cell_type": "code",
   "execution_count": 46,
   "metadata": {},
   "outputs": [
    {
     "ename": "FileNotFoundError",
     "evalue": "[Errno 2] No such file or directory: 'gdal_translate -of GTiff /media/sf_GEMS/Data/Raw/MODIS/MCD12Q1/MCD12Q1.A2016001.h25v04.006.2018055072827.hdf LC_2016_1.tif': 'gdal_translate -of GTiff /media/sf_GEMS/Data/Raw/MODIS/MCD12Q1/MCD12Q1.A2016001.h25v04.006.2018055072827.hdf LC_2016_1.tif'",
     "output_type": "error",
     "traceback": [
      "\u001b[0;31m---------------------------------------------------------------------------\u001b[0m",
      "\u001b[0;31mFileNotFoundError\u001b[0m                         Traceback (most recent call last)",
      "\u001b[0;32m<ipython-input-46-bbc66ff06e86>\u001b[0m in \u001b[0;36m<module>\u001b[0;34m\u001b[0m\n\u001b[1;32m      1\u001b[0m \u001b[0msrc_dataset\u001b[0m \u001b[0;34m=\u001b[0m \u001b[0mos\u001b[0m\u001b[0;34m.\u001b[0m\u001b[0mpath\u001b[0m\u001b[0;34m.\u001b[0m\u001b[0mjoin\u001b[0m\u001b[0;34m(\u001b[0m\u001b[0mraw_modis_path\u001b[0m\u001b[0;34m,\u001b[0m \u001b[0ma\u001b[0m\u001b[0;34m)\u001b[0m\u001b[0;34m\u001b[0m\u001b[0;34m\u001b[0m\u001b[0m\n\u001b[1;32m      2\u001b[0m \u001b[0mdst_dataset\u001b[0m \u001b[0;34m=\u001b[0m \u001b[0mb\u001b[0m\u001b[0;34m\u001b[0m\u001b[0;34m\u001b[0m\u001b[0m\n\u001b[0;32m----> 3\u001b[0;31m \u001b[0msubprocess\u001b[0m\u001b[0;34m.\u001b[0m\u001b[0mcall\u001b[0m\u001b[0;34m(\u001b[0m\u001b[0;34mf'gdal_translate -of GTiff {src_dataset} {dst_dataset}'\u001b[0m\u001b[0;34m)\u001b[0m\u001b[0;34m\u001b[0m\u001b[0;34m\u001b[0m\u001b[0m\n\u001b[0m",
      "\u001b[0;32m/usr/lib/python3.6/subprocess.py\u001b[0m in \u001b[0;36mcall\u001b[0;34m(timeout, *popenargs, **kwargs)\u001b[0m\n\u001b[1;32m    285\u001b[0m     \u001b[0mretcode\u001b[0m \u001b[0;34m=\u001b[0m \u001b[0mcall\u001b[0m\u001b[0;34m(\u001b[0m\u001b[0;34m[\u001b[0m\u001b[0;34m\"ls\"\u001b[0m\u001b[0;34m,\u001b[0m \u001b[0;34m\"-l\"\u001b[0m\u001b[0;34m]\u001b[0m\u001b[0;34m)\u001b[0m\u001b[0;34m\u001b[0m\u001b[0;34m\u001b[0m\u001b[0m\n\u001b[1;32m    286\u001b[0m     \"\"\"\n\u001b[0;32m--> 287\u001b[0;31m     \u001b[0;32mwith\u001b[0m \u001b[0mPopen\u001b[0m\u001b[0;34m(\u001b[0m\u001b[0;34m*\u001b[0m\u001b[0mpopenargs\u001b[0m\u001b[0;34m,\u001b[0m \u001b[0;34m**\u001b[0m\u001b[0mkwargs\u001b[0m\u001b[0;34m)\u001b[0m \u001b[0;32mas\u001b[0m \u001b[0mp\u001b[0m\u001b[0;34m:\u001b[0m\u001b[0;34m\u001b[0m\u001b[0;34m\u001b[0m\u001b[0m\n\u001b[0m\u001b[1;32m    288\u001b[0m         \u001b[0;32mtry\u001b[0m\u001b[0;34m:\u001b[0m\u001b[0;34m\u001b[0m\u001b[0;34m\u001b[0m\u001b[0m\n\u001b[1;32m    289\u001b[0m             \u001b[0;32mreturn\u001b[0m \u001b[0mp\u001b[0m\u001b[0;34m.\u001b[0m\u001b[0mwait\u001b[0m\u001b[0;34m(\u001b[0m\u001b[0mtimeout\u001b[0m\u001b[0;34m=\u001b[0m\u001b[0mtimeout\u001b[0m\u001b[0;34m)\u001b[0m\u001b[0;34m\u001b[0m\u001b[0;34m\u001b[0m\u001b[0m\n",
      "\u001b[0;32m/usr/lib/python3.6/subprocess.py\u001b[0m in \u001b[0;36m__init__\u001b[0;34m(self, args, bufsize, executable, stdin, stdout, stderr, preexec_fn, close_fds, shell, cwd, env, universal_newlines, startupinfo, creationflags, restore_signals, start_new_session, pass_fds, encoding, errors)\u001b[0m\n\u001b[1;32m    727\u001b[0m                                 \u001b[0mc2pread\u001b[0m\u001b[0;34m,\u001b[0m \u001b[0mc2pwrite\u001b[0m\u001b[0;34m,\u001b[0m\u001b[0;34m\u001b[0m\u001b[0;34m\u001b[0m\u001b[0m\n\u001b[1;32m    728\u001b[0m                                 \u001b[0merrread\u001b[0m\u001b[0;34m,\u001b[0m \u001b[0merrwrite\u001b[0m\u001b[0;34m,\u001b[0m\u001b[0;34m\u001b[0m\u001b[0;34m\u001b[0m\u001b[0m\n\u001b[0;32m--> 729\u001b[0;31m                                 restore_signals, start_new_session)\n\u001b[0m\u001b[1;32m    730\u001b[0m         \u001b[0;32mexcept\u001b[0m\u001b[0;34m:\u001b[0m\u001b[0;34m\u001b[0m\u001b[0;34m\u001b[0m\u001b[0m\n\u001b[1;32m    731\u001b[0m             \u001b[0;31m# Cleanup if the child failed starting.\u001b[0m\u001b[0;34m\u001b[0m\u001b[0;34m\u001b[0m\u001b[0;34m\u001b[0m\u001b[0m\n",
      "\u001b[0;32m/usr/lib/python3.6/subprocess.py\u001b[0m in \u001b[0;36m_execute_child\u001b[0;34m(self, args, executable, preexec_fn, close_fds, pass_fds, cwd, env, startupinfo, creationflags, shell, p2cread, p2cwrite, c2pread, c2pwrite, errread, errwrite, restore_signals, start_new_session)\u001b[0m\n\u001b[1;32m   1362\u001b[0m                         \u001b[0;32mif\u001b[0m \u001b[0merrno_num\u001b[0m \u001b[0;34m==\u001b[0m \u001b[0merrno\u001b[0m\u001b[0;34m.\u001b[0m\u001b[0mENOENT\u001b[0m\u001b[0;34m:\u001b[0m\u001b[0;34m\u001b[0m\u001b[0;34m\u001b[0m\u001b[0m\n\u001b[1;32m   1363\u001b[0m                             \u001b[0merr_msg\u001b[0m \u001b[0;34m+=\u001b[0m \u001b[0;34m': '\u001b[0m \u001b[0;34m+\u001b[0m \u001b[0mrepr\u001b[0m\u001b[0;34m(\u001b[0m\u001b[0merr_filename\u001b[0m\u001b[0;34m)\u001b[0m\u001b[0;34m\u001b[0m\u001b[0;34m\u001b[0m\u001b[0m\n\u001b[0;32m-> 1364\u001b[0;31m                     \u001b[0;32mraise\u001b[0m \u001b[0mchild_exception_type\u001b[0m\u001b[0;34m(\u001b[0m\u001b[0merrno_num\u001b[0m\u001b[0;34m,\u001b[0m \u001b[0merr_msg\u001b[0m\u001b[0;34m,\u001b[0m \u001b[0merr_filename\u001b[0m\u001b[0;34m)\u001b[0m\u001b[0;34m\u001b[0m\u001b[0;34m\u001b[0m\u001b[0m\n\u001b[0m\u001b[1;32m   1365\u001b[0m                 \u001b[0;32mraise\u001b[0m \u001b[0mchild_exception_type\u001b[0m\u001b[0;34m(\u001b[0m\u001b[0merr_msg\u001b[0m\u001b[0;34m)\u001b[0m\u001b[0;34m\u001b[0m\u001b[0;34m\u001b[0m\u001b[0m\n\u001b[1;32m   1366\u001b[0m \u001b[0;34m\u001b[0m\u001b[0m\n",
      "\u001b[0;31mFileNotFoundError\u001b[0m: [Errno 2] No such file or directory: 'gdal_translate -of GTiff /media/sf_GEMS/Data/Raw/MODIS/MCD12Q1/MCD12Q1.A2016001.h25v04.006.2018055072827.hdf LC_2016_1.tif': 'gdal_translate -of GTiff /media/sf_GEMS/Data/Raw/MODIS/MCD12Q1/MCD12Q1.A2016001.h25v04.006.2018055072827.hdf LC_2016_1.tif'"
     ]
    }
   ],
   "source": [
    "src_dataset = os.path.join(raw_modis_path, a)\n",
    "dst_dataset = b\n",
    "subprocess.call(f'gdal_translate -of GTiff {src_dataset} {dst_dataset}')"
   ]
  },
  {
   "cell_type": "code",
   "execution_count": 57,
   "metadata": {},
   "outputs": [
    {
     "ename": "CalledProcessError",
     "evalue": "Command '['gdal_translate', '-of', 'GTiff', '/media/sf_GEMS/Data/Raw/MODIS/MCD12Q1/MCD12Q1.A2016001.h25v04.006.2018055072827.hdf', 'test.tif']' returned non-zero exit status 1.",
     "output_type": "error",
     "traceback": [
      "\u001b[0;31m---------------------------------------------------------------------------\u001b[0m",
      "\u001b[0;31mCalledProcessError\u001b[0m                        Traceback (most recent call last)",
      "\u001b[0;32m<ipython-input-57-bd2f8b100b43>\u001b[0m in \u001b[0;36m<module>\u001b[0;34m\u001b[0m\n\u001b[1;32m      1\u001b[0m subprocess.check_output(['gdal_translate', '-of', 'GTiff', \n\u001b[1;32m      2\u001b[0m                 \u001b[0;34m'/media/sf_GEMS/Data/Raw/MODIS/MCD12Q1/MCD12Q1.A2016001.h25v04.006.2018055072827.hdf'\u001b[0m\u001b[0;34m,\u001b[0m\u001b[0;34m\u001b[0m\u001b[0;34m\u001b[0m\u001b[0m\n\u001b[0;32m----> 3\u001b[0;31m                 'test.tif'])\n\u001b[0m",
      "\u001b[0;32m/usr/lib/python3.6/subprocess.py\u001b[0m in \u001b[0;36mcheck_output\u001b[0;34m(timeout, *popenargs, **kwargs)\u001b[0m\n\u001b[1;32m    354\u001b[0m \u001b[0;34m\u001b[0m\u001b[0m\n\u001b[1;32m    355\u001b[0m     return run(*popenargs, stdout=PIPE, timeout=timeout, check=True,\n\u001b[0;32m--> 356\u001b[0;31m                **kwargs).stdout\n\u001b[0m\u001b[1;32m    357\u001b[0m \u001b[0;34m\u001b[0m\u001b[0m\n\u001b[1;32m    358\u001b[0m \u001b[0;34m\u001b[0m\u001b[0m\n",
      "\u001b[0;32m/usr/lib/python3.6/subprocess.py\u001b[0m in \u001b[0;36mrun\u001b[0;34m(input, timeout, check, *popenargs, **kwargs)\u001b[0m\n\u001b[1;32m    436\u001b[0m         \u001b[0;32mif\u001b[0m \u001b[0mcheck\u001b[0m \u001b[0;32mand\u001b[0m \u001b[0mretcode\u001b[0m\u001b[0;34m:\u001b[0m\u001b[0;34m\u001b[0m\u001b[0;34m\u001b[0m\u001b[0m\n\u001b[1;32m    437\u001b[0m             raise CalledProcessError(retcode, process.args,\n\u001b[0;32m--> 438\u001b[0;31m                                      output=stdout, stderr=stderr)\n\u001b[0m\u001b[1;32m    439\u001b[0m     \u001b[0;32mreturn\u001b[0m \u001b[0mCompletedProcess\u001b[0m\u001b[0;34m(\u001b[0m\u001b[0mprocess\u001b[0m\u001b[0;34m.\u001b[0m\u001b[0margs\u001b[0m\u001b[0;34m,\u001b[0m \u001b[0mretcode\u001b[0m\u001b[0;34m,\u001b[0m \u001b[0mstdout\u001b[0m\u001b[0;34m,\u001b[0m \u001b[0mstderr\u001b[0m\u001b[0;34m)\u001b[0m\u001b[0;34m\u001b[0m\u001b[0;34m\u001b[0m\u001b[0m\n\u001b[1;32m    440\u001b[0m \u001b[0;34m\u001b[0m\u001b[0m\n",
      "\u001b[0;31mCalledProcessError\u001b[0m: Command '['gdal_translate', '-of', 'GTiff', '/media/sf_GEMS/Data/Raw/MODIS/MCD12Q1/MCD12Q1.A2016001.h25v04.006.2018055072827.hdf', 'test.tif']' returned non-zero exit status 1."
     ]
    }
   ],
   "source": [
    "subprocess.check_output(['gdal_translate', '-of', 'GTiff', \n",
    "                '/media/sf_GEMS/Data/Raw/MODIS/MCD12Q1/MCD12Q1.A2016001.h25v04.006.2018055072827.hdf',\n",
    "                'test.tif'])"
   ]
  },
  {
   "cell_type": "code",
   "execution_count": 80,
   "metadata": {},
   "outputs": [
    {
     "data": {
      "text/plain": [
       "'LC_2016_14.tif'"
      ]
     },
     "execution_count": 80,
     "metadata": {},
     "output_type": "execute_result"
    }
   ],
   "source": [
    "gdal_translate -sds /media/sf_GEMS/Data/Raw/MODIS/MCD12Q1/MCD12Q1.A2016001.h25v04.006.2018055072827.hdf LC_2016.tif"
   ]
  },
  {
   "cell_type": "code",
   "execution_count": 83,
   "metadata": {},
   "outputs": [
    {
     "ename": "CalledProcessError",
     "evalue": "Command '['gdal_translate', '-sds', '/media/sf_GEMS/Data/Raw/MODIS/MCD12Q1/MCD12Q1.A2016001.h25v04.006.2018055072827.hdf', 'LC_2016.tif']' returned non-zero exit status 1.",
     "output_type": "error",
     "traceback": [
      "\u001b[0;31m---------------------------------------------------------------------------\u001b[0m",
      "\u001b[0;31mCalledProcessError\u001b[0m                        Traceback (most recent call last)",
      "\u001b[0;32m<ipython-input-83-77b5c9fb2158>\u001b[0m in \u001b[0;36m<module>\u001b[0;34m\u001b[0m\n\u001b[1;32m      1\u001b[0m subprocess.check_call(['gdal_translate', '-sds', \n\u001b[1;32m      2\u001b[0m                 \u001b[0;34m'/media/sf_GEMS/Data/Raw/MODIS/MCD12Q1/MCD12Q1.A2016001.h25v04.006.2018055072827.hdf'\u001b[0m\u001b[0;34m,\u001b[0m\u001b[0;34m\u001b[0m\u001b[0;34m\u001b[0m\u001b[0m\n\u001b[0;32m----> 3\u001b[0;31m                 'LC_2016.tif'], shell=True)\n\u001b[0m",
      "\u001b[0;32m/usr/lib/python3.6/subprocess.py\u001b[0m in \u001b[0;36mcheck_call\u001b[0;34m(*popenargs, **kwargs)\u001b[0m\n\u001b[1;32m    309\u001b[0m         \u001b[0;32mif\u001b[0m \u001b[0mcmd\u001b[0m \u001b[0;32mis\u001b[0m \u001b[0;32mNone\u001b[0m\u001b[0;34m:\u001b[0m\u001b[0;34m\u001b[0m\u001b[0;34m\u001b[0m\u001b[0m\n\u001b[1;32m    310\u001b[0m             \u001b[0mcmd\u001b[0m \u001b[0;34m=\u001b[0m \u001b[0mpopenargs\u001b[0m\u001b[0;34m[\u001b[0m\u001b[0;36m0\u001b[0m\u001b[0;34m]\u001b[0m\u001b[0;34m\u001b[0m\u001b[0;34m\u001b[0m\u001b[0m\n\u001b[0;32m--> 311\u001b[0;31m         \u001b[0;32mraise\u001b[0m \u001b[0mCalledProcessError\u001b[0m\u001b[0;34m(\u001b[0m\u001b[0mretcode\u001b[0m\u001b[0;34m,\u001b[0m \u001b[0mcmd\u001b[0m\u001b[0;34m)\u001b[0m\u001b[0;34m\u001b[0m\u001b[0;34m\u001b[0m\u001b[0m\n\u001b[0m\u001b[1;32m    312\u001b[0m     \u001b[0;32mreturn\u001b[0m \u001b[0;36m0\u001b[0m\u001b[0;34m\u001b[0m\u001b[0;34m\u001b[0m\u001b[0m\n\u001b[1;32m    313\u001b[0m \u001b[0;34m\u001b[0m\u001b[0m\n",
      "\u001b[0;31mCalledProcessError\u001b[0m: Command '['gdal_translate', '-sds', '/media/sf_GEMS/Data/Raw/MODIS/MCD12Q1/MCD12Q1.A2016001.h25v04.006.2018055072827.hdf', 'LC_2016.tif']' returned non-zero exit status 1."
     ]
    }
   ],
   "source": [
    "subprocess.check_call(['gdal_translate', '-sds', \n",
    "                '/media/sf_GEMS/Data/Raw/MODIS/MCD12Q1/MCD12Q1.A2016001.h25v04.006.2018055072827.hdf',\n",
    "                'LC_2016.tif'], shell=True)"
   ]
  },
  {
   "cell_type": "code",
   "execution_count": 64,
   "metadata": {},
   "outputs": [
    {
     "ename": "CalledProcessError",
     "evalue": "Command 'gdal_translate -of GTiff /media/sf_GEMS/Data/Raw/MODIS/MCD12Q1/MCD12Q1.A2016001.h25v04.006.2018055072827.hdf test.tif' returned non-zero exit status 1.",
     "output_type": "error",
     "traceback": [
      "\u001b[0;31m---------------------------------------------------------------------------\u001b[0m",
      "\u001b[0;31mCalledProcessError\u001b[0m                        Traceback (most recent call last)",
      "\u001b[0;32m<ipython-input-64-ef1e3aacd4eb>\u001b[0m in \u001b[0;36m<module>\u001b[0;34m\u001b[0m\n\u001b[0;32m----> 1\u001b[0;31m \u001b[0mresult\u001b[0m \u001b[0;34m=\u001b[0m \u001b[0msubprocess\u001b[0m\u001b[0;34m.\u001b[0m\u001b[0mcheck_output\u001b[0m\u001b[0;34m(\u001b[0m\u001b[0;34m'gdal_translate -of GTiff /media/sf_GEMS/Data/Raw/MODIS/MCD12Q1/MCD12Q1.A2016001.h25v04.006.2018055072827.hdf test.tif'\u001b[0m\u001b[0;34m,\u001b[0m\u001b[0mstderr\u001b[0m\u001b[0;34m=\u001b[0m\u001b[0msubprocess\u001b[0m\u001b[0;34m.\u001b[0m\u001b[0mSTDOUT\u001b[0m\u001b[0;34m,\u001b[0m \u001b[0mshell\u001b[0m\u001b[0;34m=\u001b[0m\u001b[0;32mTrue\u001b[0m\u001b[0;34m)\u001b[0m\u001b[0;34m\u001b[0m\u001b[0;34m\u001b[0m\u001b[0m\n\u001b[0m",
      "\u001b[0;32m/usr/lib/python3.6/subprocess.py\u001b[0m in \u001b[0;36mcheck_output\u001b[0;34m(timeout, *popenargs, **kwargs)\u001b[0m\n\u001b[1;32m    354\u001b[0m \u001b[0;34m\u001b[0m\u001b[0m\n\u001b[1;32m    355\u001b[0m     return run(*popenargs, stdout=PIPE, timeout=timeout, check=True,\n\u001b[0;32m--> 356\u001b[0;31m                **kwargs).stdout\n\u001b[0m\u001b[1;32m    357\u001b[0m \u001b[0;34m\u001b[0m\u001b[0m\n\u001b[1;32m    358\u001b[0m \u001b[0;34m\u001b[0m\u001b[0m\n",
      "\u001b[0;32m/usr/lib/python3.6/subprocess.py\u001b[0m in \u001b[0;36mrun\u001b[0;34m(input, timeout, check, *popenargs, **kwargs)\u001b[0m\n\u001b[1;32m    436\u001b[0m         \u001b[0;32mif\u001b[0m \u001b[0mcheck\u001b[0m \u001b[0;32mand\u001b[0m \u001b[0mretcode\u001b[0m\u001b[0;34m:\u001b[0m\u001b[0;34m\u001b[0m\u001b[0;34m\u001b[0m\u001b[0m\n\u001b[1;32m    437\u001b[0m             raise CalledProcessError(retcode, process.args,\n\u001b[0;32m--> 438\u001b[0;31m                                      output=stdout, stderr=stderr)\n\u001b[0m\u001b[1;32m    439\u001b[0m     \u001b[0;32mreturn\u001b[0m \u001b[0mCompletedProcess\u001b[0m\u001b[0;34m(\u001b[0m\u001b[0mprocess\u001b[0m\u001b[0;34m.\u001b[0m\u001b[0margs\u001b[0m\u001b[0;34m,\u001b[0m \u001b[0mretcode\u001b[0m\u001b[0;34m,\u001b[0m \u001b[0mstdout\u001b[0m\u001b[0;34m,\u001b[0m \u001b[0mstderr\u001b[0m\u001b[0;34m)\u001b[0m\u001b[0;34m\u001b[0m\u001b[0;34m\u001b[0m\u001b[0m\n\u001b[1;32m    440\u001b[0m \u001b[0;34m\u001b[0m\u001b[0m\n",
      "\u001b[0;31mCalledProcessError\u001b[0m: Command 'gdal_translate -of GTiff /media/sf_GEMS/Data/Raw/MODIS/MCD12Q1/MCD12Q1.A2016001.h25v04.006.2018055072827.hdf test.tif' returned non-zero exit status 1."
     ]
    }
   ],
   "source": [
    "result = subprocess.check_output('gdal_translate -of GTiff /media/sf_GEMS/Data/Raw/MODIS/MCD12Q1/MCD12Q1.A2016001.h25v04.006.2018055072827.hdf test.tif',stderr=subprocess.STDOUT, shell=True)"
   ]
  },
  {
   "cell_type": "markdown",
   "metadata": {},
   "source": [
    "# MODIS_02"
   ]
  },
  {
   "cell_type": "code",
   "execution_count": 335,
   "metadata": {},
   "outputs": [
    {
     "name": "stdout",
     "output_type": "stream",
     "text": [
      "['EA_MCD12Q1_mosaic_2016.tif']\n",
      "/media/sf_GEMS/Data/Preprocessed_raw/MODIS/01mosaic/EA_MCD12Q1_mosaic_2016.tif\n",
      "['gdaltindex', 'temp_mask.shp', '/10.72.26.56/irisnas5/Data/mask/r_rec_N50W110S20E150.tif']\n",
      "2016.tif\n"
     ]
    }
   ],
   "source": [
    "### Package Import\n",
    "import sys\n",
    "import os\n",
    "base_dir = os.environ['GEMS_HOME']\n",
    "project_path = os.path.join(base_dir, 'python-refactor')\n",
    "sys.path.insert(0, project_path)\n",
    "from Code.utils import matlab\n",
    "\n",
    "import scipy.io as sio\n",
    "import numpy as np\n",
    "import glob\n",
    "import time\n",
    "import h5py \n",
    "import pygrib\n",
    "import re\n",
    "from osgeo import gdal\n",
    "import tempfile\n",
    "#import arcpy\n",
    "#from arcpy import env\n",
    "\n",
    "\n",
    "### Setting path\n",
    "data_base_dir = os.path.join('/', 'media', 'sf_GEMS', 'Data')\n",
    "path_mosaic = os.path.join(data_base_dir, 'Preprocessed_raw', 'MODIS')\n",
    "mask = os.path.join('/10.72.26.56', 'irisnas5', 'Data', 'mask', 'r_rec_N50W110S20E150.tif')\n",
    "#tmpdirname = tempfile.TemporaryDirectory(dir=base_dir)  # should call clean up to delete\n",
    "#path_modis=\"\\\\\\\\10.72.26.46\\\\irisnas6\\\\Data\\\\MODIS_tile\\\\02region\\\\EastAsia\\\\MCD12Q1\\\\\"\n",
    "\n",
    "\n",
    "flist = glob.glob(os.path.join(path_mosaic, '01mosaic', \"*.tif\"))\n",
    "flist = [os.path.basename(f) for f in flist]\n",
    "flist.sort()\n",
    "nfile = len(flist)\n",
    "print (flist)\n",
    "#npath = len(path_modis+\"\\\\01mosaic\\\\\")\n",
    "\n",
    "for fname in flist:\n",
    "    src_dataset = os.path.join(path_mosaic, '01mosaic', fname) # a\n",
    "    last_num = src_dataset[-8:] # b e.g. 2827.hdf\n",
    "    print (src_dataset)\n",
    "    \n",
    "    matlab.check_make_dir(os.path.join(path_mosaic, '02prj_GCS_WGS84')) # debugging\n",
    "    matlab.check_make_dir(os.path.join(path_mosaic, '03masked_N50W110S20E150')) # debugging\n",
    "    \n",
    "    dst_dataset02 = os.path.join(path_mosaic, '02prj_GCS_WGS84', f'GCS_EA_MCD12Q1_{last_num}') # c\n",
    "    dst_dataset03 = os.path.join(path_mosaic, '03masked_N50W110S20E150', f'm_MODIS_LC_500m_{last_num}') # d\n",
    "\n",
    "    #tempEnvironment0 = arcpy.env.snapRaster\n",
    "    # Snap Raster—Sets a raster that is used to define the cell alignment of an output raster.\n",
    "    # arcpy.env.snapRaster = mask\n",
    "    \n",
    "    # Process: Project Raster\n",
    "    cell_size= [\"5.11542231032757E-03\", \"5.11542231032757E-03\"]\n",
    "    out_coor_system = \"GEOGCS['GCS_WGS_1984',DATUM['D_WGS_1984',SPHEROID['WGS_1984',6378137.0,298.257223563]],PRIMEM['Greenwich',0.0],UNIT['Degree',0.0174532925199433]]\"\n",
    "    cmd = [\"gdalwarp\", \"-r\", \"near\", \"-to\", out_coor_system]\n",
    "    cmd += ([\"-ts\"] + cell_size)\n",
    "    cmd += [src_dataset, dst_dataset02]\n",
    "    #print (cmd)\n",
    "    subprocess.call(cmd)\n",
    "    \n",
    "    \"\"\"\n",
    "    #arcpy.ProjectRaster_management(in_raster=a, \n",
    "    #                               out_raster=c,\n",
    "    #                               out_coor_system=\"GEOGCS['GCS_WGS_1984',DATUM['D_WGS_1984',SPHEROID['WGS_1984',6378137.0,298.257223563]],PRIMEM['Greenwich',0.0],UNIT['Degree',0.0174532925199433]]\",\n",
    "    #                               resampling_type=\"NEAREST\",\n",
    "    #                               cell_size=\"5.11542231032757E-03 5.11542231032757E-03\",\n",
    "    #                               geographic_transform=\"\",\n",
    "    #                               Registration_Point=\"\",\n",
    "                                   in_coor_system=\"PROJCS['Unknown_datum_based_upon_the_custom_spheroid_Sinusoidal',GEOGCS['GCS_Unknown_datum_based_upon_the_custom_spheroid',DATUM['D_Not_specified_based_on_custom_spheroid',SPHEROID['Custom_spheroid',6371007.181,0.0]],PRIMEM['Greenwich',0.0],UNIT['Degree',0.0174532925199433]],PROJECTION['Sinusoidal'],PARAMETER['false_easting',0.0],PARAMETER['false_northing',0.0],PARAMETER['central_meridian',0.0],UNIT['Meter',1.0]]\")\n",
    "    \"\"\"\n",
    "    # Process: Extract by Mask\n",
    "    cmd = [\"gdaltindex\", \"temp_mask.shp\", mask]\n",
    "    print (cmd)\n",
    "    subprocess.call(cmd)\n",
    "\n",
    "    cmd = [\"gdalwarp\", \"-cutline\", \"temp_mask.shp\", \n",
    "           dst_dataset02, dst_dataset03]\n",
    "    subprocess.call(cmd)\n",
    "\n",
    "    cmd = [\"rm\", \"temp_mask.shp\"]\n",
    "    subprocess.call(cmd)\n",
    "    #arcpy.gp.ExtractByMask_sa(dst_dataset02, mask, dst_dataset03)\n",
    "    #arcpy.env.snapRaster = tempEnvironment0\n",
    "    \n",
    "    print(last_num)"
   ]
  },
  {
   "cell_type": "code",
   "execution_count": null,
   "metadata": {},
   "outputs": [],
   "source": []
  },
  {
   "cell_type": "code",
   "execution_count": null,
   "metadata": {},
   "outputs": [],
   "source": []
  },
  {
   "cell_type": "code",
   "execution_count": 330,
   "metadata": {},
   "outputs": [
    {
     "data": {
      "text/plain": [
       "'/10.72.26.56/irisnas5/Data/mask/r_rec_N50W110S20E150.tif'"
      ]
     },
     "execution_count": 330,
     "metadata": {},
     "output_type": "execute_result"
    }
   ],
   "source": [
    "mask"
   ]
  },
  {
   "cell_type": "code",
   "execution_count": 332,
   "metadata": {},
   "outputs": [
    {
     "name": "stdout",
     "output_type": "stream",
     "text": [
      "['gdaltindex', 'mask.shp', '/10.72.26.56/irisnas5/Data/mask/r_rec_N50W110S20E150.tif']\n"
     ]
    },
    {
     "data": {
      "text/plain": [
       "0"
      ]
     },
     "execution_count": 332,
     "metadata": {},
     "output_type": "execute_result"
    }
   ],
   "source": [
    "cmd = [\"gdaltindex\", \"temp_mask.shp\", mask]\n",
    "print (cmd)\n",
    "subprocess.call(cmd)\n",
    "\n",
    "cmd = [\"gdalwarp\", \"-cutline\", \"temp_mask.shp\", \n",
    "       dst_dataset02, dst_dataset03]\n",
    "subprocess.call(cmd)\n",
    "\n",
    "cmd = [\"rm\", \"temp_mask.shp\"]\n",
    "subprocess.call(cmd)"
   ]
  },
  {
   "cell_type": "code",
   "execution_count": 328,
   "metadata": {},
   "outputs": [
    {
     "data": {
      "text/plain": [
       "'/10.72.26.56/irisnas5/Data/mask/r_rec_N50W110S20E150.tif'"
      ]
     },
     "execution_count": 328,
     "metadata": {},
     "output_type": "execute_result"
    }
   ],
   "source": [
    "mask"
   ]
  },
  {
   "cell_type": "code",
   "execution_count": 304,
   "metadata": {},
   "outputs": [
    {
     "data": {
      "text/plain": [
       "'/media/sf_GEMS/Data/Preprocessed_raw/MODIS/01_mosaic'"
      ]
     },
     "execution_count": 304,
     "metadata": {},
     "output_type": "execute_result"
    }
   ],
   "source": [
    "os.path.join(path_mosaic, '01_mosaic',)"
   ]
  },
  {
   "cell_type": "code",
   "execution_count": 305,
   "metadata": {},
   "outputs": [],
   "source": [
    "tmp_fname = '/media/sf_GEMS/Data/Raw/MODIS/MCD12Q1/EA_MCD12Q1_mosaic_2016.tif'"
   ]
  },
  {
   "cell_type": "code",
   "execution_count": 306,
   "metadata": {},
   "outputs": [
    {
     "data": {
      "text/plain": [
       "'/media/sf_GEMS/Data/Preprocessed_raw/MODIS/01mosaic/EA_MCD12Q1_mosaic_2016.tif'"
      ]
     },
     "execution_count": 306,
     "metadata": {},
     "output_type": "execute_result"
    }
   ],
   "source": [
    "src_dataset"
   ]
  },
  {
   "cell_type": "code",
   "execution_count": 307,
   "metadata": {},
   "outputs": [
    {
     "data": {
      "text/plain": [
       "'/media/sf_GEMS/Data/Preprocessed_raw/MODIS/02prj_GCS_WGS84/GCS_EA_MCD12Q1_2016.tif'"
      ]
     },
     "execution_count": 307,
     "metadata": {},
     "output_type": "execute_result"
    }
   ],
   "source": [
    "dst_dataset02"
   ]
  },
  {
   "cell_type": "code",
   "execution_count": 322,
   "metadata": {},
   "outputs": [
    {
     "data": {
      "text/plain": [
       "['gdalwarp',\n",
       " '-r',\n",
       " 'near',\n",
       " '-to',\n",
       " \"GEOGCS['GCS_WGS_1984',DATUM['D_WGS_1984',SPHEROID['WGS_1984',6378137.0,298.257223563]],PRIMEM['Greenwich',0.0],UNIT['Degree',0.0174532925199433]]\",\n",
       " '/media/sf_GEMS/Data/Preprocessed_raw/MODIS/01mosaic/EA_MCD12Q1_mosaic_2016.tif',\n",
       " '/media/sf_GEMS/Data/Preprocessed_raw/MODIS/02prj_GCS_WGS84/GCS_EA_MCD12Q1_2016.tif']"
      ]
     },
     "execution_count": 322,
     "metadata": {},
     "output_type": "execute_result"
    }
   ],
   "source": [
    "cmd"
   ]
  },
  {
   "cell_type": "code",
   "execution_count": 325,
   "metadata": {},
   "outputs": [
    {
     "name": "stdout",
     "output_type": "stream",
     "text": [
      "['gdalwarp', '-r', 'near', '-to', \"GEOGCS['GCS_WGS_1984',DATUM['D_WGS_1984',SPHEROID['WGS_1984',6378137.0,298.257223563]],PRIMEM['Greenwich',0.0],UNIT['Degree',0.0174532925199433]]\", '-ts', '5.11542231032757E-03', '5.11542231032757E-03', '/media/sf_GEMS/Data/Preprocessed_raw/MODIS/01mosaic/EA_MCD12Q1_mosaic_2016.tif', '/media/sf_GEMS/Data/Preprocessed_raw/MODIS/02prj_GCS_WGS84/GCS_EA_MCD12Q1_2016.tif']\n"
     ]
    },
    {
     "data": {
      "text/plain": [
       "0"
      ]
     },
     "execution_count": 325,
     "metadata": {},
     "output_type": "execute_result"
    }
   ],
   "source": [
    "cell_size= [\"5.11542231032757E-03\", \"5.11542231032757E-03\"]\n",
    "out_coor_system = \"GEOGCS['GCS_WGS_1984',DATUM['D_WGS_1984',SPHEROID['WGS_1984',6378137.0,298.257223563]],PRIMEM['Greenwich',0.0],UNIT['Degree',0.0174532925199433]]\"\n",
    "cmd = [\"gdalwarp\", \"-r\", \"near\", \"-to\", out_coor_system]\n",
    "cmd += ([\"-ts\"] + cell_size)\n",
    "cmd += [src_dataset, dst_dataset02]\n",
    "print (cmd)\n",
    "subprocess.call(cmd)"
   ]
  },
  {
   "cell_type": "code",
   "execution_count": 271,
   "metadata": {},
   "outputs": [],
   "source": [
    "from osgeo import gdal,osr"
   ]
  },
  {
   "cell_type": "code",
   "execution_count": 273,
   "metadata": {},
   "outputs": [
    {
     "name": "stdout",
     "output_type": "stream",
     "text": [
      "PROJCS[\"unnamed\",GEOGCS[\"Unknown datum based upon the custom spheroid\",DATUM[\"Not_specified_based_on_custom_spheroid\",SPHEROID[\"Custom spheroid\",6371007.181,0]],PRIMEM[\"Greenwich\",0],UNIT[\"degree\",0.0174532925199433]],PROJECTION[\"Sinusoidal\"],PARAMETER[\"longitude_of_center\",0],PARAMETER[\"false_easting\",0],PARAMETER[\"false_northing\",0],UNIT[\"metre\",1,AUTHORITY[\"EPSG\",\"9001\"]]]\n"
     ]
    }
   ],
   "source": [
    "# https://gis.stackexchange.com/questions/60371/gdal-python-how-do-i-get-coordinate-system-name-from-spatialreference\n",
    "ds=gdal.Open(tmp_fname)\n",
    "prj=ds.GetProjection()\n",
    "print (prj)"
   ]
  },
  {
   "cell_type": "code",
   "execution_count": 274,
   "metadata": {},
   "outputs": [
    {
     "data": {
      "text/plain": [
       "'PROJCS[\"unnamed\",GEOGCS[\"Unknown datum based upon the custom spheroid\",DATUM[\"Not_specified_based_on_custom_spheroid\",SPHEROID[\"Custom spheroid\",6371007.181,0]],PRIMEM[\"Greenwich\",0],UNIT[\"degree\",0.0174532925199433]],PROJECTION[\"Sinusoidal\"],PARAMETER[\"longitude_of_center\",0],PARAMETER[\"false_easting\",0],PARAMETER[\"false_northing\",0],UNIT[\"metre\",1,AUTHORITY[\"EPSG\",\"9001\"]]]'"
      ]
     },
     "execution_count": 274,
     "metadata": {},
     "output_type": "execute_result"
    }
   ],
   "source": [
    "prj"
   ]
  },
  {
   "cell_type": "code",
   "execution_count": 272,
   "metadata": {},
   "outputs": [
    {
     "name": "stdout",
     "output_type": "stream",
     "text": [
      "unnamed\n",
      "Unknown datum based upon the custom spheroid\n"
     ]
    }
   ],
   "source": [
    "srs=osr.SpatialReference(wkt=prj)\n",
    "if srs.IsProjected:\n",
    "    print (srs.GetAttrValue('projcs'))\n",
    "print (srs.GetAttrValue('geogcs'))"
   ]
  },
  {
   "cell_type": "code",
   "execution_count": null,
   "metadata": {},
   "outputs": [],
   "source": []
  },
  {
   "cell_type": "code",
   "execution_count": null,
   "metadata": {},
   "outputs": [],
   "source": []
  },
  {
   "cell_type": "code",
   "execution_count": null,
   "metadata": {},
   "outputs": [],
   "source": [
    "\n",
    "        subprocess.call([\"gdal_translate\", dset, dst_dataset])\n",
    "        \n",
    "        if m==0:\n",
    "            input_files = [dst_dataset]\n",
    "        else:\n",
    "            input_files.append(dst_dataset)\n",
    "    \n",
    "    # Mosaic\n",
    "    matlab.check_make_dir(path_mosaic) # debugging\n",
    "    fname = f\"EA_MCD12Q1_mosaic_{yr}.tif\"\n",
    "    out_filename = os.path.join(path_mosaic, fname)\n",
    "    pixel_type = 'Int16'\n",
    "    cmd = [\"gdal_merge.py\", \"-init\", \"255\", \"-ot\", pixel_type, \"-o\", out_filename]\n",
    "    cmd = cmd + input_files\n",
    "    subprocess.call(cmd)\n",
    "    \n",
    "    tmpdirname.cleanup()\n",
    "    print(yr)"
   ]
  }
 ],
 "metadata": {
  "kernelspec": {
   "display_name": "venv",
   "language": "python",
   "name": "venv"
  },
  "language_info": {
   "codemirror_mode": {
    "name": "ipython",
    "version": 3
   },
   "file_extension": ".py",
   "mimetype": "text/x-python",
   "name": "python",
   "nbconvert_exporter": "python",
   "pygments_lexer": "ipython3",
   "version": "3.6.8"
  }
 },
 "nbformat": 4,
 "nbformat_minor": 2
}
