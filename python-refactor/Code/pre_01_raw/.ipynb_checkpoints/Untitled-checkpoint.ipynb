{
 "cells": [
  {
   "cell_type": "code",
   "execution_count": 186,
   "metadata": {},
   "outputs": [],
   "source": [
    "import gdal\n",
    "fname = 'GOCI_Yonsei_Aerosol_V2_20180101001638.hdf'\n",
    "hdf_file = gdal.Open(fname) # 3b43 rainfall dataset"
   ]
  },
  {
   "cell_type": "code",
   "execution_count": 187,
   "metadata": {
    "scrolled": true
   },
   "outputs": [],
   "source": [
    "subDatasets = hdf_file.GetSubDatasets()"
   ]
  },
  {
   "cell_type": "code",
   "execution_count": 189,
   "metadata": {},
   "outputs": [
    {
     "name": "stdout",
     "output_type": "stream",
     "text": [
      "HDF4_EOS:EOS_SWATH:\"GOCI_Yonsei_Aerosol_V2_20180101001638.hdf\":GOCI_Yonsei_Aerosol_Retrieval_Version_2_Products:Aerosol_Optical_Depth_550nm\n"
     ]
    }
   ],
   "source": [
    "print (subDatasets[0][0])"
   ]
  },
  {
   "cell_type": "code",
   "execution_count": 190,
   "metadata": {},
   "outputs": [
    {
     "data": {
      "text/plain": [
       "'[473x463] Aerosol_Optical_Depth_550nm GOCI_Yonsei_Aerosol_Retrieval_Version_2_Products (32-bit floating-point)'"
      ]
     },
     "execution_count": 190,
     "metadata": {},
     "output_type": "execute_result"
    }
   ],
   "source": [
    "subDatasets[0][1]"
   ]
  },
  {
   "cell_type": "code",
   "execution_count": 191,
   "metadata": {},
   "outputs": [],
   "source": [
    "dataset = gdal.Open(subDatasets[0][0])"
   ]
  },
  {
   "cell_type": "code",
   "execution_count": 192,
   "metadata": {},
   "outputs": [
    {
     "data": {
      "text/plain": [
       "{'Aerosol_Type_Absorbing_Coarse_Particle': '1, 0, 0, 0',\n",
       " 'Aerosol_Type_High_Absorbing_Fine_Particle': '4, 0, 0, 0',\n",
       " 'Aerosol_Type_Mixture_Particle': '3, 0, 0, 0',\n",
       " 'Aerosol_Type_Moderate_Absorbing_Fine_Particle': '5, 0, 0, 0',\n",
       " 'Aerosol_Type_Non_Absorbing_Coarse_Particle': '2, 0, 0, 0',\n",
       " 'Aerosol_Type_Non_Absorbing_Fine_Particle': '6, 0, 0, 0',\n",
       " 'Flag_Failure_AOD_gt_Plus3.60': '5, 0, 0, 0',\n",
       " 'Flag_Failure_AOD_lt_Minus0.05': '4, 0, 0, 0',\n",
       " 'Flag_Failure_Bright_Surface_or_Too_Heavy_Dust_over_Land': '9, 0, 0, 0',\n",
       " 'Flag_Failure_Cloud': '10, 0, 0, 0',\n",
       " 'Flag_Failure_No_L1B_Data': '6, 0, 0, 0',\n",
       " 'Flag_Failure_Solar_Zenith_Angle_gt_70degree': '11, 0, 0, 0',\n",
       " 'Flag_Failure_Sunglint_Ocean': '7, 0, 0, 0',\n",
       " 'Flag_Failure_Too_Turbid_Ocean': '8, 0, 0, 0',\n",
       " 'Flag_Success_Dark_Ocean_Algorithm': '2, 0, 0, 0',\n",
       " 'Flag_Success_Land_Algorithm': '1, 0, 0, 0',\n",
       " 'Flag_Success_Turbid_Ocean_Algorithm': '3, 0, 0, 0',\n",
       " 'HDFEOSVersion': 'HDFEOS_V2.8',\n",
       " 'Land_Ocean_Mask_Land': '1, 0, 0, 0',\n",
       " 'Land_Ocean_Mask_Ocaen': '0, 0, 0, 0',\n",
       " 'Range_of_No_of_Used_500m_Pixels_for_One_6km_Product_Pixel': '29, 58, 0, 0, 0, 0, 0, 0',\n",
       " '_FillValue': 'nan'}"
      ]
     },
     "execution_count": 192,
     "metadata": {},
     "output_type": "execute_result"
    }
   ],
   "source": [
    "dataset.GetMetadata()"
   ]
  },
  {
   "cell_type": "code",
   "execution_count": null,
   "metadata": {},
   "outputs": [],
   "source": []
  },
  {
   "cell_type": "code",
   "execution_count": 163,
   "metadata": {},
   "outputs": [],
   "source": [
    "from osgeo import gdal_array\n",
    "# Read raster data as numeric array from file\n",
    "rasterArray = gdal_array.LoadFile(subDatasets[0][0])"
   ]
  },
  {
   "cell_type": "code",
   "execution_count": 182,
   "metadata": {},
   "outputs": [
    {
     "data": {
      "text/plain": [
       "array([[nan, nan, nan, ..., nan, nan, nan],\n",
       "       [nan, nan, nan, ..., nan, nan, nan],\n",
       "       [nan, nan, nan, ..., nan, nan, nan],\n",
       "       ...,\n",
       "       [nan, nan, nan, ..., nan, nan, nan],\n",
       "       [nan, nan, nan, ..., nan, nan, nan],\n",
       "       [nan, nan, nan, ..., nan, nan, nan]], dtype=float32)"
      ]
     },
     "execution_count": 182,
     "metadata": {},
     "output_type": "execute_result"
    }
   ],
   "source": [
    "rasterArray"
   ]
  },
  {
   "cell_type": "code",
   "execution_count": 165,
   "metadata": {},
   "outputs": [
    {
     "data": {
      "text/plain": [
       "'HDF4_EOS:EOS_SWATH:\"GOCI_Yonsei_Aerosol_V2_20180101001638.hdf\":GOCI_Yonsei_Aerosol_Retrieval_Version_2_Products:Fine_Mode_Fraction_550nm'"
      ]
     },
     "execution_count": 165,
     "metadata": {},
     "output_type": "execute_result"
    }
   ],
   "source": [
    "mysubdataset_name"
   ]
  },
  {
   "cell_type": "code",
   "execution_count": 166,
   "metadata": {},
   "outputs": [],
   "source": [
    "subdatasets = hdf_file.GetSubDatasets()\n",
    "mysubdataset_name = subdatasets[1][0]\n",
    "mydata = gdal.Open(mysubdataset_name, gdal.GA_ReadOnly)"
   ]
  },
  {
   "cell_type": "code",
   "execution_count": 169,
   "metadata": {},
   "outputs": [],
   "source": [
    "def hdf_subdataset_extraction(hdf_file, dst_dir, subdataset):\n",
    "    \"\"\"unpack a single subdataset from a HDF5 container and write to GeoTiff\"\"\"\n",
    "    # open the dataset\n",
    "    hdf_ds = gdal.Open(hdf_file, gdal.GA_ReadOnly)\n",
    "    band_ds = gdal.Open(hdf_ds.GetSubDatasets()[subdataset][0], gdal.GA_ReadOnly)\n",
    "\n",
    "    # read into numpy array\n",
    "    band_array = band_ds.ReadAsArray().astype(np.int16)"
   ]
  },
  {
   "cell_type": "code",
   "execution_count": 172,
   "metadata": {},
   "outputs": [],
   "source": [
    "hdf_ds = gdal.Open(fname, gdal.GA_ReadOnly)"
   ]
  },
  {
   "cell_type": "code",
   "execution_count": 174,
   "metadata": {},
   "outputs": [
    {
     "ename": "TypeError",
     "evalue": "list indices must be integers or slices, not str",
     "output_type": "error",
     "traceback": [
      "\u001b[0;31m---------------------------------------------------------------------------\u001b[0m",
      "\u001b[0;31mTypeError\u001b[0m                                 Traceback (most recent call last)",
      "\u001b[0;32m<ipython-input-174-b79109138048>\u001b[0m in \u001b[0;36m<module>\u001b[0;34m\u001b[0m\n\u001b[1;32m      1\u001b[0m \u001b[0msubdataset\u001b[0m \u001b[0;34m=\u001b[0m \u001b[0;34m'Aerosol_Optical_Depth_550nm'\u001b[0m\u001b[0;34m\u001b[0m\u001b[0;34m\u001b[0m\u001b[0m\n\u001b[0;32m----> 2\u001b[0;31m \u001b[0mband_ds\u001b[0m \u001b[0;34m=\u001b[0m \u001b[0mgdal\u001b[0m\u001b[0;34m.\u001b[0m\u001b[0mOpen\u001b[0m\u001b[0;34m(\u001b[0m\u001b[0mhdf_ds\u001b[0m\u001b[0;34m.\u001b[0m\u001b[0mGetSubDatasets\u001b[0m\u001b[0;34m(\u001b[0m\u001b[0;34m)\u001b[0m\u001b[0;34m[\u001b[0m\u001b[0msubdataset\u001b[0m\u001b[0;34m]\u001b[0m\u001b[0;34m[\u001b[0m\u001b[0;36m0\u001b[0m\u001b[0;34m]\u001b[0m\u001b[0;34m,\u001b[0m \u001b[0mgdal\u001b[0m\u001b[0;34m.\u001b[0m\u001b[0mGA_ReadOnly\u001b[0m\u001b[0;34m)\u001b[0m\u001b[0;34m\u001b[0m\u001b[0;34m\u001b[0m\u001b[0m\n\u001b[0m",
      "\u001b[0;31mTypeError\u001b[0m: list indices must be integers or slices, not str"
     ]
    }
   ],
   "source": [
    "subdataset = 'Aerosol_Optical_Depth_550nm'\n",
    "band_ds = gdal.Open(hdf_ds.GetSubDatasets()[subdataset][0], gdal.GA_ReadOnly)"
   ]
  },
  {
   "cell_type": "code",
   "execution_count": 180,
   "metadata": {},
   "outputs": [
    {
     "data": {
      "text/plain": [
       "('HDF4_EOS:EOS_SWATH:\"GOCI_Yonsei_Aerosol_V2_20180101001638.hdf\":GOCI_Yonsei_Aerosol_Retrieval_Version_2_Products:Aerosol_Optical_Depth_550nm',\n",
       " '[473x463] Aerosol_Optical_Depth_550nm GOCI_Yonsei_Aerosol_Retrieval_Version_2_Products (32-bit floating-point)')"
      ]
     },
     "execution_count": 180,
     "metadata": {},
     "output_type": "execute_result"
    }
   ],
   "source": [
    "hdf_ds.GetSubDatasets()[0]"
   ]
  },
  {
   "cell_type": "code",
   "execution_count": 185,
   "metadata": {},
   "outputs": [
    {
     "ename": "ImportError",
     "evalue": "Missing optional dependency 'tables'.  Use pip or conda to install tables.",
     "output_type": "error",
     "traceback": [
      "\u001b[0;31m---------------------------------------------------------------------------\u001b[0m",
      "\u001b[0;31mImportError\u001b[0m                               Traceback (most recent call last)",
      "\u001b[0;32m<ipython-input-185-9d36a3b4061e>\u001b[0m in \u001b[0;36m<module>\u001b[0;34m\u001b[0m\n\u001b[1;32m      2\u001b[0m \u001b[0;34m\u001b[0m\u001b[0m\n\u001b[1;32m      3\u001b[0m \u001b[0mpath\u001b[0m \u001b[0;34m=\u001b[0m \u001b[0mfname\u001b[0m\u001b[0;34m\u001b[0m\u001b[0;34m\u001b[0m\u001b[0m\n\u001b[0;32m----> 4\u001b[0;31m \u001b[0mstore\u001b[0m \u001b[0;34m=\u001b[0m \u001b[0mpd\u001b[0m\u001b[0;34m.\u001b[0m\u001b[0mio\u001b[0m\u001b[0;34m.\u001b[0m\u001b[0mpytables\u001b[0m\u001b[0;34m.\u001b[0m\u001b[0mHDFStore\u001b[0m\u001b[0;34m(\u001b[0m\u001b[0mpath\u001b[0m\u001b[0;34m)\u001b[0m\u001b[0;34m\u001b[0m\u001b[0;34m\u001b[0m\u001b[0m\n\u001b[0m\u001b[1;32m      5\u001b[0m \u001b[0;34m\u001b[0m\u001b[0m\n\u001b[1;32m      6\u001b[0m \u001b[0mprint\u001b[0m \u001b[0;34m(\u001b[0m\u001b[0mstore\u001b[0m\u001b[0;34m)\u001b[0m\u001b[0;34m\u001b[0m\u001b[0;34m\u001b[0m\u001b[0m\n",
      "\u001b[0;32m~/GEMS_python/venv/lib/python3.6/site-packages/pandas/io/pytables.py\u001b[0m in \u001b[0;36m__init__\u001b[0;34m(self, path, mode, complevel, complib, fletcher32, **kwargs)\u001b[0m\n\u001b[1;32m    482\u001b[0m             \u001b[0;32mraise\u001b[0m \u001b[0mValueError\u001b[0m\u001b[0;34m(\u001b[0m\u001b[0;34m\"format is not a defined argument for HDFStore\"\u001b[0m\u001b[0;34m)\u001b[0m\u001b[0;34m\u001b[0m\u001b[0;34m\u001b[0m\u001b[0m\n\u001b[1;32m    483\u001b[0m \u001b[0;34m\u001b[0m\u001b[0m\n\u001b[0;32m--> 484\u001b[0;31m         \u001b[0mtables\u001b[0m \u001b[0;34m=\u001b[0m \u001b[0mimport_optional_dependency\u001b[0m\u001b[0;34m(\u001b[0m\u001b[0;34m\"tables\"\u001b[0m\u001b[0;34m)\u001b[0m\u001b[0;34m\u001b[0m\u001b[0;34m\u001b[0m\u001b[0m\n\u001b[0m\u001b[1;32m    485\u001b[0m \u001b[0;34m\u001b[0m\u001b[0m\n\u001b[1;32m    486\u001b[0m         \u001b[0;32mif\u001b[0m \u001b[0mcomplib\u001b[0m \u001b[0;32mis\u001b[0m \u001b[0;32mnot\u001b[0m \u001b[0;32mNone\u001b[0m \u001b[0;32mand\u001b[0m \u001b[0mcomplib\u001b[0m \u001b[0;32mnot\u001b[0m \u001b[0;32min\u001b[0m \u001b[0mtables\u001b[0m\u001b[0;34m.\u001b[0m\u001b[0mfilters\u001b[0m\u001b[0;34m.\u001b[0m\u001b[0mall_complibs\u001b[0m\u001b[0;34m:\u001b[0m\u001b[0;34m\u001b[0m\u001b[0;34m\u001b[0m\u001b[0m\n",
      "\u001b[0;32m~/GEMS_python/venv/lib/python3.6/site-packages/pandas/compat/_optional.py\u001b[0m in \u001b[0;36mimport_optional_dependency\u001b[0;34m(name, extra, raise_on_missing, on_version)\u001b[0m\n\u001b[1;32m     91\u001b[0m     \u001b[0;32mexcept\u001b[0m \u001b[0mImportError\u001b[0m\u001b[0;34m:\u001b[0m\u001b[0;34m\u001b[0m\u001b[0;34m\u001b[0m\u001b[0m\n\u001b[1;32m     92\u001b[0m         \u001b[0;32mif\u001b[0m \u001b[0mraise_on_missing\u001b[0m\u001b[0;34m:\u001b[0m\u001b[0;34m\u001b[0m\u001b[0;34m\u001b[0m\u001b[0m\n\u001b[0;32m---> 93\u001b[0;31m             \u001b[0;32mraise\u001b[0m \u001b[0mImportError\u001b[0m\u001b[0;34m(\u001b[0m\u001b[0mmessage\u001b[0m\u001b[0;34m.\u001b[0m\u001b[0mformat\u001b[0m\u001b[0;34m(\u001b[0m\u001b[0mname\u001b[0m\u001b[0;34m=\u001b[0m\u001b[0mname\u001b[0m\u001b[0;34m,\u001b[0m \u001b[0mextra\u001b[0m\u001b[0;34m=\u001b[0m\u001b[0mextra\u001b[0m\u001b[0;34m)\u001b[0m\u001b[0;34m)\u001b[0m \u001b[0;32mfrom\u001b[0m \u001b[0;32mNone\u001b[0m\u001b[0;34m\u001b[0m\u001b[0;34m\u001b[0m\u001b[0m\n\u001b[0m\u001b[1;32m     94\u001b[0m         \u001b[0;32melse\u001b[0m\u001b[0;34m:\u001b[0m\u001b[0;34m\u001b[0m\u001b[0;34m\u001b[0m\u001b[0m\n\u001b[1;32m     95\u001b[0m             \u001b[0;32mreturn\u001b[0m \u001b[0;32mNone\u001b[0m\u001b[0;34m\u001b[0m\u001b[0;34m\u001b[0m\u001b[0m\n",
      "\u001b[0;31mImportError\u001b[0m: Missing optional dependency 'tables'.  Use pip or conda to install tables."
     ]
    }
   ],
   "source": [
    "import pandas as pd\n",
    "\n",
    "path = fname\n",
    "store = pd.io.pytables.HDFStore(path)\n",
    "\n",
    "print (store)"
   ]
  },
  {
   "cell_type": "code",
   "execution_count": null,
   "metadata": {},
   "outputs": [],
   "source": []
  },
  {
   "cell_type": "code",
   "execution_count": null,
   "metadata": {},
   "outputs": [],
   "source": []
  },
  {
   "cell_type": "code",
   "execution_count": 1,
   "metadata": {},
   "outputs": [
    {
     "ename": "ModuleNotFoundError",
     "evalue": "No module named 'Code'",
     "output_type": "error",
     "traceback": [
      "\u001b[0;31m---------------------------------------------------------------------------\u001b[0m",
      "\u001b[0;31mModuleNotFoundError\u001b[0m                       Traceback (most recent call last)",
      "\u001b[0;32m<ipython-input-1-04ab6b2da3ee>\u001b[0m in \u001b[0;36m<module>\u001b[0;34m\u001b[0m\n\u001b[0;32m----> 1\u001b[0;31m \u001b[0;32mfrom\u001b[0m \u001b[0mCode\u001b[0m\u001b[0;34m.\u001b[0m\u001b[0mutils\u001b[0m \u001b[0;32mimport\u001b[0m \u001b[0mmatlab\u001b[0m\u001b[0;34m\u001b[0m\u001b[0;34m\u001b[0m\u001b[0m\n\u001b[0m\u001b[1;32m      2\u001b[0m \u001b[0;32mfrom\u001b[0m \u001b[0mCode\u001b[0m\u001b[0;34m.\u001b[0m\u001b[0mutils\u001b[0m \u001b[0;32mimport\u001b[0m \u001b[0mhelpers\u001b[0m\u001b[0;34m\u001b[0m\u001b[0;34m\u001b[0m\u001b[0m\n",
      "\u001b[0;31mModuleNotFoundError\u001b[0m: No module named 'Code'"
     ]
    }
   ],
   "source": [
    "from Code.utils import matlab\n",
    "from Code.utils import helpers"
   ]
  },
  {
   "cell_type": "code",
   "execution_count": 194,
   "metadata": {},
   "outputs": [
    {
     "data": {
      "text/plain": [
       "['GOCI_Yonsei_Aerosol_V2_20160101011646.hdf',\n",
       " 'GOCI_Yonsei_Aerosol_V2_20160101001646.hdf']"
      ]
     },
     "execution_count": 194,
     "metadata": {},
     "output_type": "execute_result"
    }
   ],
   "source": [
    "list_mm"
   ]
  },
  {
   "cell_type": "code",
   "execution_count": 195,
   "metadata": {},
   "outputs": [
    {
     "data": {
      "text/plain": [
       "'/home/sehyun/GEMS_python/python-refactor/Code/pre_01_raw'"
      ]
     },
     "execution_count": 195,
     "metadata": {},
     "output_type": "execute_result"
    }
   ],
   "source": [
    "os.getcwd()"
   ]
  },
  {
   "cell_type": "code",
   "execution_count": 5,
   "metadata": {},
   "outputs": [
    {
     "data": {
      "text/plain": [
       "array([[nan, nan, nan, ..., nan, nan, nan],\n",
       "       [nan, nan, nan, ..., nan, nan, nan],\n",
       "       [nan, nan, nan, ..., nan, nan, nan],\n",
       "       ...,\n",
       "       [nan, nan, nan, ..., nan, nan, nan],\n",
       "       [nan, nan, nan, ..., nan, nan, nan],\n",
       "       [nan, nan, nan, ..., nan, nan, nan]], dtype=float32)"
      ]
     },
     "execution_count": 5,
     "metadata": {},
     "output_type": "execute_result"
    }
   ],
   "source": []
  },
  {
   "cell_type": "code",
   "execution_count": 4,
   "metadata": {},
   "outputs": [],
   "source": [
    "### Package Import\n",
    "import sys\n",
    "import os\n",
    "base_dir = os.environ['PWD'] # os.environ['GEMS_HOME']\n",
    "project_path = os.path.join(base_dir, 'python-refactor')\n",
    "sys.path.insert(0, project_path)\n",
    "\n",
    "from Code.utils import matlab\n",
    "#from Code.utils import helpers\n",
    "\n",
    "import scipy.io as sio\n",
    "import numpy as np\n",
    "import glob\n",
    "\n",
    "### Setting path\n",
    "raw_data_path = os.path.join(project_path, 'Data', 'Raw', 'GOCI_AOD') \n",
    "write_path = os.path.join(project_path, 'Data', 'Prepreossed_raw', 'GOCI_AOD')\n",
    "\n",
    "### Setting period\n",
    "YEARS = [2016] #, 2018, 2019]\n",
    "MONTHS = range(1, 12+1)"
   ]
  },
  {
   "cell_type": "code",
   "execution_count": 6,
   "metadata": {},
   "outputs": [],
   "source": [
    "\n",
    "datasets = dict()\n",
    "datasets['GOCI_aod'] = 'Aerosol_Optical_Depth_550nm'\n",
    "datasets['GOCI_fmf'] = 'Fine_Mode_Fraction_550nm'\n",
    "datasets['GOCI_ssa'] = 'Single_Scattering_Albedo_440nm'\n",
    "datasets['GOCI_ae'] = 'Angstrom_Exponent_440_870nm'\n",
    "datasets['GOCI_type'] = 'Aerosol_Type'\n",
    "datasets['GOCI_num_used_pixcels'] = 'No_of_Used_500m_Pixels_for_One_6km_Product_Pixel'\n",
    "datasets['GOCI_ndvi'] = 'NDVI_from_TOA_Reflectance_660_865nm'\n",
    "datasets['GOCI_dai'] = 'Dust_Aerosol_Index_from_412_443nm'"
   ]
  },
  {
   "cell_type": "code",
   "execution_count": 7,
   "metadata": {},
   "outputs": [],
   "source": [
    "def read_GOCI_datasets(path, sets):\n",
    "    ### Input\n",
    "    # path: file path\n",
    "    # sets (=dataset names): key is variable name, value is dataset name\n",
    "    ### Output\n",
    "    # data_values: dictionary\n",
    "    data_values = dict()\n",
    "    for var_name, dataset_name in sets.items():\n",
    "        data_values[var_name] = matlab.hdfread(path, dataset_name)\n",
    "    return data_values"
   ]
  },
  {
   "cell_type": "code",
   "execution_count": 8,
   "metadata": {},
   "outputs": [
    {
     "ename": "SyntaxError",
     "evalue": "non-default argument follows default argument (<ipython-input-8-0b5365cbf166>, line 1)",
     "output_type": "error",
     "traceback": [
      "\u001b[0;36m  File \u001b[0;32m\"<ipython-input-8-0b5365cbf166>\"\u001b[0;36m, line \u001b[0;32m1\u001b[0m\n\u001b[0;31m    def read_and_save(read_path, sets, nan_range=None, save_path):\u001b[0m\n\u001b[0m                     ^\u001b[0m\n\u001b[0;31mSyntaxError\u001b[0m\u001b[0;31m:\u001b[0m non-default argument follows default argument\n"
     ]
    }
   ],
   "source": [
    "def read_and_save(read_path, sets, nan_range=None, save_path):\n",
    "    data = matlab.hdfread(path, dataset_name)\n",
    "    "
   ]
  },
  {
   "cell_type": "code",
   "execution_count": 122,
   "metadata": {},
   "outputs": [],
   "source": [
    "### Setting period\n",
    "YEARS = [2016] #, 2018, 2019]\n",
    "MONTHS = range(1, 12+1)\n",
    "\n",
    "datasets = dict()\n",
    "datasets['GOCI_aod'] = 'Aerosol_Optical_Depth_550nm'\n",
    "datasets['GOCI_fmf'] = 'Fine_Mode_Fraction_550nm'\n",
    "datasets['GOCI_ssa'] = 'Single_Scattering_Albedo_440nm'\n",
    "datasets['GOCI_ae'] = 'Angstrom_Exponent_440_870nm'\n",
    "datasets['GOCI_type'] = 'Aerosol_Type'\n",
    "datasets['GOCI_num_used_pixcels'] = 'No_of_Used_500m_Pixels_for_One_6km_Product_Pixel'\n",
    "datasets['GOCI_ndvi'] = 'NDVI_from_TOA_Reflectance_660_865nm'\n",
    "datasets['GOCI_dai'] = 'Dust_Aerosol_Index_from_412_443nm'\n",
    "\n",
    "outliers = dict()\n",
    "outliers['GOCI_aod'] = (-0.05, 3.6)\n",
    "outliers['GOCI_fmf'] = (0, 1)\n",
    "outliers['GOCI_ssa'] = (0, 1)\n",
    "outliers['GOCI_ae'] = (0, 3)\n",
    "outliers['GOCI_type'] = (0, 6)\n",
    "outliers['GOCI_ndvi'] = (-1, 1)\n",
    "\n",
    "def read_GOCI_datasets(path, sets):\n",
    "    ### Input\n",
    "    # path: file path\n",
    "    # sets (=dataset names): key is variable name, value is dataset name\n",
    "    ### Output\n",
    "    # data_values: dictionary\n",
    "    data_values = dict()\n",
    "    for var_name, dataset_name in sets.items():\n",
    "        data_values[var_name] = np.float64(matlab.hdfread(path, dataset_name))\n",
    "    return data_values\n",
    "\n",
    "def set_outlier_nan(data_values, outliers):\n",
    "    for var_name, val in outliers.items():\n",
    "        small, large = outliers\n",
    "        data_values[var_name][(data_values[var_name]<small) | (data_values[var_name]>large)] = np.nan\n",
    "    return data_values\n",
    "        \n",
    "def write_nan_GOCI_datasets(path, sets):\n",
    "    data_values = dict()\n",
    "    for var_name, dataset_name in sets.items():\n",
    "        data_values[var_name] = np.full((473, 436), np.nan)\n",
    "    return data_values\n",
    "\n",
    "\n",
    "def save_GOCI_datasets(path, yr, filename):\n",
    "    matlab.savemat(dirname=os.path.join(path, 'AOD', str(yr)),\n",
    "               fname=f'GOCI_AOD_{filename}',\n",
    "               data={'GOCI_aod':GOCI_aod})\n",
    "    matlab.savemat(dirname=os.path.join(path, 'FMF', str(yr)),\n",
    "               fname=f'GOCI_FMF_{filename}',\n",
    "               data={'GOCI_FMF':GOCI_fmf})\n",
    "    matlab.savemat(dirname=os.path.join(path, 'SSA', str(yr)),\n",
    "               fname=f'GOCI_SSA_{filename}',\n",
    "               data={'GOCI_SSA':GOCI_ssa})\n",
    "    matlab.savemat(dirname=os.path.join(path, 'AE', str(yr)),\n",
    "               fname=f'GOCI_AE_{filename}',\n",
    "               data={'GOCI_ae':GOCI_ae})\n",
    "    matlab.savemat(dirname=os.path.join(path, 'Type', str(yr)),\n",
    "               fname=f'GOCI_Type_{filename}',\n",
    "               data={'GOCI_Type':GOCI_type})\n",
    "    matlab.savemat(dirname=os.path.join(path, 'No_of_Used_500m_Pixels_for_One_6km_Product_Pixel', str(yr)),\n",
    "               fname=f'GOCI_num_used_pixels_{filename}',\n",
    "               data={'GOCI_num_used_pixels':GOCI_num_used_pixels})\n",
    "    matlab.savemat(dirname=os.path.join(path, 'NDVI', str(yr)),\n",
    "               fname=f'GOCI_num_used_pixels_{filename}',\n",
    "               data={'GOCI_ndvi':GOCI_ndvi})\n",
    "    matlab.savemat(dirname=os.path.join(path, 'DAI', str(yr)),\n",
    "               fname=f'GOCI_DAI_{filename}',\n",
    "               data={'GOCI_dai':GOCI_dai})"
   ]
  },
  {
   "cell_type": "code",
   "execution_count": null,
   "metadata": {},
   "outputs": [],
   "source": [
    "for yr in YEARS:\n",
    "    doy_000 = matlab.datenum(f'{yr}0000')\n",
    "\n",
    "    num_utc = 8\n",
    "    all_list_doy = np.tile(range(1,days+1),(num_utc,1))\n",
    "    all_list_utc = np.tile(range(num_utc),(1,days))\n",
    "    all_date = np.vstack((all_list_doy.T.flatten(), all_list_utc.flatten())).T\n",
    "    isNotDateExist = np.full(len(all_date), True)\n",
    "\n",
    "    for mm in MONTHS:\n",
    "        curr_path = os.path.join(raw_data_path, str(yr), f'{mm:02d}')\n",
    "        #os.chdir(curr_path)\n",
    "        \n",
    "        list_mm = glob.glob(os.path.join(curr_path, '*.hdf'))\n",
    "        list_mm = [os.path.basename(f) for f in list_mm]\n",
    "        doy = [matlab.datenum(x[23:31]) for x in list_mm]\n",
    "        list_doy = [d-doy_000 for d in doy]\n",
    "        list_utc = [int(x[31:33]) for x in list_mm]        \n",
    "        isNotDateExist[[doy*8+utc for doy, utc in zip(list_doy, list_utc)]] = False\n",
    "        \n",
    "        for k, fname in enumerate(list_mm):\n",
    "            # Read\n",
    "            GOCI_aod = np.float64(matlab.hdfread(os.path.join(curr_path, fname),\\\n",
    "                                       'Aerosol_Optical_Depth_550nm'))\n",
    "            GOCI_fmf = np.float64(matlab.hdfread(os.path.join(curr_path, fname),\\\n",
    "                                      'Fine_Mode_Fraction_550nm'))\n",
    "            GOCI_ssa = np.float64(matlab.hdfread(os.path.join(curr_path, fname),\\\n",
    "                                      'Single_Scattering_Albedo_440nm'))\n",
    "            GOCI_ae = np.float64(matlab.hdfread(os.path.join(curr_path, fname),\\\n",
    "                                     'Angstrom_Exponent_440_870nm'))\n",
    "            GOCI_type = np.float64(matlab.hdfread(os.path.join(curr_path, fname),\\\n",
    "                                       'Aerosol_Type'))\n",
    "            GOCI_num_used_pixels = np.float64(matlab.hdfread(os.path.join(curr_path, fname),\\\n",
    "                                       'No_of_Used_500m_Pixels_for_One_6km_Product_Pixel'))\n",
    "            GOCI_ndvi = np.float64(matlab.hdfread(os.path.join(curr_path, fname),\\\n",
    "                                       'NDVI_from_TOA_Reflectance_660_865nm'))\n",
    "            GOCI_dai = np.float64(matlab.hdfread(os.path.join(curr_path, fname),\\\n",
    "                                      'Dust_Aerosol_Index_from_412_443nm'))\n",
    "            \n",
    "            # Outlier\n",
    "            GOCI_aod[(GOCI_aod<-0.05) | (GOCI_aod>3.6)] = np.nan\n",
    "            GOCI_fmf[(GOCI_fmf<0) | (GOCI_fmf>1)] = np.nan\n",
    "            GOCI_ssa[(GOCI_ssa<0) | (GOCI_ssa>1)] = np.nan\n",
    "            GOCI_ae[(GOCI_ae<0) | (GOCI_ae>3)] = np.nan\n",
    "            GOCI_type[(GOCI_type<0) | (GOCI_type>6)] = np.nan\n",
    "            GOCI_ndvi[(GOCI_ndvi<-1) | (GOCI_ndvi>1)] = np.nan\n",
    "            \n",
    "            # Save\n",
    "            fname_temp = f'{yr}_{list_doy[k]:03d}_{list_utc[k]:02d}.mat'\n",
    "            save_GOCI_datasets(writh_path, yr, fname_temp)\n",
    "            print (fname_temp)\n",
    "        print (mm)\n",
    "        \n",
    "    \n",
    "    for doy, utc in all_date[isNotDateExist]:\n",
    "        fname_temp = f'{yr}_{doy:03d}_{utc:02d}.mat'\n",
    "        GOCI_aod = np.full([473, 463], np.nan)\n",
    "        GOCI_fmf = np.full([473, 463], np.nan)\n",
    "        GOCI_ssa = np.full([473, 463], np.nan)\n",
    "        GOCI_ae = np.full([473, 463], np.nan)\n",
    "        GOCI_type = np.full([473, 463], np.nan)\n",
    "        GOCI_num_used_pixels = np.full([473, 463], np.nan)\n",
    "        GOCI_ndvi = np.full([473, 463], np.nan)\n",
    "        GOCI_dai = np.full([473, 463], np.nan)\n",
    "        fname_temp = f'{yr}_{doy:03d}_{utc:02d}.mat'\n",
    "        save_GOCI_datasets(writh_path, yr, fname_temp)\n",
    "    print (yr)"
   ]
  },
  {
   "cell_type": "code",
   "execution_count": null,
   "metadata": {},
   "outputs": [],
   "source": []
  },
  {
   "cell_type": "code",
   "execution_count": null,
   "metadata": {},
   "outputs": [],
   "source": []
  },
  {
   "cell_type": "code",
   "execution_count": null,
   "metadata": {},
   "outputs": [],
   "source": []
  },
  {
   "cell_type": "code",
   "execution_count": null,
   "metadata": {},
   "outputs": [],
   "source": []
  },
  {
   "cell_type": "code",
   "execution_count": null,
   "metadata": {},
   "outputs": [],
   "source": []
  },
  {
   "cell_type": "code",
   "execution_count": null,
   "metadata": {},
   "outputs": [],
   "source": []
  },
  {
   "cell_type": "code",
   "execution_count": 100,
   "metadata": {},
   "outputs": [
    {
     "name": "stderr",
     "output_type": "stream",
     "text": [
      "/home/sehyun/GEMS_python/venv/lib/python3.6/site-packages/ipykernel_launcher.py:39: RuntimeWarning: invalid value encountered in less\n",
      "/home/sehyun/GEMS_python/venv/lib/python3.6/site-packages/ipykernel_launcher.py:39: RuntimeWarning: invalid value encountered in greater\n",
      "/home/sehyun/GEMS_python/venv/lib/python3.6/site-packages/ipykernel_launcher.py:40: RuntimeWarning: invalid value encountered in less\n",
      "/home/sehyun/GEMS_python/venv/lib/python3.6/site-packages/ipykernel_launcher.py:40: RuntimeWarning: invalid value encountered in greater\n",
      "/home/sehyun/GEMS_python/venv/lib/python3.6/site-packages/ipykernel_launcher.py:41: RuntimeWarning: invalid value encountered in less\n",
      "/home/sehyun/GEMS_python/venv/lib/python3.6/site-packages/ipykernel_launcher.py:41: RuntimeWarning: invalid value encountered in greater\n",
      "/home/sehyun/GEMS_python/venv/lib/python3.6/site-packages/ipykernel_launcher.py:42: RuntimeWarning: invalid value encountered in less\n",
      "/home/sehyun/GEMS_python/venv/lib/python3.6/site-packages/ipykernel_launcher.py:42: RuntimeWarning: invalid value encountered in greater\n",
      "/home/sehyun/GEMS_python/venv/lib/python3.6/site-packages/ipykernel_launcher.py:43: RuntimeWarning: invalid value encountered in less\n",
      "/home/sehyun/GEMS_python/venv/lib/python3.6/site-packages/ipykernel_launcher.py:43: RuntimeWarning: invalid value encountered in greater\n",
      "/home/sehyun/GEMS_python/venv/lib/python3.6/site-packages/ipykernel_launcher.py:44: RuntimeWarning: invalid value encountered in less\n",
      "/home/sehyun/GEMS_python/venv/lib/python3.6/site-packages/ipykernel_launcher.py:44: RuntimeWarning: invalid value encountered in greater\n"
     ]
    },
    {
     "name": "stdout",
     "output_type": "stream",
     "text": [
      "2016_001_01.mat\n",
      "2016_001_00.mat\n",
      "1\n",
      "2016_032_00.mat\n",
      "2016_032_01.mat\n",
      "2\n",
      "3\n",
      "4\n",
      "5\n",
      "6\n",
      "7\n",
      "8\n",
      "9\n",
      "10\n",
      "11\n",
      "12\n",
      "2016\n"
     ]
    }
   ],
   "source": [
    "for yr in YEARS:\n",
    "    doy_000 = matlab.datenum(f'{yr}0000')\n",
    "\n",
    "    num_utc = 8\n",
    "    all_list_doy = np.tile(range(1,days+1),(num_utc,1))\n",
    "    all_list_utc = np.tile(range(num_utc),(1,days))\n",
    "    all_date = np.vstack((all_list_doy.T.flatten(), all_list_utc.flatten())).T\n",
    "    isNotDateExist = np.full(len(all_date), True)\n",
    "\n",
    "    for mm in MONTHS:\n",
    "        curr_path = os.path.join(raw_data_path, str(yr), f'{mm:02d}')\n",
    "        #os.chdir(curr_path)\n",
    "        \n",
    "        list_mm = glob.glob(os.path.join(curr_path, '*.hdf'))\n",
    "        list_mm = [os.path.basename(f) for f in list_mm]\n",
    "        doy = [matlab.datenum(x[23:31]) for x in list_mm]\n",
    "        list_doy = [d-doy_000 for d in doy]\n",
    "        list_utc = [int(x[31:33]) for x in list_mm]        \n",
    "        isNotDateExist[[doy*8+utc for doy, utc in zip(list_doy, list_utc)]] = False\n",
    "        \n",
    "        for k, fname in enumerate(list_mm):\n",
    "            GOCI_aod = np.float64(matlab.hdfread(os.path.join(curr_path, fname),\\\n",
    "                                       'Aerosol_Optical_Depth_550nm'))\n",
    "            GOCI_fmf = np.float64(matlab.hdfread(os.path.join(curr_path, fname),\\\n",
    "                                      'Fine_Mode_Fraction_550nm'))\n",
    "            GOCI_ssa = np.float64(matlab.hdfread(os.path.join(curr_path, fname),\\\n",
    "                                      'Single_Scattering_Albedo_440nm'))\n",
    "            GOCI_ae = np.float64(matlab.hdfread(os.path.join(curr_path, fname),\\\n",
    "                                     'Angstrom_Exponent_440_870nm'))\n",
    "            GOCI_type = np.float64(matlab.hdfread(os.path.join(curr_path, fname),\\\n",
    "                                       'Aerosol_Type'))\n",
    "            GOCI_num_used_pixels = np.float64(matlab.hdfread(os.path.join(curr_path, fname),\\\n",
    "                                       'No_of_Used_500m_Pixels_for_One_6km_Product_Pixel'))\n",
    "            GOCI_ndvi = np.float64(matlab.hdfread(os.path.join(curr_path, fname),\\\n",
    "                                       'NDVI_from_TOA_Reflectance_660_865nm'))\n",
    "            GOCI_dai = np.float64(matlab.hdfread(os.path.join(curr_path, fname),\\\n",
    "                                      'Dust_Aerosol_Index_from_412_443nm'))\n",
    "            \n",
    "            GOCI_aod[(GOCI_aod<-0.05) | (GOCI_aod>3.6)] = np.nan\n",
    "            GOCI_fmf[(GOCI_fmf<0) | (GOCI_fmf>1)] = np.nan\n",
    "            GOCI_ssa[(GOCI_ssa<0) | (GOCI_ssa>1)] = np.nan\n",
    "            GOCI_ae[(GOCI_ae<0) | (GOCI_ae>3)] = np.nan\n",
    "            GOCI_type[(GOCI_type<0) | (GOCI_type>6)] = np.nan\n",
    "            GOCI_ndvi[(GOCI_ndvi<-1) | (GOCI_ndvi>1)] = np.nan\n",
    "            \n",
    "            fname_temp = f'{yr}_{list_doy[k]:03d}_{list_utc[k]:02d}.mat'\n",
    "            \n",
    "            matlab.savemat(dirname=os.path.join(write_path, 'AOD', str(yr)),\n",
    "                       fname=f'GOCI_AOD_{fname_temp}',\n",
    "                       data={'GOCI_aod':GOCI_aod})\n",
    "            matlab.savemat(dirname=os.path.join(write_path, 'FMF', str(yr)),\n",
    "                       fname=f'GOCI_FMF_{fname_temp}',\n",
    "                       data={'GOCI_FMF':GOCI_fmf})\n",
    "            matlab.savemat(dirname=os.path.join(write_path, 'SSA', str(yr)),\n",
    "                       fname=f'GOCI_SSA_{fname_temp}',\n",
    "                       data={'GOCI_SSA':GOCI_ssa})\n",
    "            matlab.savemat(dirname=os.path.join(write_path, 'AE', str(yr)),\n",
    "                       fname=f'GOCI_AE_{fname_temp}',\n",
    "                       data={'GOCI_ae':GOCI_ae})\n",
    "            matlab.savemat(dirname=os.path.join(write_path, 'Type', str(yr)),\n",
    "                       fname=f'GOCI_Type_{fname_temp}',\n",
    "                       data={'GOCI_Type':GOCI_type})\n",
    "            matlab.savemat(dirname=os.path.join(write_path, 'No_of_Used_500m_Pixels_for_One_6km_Product_Pixel', str(yr)),\n",
    "                       fname=f'GOCI_num_used_pixels_{fname_temp}',\n",
    "                       data={'GOCI_num_used_pixels':GOCI_num_used_pixels})\n",
    "            matlab.savemat(dirname=os.path.join(write_path, 'NDVI', str(yr)),\n",
    "                       fname=f'GOCI_num_used_pixels_{fname_temp}',\n",
    "                       data={'GOCI_ndvi':GOCI_ndvi})\n",
    "            matlab.savemat(dirname=os.path.join(write_path, 'DAI', str(yr)),\n",
    "                       fname=f'GOCI_DAI_{fname_temp}',\n",
    "                       data={'GOCI_dai':GOCI_dai})\n",
    "            print (fname_temp)\n",
    "        print (mm)\n",
    "        for doy, utc in all_date[isNotDateExist]:\n",
    "            \n",
    "    print (yr)"
   ]
  },
  {
   "cell_type": "code",
   "execution_count": null,
   "metadata": {},
   "outputs": [],
   "source": []
  },
  {
   "cell_type": "code",
   "execution_count": 64,
   "metadata": {},
   "outputs": [],
   "source": [
    "    days = 366\n",
    "    all_list_doy = np.tile(range(1,days+1),(8,1))\n",
    "    all_list_utc = np.tile(range(7+1),(1,days))\n",
    "    all_date = np.vstack((all_list_doy.T.flatten(), all_list_utc.flatten())).T"
   ]
  },
  {
   "cell_type": "code",
   "execution_count": 85,
   "metadata": {},
   "outputs": [
    {
     "data": {
      "text/plain": [
       "[(1, 1), (1, 0)]"
      ]
     },
     "execution_count": 85,
     "metadata": {},
     "output_type": "execute_result"
    }
   ],
   "source": [
    "list(zip(list_doy, list_utc))"
   ]
  },
  {
   "cell_type": "code",
   "execution_count": 96,
   "metadata": {},
   "outputs": [],
   "source": [
    "all_date_idx = np.full(len(all_date), False)"
   ]
  },
  {
   "cell_type": "code",
   "execution_count": 107,
   "metadata": {},
   "outputs": [
    {
     "data": {
      "text/plain": [
       "array([ True,  True,  True, ...,  True,  True,  True])"
      ]
     },
     "execution_count": 107,
     "metadata": {},
     "output_type": "execute_result"
    }
   ],
   "source": [
    "isNotDateExist"
   ]
  },
  {
   "cell_type": "code",
   "execution_count": 111,
   "metadata": {},
   "outputs": [
    {
     "name": "stdout",
     "output_type": "stream",
     "text": [
      "1 0\n"
     ]
    }
   ],
   "source": [
    "for a, b in all_date[isNotDateExist, :]:\n",
    "    print (a, b)\n",
    "    break"
   ]
  },
  {
   "cell_type": "code",
   "execution_count": 81,
   "metadata": {},
   "outputs": [],
   "source": [
    "idx = [True if date in all_date else False for date in zip(list_doy, list_utc) ]"
   ]
  },
  {
   "cell_type": "code",
   "execution_count": 82,
   "metadata": {},
   "outputs": [
    {
     "data": {
      "text/plain": [
       "[True, True]"
      ]
     },
     "execution_count": 82,
     "metadata": {},
     "output_type": "execute_result"
    }
   ],
   "source": [
    "idx"
   ]
  },
  {
   "cell_type": "code",
   "execution_count": 83,
   "metadata": {},
   "outputs": [
    {
     "ename": "IndexError",
     "evalue": "boolean index did not match indexed array along dimension 0; dimension is 2928 but corresponding boolean dimension is 2",
     "output_type": "error",
     "traceback": [
      "\u001b[0;31m---------------------------------------------------------------------------\u001b[0m",
      "\u001b[0;31mIndexError\u001b[0m                                Traceback (most recent call last)",
      "\u001b[0;32m<ipython-input-83-d4e8b2f16d67>\u001b[0m in \u001b[0;36m<module>\u001b[0;34m\u001b[0m\n\u001b[0;32m----> 1\u001b[0;31m \u001b[0mall_date\u001b[0m\u001b[0;34m[\u001b[0m\u001b[0midx\u001b[0m\u001b[0;34m,\u001b[0m \u001b[0;34m:\u001b[0m\u001b[0;34m]\u001b[0m\u001b[0;34m\u001b[0m\u001b[0;34m\u001b[0m\u001b[0m\n\u001b[0m",
      "\u001b[0;31mIndexError\u001b[0m: boolean index did not match indexed array along dimension 0; dimension is 2928 but corresponding boolean dimension is 2"
     ]
    }
   ],
   "source": [
    "all_date[idx, :]"
   ]
  },
  {
   "cell_type": "code",
   "execution_count": 129,
   "metadata": {},
   "outputs": [
    {
     "ename": "SyntaxError",
     "evalue": "invalid syntax (<ipython-input-129-e52a16609b0a>, line 37)",
     "output_type": "error",
     "traceback": [
      "\u001b[0;36m  File \u001b[0;32m\"<ipython-input-129-e52a16609b0a>\"\u001b[0;36m, line \u001b[0;32m37\u001b[0m\n\u001b[0;31m    list_aod2 = list(map(lambda x: (int(x[14:17]), int(x[18:20]))))   # doy, utc\u001b[0m\n\u001b[0m            ^\u001b[0m\n\u001b[0;31mSyntaxError\u001b[0m\u001b[0;31m:\u001b[0m invalid syntax\n"
     ]
    }
   ],
   "source": [
    "### Package Import\n",
    "import sys\n",
    "import os\n",
    "base_dir = os.environ['PWD'] # os.environ['GEMS_HOME']\n",
    "project_path = os.path.join(base_dir, 'python-refactor')\n",
    "sys.path.insert(0, project_path)\n",
    "\n",
    "from Code.utils import matlab\n",
    "#from Code.utils import helpers\n",
    "\n",
    "import scipy.io as sio\n",
    "import numpy as np\n",
    "import glob\n",
    "\n",
    "### Setting path\n",
    "raw_data_path = os.path.join(project_path, 'Data', 'Raw', 'GOCI_AOD') \n",
    "write_path = os.path.join(project_path, 'Data', 'Prepreossed_raw', 'GOCI_AOD')\n",
    "\n",
    "### Setting period\n",
    "YEARS = [2016] #, 2018, 2019]\n",
    "MONTHS = range(1, 12+1)\n",
    "\n",
    "GOCI_aod = np.full([473, 463], np.nan)\n",
    "GOCI_fmf = np.full([473, 463], np.nan)\n",
    "GOCI_ssa = np.full([473, 463], np.nan)\n",
    "GOCI_ae = np.full([473, 463], np.nan)\n",
    "GOCI_type = np.full([473, 463], np.nan)\n",
    "GOCI_num_used_pixels = np.full([473, 463], np.nan)\n",
    "GOCI_ndvi = np.full([473, 463], np.nan)\n",
    "GOCI_dai = np.full([473, 463], np.nan)\n",
    "\n",
    "\n",
    "for yr in YEARS:\n",
    "    days = 366 if (yr%4)==0 else 365\n",
    "    \n",
    "    list_aod = glob.glob(os.path.join('AOD', str(yr), \".mat\"))\n",
    "    list_aod2 = [(int(x[14:17]), int(x[18:20]) for x in list_aod] # doy, utc \n",
    "    num_utc = 8\n",
    "    list_doy = np.tile(range(1,days+1),(num_utc,1))\n",
    "    list_utc = np.tile(range(num_utc),(1,days))\n",
    "    list_all = np.vstack((list_doy.T.flatten(), list_utc.flatten())).T\n",
    "    isNotDateExist = np.full(len(list_all), True)\n",
    "    isNotDateExist[[doy*8+utc for doy, utc in list_aod2]] = False\n",
    "                         \n",
    "    miss_list = list_all[isNotDateExist, :]\n",
    "    for k in range(len(miss_list)):\n",
    "        fname_temp = f'{yr}_{miss_list[k][0]:03d}_{miss_list[k][1]:02d}.mat'\n",
    "        matlab.savemat(dirname=os.path.join(write_path, 'AOD', str(yr)),\n",
    "                   fname=f'GOCI_AOD_{fname_temp}',\n",
    "                   data={'GOCI_aod':GOCI_aod})\n",
    "        matlab.savemat(dirname=os.path.join(write_path, 'FMF', str(yr)),\n",
    "                   fname=f'GOCI_FMF_{fname_temp}',\n",
    "                   data={'GOCI_FMF':GOCI_fmf})\n",
    "        matlab.savemat(dirname=os.path.join(write_path, 'SSA', str(yr)),\n",
    "                   fname=f'GOCI_SSA_{fname_temp}',\n",
    "                   data={'GOCI_SSA':GOCI_ssa})\n",
    "        matlab.savemat(dirname=os.path.join(write_path, 'AE', str(yr)),\n",
    "                   fname=f'GOCI_AE_{fname_temp}',\n",
    "                   data={'GOCI_ae':GOCI_ae})\n",
    "        matlab.savemat(dirname=os.path.join(write_path, 'Type', str(yr)),\n",
    "                   fname=f'GOCI_Type_{fname_temp}',\n",
    "                   data={'GOCI_Type':GOCI_type})\n",
    "        matlab.savemat(dirname=os.path.join(write_path, 'No_of_Used_500m_Pixels_for_One_6km_Product_Pixel', str(yr)),\n",
    "                   fname=f'GOCI_num_used_pixels_{fname_temp}',\n",
    "                   data={'GOCI_num_used_pixels':GOCI_num_used_pixels})\n",
    "        matlab.savemat(dirname=os.path.join(write_path, 'NDVI', str(yr)),\n",
    "                   fname=f'GOCI_num_used_pixels_{fname_temp}',\n",
    "                   data={'GOCI_ndvi':GOCI_ndvi})\n",
    "        matlab.savemat(dirname=os.path.join(write_path, 'DAI', str(yr)),\n",
    "                   fname=f'GOCI_DAI_{fname_temp}',\n",
    "                   data={'GOCI_dai':GOCI_dai})\n",
    "        print (fname_temp)\n",
    "    print (yr)"
   ]
  },
  {
   "cell_type": "code",
   "execution_count": null,
   "metadata": {},
   "outputs": [],
   "source": []
  },
  {
   "cell_type": "code",
   "execution_count": null,
   "metadata": {},
   "outputs": [],
   "source": []
  },
  {
   "cell_type": "code",
   "execution_count": null,
   "metadata": {},
   "outputs": [],
   "source": []
  },
  {
   "cell_type": "code",
   "execution_count": null,
   "metadata": {},
   "outputs": [],
   "source": []
  },
  {
   "cell_type": "code",
   "execution_count": null,
   "metadata": {},
   "outputs": [],
   "source": []
  },
  {
   "cell_type": "code",
   "execution_count": 137,
   "metadata": {},
   "outputs": [
    {
     "ename": "IndexError",
     "evalue": "list index out of range",
     "output_type": "error",
     "traceback": [
      "\u001b[0;31m---------------------------------------------------------------------------\u001b[0m",
      "\u001b[0;31mIndexError\u001b[0m                                Traceback (most recent call last)",
      "\u001b[0;32m<ipython-input-137-4bc41fe12991>\u001b[0m in \u001b[0;36m<module>\u001b[0;34m\u001b[0m\n\u001b[1;32m     33\u001b[0m \u001b[0;34m\u001b[0m\u001b[0m\n\u001b[1;32m     34\u001b[0m         \u001b[0;32mfor\u001b[0m \u001b[0mm\u001b[0m \u001b[0;32min\u001b[0m \u001b[0mrange\u001b[0m\u001b[0;34m(\u001b[0m\u001b[0;36m1\u001b[0m\u001b[0;34m,\u001b[0m \u001b[0;36m8\u001b[0m\u001b[0;34m+\u001b[0m\u001b[0;36m1\u001b[0m\u001b[0;34m)\u001b[0m\u001b[0;34m:\u001b[0m\u001b[0;34m\u001b[0m\u001b[0;34m\u001b[0m\u001b[0m\n\u001b[0;32m---> 35\u001b[0;31m             \u001b[0mGOCI_aod\u001b[0m \u001b[0;34m=\u001b[0m \u001b[0mmatlab\u001b[0m\u001b[0;34m.\u001b[0m\u001b[0mloadmat\u001b[0m\u001b[0;34m(\u001b[0m\u001b[0mos\u001b[0m\u001b[0;34m.\u001b[0m\u001b[0mpath\u001b[0m\u001b[0;34m.\u001b[0m\u001b[0mjoin\u001b[0m\u001b[0;34m(\u001b[0m\u001b[0mdata_path\u001b[0m\u001b[0;34m,\u001b[0m \u001b[0;34m'AOD'\u001b[0m\u001b[0;34m,\u001b[0m \u001b[0mstr\u001b[0m\u001b[0;34m(\u001b[0m\u001b[0myr\u001b[0m\u001b[0;34m)\u001b[0m\u001b[0;34m,\u001b[0m \u001b[0;34mf'{list_aod[8*k-8+m]}.mat'\u001b[0m\u001b[0;34m)\u001b[0m\u001b[0;34m)\u001b[0m\u001b[0;34m\u001b[0m\u001b[0;34m\u001b[0m\u001b[0m\n\u001b[0m\u001b[1;32m     36\u001b[0m             \u001b[0mdata\u001b[0m\u001b[0;34m[\u001b[0m\u001b[0;34m:\u001b[0m\u001b[0;34m,\u001b[0m \u001b[0;34m:\u001b[0m\u001b[0;34m,\u001b[0m \u001b[0mm\u001b[0m\u001b[0;34m]\u001b[0m \u001b[0;34m=\u001b[0m \u001b[0mGOCI_aod\u001b[0m\u001b[0;34m\u001b[0m\u001b[0;34m\u001b[0m\u001b[0m\n\u001b[1;32m     37\u001b[0m             \u001b[0mGOCI_num_used_pixels\u001b[0m \u001b[0;34m=\u001b[0m \u001b[0mmatlab\u001b[0m\u001b[0;34m.\u001b[0m\u001b[0mloadmat\u001b[0m\u001b[0;34m(\u001b[0m\u001b[0mos\u001b[0m\u001b[0;34m.\u001b[0m\u001b[0mpath\u001b[0m\u001b[0;34m.\u001b[0m\u001b[0mjoin\u001b[0m\u001b[0;34m(\u001b[0m\u001b[0mdata_path\u001b[0m\u001b[0;34m,\u001b[0m \u001b[0;34m'No_of_Used_500m_Pixels_for_One_6km_Product_Pixel'\u001b[0m\u001b[0;34m,\u001b[0m \u001b[0mstr\u001b[0m\u001b[0;34m(\u001b[0m\u001b[0myr\u001b[0m\u001b[0;34m)\u001b[0m\u001b[0;34m,\u001b[0m \u001b[0;34m'GOCI_num_used_pixels_{}.mat'\u001b[0m\u001b[0;34m.\u001b[0m\u001b[0mformat\u001b[0m\u001b[0;34m(\u001b[0m\u001b[0mlist_date\u001b[0m\u001b[0;34m[\u001b[0m\u001b[0;36m8\u001b[0m\u001b[0;34m*\u001b[0m\u001b[0mk\u001b[0m\u001b[0;34m-\u001b[0m\u001b[0;36m8\u001b[0m\u001b[0;34m+\u001b[0m\u001b[0mm\u001b[0m\u001b[0;34m,\u001b[0m \u001b[0;34m:\u001b[0m\u001b[0;34m]\u001b[0m\u001b[0;34m)\u001b[0m\u001b[0;34m)\u001b[0m\u001b[0;34m)\u001b[0m\u001b[0;34m\u001b[0m\u001b[0;34m\u001b[0m\u001b[0m\n",
      "\u001b[0;31mIndexError\u001b[0m: list index out of range"
     ]
    }
   ],
   "source": [
    "### Package Import\n",
    "import sys\n",
    "import os\n",
    "base_dir = os.environ['PWD'] # os.environ['GEMS_HOME']\n",
    "project_path = os.path.join(base_dir, 'python-refactor')\n",
    "sys.path.insert(0, project_path)\n",
    "\n",
    "from Code.utils import matlab\n",
    "#from Code.utils import helpers\n",
    "\n",
    "import scipy.io as sio\n",
    "import numpy as np\n",
    "import glob\n",
    "\n",
    "### Setting path\n",
    "data_path = os.path.join(project_path, 'Data', 'Preprocessed_raw', 'GOCI_AOD') \n",
    "write_path = os.path.join(project_path, 'Data', 'Prepreossed_raw', 'GOCI_filtered')\n",
    "\n",
    "### Setting period\n",
    "YEARS = [2016] #, 2018, 2019]\n",
    "MONTHS = range(1, 12+1)\n",
    "\n",
    "for yr in YEARS:\n",
    "    days = 366 if (yr%4)==0 else 365\n",
    "    if yr==2019: days = 148;\n",
    "    \n",
    "    list_aod = glob.glob(os.path.join(data_path, 'AOD', str(yr), '*.mat'))\n",
    "    list_date = [int(x[9:20]) for x in list_aod]\n",
    "\n",
    "    for k in range(1, days+1):\n",
    "        nan_filter = np.zeros((473, 463, 8, 4))\n",
    "        data = np.full([473, 463, 8], np.nan)\n",
    "\n",
    "        for m in range(1, 8+1):\n",
    "            GOCI_aod = matlab.loadmat(os.path.join(data_path, 'AOD', str(yr), f'{list_aod[8*k-8+m]}.mat'))\n",
    "            data[:, :, m] = GOCI_aod\n",
    "            GOCI_num_used_pixels = matlab.loadmat(os.path.join(data_path, 'No_of_Used_500m_Pixels_for_One_6km_Product_Pixel', str(yr), 'GOCI_num_used_pixels_{}.mat'.format(list_date[8*k-8+m, :])))\n",
    "            GOCI_aod_bfr = np.full([477, 467], np.nan) # buffer for 5x5 moving windows\n",
    "            GOCI_aod_bfr[2:-2, 2:-2] = GOCI_aod\n",
    "\n",
    "            for j in range(3, 465+1):\n",
    "                for i in range(3, 475+1):\n",
    "                    box = GOCI_aod_bfr[i-3:i+2, j-3:j+2]\n",
    "                    # 1. Buddy check: No. of available 5 x 5 pixels < 15\n",
    "                    # → masking a center pixel\n",
    "                    numnan = np.sum(np.isnan(box))\n",
    "                    if numnan > 10:\n",
    "                        nan_filter[i-3, j-3, m-1, 0] = 1\n",
    "                    # 2. Local variance check : AOD variance of  5 x 5 pixels > 0.5\n",
    "                    # → masking a center pixel\n",
    "                    box_var = np.nanvar(box.flatten(), ddof=1)\n",
    "                    if box_var > 0.5:\n",
    "                        nan_filter[i-3, j-3, m-1, 0] = 1\n",
    "\n",
    "            # 3. Sub-pixel cloud fraction check: Cloud fraction of each 6 km resolution pixel > 0.25\n",
    "            # → masking a pixel\n",
    "            cf = (58 - GOCI_num_used_pixels) / 58\n",
    "            cf_idx = cf > 0.25\n",
    "            nan_filter[:, :, m-1, 2] = cf_idx\n",
    "\n",
    "        # 4. Diurnal variation check: (Maximum - Mininum) of AOD > 0.74\n",
    "        # → masking pixels\n",
    "        data_min = np.nanmin(data, axis=2)\n",
    "        data_max = np.nanmax(data, axis=3)\n",
    "        data_diff = data_max - data_min\n",
    "        d_idx = data_diff > 0.74\n",
    "        nan_filter[:, :, 3] = np.tile(d_idx, (1, 1, 8))\n",
    "        matlab.savemat(os.path.join(write_path, 'nan_filter'), f'nan_filter_{yr}_{k:03d}.mat', {'nan_filter':nan_filter})\n",
    "        print (k) \n",
    "    print (yr)"
   ]
  },
  {
   "cell_type": "code",
   "execution_count": null,
   "metadata": {},
   "outputs": [],
   "source": []
  },
  {
   "cell_type": "code",
   "execution_count": null,
   "metadata": {},
   "outputs": [],
   "source": []
  },
  {
   "cell_type": "code",
   "execution_count": 1,
   "metadata": {},
   "outputs": [],
   "source": [
    "### Package Import\n",
    "import sys\n",
    "import os\n",
    "base_dir = os.environ['GEMS_HOME']\n",
    "project_path = os.path.join(base_dir, 'python-refactor')\n",
    "sys.path.insert(0, project_path)\n",
    "\n",
    "from Code.utils import matlab\n",
    "#from Code.utils import helpers\n",
    "\n",
    "import scipy.io as sio\n",
    "import numpy as np\n",
    "import glob\n",
    "import time\n",
    "from scipy.spatial import Delaunay\n",
    "\n",
    "### Setting path"
   ]
  },
  {
   "cell_type": "code",
   "execution_count": 5,
   "metadata": {},
   "outputs": [],
   "source": [
    "data_path = os.path.join(project_path, 'Data') \n",
    "goci_path = os.path.join(project_path, 'Data', 'Preprocessed_raw', 'GOCI_filtered')\n",
    "korea_path = os.path.join(project_path, 'Data', 'Station', 'AirQuality_Korea')\n",
    "\n",
    "### Setting period\n",
    "YEARS = [2016] #, 2018, 2019\n",
    "\n",
    "lat_kor, lon_kor = matlab.loadmat(os.path.join(data_path, 'grid', 'grid_korea.mat'), keys=['lat_kor', 'lon_kor'])\n",
    "lat_goci, lon_goci = matlab.loadmat(os.path.join(data_path, 'grid', 'grid_goci.mat'), keys=['lat_goci', 'lon_goci'])"
   ]
  },
  {
   "cell_type": "code",
   "execution_count": 21,
   "metadata": {},
   "outputs": [
    {
     "data": {
      "text/plain": [
       "\"\\n### Find surrounding pixels using delaunay triangulation\\nDT = matlab.delaunayTriangulation(grid_goci)\\nti = DT.find_simplex(grid_kor)\\ntriPx = DT[ti, :]\\ntriPx_UL = np.min(triPx, axis=1)\\nI, J = matlab.ind2sub(lon_goci.shape, triPx_UL)\\nsurrPx = np.zeros(mathlab.length(I), 4)\\nsurrPx[:, 1] = matlab.sub2ind(lon_goci.shape, I, J) # Upper Left\\nsurrPx[:, 2] = matlab.sub2ind(lon_goci.shape, I, J+1) # Upper Right\\nsurrPx[:, 3] = matlab.sub2ind(lon_goci.shape, I+1, J) # Lower Left\\nsurrPx[:, 4] = matlab.sub2ind(lon_goci.shape, I+1, J+1) # Lower Right\\n\\nlon_surr = lon_goci[surrPx]\\nlat_surr = lat_goci[surrPx]\\ndiff_lon = lon_surr - np.tile(grid_kor[:, 1], (1, 4))\\ndiff_lat = lat_surr - np.tile(grid_kor[:, 2], (1, 4))\\n\\nd_surr = np.sqrt(np.power(diff_lon, 2) + np.power(diff_lat))\\ninDsq = 1./np.power(d_surr)\\n\\nk = np.zeros(matlab.length(I), 1)\\nfor i in range(matlab.length(I)):\\n    k[i] = surrPx[i, d_surr[i, :]==min(d_surr[i, :])]\\nsio.savemat(os.path.join(data_path, 'grid_goci_surrPx.mat', mdict={'surrPx':surrPx, 'd_surr':d_surr, 'invDsq':invDsq, 'k':k}))\\n\""
      ]
     },
     "execution_count": 21,
     "metadata": {},
     "output_type": "execute_result"
    }
   ],
   "source": [
    "grid_goci = np.vstack((lon_goci.T.flatten(), lat_goci.T.flatten())).T\n",
    "grid_kor = np.vstack((lon_kor.T.flatten(), lat_kor.T.flatten())).T\n",
    "\n",
    "\"\"\"\n",
    "### Find surrounding pixels using delaunay triangulation\n",
    "DT = matlab.delaunayTriangulation(grid_goci)\n",
    "ti = DT.find_simplex(grid_kor)\n",
    "triPx = DT[ti, :]\n",
    "triPx_UL = np.min(triPx, axis=1)\n",
    "I, J = matlab.ind2sub(lon_goci.shape, triPx_UL)\n",
    "surrPx = np.zeros(mathlab.length(I), 4)\n",
    "surrPx[:, 1] = matlab.sub2ind(lon_goci.shape, I, J) # Upper Left\n",
    "surrPx[:, 2] = matlab.sub2ind(lon_goci.shape, I, J+1) # Upper Right\n",
    "surrPx[:, 3] = matlab.sub2ind(lon_goci.shape, I+1, J) # Lower Left\n",
    "surrPx[:, 4] = matlab.sub2ind(lon_goci.shape, I+1, J+1) # Lower Right\n",
    "\n",
    "lon_surr = lon_goci[surrPx]\n",
    "lat_surr = lat_goci[surrPx]\n",
    "diff_lon = lon_surr - np.tile(grid_kor[:, 1], (1, 4))\n",
    "diff_lat = lat_surr - np.tile(grid_kor[:, 2], (1, 4))\n",
    "\n",
    "d_surr = np.sqrt(np.power(diff_lon, 2) + np.power(diff_lat))\n",
    "inDsq = 1./np.power(d_surr)\n",
    "\n",
    "k = np.zeros(matlab.length(I), 1)\n",
    "for i in range(matlab.length(I)):\n",
    "    k[i] = surrPx[i, d_surr[i, :]==min(d_surr[i, :])]\n",
    "sio.savemat(os.path.join(data_path, 'grid_goci_surrPx.mat', mdict={'surrPx':surrPx, 'd_surr':d_surr, 'invDsq':invDsq, 'k':k}))\n",
    "\"\"\""
   ]
  },
  {
   "cell_type": "code",
   "execution_count": 27,
   "metadata": {},
   "outputs": [
    {
     "name": "stdout",
     "output_type": "stream",
     "text": [
      "2017\n",
      "2018\n",
      "2019\n",
      "nan\n"
     ]
    },
    {
     "name": "stderr",
     "output_type": "stream",
     "text": [
      "/home/sehyun/GEMS_python/venv/lib/python3.6/site-packages/ipykernel_launcher.py:49: RuntimeWarning: Mean of empty slice\n"
     ]
    }
   ],
   "source": [
    "d_surr, invDsq, k, surrPx = matlab.loadmat(os.path.join(data_path, 'grid', 'grid_goci_surrPx.mat'), keys=['d_surr', 'invDsq', 'k', 'surrPx'])\n",
    "\n",
    "def do_masking(GOCI):\n",
    "    # global var: surrPX, k, invDsq, lon_kor\n",
    "    mask = GOCI[k]\n",
    "    mask = np.isnan(mask)\n",
    "    value = GOCI[surrPx]\n",
    "    valueD = np.multiply(value, invDsq) # \".*\": element-wise multiplication\n",
    "    invDsq_nan = invDsq\n",
    "    invDsq_nan[np.isnan(value)] = np.nan\n",
    "    GOCI = np.divide(np.nansum(valueD, axis=1), np.nansum(invDsq_nan, axis=1))\n",
    "    GOCI = GOCI.reshape(lon_kor.shape)\n",
    "    GOCI[mask] = np.nan\n",
    "    return GOCI\n",
    "\n",
    "avgtime = []\n",
    "YEARS = range(2017, 2019+1)\n",
    "for yr in YEARS:\n",
    "    list_AOD = glob.glob(os.path.join(goci_path, 'AOD', str(yr), \"*.mat\"))\n",
    "    list_AE = glob.glob(os.path.join(goci_path, 'AE', str(yr), \"*.mat\")) \n",
    "    list_FMF = glob.glob(os.path.join(goci_path, 'FMF', str(yr), \"*.mat\"))\n",
    "    list_SSA = glob.glob(os.path.join(goci_path, 'SSA', str(yr), \"*.mat\"))\n",
    "    list_AOD = [os.path.basename(f) for f in list_AOD]\n",
    "    list_AE = [os.path.basename(f) for f in list_AE]\n",
    "    list_FMF = [os.path.basename(f) for f in list_FMF]\n",
    "    list_SSA = [os.path.basename(f) for f in list_SSA]\n",
    "    \n",
    "    for j in range(len(list_AOD)):\n",
    "        tStart = time.time()\n",
    "        GOCI_aod = matlab.loadmat(os.path.join(goci_path, 'AOD', str(yr), list_AOD[j]))\n",
    "        GOCI_ae = matlab.loadmat(os.path.join(goci_path, 'AE', str(yr), list_AE[j]))\n",
    "        GOCI_fmf = matlab.loadmat(os.path.join(goci_path, 'FMF', str(yr), list_FMF[j]))\n",
    "        GOCI_ssa = matlab.loadmat(os.path.join(goci_path, 'SSA', str(yr), list_SSA[j]))\n",
    "        \n",
    "        GOCI_aod = do_masking(GOCI_aod)\n",
    "        GOCI_ae = do_masking(GOCI_ae)\n",
    "        GOCI_ssa = do_masking(GOCI_ssa)\n",
    "        \n",
    "        matlab.savemat(os.path.join(goci_path, 'GOCI', 'AOD', str(yr), f'kor_{list_AOD[j]}.mat'), {'GOCI_aod':GOCI_aod})\n",
    "        matlab.savemat(os.path.join(goci_path, 'GOCI', 'AE', str(yr), f'kor_{list_AE[j]}.mat'), {'GOCI_AE':GOCI_ae})\n",
    "        matlab.savemat(os.path.join(goci_path, 'GOCI', 'FMF', str(yr), f'kor_{list_FMF[j]}.mat'), {'GOCI_FMF':GOCI_fmf})\n",
    "        matlab.savemat(os.path.join(goci_path, 'GOCI', 'SSA', str(yr), f'kor_{list_SSA[j]}.mat'), {'GOCI_SSA':GOCI_ssa})\n",
    "        print (list_AOD[j])\n",
    "        tEnd = time.time()\n",
    "        avgtime.append(tEnd-tStart)\n",
    "    print (yr)\n",
    "avgtime = np.nanmean(avgtime)\n",
    "print (avgtime)"
   ]
  },
  {
   "cell_type": "code",
   "execution_count": 28,
   "metadata": {},
   "outputs": [
    {
     "data": {
      "text/plain": [
       "[]"
      ]
     },
     "execution_count": 28,
     "metadata": {},
     "output_type": "execute_result"
    }
   ],
   "source": [
    "list_AOD"
   ]
  },
  {
   "cell_type": "code",
   "execution_count": null,
   "metadata": {},
   "outputs": [],
   "source": []
  }
 ],
 "metadata": {
  "kernelspec": {
   "display_name": "venv",
   "language": "python",
   "name": "venv"
  },
  "language_info": {
   "codemirror_mode": {
    "name": "ipython",
    "version": 3
   },
   "file_extension": ".py",
   "mimetype": "text/x-python",
   "name": "python",
   "nbconvert_exporter": "python",
   "pygments_lexer": "ipython3",
   "version": "3.6.8"
  }
 },
 "nbformat": 4,
 "nbformat_minor": 2
}
