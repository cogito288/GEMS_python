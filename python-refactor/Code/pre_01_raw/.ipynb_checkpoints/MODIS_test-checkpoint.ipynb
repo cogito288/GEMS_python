{
 "cells": [
  {
   "cell_type": "markdown",
   "metadata": {},
   "source": [
    "# MODIS_01"
   ]
  },
  {
   "cell_type": "code",
   "execution_count": 1,
   "metadata": {},
   "outputs": [],
   "source": [
    "### Package Import\n",
    "import sys\n",
    "import os\n",
    "base_dir = os.environ['GEMS_HOME']\n",
    "project_path = os.path.join(base_dir, 'python-refactor')\n",
    "sys.path.insert(0, project_path)\n",
    "from Code.utils import matlab\n",
    "\n",
    "import glob\n",
    "import time \n",
    "from osgeo import gdal\n",
    "import tempfile\n",
    "import subprocess"
   ]
  },
  {
   "cell_type": "code",
   "execution_count": 2,
   "metadata": {},
   "outputs": [],
   "source": [
    "### Setting path\n",
    "data_base_dir = os.path.join('/', 'media', 'sf_GEMS', 'Data')\n",
    "raw_modis_path = os.path.join(data_base_dir, 'Raw', 'MODIS', 'MCD12Q1') \n",
    "path_mosaic = os.path.join(data_base_dir, 'Preprocessed_raw', 'MODIS', '01mosaic') #workspace = os.path.join(work_path, '01_mosaic')\n",
    "tmpdirname = tempfile.TemporaryDirectory(dir=base_dir)  # should call clean up to delete"
   ]
  },
  {
   "cell_type": "code",
   "execution_count": 3,
   "metadata": {},
   "outputs": [],
   "source": [
    "flist = glob.glob(os.path.join(raw_modis_path, \"*.hdf\"))\n",
    "flist = [os.path.basename(f) for f in flist]\n",
    "flist.sort()"
   ]
  },
  {
   "cell_type": "code",
   "execution_count": 42,
   "metadata": {},
   "outputs": [
    {
     "name": "stdout",
     "output_type": "stream",
     "text": [
      "2016\n"
     ]
    }
   ],
   "source": [
    "for k in range(0,len(flist),14):\n",
    "    flist_temp = flist[k:k+14]\n",
    "    yr = flist_temp[0][9:13]\n",
    "    for m in range(0,14):\n",
    "        fname = flist_temp[m]\n",
    "        dst_dataset = os.path.join(tmpdirname.name, f\"LC_{yr}_{m+1}.tif\")\n",
    "        \n",
    "        gdal_dataset = gdal.Open(os.path.join(raw_modis_path, fname))\n",
    "        src_dataset = gdal_dataset.GetSubDatasets()[0][0]\n",
    "    \n",
    "        subprocess.call([\"gdal_translate\", src_dataset, dst_dataset])\n",
    "        \n",
    "        if m==0:\n",
    "            input_files = [dst_dataset]\n",
    "        else:\n",
    "            input_files.append(dst_dataset)\n",
    "            \n",
    "    # Mosaic\n",
    "    matlab.check_make_dir(path_mosaic) # debugging\n",
    "    out_filename = os.path.join(path_mosaic, f\"EA_MCD12Q1_mosaic_{yr}.tif\")\n",
    "    pixel_type = 'Int16'\n",
    "    #cmd = [\"gdal_merge.py\", \"-init\", \"255\", \"-ot\", pixel_type, \"-o\", out_filename]\n",
    "    cmd = [\"gdal_merge.py\", \"-a_nodata\", \"nan\", \"-ot\", pixel_type, \"-o\", out_filename]\n",
    "    cmd = cmd + input_files\n",
    "    subprocess.call(cmd)\n",
    "    \n",
    "    tmpdirname.cleanup()\n",
    "    print(yr)"
   ]
  },
  {
   "cell_type": "code",
   "execution_count": 12,
   "metadata": {},
   "outputs": [],
   "source": [
    "out_filename = '/media/sf_GEMS/Data/Preprocessed_raw/MODIS/01mosaic/EA_MCD12Q1_mosaic_2016.tif'"
   ]
  },
  {
   "cell_type": "code",
   "execution_count": 13,
   "metadata": {},
   "outputs": [],
   "source": [
    "from PIL import Image\n",
    "import numpy \n",
    "\n",
    "im = Image.open(out_filename) \n",
    "imarray = numpy.array(im) "
   ]
  },
  {
   "cell_type": "markdown",
   "metadata": {},
   "source": [
    "# MODIS_02"
   ]
  },
  {
   "cell_type": "code",
   "execution_count": 21,
   "metadata": {},
   "outputs": [],
   "source": [
    "### Setting path\n",
    "data_base_dir = os.path.join('/', 'media', 'sf_GEMS', 'Data')\n",
    "path_mosaic = os.path.join(data_base_dir, 'Preprocessed_raw', 'MODIS')\n",
    "mask = os.path.join(data_base_dir, 'raw', 'mask', 'r_rec_N50W110S20E150.tif')"
   ]
  },
  {
   "cell_type": "code",
   "execution_count": 31,
   "metadata": {},
   "outputs": [],
   "source": [
    "flist = glob.glob(os.path.join(path_mosaic, '01mosaic', \"*.tif\"))\n",
    "flist = [os.path.basename(f) for f in flist]\n",
    "flist.sort()"
   ]
  },
  {
   "cell_type": "code",
   "execution_count": 32,
   "metadata": {},
   "outputs": [
    {
     "data": {
      "text/plain": [
       "['EA_MCD12Q1_mosaic_2016.tif']"
      ]
     },
     "execution_count": 32,
     "metadata": {},
     "output_type": "execute_result"
    }
   ],
   "source": [
    "flist"
   ]
  },
  {
   "cell_type": "code",
   "execution_count": 23,
   "metadata": {},
   "outputs": [
    {
     "name": "stdout",
     "output_type": "stream",
     "text": [
      "/media/sf_GEMS/Data/Preprocessed_raw/MODIS/01mosaic/EA_MCD12Q1_mosaic_2016.tif\n"
     ]
    }
   ],
   "source": [
    "for fname in flist:\n",
    "    src_dataset = os.path.join(path_mosaic, '01mosaic', fname) # a\n",
    "    last_num = src_dataset[-8:] # b e.g. 2827.hdf\n",
    "    print (src_dataset)\n",
    "    \n",
    "    matlab.check_make_dir(os.path.join(path_mosaic, '02prj_GCS_WGS84')) # debugging\n",
    "    matlab.check_make_dir(os.path.join(path_mosaic, '03masked_N50W110S20E150')) # debugging\n",
    "    \n",
    "    dst_dataset02 = os.path.join(path_mosaic, '02prj_GCS_WGS84', f'GCS_EA_MCD12Q1_{last_num}') # c\n",
    "    dst_dataset03 = os.path.join(path_mosaic, '03masked_N50W110S20E150', f'm_MODIS_LC_500m_{last_num}') # d\n",
    "\n",
    "    #tempEnvironment0 = arcpy.env.snapRaster\n",
    "    # Snap Raster—Sets a raster that is used to define the cell alignment of an output raster.\n",
    "    # arcpy.env.snapRaster = mask\n",
    "    \n",
    "    # Process: Project Raster\n",
    "    cell_size= [\"5.11542231032757E-03\", \"5.11542231032757E-03\"]\n",
    "    out_coor_system = \"GEOGCS['GCS_WGS_1984',DATUM['D_WGS_1984',SPHEROID['WGS_1984',6378137.0,298.257223563]],PRIMEM['Greenwich',0.0],UNIT['Degree',0.0174532925199433]]\"\n",
    "    cmd = [\"gdalwarp\", \"-r\", \"near\", \"-to\", out_coor_system]\n",
    "    cmd += ([\"-ts\"] + cell_size)\n",
    "    cmd += [src_dataset, dst_dataset02]\n",
    "    #print (cmd)\n",
    "    subprocess.call(cmd)\n",
    "    \n",
    "    # Process: Extract by Mask\n",
    "    cmd = [\"gdaltindex\", \"temp_mask.shp\", mask]\n",
    "    print (cmd)\n",
    "    subprocess.call(cmd)\n",
    "\n",
    "    cmd = [\"gdalwarp\", \"-cutline\", \"temp_mask.shp\", \n",
    "           dst_dataset02, dst_dataset03]\n",
    "    subprocess.call(cmd)\n",
    "\n",
    "    cmd = [\"rm\", \"temp_mask.shp\"]\n",
    "    subprocess.call(cmd)\n",
    "    #arcpy.gp.ExtractByMask_sa(dst_dataset02, mask, dst_dataset03)\n",
    "    #arcpy.env.snapRaster = tempEnvironment0\n",
    "    \n",
    "    print(last_num)\n",
    "    break"
   ]
  },
  {
   "cell_type": "code",
   "execution_count": null,
   "metadata": {},
   "outputs": [],
   "source": [
    "fname = flist[0]\n",
    "src_dataset = os.path.join(path_mosaic, '01mosaic', fname) # a\n",
    "last_num = src_dataset[-8:] # b e.g. 2827.hdf\n",
    "print (src_dataset)\n",
    "\n",
    "matlab.check_make_dir(os.path.join(path_mosaic, '02prj_GCS_WGS84')) # debugging\n",
    "matlab.check_make_dir(os.path.join(path_mosaic, '03masked_N50W110S20E150')) # debugging\n",
    "\n",
    "dst_dataset02 = os.path.join(path_mosaic, '02prj_GCS_WGS84', f'GCS_EA_MCD12Q1_{last_num}') # c\n",
    "dst_dataset03 = os.path.join(path_mosaic, '03masked_N50W110S20E150', f'm_MODIS_LC_500m_{last_num}') # d\n",
    "\n",
    "#tempEnvironment0 = arcpy.env.snapRaster\n",
    "# Snap Raster—Sets a raster that is used to define the cell alignment of an output raster.\n",
    "# arcpy.env.snapRaster = mask\n",
    "\n",
    "# Process: Project Raster\n",
    "cell_size= [\"5.11542231032757E-03\", \"5.11542231032757E-03\"]\n",
    "out_coor_system = \"GEOGCS['GCS_WGS_1984',DATUM['D_WGS_1984',SPHEROID['WGS_1984',6378137.0,298.257223563]],PRIMEM['Greenwich',0.0],UNIT['Degree',0.0174532925199433]]\"\n",
    "cmd = [\"gdalwarp\", \"-r\", \"near\", \"-to\", out_coor_system]\n",
    "cmd += ([\"-ts\"] + cell_size)\n",
    "cmd += [src_dataset, dst_dataset02]\n",
    "#print (cmd)\n",
    "subprocess.call(cmd)"
   ]
  },
  {
   "cell_type": "code",
   "execution_count": 33,
   "metadata": {},
   "outputs": [],
   "source": [
    "from PIL import Image\n",
    "import numpy \n",
    "\n",
    "im = Image.open(mask) \n",
    "imarray_mask = numpy.array(im) "
   ]
  },
  {
   "cell_type": "code",
   "execution_count": 34,
   "metadata": {},
   "outputs": [
    {
     "data": {
      "text/plain": [
       "(5865, 7820)"
      ]
     },
     "execution_count": 34,
     "metadata": {},
     "output_type": "execute_result"
    }
   ],
   "source": [
    "imarray_mask.shape"
   ]
  },
  {
   "cell_type": "code",
   "execution_count": 36,
   "metadata": {},
   "outputs": [],
   "source": [
    "im = Image.open(dst_dataset02) \n",
    "imarray = numpy.array(im) "
   ]
  },
  {
   "cell_type": "code",
   "execution_count": 38,
   "metadata": {},
   "outputs": [
    {
     "data": {
      "text/plain": [
       "(5, 5)"
      ]
     },
     "execution_count": 38,
     "metadata": {},
     "output_type": "execute_result"
    }
   ],
   "source": [
    "imarray.shape"
   ]
  },
  {
   "cell_type": "code",
   "execution_count": null,
   "metadata": {},
   "outputs": [],
   "source": [
    "\n",
    "# Process: Extract by Mask\n",
    "cmd = [\"gdaltindex\", \"temp_mask.shp\", mask]\n",
    "print (cmd)\n",
    "subprocess.call(cmd)\n",
    "\n",
    "cmd = [\"gdalwarp\", \"-cutline\", \"temp_mask.shp\", \n",
    "       dst_dataset02, dst_dataset03]\n",
    "subprocess.call(cmd)\n",
    "\n",
    "cmd = [\"rm\", \"temp_mask.shp\"]\n",
    "subprocess.call(cmd)\n",
    "#arcpy.gp.ExtractByMask_sa(dst_dataset02, mask, dst_dataset03)\n",
    "#arcpy.env.snapRaster = tempEnvironment0\n",
    "\n",
    "print(last_num)\n",
    "break"
   ]
  },
  {
   "cell_type": "code",
   "execution_count": null,
   "metadata": {},
   "outputs": [],
   "source": []
  },
  {
   "cell_type": "code",
   "execution_count": null,
   "metadata": {},
   "outputs": [],
   "source": []
  }
 ],
 "metadata": {
  "kernelspec": {
   "display_name": "venv",
   "language": "python",
   "name": "venv"
  },
  "language_info": {
   "codemirror_mode": {
    "name": "ipython",
    "version": 3
   },
   "file_extension": ".py",
   "mimetype": "text/x-python",
   "name": "python",
   "nbconvert_exporter": "python",
   "pygments_lexer": "ipython3",
   "version": "3.6.8"
  }
 },
 "nbformat": 4,
 "nbformat_minor": 2
}
