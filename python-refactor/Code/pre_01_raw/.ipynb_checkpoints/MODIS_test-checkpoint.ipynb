{
 "cells": [
  {
   "cell_type": "markdown",
   "metadata": {},
   "source": [
    "# MODIS_01"
   ]
  },
  {
   "cell_type": "code",
   "execution_count": 1,
   "metadata": {},
   "outputs": [],
   "source": [
    "### Package Import\n",
    "import sys\n",
    "import os\n",
    "base_dir = os.environ['GEMS_HOME']\n",
    "project_path = os.path.join(base_dir, 'python-refactor')\n",
    "sys.path.insert(0, project_path)\n",
    "from Code.utils import matlab\n",
    "\n",
    "import glob\n",
    "import time \n",
    "from osgeo import gdal\n",
    "import tempfile\n",
    "import subprocess"
   ]
  },
  {
   "cell_type": "code",
   "execution_count": 2,
   "metadata": {},
   "outputs": [],
   "source": [
    "### Setting path\n",
    "data_base_dir = os.path.join('/', 'media', 'sf_GEMS', 'Data')\n",
    "raw_modis_path = os.path.join(data_base_dir, 'Raw', 'MODIS', 'MCD12Q1') \n",
    "path_mosaic = os.path.join(data_base_dir, 'Preprocessed_raw', 'MODIS', '01mosaic') #workspace = os.path.join(work_path, '01_mosaic')\n",
    "tmpdirname = tempfile.TemporaryDirectory(dir=base_dir)  # should call clean up to delete"
   ]
  },
  {
   "cell_type": "code",
   "execution_count": 3,
   "metadata": {},
   "outputs": [],
   "source": [
    "flist = glob.glob(os.path.join(raw_modis_path, \"*.hdf\"))\n",
    "flist = [os.path.basename(f) for f in flist]\n",
    "flist.sort()"
   ]
  },
  {
   "cell_type": "code",
   "execution_count": 16,
   "metadata": {},
   "outputs": [
    {
     "name": "stdout",
     "output_type": "stream",
     "text": [
      "2016\n"
     ]
    }
   ],
   "source": [
    "for k in range(0,len(flist),14):\n",
    "    flist_temp = flist[k:k+14]\n",
    "    yr = flist_temp[0][9:13]\n",
    "    for m in range(0,14):\n",
    "        fname = flist_temp[m]\n",
    "        dst_dataset = os.path.join(tmpdirname.name, f\"LC_{yr}_{m+1}.tif\")\n",
    "        \n",
    "        gdal_dataset = gdal.Open(os.path.join(raw_modis_path, fname))\n",
    "        src_dataset = gdal_dataset.GetSubDatasets()[0][0]\n",
    "    \n",
    "        subprocess.call([\"gdal_translate\", src_dataset, dst_dataset])\n",
    "        \n",
    "        if m==0:\n",
    "            input_files = [dst_dataset]\n",
    "        else:\n",
    "            input_files.append(dst_dataset)\n",
    "            \n",
    "    # Mosaic\n",
    "    matlab.check_make_dir(path_mosaic) # debugging\n",
    "    out_filename = os.path.join(path_mosaic, f\"EA_MCD12Q1_mosaic_{yr}.tif\")\n",
    "    pixel_type = 'Int16'\n",
    "    cmd = [\"gdal_merge.py\", \"-init\", \"255\", \"-ot\", pixel_type, \"-o\", out_filename]\n",
    "    cmd = cmd + input_files\n",
    "    subprocess.call(cmd)\n",
    "    \n",
    "    tmpdirname.cleanup()\n",
    "    print(yr)"
   ]
  },
  {
   "cell_type": "markdown",
   "metadata": {},
   "source": [
    "# MODIS_02"
   ]
  },
  {
   "cell_type": "code",
   "execution_count": null,
   "metadata": {},
   "outputs": [],
   "source": [
    "### Setting path\n",
    "data_base_dir = os.path.join('/', 'media', 'sf_GEMS', 'Data')\n",
    "path_mosaic = os.path.join(data_base_dir, 'Preprocessed_raw', 'MODIS')\n",
    "mask = os.path.join('/10.72.26.56', 'irisnas5', 'Data', 'mask', 'r_rec_N50W110S20E150.tif')"
   ]
  }
 ],
 "metadata": {
  "kernelspec": {
   "display_name": "venv",
   "language": "python",
   "name": "venv"
  },
  "language_info": {
   "codemirror_mode": {
    "name": "ipython",
    "version": 3
   },
   "file_extension": ".py",
   "mimetype": "text/x-python",
   "name": "python",
   "nbconvert_exporter": "python",
   "pygments_lexer": "ipython3",
   "version": "3.6.8"
  }
 },
 "nbformat": 4,
 "nbformat_minor": 2
}
