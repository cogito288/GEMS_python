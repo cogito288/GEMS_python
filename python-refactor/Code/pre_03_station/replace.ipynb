{
 "cells": [
  {
   "cell_type": "code",
   "execution_count": 118,
   "metadata": {},
   "outputs": [],
   "source": [
    "#-*- coding:utf-8 -*-"
   ]
  },
  {
   "cell_type": "code",
   "execution_count": 119,
   "metadata": {},
   "outputs": [],
   "source": [
    "import os\n",
    "import re\n",
    "import copy\n",
    "import glob"
   ]
  },
  {
   "cell_type": "code",
   "execution_count": 120,
   "metadata": {},
   "outputs": [
    {
     "name": "stdout",
     "output_type": "stream",
     "text": [
      "3 ['KR_station_02_scode2.m', 'KR_station_03_grid_idx_GOCI6km_weight.m', 'KR_station_04_stn_GOCI6km_avg_IDW.m']\n"
     ]
    }
   ],
   "source": [
    "flist = glob.glob('JP_*.m')\n",
    "flist.sort()\n",
    "\n",
    "flist.extend(glob.glob('KR_*.m'))\n",
    "flist.sort()\n",
    "print (len(flist), flist)"
   ]
  },
  {
   "cell_type": "code",
   "execution_count": 122,
   "metadata": {},
   "outputs": [],
   "source": [
    "patterns = [\n",
    "    ### opeartor\n",
    "    ('\\%', '#'),\n",
    "    ('\\~\\=', '!='),\n",
    "    ('\\.\\.\\.', ''),\n",
    "    (';(?=\\n)', ''),\n",
    "    ('mod\\(yr,4\\)', 'yr%4'),\n",
    "    ('clc', ''),\n",
    "    ('close all\\;', ''),\n",
    "    ('clear all\\;', ''),\n",
    "    ('tic', 'time.time()'),\n",
    "    \n",
    "    ### numpy\n",
    "    # nan\n",
    "    ('\\(:\\)', '.flatten()'),\n",
    "    ('isnan\\(', 'np.isnan('),\n",
    "    ('unique\\(', 'np.unique('),\n",
    "    ('isempty\\(', 'np.all('),\n",
    "    ('sqrt', 'np.sqrt'),\n",
    "    ('sum', 'np.sum'),\n",
    "    ('min', 'np.min'),\n",
    "    ('max', 'np.max'),\n",
    "    ('hist', 'np.histogram'),\n",
    "    ('nansum', 'np.nansum'),\n",
    "    ('nanmean', 'np.nanmean'),\n",
    "    ('floor', 'np.floor'),\n",
    "    ('str2double', 'np.float64'),\n",
    "    ('zeros', 'np.zeros'),\n",
    "    \n",
    "    ('NaN\\(', 'np.full('),\n",
    "    ('nan\\(', 'np.full('),\n",
    "    \n",
    "    ('\\=NaN', 'np.nan'),\n",
    "    ('\\= NaN', 'np.nan'),\n",
    "    ('find', 'np.where'),\n",
    "    #('nan', 'np.nan'),\n",
    "    \n",
    "    ### python native function\n",
    "    ('elseif', 'elif'),\n",
    "    ('fprintf', 'print ('),\n",
    "    ('disp\\(', 'print ('),\n",
    "    ('num2str', 'str'),\n",
    "    ('end', ''),\n",
    "    ('\\:end', ':'),\n",
    "    \n",
    "    ### matlab.py \n",
    "    ('load\\(\\[', 'matlab.loadmat(os.path.join('),\n",
    "    ('save\\(\\[', 'matlab.savemat(os.path.join('),\n",
    "    ('importdata', 'matlab.loadmat'),\n",
    "    ('datenum', 'matlab.datenum'),\n",
    "    ('datestr', 'matlab.datestr'),\n",
    "    ('sortrows', 'matlab.sortrows'),\n",
    "    ('ismember', 'matlab.ismember'),\n",
    "    \n",
    "    ### pandas\n",
    "    ('readtable\\(', 'pd.read_csv('),\n",
    "    ('csvread\\(\\[', 'pd.read_csv(os.path.join('),\n",
    "    ('xlsread\\(\\[', 'pd.read_excel(os.path.join('),\n",
    "    \n",
    "    (';', ''),\n",
    "]"
   ]
  },
  {
   "cell_type": "code",
   "execution_count": 123,
   "metadata": {},
   "outputs": [
    {
     "name": "stdout",
     "output_type": "stream",
     "text": [
      "Reading KR_station_02_scode2.m\n",
      "Created KR_station_02_scode2.py\n",
      "Remove KR_station_02_scode2.m\n",
      "======================================\n",
      "Reading KR_station_03_grid_idx_GOCI6km_weight.m\n",
      "Created KR_station_03_grid_idx_GOCI6km_weight.py\n",
      "Remove KR_station_03_grid_idx_GOCI6km_weight.m\n",
      "======================================\n",
      "Reading KR_station_04_stn_GOCI6km_avg_IDW.m\n",
      "Created KR_station_04_stn_GOCI6km_avg_IDW.py\n",
      "Remove KR_station_04_stn_GOCI6km_avg_IDW.m\n",
      "======================================\n"
     ]
    }
   ],
   "source": [
    "for fname in flist:\n",
    "    print (f'Reading {fname}')\n",
    "    \n",
    "    sourceEncoding = \"cp949\"\n",
    "    #targetEncoding = \"utf-8\"\n",
    "    with open(fname, 'r', encoding=sourceEncoding) as f:\n",
    "        text = f.read()\n",
    "        contents = copy.deepcopy(text)\n",
    "        \n",
    "    for old, new in patterns:\n",
    "        contents = re.sub(old, new, contents)\n",
    "        #contents = contents.encode('utf8').decode('utf8')\n",
    "    \n",
    "    fname_py = fname[:-1]+'py'\n",
    "    with open(fname_py, 'wb') as f:\n",
    "        f.write(contents.encode(targetEncoding))\n",
    "    print (f'Created {fname_py}')\n",
    "    \n",
    "    os.remove(fname)\n",
    "    print (f'Remove {fname}')\n",
    "    print ('======================================')"
   ]
  },
  {
   "cell_type": "code",
   "execution_count": 80,
   "metadata": {},
   "outputs": [],
   "source": [
    "contents = copy.deepcopy(text)"
   ]
  },
  {
   "cell_type": "code",
   "execution_count": 81,
   "metadata": {},
   "outputs": [],
   "source": [
    "for old, new in patterns:\n",
    "            contents = re.sub(old, new, contents)"
   ]
  },
  {
   "cell_type": "code",
   "execution_count": 86,
   "metadata": {},
   "outputs": [],
   "source": [
    "\n",
    "#source = open(\"source\")\n",
    "#target = open(\"target\", \"w\")\n",
    "\n",
    "#target.write(unicode(source.read(), sourceEncoding).encode(targetEncoding))"
   ]
  },
  {
   "cell_type": "code",
   "execution_count": null,
   "metadata": {},
   "outputs": [],
   "source": []
  }
 ],
 "metadata": {
  "kernelspec": {
   "display_name": "Python 3",
   "language": "python",
   "name": "python3"
  }
 },
 "nbformat": 4,
 "nbformat_minor": 2
}
