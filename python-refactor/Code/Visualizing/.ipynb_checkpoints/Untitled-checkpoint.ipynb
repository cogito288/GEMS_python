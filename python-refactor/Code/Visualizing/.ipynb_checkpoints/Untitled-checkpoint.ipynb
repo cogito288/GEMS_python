{
 "cells": [
  {
   "cell_type": "code",
   "execution_count": 6,
   "metadata": {},
   "outputs": [],
   "source": [
    "import cartopy.crs as ccrs\n",
    "import matplotlib.pyplot as plt"
   ]
  },
  {
   "cell_type": "code",
   "execution_count": null,
   "metadata": {},
   "outputs": [],
   "source": [
    "# An arbitrary choice.\n",
    "canada_east = -63\n",
    "canada_west = -123\n",
    "canada_north = 75\n",
    "canada_south = 37\n",
    "\n",
    "standard_parallels = (49, 77)\n",
    "central_longitude = -(91 + 52 / 60)\n",
    "\n",
    "fig = plt.figure()\n",
    "ax = fig.add_subplot(1, 1, 1,\n",
    "                     projection=ccrs.LambertConformal(central_longitude=central_longitude,\n",
    "                                                      standard_parallels=standard_parallels))\n",
    "ax.set_extent([canada_west, canada_east, canada_south, canada_north])\n",
    "ax.stock_img()\n",
    "ax.coastlines()\n",
    "ax.gridlines()"
   ]
  },
  {
   "cell_type": "code",
   "execution_count": null,
   "metadata": {},
   "outputs": [],
   "source": [
    "fig, ax = plt.subplots(1,1,figsize=(10,5))\n",
    "# figure; set(gcf,'Position',[1000,500,500,450])\n",
    "m_proj('lambert','long',[115 132],'lat',[31 47])\n",
    "m_gshhs_i('color','k','linewidth',1.5)\n",
    "m_grid('box','fancy','time.time()kdir','in','fontsize',13)\n",
    "hold on\n",
    "s = m_scatter(stnpm10(:,4),stnpm10(:,3),30, stnpm10(:,2),'filled') # stn_pm10\n",
    "s.MarkerEdgeColor='k'\n",
    "caxis([0 150])\n",
    "title([str(yr),' / ',str(mm,'#02i')],'fontsize',14,'fontweight','bold')\n",
    "#         title(str(yr),'fontsize',14,'fontweight','bold')  # yearly\n",
    "colorbar('FontSize',12)\n",
    "print('-djpeg','-r300',[path,'EA_GOCI6km/map/PM10_stn_monthly_',str(yr),'_',str(mm,'#02i')])\n",
    "#         print('-djpeg','-r300',[path,'EA_GOCI6km/map/PM10_stn_yearly_',str(yr)])  # yearly\n",
    "\n",
    "stnpm25 = data_avg(:,[1,3:5])\n",
    "stnpm25 = rmmissing(stnpm25,1)\n",
    "figure set(gcf,'Position',[1000,500,500,450])\n",
    "m_proj('lambert','long',[115 132],'lat',[31 47])\n",
    "m_gshhs_i('color','k','linewidth',1.5)\n",
    "m_grid('box','fancy','time.time()kdir','in','fontsize',13)\n",
    "hold on\n",
    "s = m_scatter(stnpm25(:,4),stnpm25(:,3),30, stnpm25(:,2),'filled') # stn_pm25\n",
    "s.MarkerEdgeColor='k'\n",
    "caxis([0 60])\n",
    "title([str(yr),' / ',str(mm,'#02i')],'fontsize',14,'fontweight','bold')\n",
    "#         title(str(yr),'fontsize',14,'fontweight','bold')  # yearly\n",
    "colorbar('FontSize',12)\n",
    "print('-djpeg','-r300',[path,'EA_GOCI6km/map/PM25_stn_monthly_',str(yr),'_',str(mm,'#02i')])\n",
    "#         print('-djpeg','-r300',[path,'EA_GOCI6km/map/PM25_stn_yearly_',str(yr)]) # yearly\n",
    "#         \n",
    "\n",
    "# mm: month\n",
    "# yr"
   ]
  }
 ],
 "metadata": {
  "kernelspec": {
   "display_name": "Python 3",
   "language": "python",
   "name": "python3"
  },
  "language_info": {
   "codemirror_mode": {
    "name": "ipython",
    "version": 3
   },
   "file_extension": ".py",
   "mimetype": "text/x-python",
   "name": "python",
   "nbconvert_exporter": "python",
   "pygments_lexer": "ipython3",
   "version": "3.6.8"
  }
 },
 "nbformat": 4,
 "nbformat_minor": 2
}
