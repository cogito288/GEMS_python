{
 "cells": [
  {
   "cell_type": "code",
   "execution_count": 1,
   "metadata": {},
   "outputs": [],
   "source": [
    "import os"
   ]
  },
  {
   "cell_type": "code",
   "execution_count": 2,
   "metadata": {},
   "outputs": [
    {
     "data": {
      "text/plain": [
       "'C:\\\\Users\\\\user\\\\Downloads\\\\matlab2python\\\\matlab2python\\\\python-refactor\\\\Code\\\\pre_01_raw'"
      ]
     },
     "execution_count": 2,
     "metadata": {},
     "output_type": "execute_result"
    }
   ],
   "source": [
    "os.getcwd()"
   ]
  },
  {
   "cell_type": "code",
   "execution_count": 21,
   "metadata": {},
   "outputs": [],
   "source": [
    "import imp"
   ]
  },
  {
   "cell_type": "code",
   "execution_count": 20,
   "metadata": {},
   "outputs": [],
   "source": [
    "import sys\n",
    "project_path = 'C:\\\\Users\\\\user\\\\Downloads\\\\matlab2python\\\\matlab2python\\\\python-refactor'\n",
    "#project_path = '/home/cogito/Uncertainty/matlab2python/python-refactor'\n",
    "sys.path.insert(0, project_path)\n",
    "\n",
    "### GOCI_01 ~ 04 고쳐야함 \n",
    "from Code.utils.matlab import *\n",
    "from Code.utils.helpers import *\n",
    "\n",
    "### GOCI_05 ~\n",
    "from Code.utils import matlab\n",
    "from Code.utils import helpers"
   ]
  },
  {
   "cell_type": "markdown",
   "metadata": {},
   "source": [
    "# GOCI_01_extract_variables"
   ]
  },
  {
   "cell_type": "code",
   "execution_count": 1,
   "metadata": {},
   "outputs": [
    {
     "ename": "ModuleNotFoundError",
     "evalue": "No module named 'pyhdf'",
     "output_type": "error",
     "traceback": [
      "\u001b[0;31m---------------------------------------------------------------------------\u001b[0m",
      "\u001b[0;31mModuleNotFoundError\u001b[0m                       Traceback (most recent call last)",
      "\u001b[0;32m<ipython-input-1-7093cd6bfdb3>\u001b[0m in \u001b[0;36m<module>\u001b[0;34m\u001b[0m\n\u001b[1;32m      1\u001b[0m \u001b[0;32mimport\u001b[0m \u001b[0mos\u001b[0m\u001b[0;34m\u001b[0m\u001b[0;34m\u001b[0m\u001b[0m\n\u001b[1;32m      2\u001b[0m \u001b[0;32mfrom\u001b[0m \u001b[0mdatetime\u001b[0m \u001b[0;32mimport\u001b[0m \u001b[0mdatetime\u001b[0m\u001b[0;34m,\u001b[0m \u001b[0mdate\u001b[0m\u001b[0;34m\u001b[0m\u001b[0;34m\u001b[0m\u001b[0m\n\u001b[0;32m----> 3\u001b[0;31m \u001b[0;32mfrom\u001b[0m \u001b[0mpyhdf\u001b[0m\u001b[0;34m.\u001b[0m\u001b[0mSD\u001b[0m \u001b[0;32mimport\u001b[0m \u001b[0mSD\u001b[0m\u001b[0;34m,\u001b[0m \u001b[0mSDC\u001b[0m\u001b[0;34m\u001b[0m\u001b[0;34m\u001b[0m\u001b[0m\n\u001b[0m\u001b[1;32m      4\u001b[0m \u001b[0;32mimport\u001b[0m \u001b[0mnumpy\u001b[0m \u001b[0;32mas\u001b[0m \u001b[0mnp\u001b[0m\u001b[0;34m\u001b[0m\u001b[0;34m\u001b[0m\u001b[0m\n",
      "\u001b[0;31mModuleNotFoundError\u001b[0m: No module named 'pyhdf'"
     ]
    }
   ],
   "source": [
    "import os\n",
    "from datetime import datetime, date\n",
    "from pyhdf.SD import SD, SDC\n",
    "import numpy as np"
   ]
  },
  {
   "cell_type": "code",
   "execution_count": 5,
   "metadata": {},
   "outputs": [],
   "source": [
    "### Package Import\n",
    "import scipy.io as sio\n",
    "import os"
   ]
  },
  {
   "cell_type": "code",
   "execution_count": 6,
   "metadata": {},
   "outputs": [],
   "source": [
    "### Setting path\n",
    "project_path = '/home/cogito/Uncertainty/matlab2python/python-refactor'\n",
    "raw_data_path = os.path.join(project_path, 'Data', 'Raw', 'GOCI_AOD') \n",
    "write_path = os.path.join(project_path, 'Data', 'Prepreossed_raw', 'GOCI_AOD')"
   ]
  },
  {
   "cell_type": "code",
   "execution_count": 37,
   "metadata": {
    "scrolled": true
   },
   "outputs": [
    {
     "name": "stderr",
     "output_type": "stream",
     "text": [
      "/home/cogito/Uncertainty/matlab2python/venv/lib/python3.6/site-packages/ipykernel_launcher.py:26: RuntimeWarning: invalid value encountered in less\n",
      "/home/cogito/Uncertainty/matlab2python/venv/lib/python3.6/site-packages/ipykernel_launcher.py:26: RuntimeWarning: invalid value encountered in greater\n",
      "/home/cogito/Uncertainty/matlab2python/venv/lib/python3.6/site-packages/ipykernel_launcher.py:27: RuntimeWarning: invalid value encountered in less\n",
      "/home/cogito/Uncertainty/matlab2python/venv/lib/python3.6/site-packages/ipykernel_launcher.py:27: RuntimeWarning: invalid value encountered in greater\n",
      "/home/cogito/Uncertainty/matlab2python/venv/lib/python3.6/site-packages/ipykernel_launcher.py:28: RuntimeWarning: invalid value encountered in less\n",
      "/home/cogito/Uncertainty/matlab2python/venv/lib/python3.6/site-packages/ipykernel_launcher.py:28: RuntimeWarning: invalid value encountered in greater\n",
      "/home/cogito/Uncertainty/matlab2python/venv/lib/python3.6/site-packages/ipykernel_launcher.py:29: RuntimeWarning: invalid value encountered in less\n",
      "/home/cogito/Uncertainty/matlab2python/venv/lib/python3.6/site-packages/ipykernel_launcher.py:29: RuntimeWarning: invalid value encountered in greater\n",
      "/home/cogito/Uncertainty/matlab2python/venv/lib/python3.6/site-packages/ipykernel_launcher.py:30: RuntimeWarning: invalid value encountered in less\n",
      "/home/cogito/Uncertainty/matlab2python/venv/lib/python3.6/site-packages/ipykernel_launcher.py:30: RuntimeWarning: invalid value encountered in greater\n",
      "/home/cogito/Uncertainty/matlab2python/venv/lib/python3.6/site-packages/ipykernel_launcher.py:31: RuntimeWarning: invalid value encountered in less\n",
      "/home/cogito/Uncertainty/matlab2python/venv/lib/python3.6/site-packages/ipykernel_launcher.py:31: RuntimeWarning: invalid value encountered in greater\n"
     ]
    },
    {
     "ename": "FileNotFoundError",
     "evalue": "[Errno 2] No such file or directory: '/home/cogito/Uncertainty/matlab2python/python-refactor/Data/Prepreossed_raw/GOCI_AOD/FMF/2016/GOCI_FMF_2016_001_01.mat'",
     "output_type": "error",
     "traceback": [
      "\u001b[0;31m---------------------------------------------------------------------------\u001b[0m",
      "\u001b[0;31mFileNotFoundError\u001b[0m                         Traceback (most recent call last)",
      "\u001b[0;32m~/Uncertainty/matlab2python/venv/lib/python3.6/site-packages/scipy/io/matlab/mio.py\u001b[0m in \u001b[0;36m_open_file\u001b[0;34m(file_like, appendmat, mode)\u001b[0m\n\u001b[1;32m     38\u001b[0m     \u001b[0;32mtry\u001b[0m\u001b[0;34m:\u001b[0m\u001b[0;34m\u001b[0m\u001b[0m\n\u001b[0;32m---> 39\u001b[0;31m         \u001b[0;32mreturn\u001b[0m \u001b[0mopen\u001b[0m\u001b[0;34m(\u001b[0m\u001b[0mfile_like\u001b[0m\u001b[0;34m,\u001b[0m \u001b[0mmode\u001b[0m\u001b[0;34m)\u001b[0m\u001b[0;34m,\u001b[0m \u001b[0;32mTrue\u001b[0m\u001b[0;34m\u001b[0m\u001b[0m\n\u001b[0m\u001b[1;32m     40\u001b[0m     \u001b[0;32mexcept\u001b[0m \u001b[0mIOError\u001b[0m\u001b[0;34m:\u001b[0m\u001b[0;34m\u001b[0m\u001b[0m\n",
      "\u001b[0;31mFileNotFoundError\u001b[0m: [Errno 2] No such file or directory: '/home/cogito/Uncertainty/matlab2python/python-refactor/Data/Prepreossed_raw/GOCI_AOD/FMF/2016/GOCI_FMF_2016_001_01.mat'",
      "\nDuring handling of the above exception, another exception occurred:\n",
      "\u001b[0;31mFileNotFoundError\u001b[0m                         Traceback (most recent call last)",
      "\u001b[0;32m<ipython-input-37-9f484f6ff802>\u001b[0m in \u001b[0;36m<module>\u001b[0;34m\u001b[0m\n\u001b[1;32m     34\u001b[0m \u001b[0;34m\u001b[0m\u001b[0m\n\u001b[1;32m     35\u001b[0m             \u001b[0msio\u001b[0m\u001b[0;34m.\u001b[0m\u001b[0msavemat\u001b[0m\u001b[0;34m(\u001b[0m\u001b[0mos\u001b[0m\u001b[0;34m.\u001b[0m\u001b[0mpath\u001b[0m\u001b[0;34m.\u001b[0m\u001b[0mjoin\u001b[0m\u001b[0;34m(\u001b[0m\u001b[0mwrite_path\u001b[0m\u001b[0;34m,\u001b[0m \u001b[0;34m'AOD'\u001b[0m\u001b[0;34m,\u001b[0m \u001b[0mstr\u001b[0m\u001b[0;34m(\u001b[0m\u001b[0myr\u001b[0m\u001b[0;34m)\u001b[0m\u001b[0;34m,\u001b[0m \u001b[0;34mf'GOCI_AOD_{fname_temp}'\u001b[0m\u001b[0;34m)\u001b[0m\u001b[0;34m,\u001b[0m \u001b[0mmdict\u001b[0m\u001b[0;34m=\u001b[0m\u001b[0;34m{\u001b[0m\u001b[0;34m'GOCI_aod'\u001b[0m\u001b[0;34m:\u001b[0m\u001b[0mGOCI_aod\u001b[0m\u001b[0;34m}\u001b[0m\u001b[0;34m)\u001b[0m\u001b[0;34m\u001b[0m\u001b[0m\n\u001b[0;32m---> 36\u001b[0;31m             \u001b[0msio\u001b[0m\u001b[0;34m.\u001b[0m\u001b[0msavemat\u001b[0m\u001b[0;34m(\u001b[0m\u001b[0mos\u001b[0m\u001b[0;34m.\u001b[0m\u001b[0mpath\u001b[0m\u001b[0;34m.\u001b[0m\u001b[0mjoin\u001b[0m\u001b[0;34m(\u001b[0m\u001b[0mwrite_path\u001b[0m\u001b[0;34m,\u001b[0m \u001b[0;34m'FMF'\u001b[0m\u001b[0;34m,\u001b[0m \u001b[0mstr\u001b[0m\u001b[0;34m(\u001b[0m\u001b[0myr\u001b[0m\u001b[0;34m)\u001b[0m\u001b[0;34m,\u001b[0m \u001b[0;34mf'GOCI_FMF_{fname_temp}'\u001b[0m\u001b[0;34m)\u001b[0m\u001b[0;34m,\u001b[0m \u001b[0mmdict\u001b[0m\u001b[0;34m=\u001b[0m\u001b[0;34m{\u001b[0m\u001b[0;34m'GOCI_fmf'\u001b[0m\u001b[0;34m:\u001b[0m\u001b[0mGOCI_fmf\u001b[0m\u001b[0;34m}\u001b[0m\u001b[0;34m)\u001b[0m\u001b[0;34m\u001b[0m\u001b[0m\n\u001b[0m\u001b[1;32m     37\u001b[0m             \u001b[0msio\u001b[0m\u001b[0;34m.\u001b[0m\u001b[0msavemat\u001b[0m\u001b[0;34m(\u001b[0m\u001b[0mos\u001b[0m\u001b[0;34m.\u001b[0m\u001b[0mpath\u001b[0m\u001b[0;34m.\u001b[0m\u001b[0mjoin\u001b[0m\u001b[0;34m(\u001b[0m\u001b[0mwrite_path\u001b[0m\u001b[0;34m,\u001b[0m \u001b[0;34m'SSA'\u001b[0m\u001b[0;34m,\u001b[0m \u001b[0mstr\u001b[0m\u001b[0;34m(\u001b[0m\u001b[0myr\u001b[0m\u001b[0;34m)\u001b[0m\u001b[0;34m,\u001b[0m \u001b[0;34mf'GOCI_SSA_{fname_temp}'\u001b[0m\u001b[0;34m)\u001b[0m\u001b[0;34m,\u001b[0m \u001b[0mmdict\u001b[0m\u001b[0;34m=\u001b[0m\u001b[0;34m{\u001b[0m\u001b[0;34m'GOCI_ssa'\u001b[0m\u001b[0;34m:\u001b[0m\u001b[0mGOCI_ssa\u001b[0m\u001b[0;34m}\u001b[0m\u001b[0;34m)\u001b[0m\u001b[0;34m\u001b[0m\u001b[0m\n\u001b[1;32m     38\u001b[0m             \u001b[0msio\u001b[0m\u001b[0;34m.\u001b[0m\u001b[0msavemat\u001b[0m\u001b[0;34m(\u001b[0m\u001b[0mos\u001b[0m\u001b[0;34m.\u001b[0m\u001b[0mpath\u001b[0m\u001b[0;34m.\u001b[0m\u001b[0mjoin\u001b[0m\u001b[0;34m(\u001b[0m\u001b[0mwrite_path\u001b[0m\u001b[0;34m,\u001b[0m \u001b[0;34m'AE'\u001b[0m\u001b[0;34m,\u001b[0m \u001b[0mstr\u001b[0m\u001b[0;34m(\u001b[0m\u001b[0myr\u001b[0m\u001b[0;34m)\u001b[0m\u001b[0;34m,\u001b[0m \u001b[0;34mf'GOCI_AE_{fname_temp}'\u001b[0m\u001b[0;34m)\u001b[0m\u001b[0;34m,\u001b[0m \u001b[0mmdict\u001b[0m\u001b[0;34m=\u001b[0m\u001b[0;34m{\u001b[0m\u001b[0;34m'GOCI_ae'\u001b[0m\u001b[0;34m:\u001b[0m\u001b[0mGOCI_ae\u001b[0m\u001b[0;34m}\u001b[0m\u001b[0;34m)\u001b[0m\u001b[0;34m\u001b[0m\u001b[0m\n",
      "\u001b[0;32m~/Uncertainty/matlab2python/venv/lib/python3.6/site-packages/scipy/io/matlab/mio.py\u001b[0m in \u001b[0;36msavemat\u001b[0;34m(file_name, mdict, appendmat, format, long_field_names, do_compression, oned_as)\u001b[0m\n\u001b[1;32m    264\u001b[0m         \u001b[0mIf\u001b[0m \u001b[0;34m'row'\u001b[0m\u001b[0;34m,\u001b[0m \u001b[0mwrite\u001b[0m \u001b[0;36m1\u001b[0m\u001b[0;34m-\u001b[0m\u001b[0mD\u001b[0m \u001b[0mnumpy\u001b[0m \u001b[0marrays\u001b[0m \u001b[0;32mas\u001b[0m \u001b[0mrow\u001b[0m \u001b[0mvectors\u001b[0m\u001b[0;34m.\u001b[0m\u001b[0;34m\u001b[0m\u001b[0m\n\u001b[1;32m    265\u001b[0m     \"\"\"\n\u001b[0;32m--> 266\u001b[0;31m     \u001b[0;32mwith\u001b[0m \u001b[0m_open_file_context\u001b[0m\u001b[0;34m(\u001b[0m\u001b[0mfile_name\u001b[0m\u001b[0;34m,\u001b[0m \u001b[0mappendmat\u001b[0m\u001b[0;34m,\u001b[0m \u001b[0;34m'wb'\u001b[0m\u001b[0;34m)\u001b[0m \u001b[0;32mas\u001b[0m \u001b[0mfile_stream\u001b[0m\u001b[0;34m:\u001b[0m\u001b[0;34m\u001b[0m\u001b[0m\n\u001b[0m\u001b[1;32m    267\u001b[0m         \u001b[0;32mif\u001b[0m \u001b[0mformat\u001b[0m \u001b[0;34m==\u001b[0m \u001b[0;34m'4'\u001b[0m\u001b[0;34m:\u001b[0m\u001b[0;34m\u001b[0m\u001b[0m\n\u001b[1;32m    268\u001b[0m             \u001b[0;32mif\u001b[0m \u001b[0mlong_field_names\u001b[0m\u001b[0;34m:\u001b[0m\u001b[0;34m\u001b[0m\u001b[0m\n",
      "\u001b[0;32m/usr/local/lib/python3.6/contextlib.py\u001b[0m in \u001b[0;36m__enter__\u001b[0;34m(self)\u001b[0m\n\u001b[1;32m     79\u001b[0m     \u001b[0;32mdef\u001b[0m \u001b[0m__enter__\u001b[0m\u001b[0;34m(\u001b[0m\u001b[0mself\u001b[0m\u001b[0;34m)\u001b[0m\u001b[0;34m:\u001b[0m\u001b[0;34m\u001b[0m\u001b[0m\n\u001b[1;32m     80\u001b[0m         \u001b[0;32mtry\u001b[0m\u001b[0;34m:\u001b[0m\u001b[0;34m\u001b[0m\u001b[0m\n\u001b[0;32m---> 81\u001b[0;31m             \u001b[0;32mreturn\u001b[0m \u001b[0mnext\u001b[0m\u001b[0;34m(\u001b[0m\u001b[0mself\u001b[0m\u001b[0;34m.\u001b[0m\u001b[0mgen\u001b[0m\u001b[0;34m)\u001b[0m\u001b[0;34m\u001b[0m\u001b[0m\n\u001b[0m\u001b[1;32m     82\u001b[0m         \u001b[0;32mexcept\u001b[0m \u001b[0mStopIteration\u001b[0m\u001b[0;34m:\u001b[0m\u001b[0;34m\u001b[0m\u001b[0m\n\u001b[1;32m     83\u001b[0m             \u001b[0;32mraise\u001b[0m \u001b[0mRuntimeError\u001b[0m\u001b[0;34m(\u001b[0m\u001b[0;34m\"generator didn't yield\"\u001b[0m\u001b[0;34m)\u001b[0m \u001b[0;32mfrom\u001b[0m \u001b[0;32mNone\u001b[0m\u001b[0;34m\u001b[0m\u001b[0m\n",
      "\u001b[0;32m~/Uncertainty/matlab2python/venv/lib/python3.6/site-packages/scipy/io/matlab/mio.py\u001b[0m in \u001b[0;36m_open_file_context\u001b[0;34m(file_like, appendmat, mode)\u001b[0m\n\u001b[1;32m     17\u001b[0m \u001b[0;34m@\u001b[0m\u001b[0mcontextmanager\u001b[0m\u001b[0;34m\u001b[0m\u001b[0m\n\u001b[1;32m     18\u001b[0m \u001b[0;32mdef\u001b[0m \u001b[0m_open_file_context\u001b[0m\u001b[0;34m(\u001b[0m\u001b[0mfile_like\u001b[0m\u001b[0;34m,\u001b[0m \u001b[0mappendmat\u001b[0m\u001b[0;34m,\u001b[0m \u001b[0mmode\u001b[0m\u001b[0;34m=\u001b[0m\u001b[0;34m'rb'\u001b[0m\u001b[0;34m)\u001b[0m\u001b[0;34m:\u001b[0m\u001b[0;34m\u001b[0m\u001b[0m\n\u001b[0;32m---> 19\u001b[0;31m     \u001b[0mf\u001b[0m\u001b[0;34m,\u001b[0m \u001b[0mopened\u001b[0m \u001b[0;34m=\u001b[0m \u001b[0m_open_file\u001b[0m\u001b[0;34m(\u001b[0m\u001b[0mfile_like\u001b[0m\u001b[0;34m,\u001b[0m \u001b[0mappendmat\u001b[0m\u001b[0;34m,\u001b[0m \u001b[0mmode\u001b[0m\u001b[0;34m)\u001b[0m\u001b[0;34m\u001b[0m\u001b[0m\n\u001b[0m\u001b[1;32m     20\u001b[0m     \u001b[0;32myield\u001b[0m \u001b[0mf\u001b[0m\u001b[0;34m\u001b[0m\u001b[0m\n\u001b[1;32m     21\u001b[0m     \u001b[0;32mif\u001b[0m \u001b[0mopened\u001b[0m\u001b[0;34m:\u001b[0m\u001b[0;34m\u001b[0m\u001b[0m\n",
      "\u001b[0;32m~/Uncertainty/matlab2python/venv/lib/python3.6/site-packages/scipy/io/matlab/mio.py\u001b[0m in \u001b[0;36m_open_file\u001b[0;34m(file_like, appendmat, mode)\u001b[0m\n\u001b[1;32m     43\u001b[0m             \u001b[0;32mif\u001b[0m \u001b[0mappendmat\u001b[0m \u001b[0;32mand\u001b[0m \u001b[0;32mnot\u001b[0m \u001b[0mfile_like\u001b[0m\u001b[0;34m.\u001b[0m\u001b[0mendswith\u001b[0m\u001b[0;34m(\u001b[0m\u001b[0;34m'.mat'\u001b[0m\u001b[0;34m)\u001b[0m\u001b[0;34m:\u001b[0m\u001b[0;34m\u001b[0m\u001b[0m\n\u001b[1;32m     44\u001b[0m                 \u001b[0mfile_like\u001b[0m \u001b[0;34m+=\u001b[0m \u001b[0;34m'.mat'\u001b[0m\u001b[0;34m\u001b[0m\u001b[0m\n\u001b[0;32m---> 45\u001b[0;31m             \u001b[0;32mreturn\u001b[0m \u001b[0mopen\u001b[0m\u001b[0;34m(\u001b[0m\u001b[0mfile_like\u001b[0m\u001b[0;34m,\u001b[0m \u001b[0mmode\u001b[0m\u001b[0;34m)\u001b[0m\u001b[0;34m,\u001b[0m \u001b[0;32mTrue\u001b[0m\u001b[0;34m\u001b[0m\u001b[0m\n\u001b[0m\u001b[1;32m     46\u001b[0m         \u001b[0;32melse\u001b[0m\u001b[0;34m:\u001b[0m\u001b[0;34m\u001b[0m\u001b[0m\n\u001b[1;32m     47\u001b[0m             \u001b[0;32mraise\u001b[0m \u001b[0mIOError\u001b[0m\u001b[0;34m(\u001b[0m\u001b[0;34m'Reader needs file name or open file-like object'\u001b[0m\u001b[0;34m)\u001b[0m\u001b[0;34m\u001b[0m\u001b[0m\n",
      "\u001b[0;31mFileNotFoundError\u001b[0m: [Errno 2] No such file or directory: '/home/cogito/Uncertainty/matlab2python/python-refactor/Data/Prepreossed_raw/GOCI_AOD/FMF/2016/GOCI_FMF_2016_001_01.mat'"
     ]
    }
   ],
   "source": [
    "YEARS = [2018, 2019]\n",
    "MONTHS = range(1, 12+1)\n",
    "\n",
    "YEARS = [2016]\n",
    "for yr in YEARS:\n",
    "    doy_000 = datenum(f'{yr}0000')\n",
    "\n",
    "    for mm in MONTHS:\n",
    "        curr_path = os.path.join(raw_data_path, str(yr), '{:02d}'.format(mm))\n",
    "        os.chdir(curr_path)\n",
    "        \n",
    "        list_mm = get_file_lists('./', \".hdf\")\n",
    "        list_doy = list(map(lambda x: datenum(x[23:31])-doy_000, list_mm))\n",
    "        list_utc = list(map(lambda x: int(x[31:33]), list_mm))\n",
    "        \n",
    "        for k in range(len(list_mm)):\n",
    "            GOCI_aod = get_dataset_from_hdf4(list_mm[k], 'Aerosol_Optical_Depth_550nm')\n",
    "            GOCI_fmf = get_dataset_from_hdf4(list_mm[k], 'Fine_Mode_Fraction_550nm')\n",
    "            GOCI_ssa = get_dataset_from_hdf4(list_mm[k], 'Single_Scattering_Albedo_440nm')\n",
    "            GOCI_ae = get_dataset_from_hdf4(list_mm[k], 'Angstrom_Exponent_440_870nm')\n",
    "            GOCI_type = get_dataset_from_hdf4(list_mm[k], 'Aerosol_Type')\n",
    "            GOCI_num_used_pixcels = get_dataset_from_hdf4(list_mm[k], 'No_of_Used_500m_Pixels_for_One_6km_Product_Pixel')\n",
    "            GOCI_ndvi = get_dataset_from_hdf4(list_mm[k], 'NDVI_from_TOA_Reflectance_660_865nm')\n",
    "            GOCI_dai = get_dataset_from_hdf4(list_mm[k], 'Dust_Aerosol_Index_from_412_443nm')\n",
    "            \n",
    "            GOCI_aod[(GOCI_aod<-0.05) & (GOCI_aod>3.6)] = np.nan\n",
    "            GOCI_fmf[(GOCI_fmf<0) & (GOCI_fmf>1)] = np.nan\n",
    "            GOCI_ssa[(GOCI_ssa<0) & (GOCI_ssa>1)] = np.nan\n",
    "            GOCI_ae[(GOCI_ae<0) & (GOCI_ae>3)] = np.nan\n",
    "            GOCI_type[(GOCI_type<0) & (GOCI_type>6)] = np.nan\n",
    "            GOCI_ndvi[(GOCI_ndvi<-1) & (GOCI_ndvi>1)] = np.nan\n",
    "            \n",
    "            fname_temp = f'{yr}_{list_doy[k]:03d}_{list_utc[k]:02d}.mat'\n",
    "            \n",
    "            sio.savemat(os.path.join(write_path, 'AOD', str(yr), f'GOCI_AOD_{fname_temp}'), mdict={'GOCI_aod':GOCI_aod})\n",
    "            sio.savemat(os.path.join(write_path, 'FMF', str(yr), f'GOCI_FMF_{fname_temp}'), mdict={'GOCI_fmf':GOCI_fmf})\n",
    "            sio.savemat(os.path.join(write_path, 'SSA', str(yr), f'GOCI_SSA_{fname_temp}'), mdict={'GOCI_ssa':GOCI_ssa})\n",
    "            sio.savemat(os.path.join(write_path, 'AE', str(yr), f'GOCI_AE_{fname_temp}'), mdict={'GOCI_ae':GOCI_ae})\n",
    "            sio.savemat(os.path.join(write_path, 'Type', str(yr), f'GOCI_Type_{fname_temp}'), mdict={'GOCI_Type':GOCI_Type})\n",
    "            sio.savemat(os.path.join(write_path, 'No_of_Used_500m_Pixels_for_One_6km_Product_Pixel', str(yr), f'GOCI_num_used_pixels_{fname_tmpe}', mdict={'GOCI_num_used_pixels':GOCI_num_used_pixels}))\n",
    "            sio.savemat(os.path.join(write_path, 'NDVI', str(yr), f'GOCI_NDVI_{fname_temp}'), mdict={'GOCI_ndvi':GOCI_ndvi})\n",
    "            sio.savemat(os.path.join(write_path, 'DAI', str(yr), f'GOCI_DAI_{fname_temp}'), mdict={'GOCI_dai':GOCI_dai})\n",
    "            print (fname_temp)\n",
    "        print (mm)\n",
    "    print (yr)"
   ]
  },
  {
   "cell_type": "markdown",
   "metadata": {},
   "source": [
    "# GOCI_02_generate_missing_nan_file"
   ]
  },
  {
   "cell_type": "code",
   "execution_count": null,
   "metadata": {},
   "outputs": [],
   "source": [
    "data_path = os.path.join(project_path, 'Data', 'Raw', 'GOCI_AOD') \n",
    "os.chdir(data_path)\n",
    "\n",
    "YEARS = [2018, 2019]\n",
    "MONTHS = range(1, 12+1)\n",
    "\n",
    "GOCI_aod = np.full([473, 463], np.nan)\n",
    "GOCI_fmf = np.full([473, 463], np.nan)\n",
    "GOCI_ssa = np.full([473, 463], np.nan)\n",
    "GOCI_ae = np.full([473, 463], np.nan)\n",
    "GOCI_type = np.full([473, 463], np.nan)\n",
    "GOCI_num_used_pixels = np.full([473, 463], np.nan)\n",
    "GOCI_ndvi = np.full([473, 463], np.nan)\n",
    "GOCI_dai = np.full([473, 463], np.nan)\n",
    "\n",
    "\n",
    "for yr in YEARS:\n",
    "    days = 366 if (yr%4)==0 else 365\n",
    "    \n",
    "    list_aod = get_file_lists(os.path.join('AOD', str(yr)), \".mat\")\n",
    "    list_aod2 = list(map(lambda x: (int(x[14:17]), int(x[18:20]))))   # doy, utc \n",
    "    #list_doy = repmat(1:days,[8,1]);\n",
    "    #list_utc = repmat(0:7,[1,days]);\n",
    "    #list_all = [list_doy(:),list_utc];\n",
    "    \n",
    "    idx = ismember(list_all,list_aod2,'rows');\n",
    "    miss_list = list_all(idx==0,:);\n",
    "    \n",
    "    for k in range(len(miss_list)):\n",
    "        fname_temp = f'{yr}_{miss_list[k][0]:03d}_{miss_list[k][1]:02d}.mat'\n",
    "        \n",
    "        sio.savemat(os.path.join(write_path, 'AOD', str(yr), f'GOCI_AOD_{fname_temp}'), mdict={'GOCI_aod':GOCI_aod})\n",
    "        sio.savemat(os.path.join(write_path, 'FMF', str(yr), f'GOCI_FMF_{fname_temp}'), mdict={'GOCI_fmf':GOCI_fmf})\n",
    "        sio.savemat(os.path.join(write_path, 'SSA', str(yr), f'GOCI_SSA_{fname_temp}'), mdict={'GOCI_ssa':GOCI_ssa})\n",
    "        sio.savemat(os.path.join(write_path, 'AE', str(yr), f'GOCI_AE_{fname_temp}'), mdict={'GOCI_ae':GOCI_ae})\n",
    "        sio.savemat(os.path.join(write_path, 'Type', str(yr), f'GOCI_Type_{fname_temp}'), mdict={'GOCI_Type':GOCI_Type})\n",
    "        sio.savemat(os.path.join(write_path, 'No_of_Used_500m_Pixels_for_One_6km_Product_Pixel', str(yr), f'GOCI_num_used_pixels_{fname_tmpe}', mdict={'GOCI_num_used_pixels':GOCI_num_used_pixels}))\n",
    "        sio.savemat(os.path.join(write_path, 'NDVI', str(yr), f'GOCI_NDVI_{fname_temp}'), mdict={'GOCI_ndvi':GOCI_ndvi})\n",
    "        sio.savemat(os.path.join(write_path, 'DAI', str(yr), f'GOCI_DAI_{fname_temp}'), mdict={'GOCI_dai':GOCI_dai})\n",
    "        print (fname_temp)\n",
    "        \n",
    "    print (yr)"
   ]
  },
  {
   "cell_type": "markdown",
   "metadata": {},
   "source": [
    "# GOCI_03_AOD_filter"
   ]
  },
  {
   "cell_type": "code",
   "execution_count": 63,
   "metadata": {},
   "outputs": [
    {
     "ename": "FileNotFoundError",
     "evalue": "[Errno 2] No such file or directory: '/home/cogito/Uncertainty/matlab2python/python-refactor/Data/Prepreossed_raw/GOCI_AOD/AOD/2018'",
     "output_type": "error",
     "traceback": [
      "\u001b[0;31m---------------------------------------------------------------------------\u001b[0m",
      "\u001b[0;31mFileNotFoundError\u001b[0m                         Traceback (most recent call last)",
      "\u001b[0;32m<ipython-input-63-7873f185d0b5>\u001b[0m in \u001b[0;36m<module>\u001b[0;34m\u001b[0m\n\u001b[1;32m     15\u001b[0m     \u001b[0;32mif\u001b[0m \u001b[0myr\u001b[0m\u001b[0;34m==\u001b[0m\u001b[0;36m2019\u001b[0m\u001b[0;34m:\u001b[0m \u001b[0mdays\u001b[0m \u001b[0;34m=\u001b[0m \u001b[0;36m148\u001b[0m\u001b[0;34m;\u001b[0m\u001b[0;34m\u001b[0m\u001b[0m\n\u001b[1;32m     16\u001b[0m \u001b[0;34m\u001b[0m\u001b[0m\n\u001b[0;32m---> 17\u001b[0;31m     \u001b[0mlist_aod\u001b[0m \u001b[0;34m=\u001b[0m \u001b[0mget_file_lists\u001b[0m\u001b[0;34m(\u001b[0m\u001b[0mos\u001b[0m\u001b[0;34m.\u001b[0m\u001b[0mpath\u001b[0m\u001b[0;34m.\u001b[0m\u001b[0mjoin\u001b[0m\u001b[0;34m(\u001b[0m\u001b[0mdata_path\u001b[0m\u001b[0;34m,\u001b[0m \u001b[0;34m'AOD'\u001b[0m\u001b[0;34m,\u001b[0m \u001b[0mstr\u001b[0m\u001b[0;34m(\u001b[0m\u001b[0myr\u001b[0m\u001b[0;34m)\u001b[0m\u001b[0;34m)\u001b[0m\u001b[0;34m,\u001b[0m \u001b[0;34m'.mat'\u001b[0m\u001b[0;34m)\u001b[0m\u001b[0;34m\u001b[0m\u001b[0m\n\u001b[0m\u001b[1;32m     18\u001b[0m     \u001b[0mlist_date\u001b[0m \u001b[0;34m=\u001b[0m \u001b[0mlist\u001b[0m\u001b[0;34m(\u001b[0m\u001b[0mmap\u001b[0m\u001b[0;34m(\u001b[0m\u001b[0;32mlambda\u001b[0m \u001b[0mx\u001b[0m\u001b[0;34m:\u001b[0m \u001b[0mint\u001b[0m\u001b[0;34m(\u001b[0m\u001b[0mx\u001b[0m\u001b[0;34m[\u001b[0m\u001b[0;36m9\u001b[0m\u001b[0;34m:\u001b[0m\u001b[0;36m20\u001b[0m\u001b[0;34m]\u001b[0m\u001b[0;34m)\u001b[0m\u001b[0;34m,\u001b[0m \u001b[0mlist_aod\u001b[0m\u001b[0;34m)\u001b[0m\u001b[0;34m)\u001b[0m\u001b[0;34m\u001b[0m\u001b[0m\n\u001b[1;32m     19\u001b[0m \u001b[0;34m\u001b[0m\u001b[0m\n",
      "\u001b[0;32m~/Uncertainty/matlab2python/python-refactor/Code/utils/helpers.py\u001b[0m in \u001b[0;36mget_file_lists\u001b[0;34m(path, pattern)\u001b[0m\n\u001b[1;32m      4\u001b[0m \u001b[0;32mdef\u001b[0m \u001b[0mget_file_lists\u001b[0m\u001b[0;34m(\u001b[0m\u001b[0mpath\u001b[0m\u001b[0;34m,\u001b[0m \u001b[0mpattern\u001b[0m\u001b[0;34m)\u001b[0m\u001b[0;34m:\u001b[0m\u001b[0;34m\u001b[0m\u001b[0m\n\u001b[1;32m      5\u001b[0m     \u001b[0mflist\u001b[0m \u001b[0;34m=\u001b[0m \u001b[0;34m[\u001b[0m\u001b[0;34m]\u001b[0m\u001b[0;34m\u001b[0m\u001b[0m\n\u001b[0;32m----> 6\u001b[0;31m     \u001b[0;32mfor\u001b[0m \u001b[0mfile\u001b[0m \u001b[0;32min\u001b[0m \u001b[0mos\u001b[0m\u001b[0;34m.\u001b[0m\u001b[0mlistdir\u001b[0m\u001b[0;34m(\u001b[0m\u001b[0mpath\u001b[0m\u001b[0;34m)\u001b[0m\u001b[0;34m:\u001b[0m\u001b[0;34m\u001b[0m\u001b[0m\n\u001b[0m\u001b[1;32m      7\u001b[0m         \u001b[0;32mif\u001b[0m \u001b[0mfile\u001b[0m\u001b[0;34m.\u001b[0m\u001b[0mendswith\u001b[0m\u001b[0;34m(\u001b[0m\u001b[0mpattern\u001b[0m\u001b[0;34m)\u001b[0m\u001b[0;34m:\u001b[0m\u001b[0;34m\u001b[0m\u001b[0m\n\u001b[1;32m      8\u001b[0m             \u001b[0mflist\u001b[0m\u001b[0;34m.\u001b[0m\u001b[0mappend\u001b[0m\u001b[0;34m(\u001b[0m\u001b[0mfile\u001b[0m\u001b[0;34m)\u001b[0m\u001b[0;34m\u001b[0m\u001b[0m\n",
      "\u001b[0;31mFileNotFoundError\u001b[0m: [Errno 2] No such file or directory: '/home/cogito/Uncertainty/matlab2python/python-refactor/Data/Prepreossed_raw/GOCI_AOD/AOD/2018'"
     ]
    }
   ],
   "source": [
    "import scipy.io as sio\n",
    "\n",
    "data_path = os.path.join(project_path, 'Data', 'Prepreossed_raw', 'GOCI_AOD') \n",
    "write_path = os.path.join(project_path, 'Data', 'Prepreossed_raw', 'GOCI_filtered')\n",
    "# path_data = '/share/irisnas6/Data/GOCI_AOD/01mat/GOCI/';\n",
    "os.chdir(data_path)\n",
    "\n",
    "YEARS = [2018, 2019]\n",
    "MONTHS = range(1, 12+1)\n",
    "\n",
    "for yr in YEARS:\n",
    "    days = 366 if (yr%4)==0 else 365\n",
    "    if yr==2019: days = 148;\n",
    "    \n",
    "    list_aod = get_file_lists(os.path.join(data_path, 'AOD', str(yr)), '.mat')\n",
    "    list_date = list(map(lambda x: int(x[9:20]), list_aod))\n",
    "\n",
    "    for k in range(1, days+1):\n",
    "        nan_filter = np.zeros(473, 463, 8, 4)\n",
    "        data = np.full([473, 463, 8], np.nan)\n",
    "\n",
    "        for m in range(1, 8+1):\n",
    "            GOCI_aod = sio.loadmat(os.path.join(data_path, 'AOD', str(yr), f'{list_aod[8*k-8+m]}.mat'))\n",
    "            data[:, :, m] = GOCI_aod\n",
    "            GOCI_num_used_pixels = sio.loadmat(os.path.join(data_path, 'No_of_Used_500m_Pixels_for_One_6km_Product_Pixel', str(yr), 'GOCI_num_used_pixels_{}.mat'.format(list_date[8*k-8+m, :])))\n",
    "            GOCI_aod_bfr = np.full([477, 467], np.nan) # buffer for 5x5 moving windows\n",
    "            GOCI_aod_bfr[2:-2, 2:-2] = GOCI_aod\n",
    "\n",
    "            for j in range(3, 465+1):\n",
    "                for i in range(3, 475+1):\n",
    "                    box = GOCI_aod_bfr[i-3:i+2, j-3:j+2]\n",
    "                    # 1. Buddy check: No. of available 5 x 5 pixels < 15\n",
    "                    # → masking a center pixel\n",
    "                    numnan = np.sum(np.isnan(box))\n",
    "                    if numnan > 10:\n",
    "                        nan_filter[i-3, j-3, m-1, 0] = 1\n",
    "                    # 2. Local variance check : AOD variance of  5 x 5 pixels > 0.5\n",
    "                    # → masking a center pixel\n",
    "                    box_var = np.nanvar(box.flatten(), ddof=1)\n",
    "                    if box_var > 0.5:\n",
    "                        nan_filter[i-3, j-3, m-1, 0] = 1\n",
    "\n",
    "            # 3. Sub-pixel cloud fraction check: Cloud fraction of each 6 km resolution pixel > 0.25\n",
    "            # → masking a pixel\n",
    "            cf = (58 - GOCI_num_used_pixels) / 58\n",
    "            cf_idx = cf > 0.25\n",
    "            nan_filter[:, :, m-1, 2] = cf_idx\n",
    "\n",
    "        # 4. Diurnal variation check: (Maximum - Mininum) of AOD > 0.74\n",
    "        # → masking pixels\n",
    "        data_min = np.nanmin(data, axis=2)\n",
    "        data_max = np.nanmax(data, axis=3)\n",
    "        data_diff = data_max - data_min\n",
    "        d_idx = data_diff > 0.74\n",
    "        nan_filter[:, :, 3] = np.tile(d_idx, (1, 1, 8))\n",
    "        sio.savemat(os.path.join(write_path, 'nan_filter', f'nan_filter_{yr}_{k:03d}.mat'), mdict={'nan_filter':nan_filter})\n",
    "        print (k) \n",
    "    print (yr)"
   ]
  },
  {
   "cell_type": "markdown",
   "metadata": {},
   "source": [
    "# GOCI_04_filtering"
   ]
  },
  {
   "cell_type": "code",
   "execution_count": 65,
   "metadata": {},
   "outputs": [
    {
     "ename": "FileNotFoundError",
     "evalue": "[Errno 2] No such file or directory: '/home/cogito/Uncertainty/matlab2python/python-refactor/Data/Prepreossed_raw/GOCI_AOD/AOD/2018'",
     "output_type": "error",
     "traceback": [
      "\u001b[0;31m---------------------------------------------------------------------------\u001b[0m",
      "\u001b[0;31mFileNotFoundError\u001b[0m                         Traceback (most recent call last)",
      "\u001b[0;32m<ipython-input-65-1560dac6b899>\u001b[0m in \u001b[0;36m<module>\u001b[0;34m\u001b[0m\n\u001b[1;32m     15\u001b[0m     \u001b[0;32mif\u001b[0m \u001b[0myr\u001b[0m\u001b[0;34m==\u001b[0m\u001b[0;36m2019\u001b[0m\u001b[0;34m:\u001b[0m \u001b[0mdays\u001b[0m \u001b[0;34m=\u001b[0m \u001b[0;36m147\u001b[0m\u001b[0;34m;\u001b[0m\u001b[0;34m\u001b[0m\u001b[0m\n\u001b[1;32m     16\u001b[0m \u001b[0;34m\u001b[0m\u001b[0m\n\u001b[0;32m---> 17\u001b[0;31m     \u001b[0mlist_aod\u001b[0m \u001b[0;34m=\u001b[0m \u001b[0mget_file_lists\u001b[0m\u001b[0;34m(\u001b[0m\u001b[0mos\u001b[0m\u001b[0;34m.\u001b[0m\u001b[0mpath\u001b[0m\u001b[0;34m.\u001b[0m\u001b[0mjoin\u001b[0m\u001b[0;34m(\u001b[0m\u001b[0mdata_path\u001b[0m\u001b[0;34m,\u001b[0m \u001b[0;34m'AOD'\u001b[0m\u001b[0;34m,\u001b[0m \u001b[0mstr\u001b[0m\u001b[0;34m(\u001b[0m\u001b[0myr\u001b[0m\u001b[0;34m)\u001b[0m\u001b[0;34m)\u001b[0m\u001b[0;34m,\u001b[0m \u001b[0;34m'.mat'\u001b[0m\u001b[0;34m)\u001b[0m\u001b[0;34m\u001b[0m\u001b[0m\n\u001b[0m\u001b[1;32m     18\u001b[0m     \u001b[0mlist_date\u001b[0m \u001b[0;34m=\u001b[0m \u001b[0mlist\u001b[0m\u001b[0;34m(\u001b[0m\u001b[0mmap\u001b[0m\u001b[0;34m(\u001b[0m\u001b[0;32mlambda\u001b[0m \u001b[0mx\u001b[0m\u001b[0;34m:\u001b[0m \u001b[0mint\u001b[0m\u001b[0;34m(\u001b[0m\u001b[0mx\u001b[0m\u001b[0;34m[\u001b[0m\u001b[0;36m9\u001b[0m\u001b[0;34m:\u001b[0m\u001b[0;36m20\u001b[0m\u001b[0;34m]\u001b[0m\u001b[0;34m)\u001b[0m\u001b[0;34m,\u001b[0m \u001b[0mlist_aod\u001b[0m\u001b[0;34m)\u001b[0m\u001b[0;34m)\u001b[0m\u001b[0;34m\u001b[0m\u001b[0m\n\u001b[1;32m     19\u001b[0m \u001b[0;34m\u001b[0m\u001b[0m\n",
      "\u001b[0;32m~/Uncertainty/matlab2python/python-refactor/Code/utils/helpers.py\u001b[0m in \u001b[0;36mget_file_lists\u001b[0;34m(path, pattern)\u001b[0m\n\u001b[1;32m      4\u001b[0m \u001b[0;32mdef\u001b[0m \u001b[0mget_file_lists\u001b[0m\u001b[0;34m(\u001b[0m\u001b[0mpath\u001b[0m\u001b[0;34m,\u001b[0m \u001b[0mpattern\u001b[0m\u001b[0;34m)\u001b[0m\u001b[0;34m:\u001b[0m\u001b[0;34m\u001b[0m\u001b[0m\n\u001b[1;32m      5\u001b[0m     \u001b[0mflist\u001b[0m \u001b[0;34m=\u001b[0m \u001b[0;34m[\u001b[0m\u001b[0;34m]\u001b[0m\u001b[0;34m\u001b[0m\u001b[0m\n\u001b[0;32m----> 6\u001b[0;31m     \u001b[0;32mfor\u001b[0m \u001b[0mfile\u001b[0m \u001b[0;32min\u001b[0m \u001b[0mos\u001b[0m\u001b[0;34m.\u001b[0m\u001b[0mlistdir\u001b[0m\u001b[0;34m(\u001b[0m\u001b[0mpath\u001b[0m\u001b[0;34m)\u001b[0m\u001b[0;34m:\u001b[0m\u001b[0;34m\u001b[0m\u001b[0m\n\u001b[0m\u001b[1;32m      7\u001b[0m         \u001b[0;32mif\u001b[0m \u001b[0mfile\u001b[0m\u001b[0;34m.\u001b[0m\u001b[0mendswith\u001b[0m\u001b[0;34m(\u001b[0m\u001b[0mpattern\u001b[0m\u001b[0;34m)\u001b[0m\u001b[0;34m:\u001b[0m\u001b[0;34m\u001b[0m\u001b[0m\n\u001b[1;32m      8\u001b[0m             \u001b[0mflist\u001b[0m\u001b[0;34m.\u001b[0m\u001b[0mappend\u001b[0m\u001b[0;34m(\u001b[0m\u001b[0mfile\u001b[0m\u001b[0;34m)\u001b[0m\u001b[0;34m\u001b[0m\u001b[0m\n",
      "\u001b[0;31mFileNotFoundError\u001b[0m: [Errno 2] No such file or directory: '/home/cogito/Uncertainty/matlab2python/python-refactor/Data/Prepreossed_raw/GOCI_AOD/AOD/2018'"
     ]
    }
   ],
   "source": [
    "import scipy.io as sio\n",
    "\n",
    "# path_data = '/share/irisnas6/Data/GOCI_AOD/01mat/GOCI/';\n",
    "# path = '/share/irisnas6/Data/GOCI_AOD/01mat/GOCI_filtered/';\n",
    "data_path = os.path.join(project_path, 'Data', 'Prepreossed_raw', 'GOCI_AOD') \n",
    "write_path = os.path.join(project_path, 'Data', 'Prepreossed_raw', 'GOCI_filtered')\n",
    "os.chdir(data_path)\n",
    "\n",
    "\n",
    "YEARS = [2018, 2019]\n",
    "MONTHS = range(1, 12+1)\n",
    "\n",
    "for yr in YEARS:\n",
    "    days = 366 if (yr%4)==0 else 365\n",
    "    if yr==2019: days = 147;\n",
    "    \n",
    "    list_aod = get_file_lists(os.path.join(data_path, 'AOD', str(yr)), '.mat')\n",
    "    list_date = list(map(lambda x: int(x[9:20]), list_aod))\n",
    "    \n",
    "    for doy in range(1, days+1):\n",
    "        nan_filter = sio.loadmat(os.path.join(write_path, 'nan_filter', f'nan_filter_{yr}_{doy:03d}.mat')) \n",
    "        \n",
    "        for m in range(1, 8+1):\n",
    "            nan_utc = np.sqeeze(nan_filter[:,:,m-1,:])\n",
    "            nan_utc = np.sum(nan_utc, axis=2)\n",
    "            nan_utc = nan_utc > 0\n",
    "            \n",
    "            fname = list_data[8*doy-8+m, :]\n",
    "            GOCI_aod = sio.loadmat(os.path.join('AOD', str(yr), f'list_aod[8*doy-8+m].mat'))\n",
    "            GOCI_fmf = sio.loadmat(os.path.join('FMF', str(yr), f'GOCI_FMF_{fname}.mat'))\n",
    "            GOCI_ae = sio.loadmat(os.path.join('AE', str(yr), f'GOCI_AE_{fname}.mat'))\n",
    "            GOCI_type = sio.loadmat(os.path.join('Type', str(yr), f'GOCI_Type_{fname}.mat'))\n",
    "            GOCI_ndvi = sio.loadmat(os.path.join('NDVI', str(yr), f'GOCI_NDVI_{fname}.mat'))\n",
    "            GOCI_dai = sio.loadmat(os.path.join('DAI', str(yr), f'GOCI_DAI_{fname}.mat'))\n",
    "            \n",
    "            GOCI_aod[nan_utc] = np.nan\n",
    "            GOCI_fmf[nan_utc] = np.nan\n",
    "            GOCI_ssa[nan_utc] = np.nan\n",
    "            GOCI_ae[nan_utc] = np.nan\n",
    "            GOCI_type[nan_utc] = np.nan\n",
    "            GOCI_ndvi[nan_utc] = np.nan\n",
    "            GOCI_dai[nan_utc] = np.nan \n",
    "            \n",
    "            sio.savemat(os.path.join(write_path, 'AOD', str(yr), f'list_aod{8*doy-8+m}.mat'), mdict={'GOCI_aod':GOCI_aod})  \n",
    "            sio.savemat(os.path.join(write_path, 'FMF', str(yr), f'GOCI_FMF_{fname}.mat'), mdict={'GOCI_fmf':GOCI_fmf})\n",
    "            sio.savemat(os.path.join(write_path, 'SSA', str(yr), f'GOCI_SSA_{fname}.mat'), mdict={'GOCI_ssa':GOCI_ssa})\n",
    "            sio.savemat(os.path.join(write_path, 'AE', str(yr), f'GOCI_AE_{fname}.mat'), mdict={'GOCI_ae':GOCI_ae})\n",
    "            sio.savemat(os.path.join(write_path, 'Type', str(yr), f'GOCI_Type_{fname}.mat'), mdict={'GOCI_Type':GOCI_Type})\n",
    "            sio.savemat(os.path.join(write_path, 'NDVI', str(yr), f'GOCI_NDVI_{fname}.mat'), mdict={'GOCI_ndvi':GOCI_ndvi})\n",
    "            sio.savemat(os.path.join(write_path, 'DAI', str(yr), f'GOCI_DAI_{fname}.mat'), mdict={'GOCI_dai':GOCI_dai})\n",
    "            print (f'{doy:03d}_{m-1:02d}')"
   ]
  },
  {
   "cell_type": "markdown",
   "metadata": {},
   "source": [
    "# GOCI_05_BL_1km"
   ]
  },
  {
   "cell_type": "code",
   "execution_count": null,
   "metadata": {},
   "outputs": [],
   "source": [
    "import scipy.io as sio\n",
    "from scipy.spatial import Delaunay\n",
    "import time\n",
    "\n",
    "# path_data = '/share/irisnas6/Data/GOCI_AOD/01mat/GOCI/';\n",
    "# path = '/share/irisnas6/Data/GOCI_AOD/01mat/GOCI_filtered/';\n",
    "data_path = os.path.join(project_path, 'Data', 'Prepreossed_raw', 'GOCI_AOD') \n",
    "goci_path = os.path.join(project_path, 'Data', 'Prepreossed_raw', 'GOCI_filtered')\n",
    "korea_path = os.path.join(project_path, 'Data', 'Station', 'AirQuality_Korea')\n",
    "#os.chdir(data_path)\n",
    "\n",
    "grid_goci = sio.loadmat(os.path.join(data_path, 'grid', 'grid_korea.mat'))\n",
    "grid_kor = sio.loadmat(os.path.join(data_path, 'grid', 'grid_goci.mat'))\n",
    "\n",
    "grid_goci = list(zip(lon_goci.flatten(), lat_goci.flatten()))\n",
    "grid_kor = list(zip(lon_kor.flatten(), lat_kor.flatten()))\n",
    "\n",
    "\"\"\"\n",
    "### Find surrounding pixels using delaunay triangulation\n",
    "DT = matlab.delaunayTriangulation(grid_goci)\n",
    "ti = DT.find_simplex(grid_kor)\n",
    "triPx = DT[ti, :]\n",
    "triPx_UL = np.min(triPx, axis=1)\n",
    "I, J = matlab.ind2sub(lon_goci.shape, triPx_UL)\n",
    "surrPx = np.zeros(mathlab.length(I), 4)\n",
    "surrPx[:, 1] = matlab.sub2ind(lon_goci.shape, I, J) # Upper Left\n",
    "surrPx[:, 2] = matlab.sub2ind(lon_goci.shape, I, J+1) # Upper Right\n",
    "surrPx[:, 3] = matlab.sub2ind(lon_goci.shape, I+1, J) # Lower Left\n",
    "surrPx[:, 4] = matlab.sub2ind(lon_goci.shape, I+1, J+1) # Lower Right\n",
    "\n",
    "lon_surr = lon_goci[surrPx]\n",
    "lat_surr = lat_goci[surrPx]\n",
    "diff_lon = lon_surr - np.tile(grid_kor[:, 1], (1, 4))\n",
    "diff_lat = lat_surr - np.tile(grid_kor[:, 2], (1, 4))\n",
    "\n",
    "d_surr = np.sqrt(np.power(diff_lon, 2) + np.power(diff_lat))\n",
    "inDsq = 1./np.power(d_surr)\n",
    "\n",
    "k = np.zeros(matlab.length(I), 1)\n",
    "for i in range(matlab.length(I)):\n",
    "    k[i] = surrPx[i, d_surr[i, :]==min(d_surr[i, :])]\n",
    "sio.savemat(os.path.join(data_path, 'grid_goci_surrPx.mat', mdict={'surrPx':surrPx, 'd_surr':d_surr, 'invDsq':invDsq, 'k':k}))\n",
    "\"\"\"\n",
    "surrPx = sio.loadmat(os.path.join(data_path, 'grid', 'grid_goci_surrPx.mat'))\n",
    "def do_masking(GOCI):\n",
    "    # global var: surrPX, k, invDsq, lon_kor\n",
    "    mask = GOCI[k]\n",
    "    mask = np.isnan(mask)\n",
    "    value = GOCI[surrPx]\n",
    "    valueD = np.multiply(value, invDsq) # \".*\": element-wise multiplication\n",
    "    invDsq_nan = invDsq\n",
    "    invDsq_nan[np.isnan(value)] = np.nan\n",
    "    GOCI = np.divide(np.nansum(valueD, axis=1), np.nansum(invDsq_nan, axis=1))\n",
    "    GOCI = GOCI.reshape(lon_kor.shape)\n",
    "    GOCI[mask] = np.nan\n",
    "    return GOCI\n",
    "\n",
    "avgtime = []\n",
    "YEARS = range(2017, 2019+1)\n",
    "for yr in YEARS:\n",
    "    list_AOD = get_file_lists(os.path.join(goci_path, 'AOD', str(yr)), \".mat\")\n",
    "    list_AE = get_file_lists(os.path.join(goci_path, 'AE', str(yr)), \".mat\")    \n",
    "    list_FMF = get_file_lists(os.path.join(goci_path, 'FMF', str(yr)), \".mat\")\n",
    "    list_SSA = get_file_lists(os.path.join(goci_path, 'SSA', str(yr)), \".mat\")\n",
    "    \n",
    "    for j in range(len(list_AOD)):\n",
    "        tStart = time.time()\n",
    "        GOCI_aod = sio.loadmat(os.path.join(goci_path, 'AOD', str(yr), list_AOD[j]))\n",
    "        GOCI_ae = sio.loadmat(os.path.join(goci_path, 'AE', str(yr), list_AE[j]))\n",
    "        GOCI_fmf = sio.loadmat(os.path.join(goci_path, 'FMF', str(yr), list_FMF[j]))\n",
    "        GOCI_ssa = sio.loadmat(os.path.join(goci_path, 'SSA', str(yr), list_SSA[j]))\n",
    "        \n",
    "        GOCI_aod = do_masking(GOCI_aod)\n",
    "        GOCI_ae = do_masking(GOCI_ae)\n",
    "        GOCI_ssa = do_masking(GOCI_ssa)\n",
    "        \n",
    "        sio.savemat(os.path.join(goci_path, 'GOCI', 'AOD', str(yr), f'kor_{list_AOD[j]}.mat'), mdict={'GOCI_aod':GOCI_aod})\n",
    "        sio.savemat(os.path.join(goci_path, 'GOCI', 'AE', str(yr), f'kor_{list_AE[j]}.mat'), mdict={'GOCI_AE':GOCI_ae})\n",
    "        sio.savemat(os.path.join(goci_path, 'GOCI', 'FMF', str(yr), f'kor_{list_FMF[j]}.mat'), mdict={'GOCI_FMF':GOCI_fmf})\n",
    "        sio.savemat(os.path.join(goci_path, 'GOCI', 'SSA', str(yr), f'kor_{list_SSA[j]}.mat'), mdict={'GOCI_SSA':GOCI_ssa})\n",
    "        \n",
    "        print (list_AOD[j])\n",
    "        tEnd = time.time()\n",
    "        avgtime.append(tEnd-tStart)\n",
    "    print (yr)\n",
    "\n",
    "avgtime = np.nanmean(avgtime)\n",
    "print (avgtime)"
   ]
  }
 ],
 "metadata": {
  "kernelspec": {
   "display_name": "Python 3",
   "language": "python",
   "name": "python3"
  },
  "language_info": {
   "codemirror_mode": {
    "name": "ipython",
    "version": 3
   },
   "file_extension": ".py",
   "mimetype": "text/x-python",
   "name": "python",
   "nbconvert_exporter": "python",
   "pygments_lexer": "ipython3",
   "version": "3.6.8"
  }
 },
 "nbformat": 4,
 "nbformat_minor": 2
}
